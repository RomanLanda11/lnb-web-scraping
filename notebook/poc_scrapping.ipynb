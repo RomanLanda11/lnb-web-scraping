{
 "cells": [
  {
   "cell_type": "markdown",
   "id": "2bee95c1",
   "metadata": {},
   "source": [
    "# PoC Scrapping"
   ]
  },
  {
   "cell_type": "code",
   "execution_count": 1,
   "id": "b0ae3381",
   "metadata": {},
   "outputs": [],
   "source": [
    "from bs4 import BeautifulSoup\n",
    "import pandas as pd\n",
    "pd.set_option('display.max_columns', None)"
   ]
  },
  {
   "cell_type": "markdown",
   "id": "487df800",
   "metadata": {},
   "source": [
    "## Desde get_games traemos:"
   ]
  },
  {
   "cell_type": "code",
   "execution_count": 2,
   "id": "689b0d7e",
   "metadata": {},
   "outputs": [
    {
     "name": "stdout",
     "output_type": "stream",
     "text": [
      "Extrayendo datos de 380 partidos...\n",
      "\n",
      "Diccionario de datos de partidos creado.\n"
     ]
    },
    {
     "data": {
      "text/plain": [
       "{'ATENAS (C) vs BOCA (007/10/2024 22:10)': {'nombre_local': 'ATENAS (C)',\n",
       "  'puntos_local': '69',\n",
       "  'nombre_visita': 'BOCA',\n",
       "  'puntos_visita': '81',\n",
       "  'link_estadisticas': 'https://estadisticascabb.gesdeportiva.es/partido/rM2-eTJQHJsR2FLJYE8GRw==?a=1'},\n",
       " 'OBRAS vs PLATENSE (008/10/2024 20:00)': {'nombre_local': 'OBRAS',\n",
       "  'puntos_local': '94',\n",
       "  'nombre_visita': 'PLATENSE',\n",
       "  'puntos_visita': '90',\n",
       "  'link_estadisticas': 'https://estadisticascabb.gesdeportiva.es/partido/UYiBwuNnKVL9qCbXhOY76g==?a=1'},\n",
       " 'INSTITUTO vs OLIMPICO (LB) (008/10/2024 21:00)': {'nombre_local': 'INSTITUTO',\n",
       "  'puntos_local': '99',\n",
       "  'nombre_visita': 'OLIMPICO (LB)',\n",
       "  'puntos_visita': '73',\n",
       "  'link_estadisticas': 'https://estadisticascabb.gesdeportiva.es/partido/Dwgh5U3-8hNWcMtXCbn6yw==?a=1'},\n",
       " 'UNION (SF) vs SAN LORENZO (008/10/2024 21:30)': {'nombre_local': 'UNION (SF)',\n",
       "  'puntos_local': '68',\n",
       "  'nombre_visita': 'SAN LORENZO',\n",
       "  'puntos_visita': '63',\n",
       "  'link_estadisticas': 'https://estadisticascabb.gesdeportiva.es/partido/gI4mQymdwNcCwlRRM_IWGA==?a=1'},\n",
       " 'FERRO vs PEÑAROL (MDP) (009/10/2024 20:00)': {'nombre_local': 'FERRO',\n",
       "  'puntos_local': '84',\n",
       "  'nombre_visita': 'PEÑAROL (MDP)',\n",
       "  'puntos_visita': '82',\n",
       "  'link_estadisticas': 'https://estadisticascabb.gesdeportiva.es/partido/7FrcQXet0O0dRypYCF4kWQ==?a=1'},\n",
       " 'INDEPENDIENTE (O) vs OLIMPICO (LB) (010/10/2024 21:00)': {'nombre_local': 'INDEPENDIENTE (O)',\n",
       "  'puntos_local': '104',\n",
       "  'nombre_visita': 'OLIMPICO (LB)',\n",
       "  'puntos_visita': '72',\n",
       "  'link_estadisticas': 'https://estadisticascabb.gesdeportiva.es/partido/iuCyNfBfcjQ8UkzKbGN6tw==?a=1'},\n",
       " 'GIMNASIA (CR) vs OBRAS (011/10/2024 21:00)': {'nombre_local': 'GIMNASIA (CR)',\n",
       "  'puntos_local': '89',\n",
       "  'nombre_visita': 'OBRAS',\n",
       "  'puntos_visita': '91',\n",
       "  'link_estadisticas': 'https://estadisticascabb.gesdeportiva.es/partido/6LfNY7wNgWGWhIk8ouTlXQ==?a=1'},\n",
       " 'REGATAS (C) vs INSTITUTO (011/10/2024 21:30)': {'nombre_local': 'REGATAS (C)',\n",
       "  'puntos_local': '82',\n",
       "  'nombre_visita': 'INSTITUTO',\n",
       "  'puntos_visita': '77',\n",
       "  'link_estadisticas': 'https://estadisticascabb.gesdeportiva.es/partido/n10cETxEobzvoyx8Hj3ohQ==?a=1'},\n",
       " 'PLATENSE vs PEÑAROL (MDP) (011/10/2024 22:05)': {'nombre_local': 'PLATENSE',\n",
       "  'puntos_local': '72',\n",
       "  'nombre_visita': 'PEÑAROL (MDP)',\n",
       "  'puntos_visita': '75',\n",
       "  'link_estadisticas': 'https://estadisticascabb.gesdeportiva.es/partido/1oAq_lsaL2U_vaygsDJ8-w==?a=1'},\n",
       " 'BOCA vs ZARATE BASKET (012/10/2024 11:30)': {'nombre_local': 'BOCA',\n",
       "  'puntos_local': '88',\n",
       "  'nombre_visita': 'ZARATE BASKET',\n",
       "  'puntos_visita': '61',\n",
       "  'link_estadisticas': 'https://estadisticascabb.gesdeportiva.es/partido/ZrnyvRGa-iVKXFEhdv4m1Q==?a=1'},\n",
       " 'GIMNASIA (CR) vs INDEPENDIENTE (O) (013/10/2024 20:00)': {'nombre_local': 'GIMNASIA (CR)',\n",
       "  'puntos_local': '97',\n",
       "  'nombre_visita': 'INDEPENDIENTE (O)',\n",
       "  'puntos_visita': '83',\n",
       "  'link_estadisticas': 'https://estadisticascabb.gesdeportiva.es/partido/QsSkhwR-V3uLOgO34qXtMA==?a=1'},\n",
       " 'SAN MARTIN (C) vs INSTITUTO (013/10/2024 21:00)': {'nombre_local': 'SAN MARTIN (C)',\n",
       "  'puntos_local': '54',\n",
       "  'nombre_visita': 'INSTITUTO',\n",
       "  'puntos_visita': '76',\n",
       "  'link_estadisticas': 'https://estadisticascabb.gesdeportiva.es/partido/TdVkx4jZtxQKM9iZJ-Lf_A==?a=1'},\n",
       " 'PEÑAROL (MDP) vs OBERA (014/10/2024 21:00)': {'nombre_local': 'PEÑAROL (MDP)',\n",
       "  'puntos_local': '78',\n",
       "  'nombre_visita': 'OBERA',\n",
       "  'puntos_visita': '97',\n",
       "  'link_estadisticas': 'https://estadisticascabb.gesdeportiva.es/partido/1JLkTDYhPjjGSBeA9RXXAw==?a=1'},\n",
       " 'OLIMPICO (LB) vs REGATAS (C) (014/10/2024 22:00)': {'nombre_local': 'OLIMPICO (LB)',\n",
       "  'puntos_local': '89',\n",
       "  'nombre_visita': 'REGATAS (C)',\n",
       "  'puntos_visita': '86',\n",
       "  'link_estadisticas': 'https://estadisticascabb.gesdeportiva.es/partido/VnHmJLeWNsfE6v0pokCbYg==?a=1'},\n",
       " 'BOCA vs UNION (SF) (014/10/2024 22:05)': {'nombre_local': 'BOCA',\n",
       "  'puntos_local': '99',\n",
       "  'nombre_visita': 'UNION (SF)',\n",
       "  'puntos_visita': '72',\n",
       "  'link_estadisticas': 'https://estadisticascabb.gesdeportiva.es/partido/bp9I4qEJwL8b2ySdQm7rmw==?a=1'},\n",
       " 'PLATENSE vs INDEPENDIENTE (O) (015/10/2024 20:00)': {'nombre_local': 'PLATENSE',\n",
       "  'puntos_local': '83',\n",
       "  'nombre_visita': 'INDEPENDIENTE (O)',\n",
       "  'puntos_visita': '87',\n",
       "  'link_estadisticas': 'https://estadisticascabb.gesdeportiva.es/partido/EzSOS1HF3Cge2OquhXLCAg==?a=1'},\n",
       " 'LA UNION FSA. vs INSTITUTO (015/10/2024 21:30)': {'nombre_local': 'LA UNION FSA.',\n",
       "  'puntos_local': '79',\n",
       "  'nombre_visita': 'INSTITUTO',\n",
       "  'puntos_visita': '85',\n",
       "  'link_estadisticas': 'https://estadisticascabb.gesdeportiva.es/partido/v8UwdHBknbK2H8i5_tsskw==?a=1'},\n",
       " 'FERRO vs UNION (SF) (016/10/2024 20:00)': {'nombre_local': 'FERRO',\n",
       "  'puntos_local': '72',\n",
       "  'nombre_visita': 'UNION (SF)',\n",
       "  'puntos_visita': '77',\n",
       "  'link_estadisticas': 'https://estadisticascabb.gesdeportiva.es/partido/IhsYY9at9GQvOrqjDTicwQ==?a=1'},\n",
       " 'ARGENTINO (J) vs OBERA (016/10/2024 21:00)': {'nombre_local': 'ARGENTINO (J)',\n",
       "  'puntos_local': '67',\n",
       "  'nombre_visita': 'OBERA',\n",
       "  'puntos_visita': '76',\n",
       "  'link_estadisticas': 'https://estadisticascabb.gesdeportiva.es/partido/XJjuOZ5-RZfljEiT3iHulg==?a=1'},\n",
       " 'QUIMSA vs REGATAS (C) (016/10/2024 22:00)': {'nombre_local': 'QUIMSA',\n",
       "  'puntos_local': '103',\n",
       "  'nombre_visita': 'REGATAS (C)',\n",
       "  'puntos_visita': '85',\n",
       "  'link_estadisticas': 'https://estadisticascabb.gesdeportiva.es/partido/2K73Dx3hESgR5PrhgY0PUw==?a=1'},\n",
       " 'ZARATE BASKET vs INDEPENDIENTE (O) (017/10/2024 21:00)': {'nombre_local': 'ZARATE BASKET',\n",
       "  'puntos_local': '71',\n",
       "  'nombre_visita': 'INDEPENDIENTE (O)',\n",
       "  'puntos_visita': '72',\n",
       "  'link_estadisticas': 'https://estadisticascabb.gesdeportiva.es/partido/GFYLYsfLK_NczrzYPSTPMg==?a=1'},\n",
       " 'OLIMPICO (LB) vs BOCA (017/10/2024 22:00)': {'nombre_local': 'OLIMPICO (LB)',\n",
       "  'puntos_local': '93',\n",
       "  'nombre_visita': 'BOCA',\n",
       "  'puntos_visita': '74',\n",
       "  'link_estadisticas': 'https://estadisticascabb.gesdeportiva.es/partido/UJFPTwlkzt7BuffkEqwbFg==?a=1'},\n",
       " 'ARGENTINO (J) vs UNION (SF) (018/10/2024 21:00)': {'nombre_local': 'ARGENTINO (J)',\n",
       "  'puntos_local': '67',\n",
       "  'nombre_visita': 'UNION (SF)',\n",
       "  'puntos_visita': '69',\n",
       "  'link_estadisticas': 'https://estadisticascabb.gesdeportiva.es/partido/4Zbvv5a5AjqX1LgbERvRYg==?a=1'},\n",
       " 'RIACHUELO (LR) vs REGATAS (C) (018/10/2024 21:30)': {'nombre_local': 'RIACHUELO (LR)',\n",
       "  'puntos_local': '99',\n",
       "  'nombre_visita': 'REGATAS (C)',\n",
       "  'puntos_visita': '58',\n",
       "  'link_estadisticas': 'https://estadisticascabb.gesdeportiva.es/partido/5DkJgw4vBXCKiZbqWl6x8Q==?a=1'},\n",
       " 'FERRO vs OBRAS (018/10/2024 22:00)': {'nombre_local': 'FERRO',\n",
       "  'puntos_local': '85',\n",
       "  'nombre_visita': 'OBRAS',\n",
       "  'puntos_visita': '83',\n",
       "  'link_estadisticas': 'https://estadisticascabb.gesdeportiva.es/partido/XbZfH9i7aIJ3epDavvDszw==?a=1'},\n",
       " 'QUIMSA vs BOCA (019/10/2024 11:30)': {'nombre_local': 'QUIMSA',\n",
       "  'puntos_local': '97',\n",
       "  'nombre_visita': 'BOCA',\n",
       "  'puntos_visita': '67',\n",
       "  'link_estadisticas': 'https://estadisticascabb.gesdeportiva.es/partido/pmFRW5XisINb0JSbgdRknQ==?a=1'},\n",
       " 'ARGENTINO (J) vs PEÑAROL (MDP) (021/10/2024 21:00)': {'nombre_local': 'ARGENTINO (J)',\n",
       "  'puntos_local': '83',\n",
       "  'nombre_visita': 'PEÑAROL (MDP)',\n",
       "  'puntos_visita': '85',\n",
       "  'link_estadisticas': 'https://estadisticascabb.gesdeportiva.es/partido/jYYXLuyG3WYVnbWC_RER9A==?a=1'},\n",
       " 'RIACHUELO (LR) vs BOCA (021/10/2024 21:30)': {'nombre_local': 'RIACHUELO (LR)',\n",
       "  'puntos_local': '75',\n",
       "  'nombre_visita': 'BOCA',\n",
       "  'puntos_visita': '80',\n",
       "  'link_estadisticas': 'https://estadisticascabb.gesdeportiva.es/partido/2ATGwTxb4XUENK7HMwTH4g==?a=1'},\n",
       " 'ATENAS (C) vs INSTITUTO (021/10/2024 22:10)': {'nombre_local': 'ATENAS (C)',\n",
       "  'puntos_local': '74',\n",
       "  'nombre_visita': 'INSTITUTO',\n",
       "  'puntos_visita': '87',\n",
       "  'link_estadisticas': 'https://estadisticascabb.gesdeportiva.es/partido/DJbEr7vc1RRYM0eWUZ_rHQ==?a=1'},\n",
       " 'UNION (SF) vs PLATENSE (022/10/2024 21:00)': {'nombre_local': 'UNION (SF)',\n",
       "  'puntos_local': '103',\n",
       "  'nombre_visita': 'PLATENSE',\n",
       "  'puntos_visita': '96',\n",
       "  'link_estadisticas': 'https://estadisticascabb.gesdeportiva.es/partido/ctUXbdZ8D7MlBZunIYhQ-Q==?a=1'},\n",
       " 'OBERA vs GIMNASIA (CR) (022/10/2024 21:30)': {'nombre_local': 'OBERA',\n",
       "  'puntos_local': '76',\n",
       "  'nombre_visita': 'GIMNASIA (CR)',\n",
       "  'puntos_visita': '72',\n",
       "  'link_estadisticas': 'https://estadisticascabb.gesdeportiva.es/partido/KXXKke1OkmU6JSfGgFdEzg==?a=1'},\n",
       " 'ZARATE BASKET vs PEÑAROL (MDP) (023/10/2024 21:00)': {'nombre_local': 'ZARATE BASKET',\n",
       "  'puntos_local': '87',\n",
       "  'nombre_visita': 'PEÑAROL (MDP)',\n",
       "  'puntos_visita': '82',\n",
       "  'link_estadisticas': 'https://estadisticascabb.gesdeportiva.es/partido/Zh_hldGOEsX22Tynr_IFJA==?a=1'},\n",
       " 'SAN LORENZO vs GIMNASIA (CR) (024/10/2024 21:05)': {'nombre_local': 'SAN LORENZO',\n",
       "  'puntos_local': '78',\n",
       "  'nombre_visita': 'GIMNASIA (CR)',\n",
       "  'puntos_visita': '74',\n",
       "  'link_estadisticas': 'https://estadisticascabb.gesdeportiva.es/partido/6wlD1v7x9VHJi8JXiv268g==?a=1'},\n",
       " 'BOCA vs PEÑAROL (MDP) (025/10/2024 22:00)': {'nombre_local': 'BOCA',\n",
       "  'puntos_local': '83',\n",
       "  'nombre_visita': 'PEÑAROL (MDP)',\n",
       "  'puntos_visita': '81',\n",
       "  'link_estadisticas': 'https://estadisticascabb.gesdeportiva.es/partido/ga7vNmz-w681YfEn2O_WnQ==?a=1'},\n",
       " 'PLATENSE vs FERRO (026/10/2024 20:00)': {'nombre_local': 'PLATENSE',\n",
       "  'puntos_local': '79',\n",
       "  'nombre_visita': 'FERRO',\n",
       "  'puntos_visita': '85',\n",
       "  'link_estadisticas': 'https://estadisticascabb.gesdeportiva.es/partido/iF19pf5ZGb9hV2Y__A1w4g==?a=1'},\n",
       " 'RIACHUELO (LR) vs ARGENTINO (J) (027/10/2024 21:30)': {'nombre_local': 'RIACHUELO (LR)',\n",
       "  'puntos_local': '87',\n",
       "  'nombre_visita': 'ARGENTINO (J)',\n",
       "  'puntos_visita': '76',\n",
       "  'link_estadisticas': 'https://estadisticascabb.gesdeportiva.es/partido/5im_HpK53ZII-UjeDP_94Q==?a=1'},\n",
       " 'LA UNION FSA. vs OBERA (027/10/2024 22:00)': {'nombre_local': 'LA UNION FSA.',\n",
       "  'puntos_local': '96',\n",
       "  'nombre_visita': 'OBERA',\n",
       "  'puntos_visita': '103',\n",
       "  'link_estadisticas': 'https://estadisticascabb.gesdeportiva.es/partido/iy7Z0MLA152orIPxNolZgw==?a=1'},\n",
       " 'SAN MARTIN (C) vs UNION (SF) (028/10/2024 21:30)': {'nombre_local': 'SAN MARTIN (C)',\n",
       "  'puntos_local': '65',\n",
       "  'nombre_visita': 'UNION (SF)',\n",
       "  'puntos_visita': '54',\n",
       "  'link_estadisticas': 'https://estadisticascabb.gesdeportiva.es/partido/wyvWZDafnUTdtcVzeyL6ng==?a=1'},\n",
       " 'REGATAS (C) vs OBERA (029/10/2024 21:00)': {'nombre_local': 'REGATAS (C)',\n",
       "  'puntos_local': '81',\n",
       "  'nombre_visita': 'OBERA',\n",
       "  'puntos_visita': '83',\n",
       "  'link_estadisticas': 'https://estadisticascabb.gesdeportiva.es/partido/jbcAY__yOGlNuxVyLJgNDQ==?a=1'},\n",
       " 'FERRO vs SAN LORENZO (029/10/2024 21:30)': {'nombre_local': 'FERRO',\n",
       "  'puntos_local': '73',\n",
       "  'nombre_visita': 'SAN LORENZO',\n",
       "  'puntos_visita': '77',\n",
       "  'link_estadisticas': 'https://estadisticascabb.gesdeportiva.es/partido/RB2gNRRh6kCkGjf1xXFGqg==?a=1'},\n",
       " 'QUIMSA vs ARGENTINO (J) (029/10/2024 22:00)': {'nombre_local': 'QUIMSA',\n",
       "  'puntos_local': '100',\n",
       "  'nombre_visita': 'ARGENTINO (J)',\n",
       "  'puntos_visita': '75',\n",
       "  'link_estadisticas': 'https://estadisticascabb.gesdeportiva.es/partido/JkCmnH6N-WJ2t3qqyg5-eQ==?a=1'},\n",
       " 'LA UNION FSA. vs UNION (SF) (030/10/2024 21:30)': {'nombre_local': 'LA UNION FSA.',\n",
       "  'puntos_local': '90',\n",
       "  'nombre_visita': 'UNION (SF)',\n",
       "  'puntos_visita': '79',\n",
       "  'link_estadisticas': 'https://estadisticascabb.gesdeportiva.es/partido/51SBt6FnhQJ79eRsVRPCmA==?a=1'},\n",
       " 'OBRAS vs RIACHUELO (LR) (030/10/2024 22:10)': {'nombre_local': 'OBRAS',\n",
       "  'puntos_local': '80',\n",
       "  'nombre_visita': 'RIACHUELO (LR)',\n",
       "  'puntos_visita': '84',\n",
       "  'link_estadisticas': 'https://estadisticascabb.gesdeportiva.es/partido/6gwdhIMU6AE1oPgji5ZmdQ==?a=1'},\n",
       " 'INDEPENDIENTE (O) vs INSTITUTO (031/10/2024 21:00)': {'nombre_local': 'INDEPENDIENTE (O)',\n",
       "  'puntos_local': '70',\n",
       "  'nombre_visita': 'INSTITUTO',\n",
       "  'puntos_visita': '87',\n",
       "  'link_estadisticas': 'https://estadisticascabb.gesdeportiva.es/partido/v_RgOD_3A-y1-9XiKoe9JQ==?a=1'},\n",
       " 'SAN MARTIN (C) vs OBERA (031/10/2024 21:30)': {'nombre_local': 'SAN MARTIN (C)',\n",
       "  'puntos_local': '74',\n",
       "  'nombre_visita': 'OBERA',\n",
       "  'puntos_visita': '67',\n",
       "  'link_estadisticas': 'https://estadisticascabb.gesdeportiva.es/partido/Ej7ecUBI7dqtPCdpVWbokQ==?a=1'},\n",
       " 'OLIMPICO (LB) vs ARGENTINO (J) (031/10/2024 22:00)': {'nombre_local': 'OLIMPICO (LB)',\n",
       "  'puntos_local': '95',\n",
       "  'nombre_visita': 'ARGENTINO (J)',\n",
       "  'puntos_visita': '69',\n",
       "  'link_estadisticas': 'https://estadisticascabb.gesdeportiva.es/partido/ZJC_spEIcBqJg4I1Y2ce0A==?a=1'},\n",
       " 'SAN LORENZO vs RIACHUELO (LR) (001/11/2024 20:00)': {'nombre_local': 'SAN LORENZO',\n",
       "  'puntos_local': '73',\n",
       "  'nombre_visita': 'RIACHUELO (LR)',\n",
       "  'puntos_visita': '77',\n",
       "  'link_estadisticas': 'https://estadisticascabb.gesdeportiva.es/partido/NrkkHX9FYN4TJwSuu3UM6g==?a=1'},\n",
       " 'GIMNASIA (CR) vs QUIMSA (001/11/2024 21:00)': {'nombre_local': 'GIMNASIA (CR)',\n",
       "  'puntos_local': '88',\n",
       "  'nombre_visita': 'QUIMSA',\n",
       "  'puntos_visita': '84',\n",
       "  'link_estadisticas': 'https://estadisticascabb.gesdeportiva.es/partido/3IPCPoSWumb9v1RRQ3fiyw==?a=1'},\n",
       " 'REGATAS (C) vs UNION (SF) (001/11/2024 21:30)': {'nombre_local': 'REGATAS (C)',\n",
       "  'puntos_local': '88',\n",
       "  'nombre_visita': 'UNION (SF)',\n",
       "  'puntos_visita': '73',\n",
       "  'link_estadisticas': 'https://estadisticascabb.gesdeportiva.es/partido/-R3YdxH5KYEhIuK2o999RA==?a=1'},\n",
       " 'SAN LORENZO vs QUIMSA (003/11/2024 19:10)': {'nombre_local': 'SAN LORENZO',\n",
       "  'puntos_local': '63',\n",
       "  'nombre_visita': 'QUIMSA',\n",
       "  'puntos_visita': '73',\n",
       "  'link_estadisticas': 'https://estadisticascabb.gesdeportiva.es/partido/onPQQcsW_9FWV80wbfCKxw==?a=1'},\n",
       " 'GIMNASIA (CR) vs RIACHUELO (LR) (003/11/2024 20:00)': {'nombre_local': 'GIMNASIA (CR)',\n",
       "  'puntos_local': '76',\n",
       "  'nombre_visita': 'RIACHUELO (LR)',\n",
       "  'puntos_visita': '65',\n",
       "  'link_estadisticas': 'https://estadisticascabb.gesdeportiva.es/partido/b5JKvJ0TI_MQAheALo5Zbg==?a=1'},\n",
       " 'REGATAS (C) vs SAN MARTIN (C) (003/11/2024 20:10)': {'nombre_local': 'REGATAS (C)',\n",
       "  'puntos_local': '83',\n",
       "  'nombre_visita': 'SAN MARTIN (C)',\n",
       "  'puntos_visita': '69',\n",
       "  'link_estadisticas': 'https://estadisticascabb.gesdeportiva.es/partido/kaS6of37vpNnNIzGRJLtjA==?a=1'},\n",
       " 'OLIMPICO (LB) vs ZARATE BASKET (004/11/2024 22:00)': {'nombre_local': 'OLIMPICO (LB)',\n",
       "  'puntos_local': '87',\n",
       "  'nombre_visita': 'ZARATE BASKET',\n",
       "  'puntos_visita': '77',\n",
       "  'link_estadisticas': 'https://estadisticascabb.gesdeportiva.es/partido/AE59eYA2O3Vck_zkeKnyXQ==?a=1'},\n",
       " 'OBRAS vs QUIMSA (005/11/2024 20:00)': {'nombre_local': 'OBRAS',\n",
       "  'puntos_local': '78',\n",
       "  'nombre_visita': 'QUIMSA',\n",
       "  'puntos_visita': '64',\n",
       "  'link_estadisticas': 'https://estadisticascabb.gesdeportiva.es/partido/wzXjlVJZj6NvWrVtTm5kyQ==?a=1'},\n",
       " 'OBERA vs BOCA (005/11/2024 21:00)': {'nombre_local': 'OBERA',\n",
       "  'puntos_local': '81',\n",
       "  'nombre_visita': 'BOCA',\n",
       "  'puntos_visita': '83',\n",
       "  'link_estadisticas': 'https://estadisticascabb.gesdeportiva.es/partido/1MYmB5zfe0LQzU2mu8ccHg==?a=1'},\n",
       " 'SAN MARTIN (C) vs LA UNION FSA. (006/11/2024 21:00)': {'nombre_local': 'SAN MARTIN (C)',\n",
       "  'puntos_local': '94',\n",
       "  'nombre_visita': 'LA UNION FSA.',\n",
       "  'puntos_visita': '96',\n",
       "  'link_estadisticas': 'https://estadisticascabb.gesdeportiva.es/partido/dufAME-LRqLRqVL6AdDJDg==?a=1'},\n",
       " 'RIACHUELO (LR) vs ZARATE BASKET (006/11/2024 21:30)': {'nombre_local': 'RIACHUELO (LR)',\n",
       "  'puntos_local': '79',\n",
       "  'nombre_visita': 'ZARATE BASKET',\n",
       "  'puntos_visita': '65',\n",
       "  'link_estadisticas': 'https://estadisticascabb.gesdeportiva.es/partido/cOYiAGBOgBpUiug0yKx9bw==?a=1'},\n",
       " 'INDEPENDIENTE (O) vs SAN LORENZO (007/11/2024 21:00)': {'nombre_local': 'INDEPENDIENTE (O)',\n",
       "  'puntos_local': '88',\n",
       "  'nombre_visita': 'SAN LORENZO',\n",
       "  'puntos_visita': '98',\n",
       "  'link_estadisticas': 'https://estadisticascabb.gesdeportiva.es/partido/BB0tZGAykU2xCJZ-Rzfz9Q==?a=1'},\n",
       " 'ATENAS (C) vs OLIMPICO (LB) (007/11/2024 21:05)': {'nombre_local': 'ATENAS (C)',\n",
       "  'puntos_local': '75',\n",
       "  'nombre_visita': 'OLIMPICO (LB)',\n",
       "  'puntos_visita': '64',\n",
       "  'link_estadisticas': 'https://estadisticascabb.gesdeportiva.es/partido/5M3PsLp63LyuNb1T-NiEhw==?a=1'},\n",
       " 'QUIMSA vs ZARATE BASKET (008/11/2024 22:00)': {'nombre_local': 'QUIMSA',\n",
       "  'puntos_local': '91',\n",
       "  'nombre_visita': 'ZARATE BASKET',\n",
       "  'puntos_visita': '70',\n",
       "  'link_estadisticas': 'https://estadisticascabb.gesdeportiva.es/partido/vknIWYr2PmW8RLz1fBqTWw==?a=1'},\n",
       " 'BOCA vs OBRAS (009/11/2024 11:30)': {'nombre_local': 'BOCA',\n",
       "  'puntos_local': '78',\n",
       "  'nombre_visita': 'OBRAS',\n",
       "  'puntos_visita': '59',\n",
       "  'link_estadisticas': 'https://estadisticascabb.gesdeportiva.es/partido/RwWUatDvV2uW-zhGIedtaA==?a=1'},\n",
       " 'RIACHUELO (LR) vs OLIMPICO (LB) (009/11/2024 20:30)': {'nombre_local': 'RIACHUELO (LR)',\n",
       "  'puntos_local': '90',\n",
       "  'nombre_visita': 'OLIMPICO (LB)',\n",
       "  'puntos_visita': '66',\n",
       "  'link_estadisticas': 'https://estadisticascabb.gesdeportiva.es/partido/mcWElvAPazort26G_eYDoA==?a=1'},\n",
       " 'ATENAS (C) vs SAN LORENZO (009/11/2024 21:00)': {'nombre_local': 'ATENAS (C)',\n",
       "  'puntos_local': '84',\n",
       "  'nombre_visita': 'SAN LORENZO',\n",
       "  'puntos_visita': '61',\n",
       "  'link_estadisticas': 'https://estadisticascabb.gesdeportiva.es/partido/0i7kBInTMiLzqXlzO_kLcw==?a=1'},\n",
       " 'LA UNION FSA. vs REGATAS (C) (010/11/2024 21:00)': {'nombre_local': 'LA UNION FSA.',\n",
       "  'puntos_local': '78',\n",
       "  'nombre_visita': 'REGATAS (C)',\n",
       "  'puntos_visita': '79',\n",
       "  'link_estadisticas': 'https://estadisticascabb.gesdeportiva.es/partido/TNMsFghURRiZMTVlAigPpw==?a=1'},\n",
       " 'INSTITUTO vs SAN LORENZO (011/11/2024 19:30)': {'nombre_local': 'INSTITUTO',\n",
       "  'puntos_local': '94',\n",
       "  'nombre_visita': 'SAN LORENZO',\n",
       "  'puntos_visita': '65',\n",
       "  'link_estadisticas': 'https://estadisticascabb.gesdeportiva.es/partido/mugM6Y_Cq9q-mgB_h2tczA==?a=1'},\n",
       " 'OBERA vs INDEPENDIENTE (O) (011/11/2024 21:00)': {'nombre_local': 'OBERA',\n",
       "  'puntos_local': '83',\n",
       "  'nombre_visita': 'INDEPENDIENTE (O)',\n",
       "  'puntos_visita': '81',\n",
       "  'link_estadisticas': 'https://estadisticascabb.gesdeportiva.es/partido/qlnKCs3u7M8dZYFXGRCBRw==?a=1'},\n",
       " 'PEÑAROL (MDP) vs OBRAS (011/11/2024 21:30)': {'nombre_local': 'PEÑAROL (MDP)',\n",
       "  'puntos_local': '82',\n",
       "  'nombre_visita': 'OBRAS',\n",
       "  'puntos_visita': '71',\n",
       "  'link_estadisticas': 'https://estadisticascabb.gesdeportiva.es/partido/OU8SypmcRbN2G9weX2ukYw==?a=1'},\n",
       " 'ZARATE BASKET vs PLATENSE (012/11/2024 20:00)': {'nombre_local': 'ZARATE BASKET',\n",
       "  'puntos_local': '76',\n",
       "  'nombre_visita': 'PLATENSE',\n",
       "  'puntos_visita': '72',\n",
       "  'link_estadisticas': 'https://estadisticascabb.gesdeportiva.es/partido/cNneJWY8V_WrlzpQ6DoFaA==?a=1'},\n",
       " 'ATENAS (C) vs FERRO (012/11/2024 21:00)': {'nombre_local': 'ATENAS (C)',\n",
       "  'puntos_local': '97',\n",
       "  'nombre_visita': 'FERRO',\n",
       "  'puntos_visita': '74',\n",
       "  'link_estadisticas': 'https://estadisticascabb.gesdeportiva.es/partido/FC3-FB-ax0i2JLJ01Eulcw==?a=1'},\n",
       " 'OLIMPICO (LB) vs QUIMSA (012/11/2024 22:10)': {'nombre_local': 'OLIMPICO (LB)',\n",
       "  'puntos_local': '78',\n",
       "  'nombre_visita': 'QUIMSA',\n",
       "  'puntos_visita': '65',\n",
       "  'link_estadisticas': 'https://estadisticascabb.gesdeportiva.es/partido/bffQBKRyfXwUe41O5p16ng==?a=1'},\n",
       " 'GIMNASIA (CR) vs BOCA (013/11/2024 21:00)': {'nombre_local': 'GIMNASIA (CR)',\n",
       "  'puntos_local': '67',\n",
       "  'nombre_visita': 'BOCA',\n",
       "  'puntos_visita': '83',\n",
       "  'link_estadisticas': 'https://estadisticascabb.gesdeportiva.es/partido/q1PApuqT-qVCBRjB3vSnqA==?a=1'},\n",
       " 'UNION (SF) vs INDEPENDIENTE (O) (013/11/2024 21:00)': {'nombre_local': 'UNION (SF)',\n",
       "  'puntos_local': '89',\n",
       "  'nombre_visita': 'INDEPENDIENTE (O)',\n",
       "  'puntos_visita': '87',\n",
       "  'link_estadisticas': 'https://estadisticascabb.gesdeportiva.es/partido/FJzcnOw3YJdaO8xPGdxERw==?a=1'},\n",
       " 'RIACHUELO (LR) vs LA UNION FSA. (013/11/2024 21:30)': {'nombre_local': 'RIACHUELO (LR)',\n",
       "  'puntos_local': '90',\n",
       "  'nombre_visita': 'LA UNION FSA.',\n",
       "  'puntos_visita': '86',\n",
       "  'link_estadisticas': 'https://estadisticascabb.gesdeportiva.es/partido/KWnYS1Emj3Z47Wg4UJK5Hg==?a=1'},\n",
       " 'INSTITUTO vs FERRO (014/11/2024 21:00)': {'nombre_local': 'INSTITUTO',\n",
       "  'puntos_local': '79',\n",
       "  'nombre_visita': 'FERRO',\n",
       "  'puntos_visita': '67',\n",
       "  'link_estadisticas': 'https://estadisticascabb.gesdeportiva.es/partido/iLl3ihuLpSP4HCG6KpsPmw==?a=1'},\n",
       " 'ARGENTINO (J) vs PLATENSE (014/11/2024 21:30)': {'nombre_local': 'ARGENTINO (J)',\n",
       "  'puntos_local': '54',\n",
       "  'nombre_visita': 'PLATENSE',\n",
       "  'puntos_visita': '75',\n",
       "  'link_estadisticas': 'https://estadisticascabb.gesdeportiva.es/partido/5_ZI3Hpq2rCljsZ6wAKZCg==?a=1'},\n",
       " 'OBERA vs ATENAS (C) (015/11/2024 21:00)': {'nombre_local': 'OBERA',\n",
       "  'puntos_local': '98',\n",
       "  'nombre_visita': 'ATENAS (C)',\n",
       "  'puntos_visita': '76',\n",
       "  'link_estadisticas': 'https://estadisticascabb.gesdeportiva.es/partido/j1UasWkgTsJHkLN7FNAw6g==?a=1'},\n",
       " 'QUIMSA vs LA UNION FSA. (015/11/2024 22:00)': {'nombre_local': 'QUIMSA',\n",
       "  'puntos_local': '94',\n",
       "  'nombre_visita': 'LA UNION FSA.',\n",
       "  'puntos_visita': '64',\n",
       "  'link_estadisticas': 'https://estadisticascabb.gesdeportiva.es/partido/6zila3ATOTj4WnouxXrzGQ==?a=1'},\n",
       " 'INDEPENDIENTE (O) vs FERRO (016/11/2024 11:30)': {'nombre_local': 'INDEPENDIENTE (O)',\n",
       "  'puntos_local': '87',\n",
       "  'nombre_visita': 'FERRO',\n",
       "  'puntos_visita': '92',\n",
       "  'link_estadisticas': 'https://estadisticascabb.gesdeportiva.es/partido/IE8jkBALc0NI_5iUVV_fiQ==?a=1'},\n",
       " 'UNION (SF) vs ATENAS (C) (017/11/2024 20:30)': {'nombre_local': 'UNION (SF)',\n",
       "  'puntos_local': '92',\n",
       "  'nombre_visita': 'ATENAS (C)',\n",
       "  'puntos_visita': '88',\n",
       "  'link_estadisticas': 'https://estadisticascabb.gesdeportiva.es/partido/DsiwcvEvM69_InhMEZxNBg==?a=1'},\n",
       " 'SAN LORENZO vs BOCA (017/11/2024 21:05)': {'nombre_local': 'SAN LORENZO',\n",
       "  'puntos_local': '83',\n",
       "  'nombre_visita': 'BOCA',\n",
       "  'puntos_visita': '78',\n",
       "  'link_estadisticas': 'https://estadisticascabb.gesdeportiva.es/partido/--WvZRHOvq4VvQByeq61hQ==?a=1'},\n",
       " 'OLIMPICO (LB) vs LA UNION FSA. (017/11/2024 22:00)': {'nombre_local': 'OLIMPICO (LB)',\n",
       "  'puntos_local': '92',\n",
       "  'nombre_visita': 'LA UNION FSA.',\n",
       "  'puntos_visita': '74',\n",
       "  'link_estadisticas': 'https://estadisticascabb.gesdeportiva.es/partido/qABQmNYRFNchkrvFT8C4AQ==?a=1'},\n",
       " 'OBRAS vs SAN LORENZO (027/11/2024 19:00)': {'nombre_local': 'OBRAS',\n",
       "  'puntos_local': '78',\n",
       "  'nombre_visita': 'SAN LORENZO',\n",
       "  'puntos_visita': '62',\n",
       "  'link_estadisticas': 'https://estadisticascabb.gesdeportiva.es/partido/1yiuCF0SAqzvqvF0WIy4FQ==?a=1'},\n",
       " 'PEÑAROL (MDP) vs SAN MARTIN (C) (027/11/2024 19:05)': {'nombre_local': 'PEÑAROL (MDP)',\n",
       "  'puntos_local': '87',\n",
       "  'nombre_visita': 'SAN MARTIN (C)',\n",
       "  'puntos_visita': '61',\n",
       "  'link_estadisticas': 'https://estadisticascabb.gesdeportiva.es/partido/9rVyAJeoKiGs55M23tmkdw==?a=1'},\n",
       " 'INDEPENDIENTE (O) vs ARGENTINO (J) (027/11/2024 21:00)': {'nombre_local': 'INDEPENDIENTE (O)',\n",
       "  'puntos_local': '95',\n",
       "  'nombre_visita': 'ARGENTINO (J)',\n",
       "  'puntos_visita': '86',\n",
       "  'link_estadisticas': 'https://estadisticascabb.gesdeportiva.es/partido/-rQEAxtOA1zqqrNLA50OFQ==?a=1'},\n",
       " 'OBERA vs PLATENSE (028/11/2024 21:30)': {'nombre_local': 'OBERA',\n",
       "  'puntos_local': '83',\n",
       "  'nombre_visita': 'PLATENSE',\n",
       "  'puntos_visita': '77',\n",
       "  'link_estadisticas': 'https://estadisticascabb.gesdeportiva.es/partido/p381UIkvoFtAuDn2G0DJKQ==?a=1'},\n",
       " 'ATENAS (C) vs QUIMSA (028/11/2024 22:10)': {'nombre_local': 'ATENAS (C)',\n",
       "  'puntos_local': '77',\n",
       "  'nombre_visita': 'QUIMSA',\n",
       "  'puntos_visita': '76',\n",
       "  'link_estadisticas': 'https://estadisticascabb.gesdeportiva.es/partido/OvAb2mR2uZ51inqMbVJDNQ==?a=1'},\n",
       " 'INSTITUTO vs ARGENTINO (J) (029/11/2024 21:00)': {'nombre_local': 'INSTITUTO',\n",
       "  'puntos_local': '101',\n",
       "  'nombre_visita': 'ARGENTINO (J)',\n",
       "  'puntos_visita': '73',\n",
       "  'link_estadisticas': 'https://estadisticascabb.gesdeportiva.es/partido/ZRuT8F3_0gsY6i-1-r7WiQ==?a=1'},\n",
       " 'BOCA vs SAN MARTIN (C) (029/11/2024 21:30)': {'nombre_local': 'BOCA',\n",
       "  'puntos_local': '66',\n",
       "  'nombre_visita': 'SAN MARTIN (C)',\n",
       "  'puntos_visita': '64',\n",
       "  'link_estadisticas': 'https://estadisticascabb.gesdeportiva.es/partido/1QMRW41q6GVV9llpe-GWiQ==?a=1'},\n",
       " 'INDEPENDIENTE (O) vs QUIMSA (030/11/2024 20:30)': {'nombre_local': 'INDEPENDIENTE (O)',\n",
       "  'puntos_local': '80',\n",
       "  'nombre_visita': 'QUIMSA',\n",
       "  'puntos_visita': '91',\n",
       "  'link_estadisticas': 'https://estadisticascabb.gesdeportiva.es/partido/H6aAvXPo64Q8ihYTqyl8BQ==?a=1'},\n",
       " 'LA UNION FSA. vs GIMNASIA (CR) (030/11/2024 21:30)': {'nombre_local': 'LA UNION FSA.',\n",
       "  'puntos_local': '76',\n",
       "  'nombre_visita': 'GIMNASIA (CR)',\n",
       "  'puntos_visita': '81',\n",
       "  'link_estadisticas': 'https://estadisticascabb.gesdeportiva.es/partido/megBdwQN8Mc7-4OAZXJ2vw==?a=1'},\n",
       " 'FERRO vs SAN MARTIN (C) (001/12/2024 20:00)': {'nombre_local': 'FERRO',\n",
       "  'puntos_local': '79',\n",
       "  'nombre_visita': 'SAN MARTIN (C)',\n",
       "  'puntos_visita': '71',\n",
       "  'link_estadisticas': 'https://estadisticascabb.gesdeportiva.es/partido/bFsK0gSPOVALWb0eUkGOeg==?a=1'},\n",
       " 'ATENAS (C) vs ARGENTINO (J) (001/12/2024 20:30)': {'nombre_local': 'ATENAS (C)',\n",
       "  'puntos_local': '94',\n",
       "  'nombre_visita': 'ARGENTINO (J)',\n",
       "  'puntos_visita': '85',\n",
       "  'link_estadisticas': 'https://estadisticascabb.gesdeportiva.es/partido/XVRnAv38UfJMo0KV9T0nHg==?a=1'},\n",
       " 'OBERA vs RIACHUELO (LR) (001/12/2024 21:00)': {'nombre_local': 'OBERA',\n",
       "  'puntos_local': '93',\n",
       "  'nombre_visita': 'RIACHUELO (LR)',\n",
       "  'puntos_visita': '80',\n",
       "  'link_estadisticas': 'https://estadisticascabb.gesdeportiva.es/partido/eUswUIJMpTrkbgX_dCUD3g==?a=1'},\n",
       " 'REGATAS (C) vs GIMNASIA (CR) (002/12/2024 21:30)': {'nombre_local': 'REGATAS (C)',\n",
       "  'puntos_local': '83',\n",
       "  'nombre_visita': 'GIMNASIA (CR)',\n",
       "  'puntos_visita': '80',\n",
       "  'link_estadisticas': 'https://estadisticascabb.gesdeportiva.es/partido/uy9sqSfrW_-O1cRHuKBDUg==?a=1'},\n",
       " 'INSTITUTO vs QUIMSA (002/12/2024 22:10)': {'nombre_local': 'INSTITUTO',\n",
       "  'puntos_local': '79',\n",
       "  'nombre_visita': 'QUIMSA',\n",
       "  'puntos_visita': '69',\n",
       "  'link_estadisticas': 'https://estadisticascabb.gesdeportiva.es/partido/n0OUCXu_laEO6MRAZ6evRQ==?a=1'},\n",
       " 'UNION (SF) vs RIACHUELO (LR) (003/12/2024 21:00)': {'nombre_local': 'UNION (SF)',\n",
       "  'puntos_local': '64',\n",
       "  'nombre_visita': 'RIACHUELO (LR)',\n",
       "  'puntos_visita': '79',\n",
       "  'link_estadisticas': 'https://estadisticascabb.gesdeportiva.es/partido/2aUV9Kv_E7aYfjiK-GLUkA==?a=1'},\n",
       " 'FERRO vs BOCA (003/12/2024 21:05)': {'nombre_local': 'FERRO',\n",
       "  'puntos_local': '82',\n",
       "  'nombre_visita': 'BOCA',\n",
       "  'puntos_visita': '97',\n",
       "  'link_estadisticas': 'https://estadisticascabb.gesdeportiva.es/partido/PuO6YLxwGiC3VplMMf7_lw==?a=1'},\n",
       " 'LA UNION FSA. vs ZARATE BASKET (003/12/2024 21:30)': {'nombre_local': 'LA UNION FSA.',\n",
       "  'puntos_local': '83',\n",
       "  'nombre_visita': 'ZARATE BASKET',\n",
       "  'puntos_visita': '85',\n",
       "  'link_estadisticas': 'https://estadisticascabb.gesdeportiva.es/partido/rstchYJU2Y0Pb8MvilkXoQ==?a=1'},\n",
       " 'SAN MARTIN (C) vs GIMNASIA (CR) (004/12/2024 21:30)': {'nombre_local': 'SAN MARTIN (C)',\n",
       "  'puntos_local': '66',\n",
       "  'nombre_visita': 'GIMNASIA (CR)',\n",
       "  'puntos_visita': '62',\n",
       "  'link_estadisticas': 'https://estadisticascabb.gesdeportiva.es/partido/P5lFhBnZS5omrha6PHtcUA==?a=1'},\n",
       " 'ARGENTINO (J) vs BOCA (005/12/2024 21:00)': {'nombre_local': 'ARGENTINO (J)',\n",
       "  'puntos_local': '61',\n",
       "  'nombre_visita': 'BOCA',\n",
       "  'puntos_visita': '60',\n",
       "  'link_estadisticas': 'https://estadisticascabb.gesdeportiva.es/partido/XjrQssd55vS7Q2bsvmw54A==?a=1'},\n",
       " 'UNION (SF) vs INSTITUTO (005/12/2024 21:00)': {'nombre_local': 'UNION (SF)',\n",
       "  'puntos_local': '69',\n",
       "  'nombre_visita': 'INSTITUTO',\n",
       "  'puntos_visita': '68',\n",
       "  'link_estadisticas': 'https://estadisticascabb.gesdeportiva.es/partido/48FFwQl1RPt0wD-SbrycbA==?a=1'},\n",
       " 'REGATAS (C) vs ZARATE BASKET (005/12/2024 21:30)': {'nombre_local': 'REGATAS (C)',\n",
       "  'puntos_local': '97',\n",
       "  'nombre_visita': 'ZARATE BASKET',\n",
       "  'puntos_visita': '63',\n",
       "  'link_estadisticas': 'https://estadisticascabb.gesdeportiva.es/partido/BQNoSBt1y1SzDv9gbJZT3A==?a=1'},\n",
       " 'ATENAS (C) vs INDEPENDIENTE (O) (006/12/2024 21:00)': {'nombre_local': 'ATENAS (C)',\n",
       "  'puntos_local': '87',\n",
       "  'nombre_visita': 'INDEPENDIENTE (O)',\n",
       "  'puntos_visita': '84',\n",
       "  'link_estadisticas': 'https://estadisticascabb.gesdeportiva.es/partido/yeCBlq5RtTbIo_gRZtY5vw==?a=1'},\n",
       " 'QUIMSA vs FERRO (007/12/2024 11:30)': {'nombre_local': 'QUIMSA',\n",
       "  'puntos_local': '81',\n",
       "  'nombre_visita': 'FERRO',\n",
       "  'puntos_visita': '73',\n",
       "  'link_estadisticas': 'https://estadisticascabb.gesdeportiva.es/partido/bn5ld1zm_dmmHqYq1Ly2Pw==?a=1'},\n",
       " 'OBERA vs INSTITUTO (007/12/2024 21:00)': {'nombre_local': 'OBERA',\n",
       "  'puntos_local': '85',\n",
       "  'nombre_visita': 'INSTITUTO',\n",
       "  'puntos_visita': '77',\n",
       "  'link_estadisticas': 'https://estadisticascabb.gesdeportiva.es/partido/Yn9lUWwq0q8EHSCOWzLnmw==?a=1'},\n",
       " 'SAN MARTIN (C) vs ZARATE BASKET (007/12/2024 21:30)': {'nombre_local': 'SAN MARTIN (C)',\n",
       "  'puntos_local': '81',\n",
       "  'nombre_visita': 'ZARATE BASKET',\n",
       "  'puntos_visita': '70',\n",
       "  'link_estadisticas': 'https://estadisticascabb.gesdeportiva.es/partido/3wImqUNqX8OQJfxKa28EOA==?a=1'},\n",
       " 'GIMNASIA (CR) vs UNION (SF) (008/12/2024 20:30)': {'nombre_local': 'GIMNASIA (CR)',\n",
       "  'puntos_local': '91',\n",
       "  'nombre_visita': 'UNION (SF)',\n",
       "  'puntos_visita': '79',\n",
       "  'link_estadisticas': 'https://estadisticascabb.gesdeportiva.es/partido/gyGTjgBd6Y1lF-9HSPtD0Q==?a=1'},\n",
       " 'PLATENSE vs REGATAS (C) (009/12/2024 20:30)': {'nombre_local': 'PLATENSE',\n",
       "  'puntos_local': '96',\n",
       "  'nombre_visita': 'REGATAS (C)',\n",
       "  'puntos_visita': '73',\n",
       "  'link_estadisticas': 'https://estadisticascabb.gesdeportiva.es/partido/BY3SkmIv5w7PVPW4xY3Q7Q==?a=1'},\n",
       " 'OLIMPICO (LB) vs FERRO (009/12/2024 22:00)': {'nombre_local': 'OLIMPICO (LB)',\n",
       "  'puntos_local': '92',\n",
       "  'nombre_visita': 'FERRO',\n",
       "  'puntos_visita': '67',\n",
       "  'link_estadisticas': 'https://estadisticascabb.gesdeportiva.es/partido/Ht4waJ_r-bHg1s0FuAtR2A==?a=1'},\n",
       " 'OBRAS vs UNION (SF) (010/12/2024 20:00)': {'nombre_local': 'OBRAS',\n",
       "  'puntos_local': '89',\n",
       "  'nombre_visita': 'UNION (SF)',\n",
       "  'puntos_visita': '73',\n",
       "  'link_estadisticas': 'https://estadisticascabb.gesdeportiva.es/partido/WtV5H0JDvRa0S2Ov64tOWQ==?a=1'},\n",
       " 'ZARATE BASKET vs ATENAS (C) (010/12/2024 21:00)': {'nombre_local': 'ZARATE BASKET',\n",
       "  'puntos_local': '73',\n",
       "  'nombre_visita': 'ATENAS (C)',\n",
       "  'puntos_visita': '89',\n",
       "  'link_estadisticas': 'https://estadisticascabb.gesdeportiva.es/partido/kVq_JT2nhXNWhn6UBsy21w==?a=1'},\n",
       " 'SAN LORENZO vs REGATAS (C) (011/12/2024 19:05)': {'nombre_local': 'SAN LORENZO',\n",
       "  'puntos_local': '74',\n",
       "  'nombre_visita': 'REGATAS (C)',\n",
       "  'puntos_visita': '79',\n",
       "  'link_estadisticas': 'https://estadisticascabb.gesdeportiva.es/partido/8M2_goyTmtlQU2Kl_RGDjQ==?a=1'},\n",
       " 'RIACHUELO (LR) vs FERRO (011/12/2024 21:30)': {'nombre_local': 'RIACHUELO (LR)',\n",
       "  'puntos_local': '91',\n",
       "  'nombre_visita': 'FERRO',\n",
       "  'puntos_visita': '81',\n",
       "  'link_estadisticas': 'https://estadisticascabb.gesdeportiva.es/partido/KnwkvZZehLFu-925ufHILQ==?a=1'},\n",
       " 'GIMNASIA (CR) vs ATENAS (C) (012/12/2024 21:00)': {'nombre_local': 'GIMNASIA (CR)',\n",
       "  'puntos_local': '66',\n",
       "  'nombre_visita': 'ATENAS (C)',\n",
       "  'puntos_visita': '70',\n",
       "  'link_estadisticas': 'https://estadisticascabb.gesdeportiva.es/partido/dUHui9uPEy9QS1GbJ6K-AQ==?a=1'},\n",
       " 'PEÑAROL (MDP) vs REGATAS (C) (013/12/2024 21:30)': {'nombre_local': 'PEÑAROL (MDP)',\n",
       "  'puntos_local': '84',\n",
       "  'nombre_visita': 'REGATAS (C)',\n",
       "  'puntos_visita': '65',\n",
       "  'link_estadisticas': 'https://estadisticascabb.gesdeportiva.es/partido/vnHpSHqsiZ9YOQ4Y0eb-ng==?a=1'},\n",
       " 'PLATENSE vs ATENAS (C) (014/12/2024 20:30)': {'nombre_local': 'PLATENSE',\n",
       "  'puntos_local': '75',\n",
       "  'nombre_visita': 'ATENAS (C)',\n",
       "  'puntos_visita': '71',\n",
       "  'link_estadisticas': 'https://estadisticascabb.gesdeportiva.es/partido/f2EfN1-aM1ysp1hN59Jxfg==?a=1'},\n",
       " 'ARGENTINO (J) vs LA UNION FSA. (014/12/2024 21:00)': {'nombre_local': 'ARGENTINO (J)',\n",
       "  'puntos_local': '71',\n",
       "  'nombre_visita': 'LA UNION FSA.',\n",
       "  'puntos_visita': '76',\n",
       "  'link_estadisticas': 'https://estadisticascabb.gesdeportiva.es/partido/he5QY9SOsOayE0eB4K5s3g==?a=1'},\n",
       " 'RIACHUELO (LR) vs SAN MARTIN (C) (015/12/2024 21:30)': {'nombre_local': 'RIACHUELO (LR)',\n",
       "  'puntos_local': '74',\n",
       "  'nombre_visita': 'SAN MARTIN (C)',\n",
       "  'puntos_visita': '67',\n",
       "  'link_estadisticas': 'https://estadisticascabb.gesdeportiva.es/partido/0iqU2G1WrXozE9wylK1YIg==?a=1'},\n",
       " 'PLATENSE vs LA UNION FSA. (016/12/2024 20:30)': {'nombre_local': 'PLATENSE',\n",
       "  'puntos_local': '86',\n",
       "  'nombre_visita': 'LA UNION FSA.',\n",
       "  'puntos_visita': '87',\n",
       "  'link_estadisticas': 'https://estadisticascabb.gesdeportiva.es/partido/EgBy9FvRPueW-EdBcHOz1g==?a=1'},\n",
       " 'OLIMPICO (LB) vs SAN MARTIN (C) (017/12/2024 22:00)': {'nombre_local': 'OLIMPICO (LB)',\n",
       "  'puntos_local': '83',\n",
       "  'nombre_visita': 'SAN MARTIN (C)',\n",
       "  'puntos_visita': '71',\n",
       "  'link_estadisticas': 'https://estadisticascabb.gesdeportiva.es/partido/vSXuEXPxyXzjlhjBTzqFQA==?a=1'},\n",
       " 'ATENAS (C) vs OBRAS (017/12/2024 22:10)': {'nombre_local': 'ATENAS (C)',\n",
       "  'puntos_local': '72',\n",
       "  'nombre_visita': 'OBRAS',\n",
       "  'puntos_visita': '83',\n",
       "  'link_estadisticas': 'https://estadisticascabb.gesdeportiva.es/partido/vNA8xnuhldlRhyoyT7hE4g==?a=1'},\n",
       " 'FERRO vs LA UNION FSA. (018/12/2024 20:00)': {'nombre_local': 'FERRO',\n",
       "  'puntos_local': '99',\n",
       "  'nombre_visita': 'LA UNION FSA.',\n",
       "  'puntos_visita': '100',\n",
       "  'link_estadisticas': 'https://estadisticascabb.gesdeportiva.es/partido/KFJ9PJng9pruTP9v3QgfTw==?a=1'},\n",
       " 'INDEPENDIENTE (O) vs PEÑAROL (MDP) (018/12/2024 21:00)': {'nombre_local': 'INDEPENDIENTE (O)',\n",
       "  'puntos_local': '93',\n",
       "  'nombre_visita': 'PEÑAROL (MDP)',\n",
       "  'puntos_visita': '107',\n",
       "  'link_estadisticas': 'https://estadisticascabb.gesdeportiva.es/partido/7pl-PL_AZrzOg_U3yd7MzA==?a=1'},\n",
       " 'INSTITUTO vs OBRAS (019/12/2024 21:05)': {'nombre_local': 'INSTITUTO',\n",
       "  'puntos_local': '94',\n",
       "  'nombre_visita': 'OBRAS',\n",
       "  'puntos_visita': '92',\n",
       "  'link_estadisticas': 'https://estadisticascabb.gesdeportiva.es/partido/9IFaqAFmMXwQ45ddt5Nr_Q==?a=1'},\n",
       " 'GIMNASIA (CR) vs PLATENSE (019/12/2024 21:30)': {'nombre_local': 'GIMNASIA (CR)',\n",
       "  'puntos_local': '105',\n",
       "  'nombre_visita': 'PLATENSE',\n",
       "  'puntos_visita': '71',\n",
       "  'link_estadisticas': 'https://estadisticascabb.gesdeportiva.es/partido/BrLIK10tr08ruDBtN3dGWQ==?a=1'},\n",
       " 'QUIMSA vs SAN MARTIN (C) (019/12/2024 22:00)': {'nombre_local': 'QUIMSA',\n",
       "  'puntos_local': '107',\n",
       "  'nombre_visita': 'SAN MARTIN (C)',\n",
       "  'puntos_visita': '84',\n",
       "  'link_estadisticas': 'https://estadisticascabb.gesdeportiva.es/partido/PWoqO-OKhu7knkTxTRCC7A==?a=1'},\n",
       " 'ZARATE BASKET vs UNION (SF) (020/12/2024 21:00)': {'nombre_local': 'ZARATE BASKET',\n",
       "  'puntos_local': '89',\n",
       "  'nombre_visita': 'UNION (SF)',\n",
       "  'puntos_visita': '82',\n",
       "  'link_estadisticas': 'https://estadisticascabb.gesdeportiva.es/partido/-v2hA_7VE9hc5kRCsluEKQ==?a=1'},\n",
       " 'ATENAS (C) vs PEÑAROL (MDP) (020/12/2024 22:10)': {'nombre_local': 'ATENAS (C)',\n",
       "  'puntos_local': '82',\n",
       "  'nombre_visita': 'PEÑAROL (MDP)',\n",
       "  'puntos_visita': '71',\n",
       "  'link_estadisticas': 'https://estadisticascabb.gesdeportiva.es/partido/o-TYA6bZtpXxsnubt4Oe_Q==?a=1'},\n",
       " 'BOCA vs PLATENSE (021/12/2024 11:30)': {'nombre_local': 'BOCA',\n",
       "  'puntos_local': '85',\n",
       "  'nombre_visita': 'PLATENSE',\n",
       "  'puntos_visita': '73',\n",
       "  'link_estadisticas': 'https://estadisticascabb.gesdeportiva.es/partido/CjQq867qqzZcXDG169Pz5Q==?a=1'},\n",
       " 'INDEPENDIENTE (O) vs OBRAS (021/12/2024 20:30)': {'nombre_local': 'INDEPENDIENTE (O)',\n",
       "  'puntos_local': '93',\n",
       "  'nombre_visita': 'OBRAS',\n",
       "  'puntos_visita': '100',\n",
       "  'link_estadisticas': 'https://estadisticascabb.gesdeportiva.es/partido/ziSvf-aCowboSuUZwW3r8A==?a=1'},\n",
       " 'QUIMSA vs RIACHUELO (LR) (021/12/2024 21:00)': {'nombre_local': 'QUIMSA',\n",
       "  'puntos_local': '81',\n",
       "  'nombre_visita': 'RIACHUELO (LR)',\n",
       "  'puntos_visita': '74',\n",
       "  'link_estadisticas': 'https://estadisticascabb.gesdeportiva.es/partido/9IDHPJGWYOP3ouOT9-dhVg==?a=1'},\n",
       " 'SAN LORENZO vs ZARATE BASKET (022/12/2024 20:30)': {'nombre_local': 'SAN LORENZO',\n",
       "  'puntos_local': '83',\n",
       "  'nombre_visita': 'ZARATE BASKET',\n",
       "  'puntos_visita': '85',\n",
       "  'link_estadisticas': 'https://estadisticascabb.gesdeportiva.es/partido/vwEnN2-P-_nEQvmknXd3Yw==?a=1'},\n",
       " 'INSTITUTO vs PEÑAROL (MDP) (022/12/2024 22:10)': {'nombre_local': 'INSTITUTO',\n",
       "  'puntos_local': '86',\n",
       "  'nombre_visita': 'PEÑAROL (MDP)',\n",
       "  'puntos_visita': '64',\n",
       "  'link_estadisticas': 'https://estadisticascabb.gesdeportiva.es/partido/Pa3FIe-fM2tm4ygMq6S86Q==?a=1'},\n",
       " 'OBRAS vs ZARATE BASKET (007/01/2025 20:00)': {'nombre_local': 'OBRAS',\n",
       "  'puntos_local': '98',\n",
       "  'nombre_visita': 'ZARATE BASKET',\n",
       "  'puntos_visita': '73',\n",
       "  'link_estadisticas': 'https://estadisticascabb.gesdeportiva.es/partido/heJ4UMIhWsKbKMIt-J3hDA==?a=1'},\n",
       " 'PLATENSE vs SAN LORENZO (007/01/2025 21:00)': {'nombre_local': 'PLATENSE',\n",
       "  'puntos_local': '81',\n",
       "  'nombre_visita': 'SAN LORENZO',\n",
       "  'puntos_visita': '71',\n",
       "  'link_estadisticas': 'https://estadisticascabb.gesdeportiva.es/partido/IM0E8yO92rL93uXiVCORWw==?a=1'},\n",
       " 'FERRO vs OBERA (007/01/2025 22:00)': {'nombre_local': 'FERRO',\n",
       "  'puntos_local': '88',\n",
       "  'nombre_visita': 'OBERA',\n",
       "  'puntos_visita': '81',\n",
       "  'link_estadisticas': 'https://estadisticascabb.gesdeportiva.es/partido/wT71UI3KfdSS2zK-_Gbinw==?a=1'},\n",
       " 'ARGENTINO (J) vs GIMNASIA (CR) (008/01/2025 21:00)': {'nombre_local': 'ARGENTINO (J)',\n",
       "  'puntos_local': '61',\n",
       "  'nombre_visita': 'GIMNASIA (CR)',\n",
       "  'puntos_visita': '80',\n",
       "  'link_estadisticas': 'https://estadisticascabb.gesdeportiva.es/partido/rMvOsPFYm97KtCQ6jkutGw==?a=1'},\n",
       " 'LA UNION FSA. vs ATENAS (C) (008/01/2025 21:30)': {'nombre_local': 'LA UNION FSA.',\n",
       "  'puntos_local': '77',\n",
       "  'nombre_visita': 'ATENAS (C)',\n",
       "  'puntos_visita': '81',\n",
       "  'link_estadisticas': 'https://estadisticascabb.gesdeportiva.es/partido/y25MedUgBYhoTemgRcwghw==?a=1'},\n",
       " 'OLIMPICO (LB) vs RIACHUELO (LR) (008/01/2025 22:00)': {'nombre_local': 'OLIMPICO (LB)',\n",
       "  'puntos_local': '72',\n",
       "  'nombre_visita': 'RIACHUELO (LR)',\n",
       "  'puntos_visita': '106',\n",
       "  'link_estadisticas': 'https://estadisticascabb.gesdeportiva.es/partido/ijhbe4x_TTZNxh7asqWx3A==?a=1'},\n",
       " 'OBRAS vs OBERA (009/01/2025 20:00)': {'nombre_local': 'OBRAS',\n",
       "  'puntos_local': '87',\n",
       "  'nombre_visita': 'OBERA',\n",
       "  'puntos_visita': '76',\n",
       "  'link_estadisticas': 'https://estadisticascabb.gesdeportiva.es/partido/h8hOGsYi5OYmSoEHrcmY3A==?a=1'},\n",
       " 'PEÑAROL (MDP) vs SAN LORENZO (009/01/2025 21:00)': {'nombre_local': 'PEÑAROL (MDP)',\n",
       "  'puntos_local': '80',\n",
       "  'nombre_visita': 'SAN LORENZO',\n",
       "  'puntos_visita': '77',\n",
       "  'link_estadisticas': 'https://estadisticascabb.gesdeportiva.es/partido/5AUXk6BX1ELpPGu8ylN92w==?a=1'},\n",
       " 'SAN MARTIN (C) vs ATENAS (C) (010/01/2025 21:30)': {'nombre_local': 'SAN MARTIN (C)',\n",
       "  'puntos_local': '89',\n",
       "  'nombre_visita': 'ATENAS (C)',\n",
       "  'puntos_visita': '57',\n",
       "  'link_estadisticas': 'https://estadisticascabb.gesdeportiva.es/partido/gwaZOmOHt01aEeP409WktA==?a=1'},\n",
       " 'FERRO vs GIMNASIA (CR) (010/01/2025 22:00)': {'nombre_local': 'FERRO',\n",
       "  'puntos_local': '88',\n",
       "  'nombre_visita': 'GIMNASIA (CR)',\n",
       "  'puntos_visita': '84',\n",
       "  'link_estadisticas': 'https://estadisticascabb.gesdeportiva.es/partido/4ix8S-jV65NwkX_drBLboQ==?a=1'},\n",
       " 'SAN LORENZO vs ARGENTINO (J) (012/01/2025 12:10)': {'nombre_local': 'SAN LORENZO',\n",
       "  'puntos_local': '87',\n",
       "  'nombre_visita': 'ARGENTINO (J)',\n",
       "  'puntos_visita': '72',\n",
       "  'link_estadisticas': 'https://estadisticascabb.gesdeportiva.es/partido/sjWmxsYl7xq0k_pBxftFyQ==?a=1'},\n",
       " 'PEÑAROL (MDP) vs GIMNASIA (CR) (012/01/2025 20:30)': {'nombre_local': 'PEÑAROL (MDP)',\n",
       "  'puntos_local': '100',\n",
       "  'nombre_visita': 'GIMNASIA (CR)',\n",
       "  'puntos_visita': '86',\n",
       "  'link_estadisticas': 'https://estadisticascabb.gesdeportiva.es/partido/Z7UR7pe_zbJxScPPrhWPOQ==?a=1'},\n",
       " 'REGATAS (C) vs ATENAS (C) (012/01/2025 21:00)': {'nombre_local': 'REGATAS (C)',\n",
       "  'puntos_local': '81',\n",
       "  'nombre_visita': 'ATENAS (C)',\n",
       "  'puntos_visita': '63',\n",
       "  'link_estadisticas': 'https://estadisticascabb.gesdeportiva.es/partido/eOxNB14hsFIZhNr2Bsu2Hw==?a=1'},\n",
       " 'LA UNION FSA. vs INDEPENDIENTE (O) (012/01/2025 21:30)': {'nombre_local': 'LA UNION FSA.',\n",
       "  'puntos_local': '88',\n",
       "  'nombre_visita': 'INDEPENDIENTE (O)',\n",
       "  'puntos_visita': '95',\n",
       "  'link_estadisticas': 'https://estadisticascabb.gesdeportiva.es/partido/QuAUyYkB9hT6hFI0ODu8CA==?a=1'},\n",
       " 'SAN LORENZO vs OLIMPICO (LB) (014/01/2025 20:00)': {'nombre_local': 'SAN LORENZO',\n",
       "  'puntos_local': '86',\n",
       "  'nombre_visita': 'OLIMPICO (LB)',\n",
       "  'puntos_visita': '69',\n",
       "  'link_estadisticas': 'https://estadisticascabb.gesdeportiva.es/partido/JZm4_Aewvf8P-Yb25Y9RhA==?a=1'},\n",
       " 'REGATAS (C) vs INDEPENDIENTE (O) (014/01/2025 21:00)': {'nombre_local': 'REGATAS (C)',\n",
       "  'puntos_local': '85',\n",
       "  'nombre_visita': 'INDEPENDIENTE (O)',\n",
       "  'puntos_visita': '60',\n",
       "  'link_estadisticas': 'https://estadisticascabb.gesdeportiva.es/partido/nT28vCi7WV3usRVLUaygzQ==?a=1'},\n",
       " 'ZARATE BASKET vs ARGENTINO (J) (014/01/2025 22:00)': {'nombre_local': 'ZARATE BASKET',\n",
       "  'puntos_local': '86',\n",
       "  'nombre_visita': 'ARGENTINO (J)',\n",
       "  'puntos_visita': '77',\n",
       "  'link_estadisticas': 'https://estadisticascabb.gesdeportiva.es/partido/RLTZevFVFpjrKCswNQDtqA==?a=1'},\n",
       " 'PEÑAROL (MDP) vs LA UNION FSA. (016/01/2025 21:00)': {'nombre_local': 'PEÑAROL (MDP)',\n",
       "  'puntos_local': '91',\n",
       "  'nombre_visita': 'LA UNION FSA.',\n",
       "  'puntos_visita': '94',\n",
       "  'link_estadisticas': 'https://estadisticascabb.gesdeportiva.es/partido/9Yqha341koBugkW_B0OYNw==?a=1'},\n",
       " 'SAN MARTIN (C) vs INDEPENDIENTE (O) (016/01/2025 21:30)': {'nombre_local': 'SAN MARTIN (C)',\n",
       "  'puntos_local': '85',\n",
       "  'nombre_visita': 'INDEPENDIENTE (O)',\n",
       "  'puntos_visita': '69',\n",
       "  'link_estadisticas': 'https://estadisticascabb.gesdeportiva.es/partido/VOsqo9SMJxqXzCkigoAFRQ==?a=1'},\n",
       " 'GIMNASIA (CR) vs OLIMPICO (LB) (016/01/2025 21:30)': {'nombre_local': 'GIMNASIA (CR)',\n",
       "  'puntos_local': '74',\n",
       "  'nombre_visita': 'OLIMPICO (LB)',\n",
       "  'puntos_visita': '84',\n",
       "  'link_estadisticas': 'https://estadisticascabb.gesdeportiva.es/partido/DJJV0al3yoMlv_rylt00pQ==?a=1'},\n",
       " 'OBRAS vs OLIMPICO (LB) (018/01/2025 20:00)': {'nombre_local': 'OBRAS',\n",
       "  'puntos_local': '83',\n",
       "  'nombre_visita': 'OLIMPICO (LB)',\n",
       "  'puntos_visita': '76',\n",
       "  'link_estadisticas': 'https://estadisticascabb.gesdeportiva.es/partido/DJv0Aonb3QR2gHreeSYsVw==?a=1'},\n",
       " 'SAN LORENZO vs LA UNION FSA. (018/01/2025 21:00)': {'nombre_local': 'SAN LORENZO',\n",
       "  'puntos_local': '89',\n",
       "  'nombre_visita': 'LA UNION FSA.',\n",
       "  'puntos_visita': '84',\n",
       "  'link_estadisticas': 'https://estadisticascabb.gesdeportiva.es/partido/4pn2dD2jh8OeNg2CRxDz9w==?a=1'},\n",
       " 'PLATENSE vs INSTITUTO (019/01/2025 11:45)': {'nombre_local': 'PLATENSE',\n",
       "  'puntos_local': '69',\n",
       "  'nombre_visita': 'INSTITUTO',\n",
       "  'puntos_visita': '67',\n",
       "  'link_estadisticas': 'https://estadisticascabb.gesdeportiva.es/partido/RJOmPKwLph4qoqJQIZAHEw==?a=1'},\n",
       " 'GIMNASIA (CR) vs ZARATE BASKET (019/01/2025 20:30)': {'nombre_local': 'GIMNASIA (CR)',\n",
       "  'puntos_local': '98',\n",
       "  'nombre_visita': 'ZARATE BASKET',\n",
       "  'puntos_visita': '68',\n",
       "  'link_estadisticas': 'https://estadisticascabb.gesdeportiva.es/partido/p_g_Ft9i9lLDs-QwMwVdhA==?a=1'},\n",
       " 'UNION (SF) vs QUIMSA (020/01/2025 21:00)': {'nombre_local': 'UNION (SF)',\n",
       "  'puntos_local': '92',\n",
       "  'nombre_visita': 'QUIMSA',\n",
       "  'puntos_visita': '85',\n",
       "  'link_estadisticas': 'https://estadisticascabb.gesdeportiva.es/partido/x0TkQ9paTXFVNONAwqAakQ==?a=1'},\n",
       " 'BOCA vs LA UNION FSA. (020/01/2025 22:00)': {'nombre_local': 'BOCA',\n",
       "  'puntos_local': '97',\n",
       "  'nombre_visita': 'LA UNION FSA.',\n",
       "  'puntos_visita': '91',\n",
       "  'link_estadisticas': 'https://estadisticascabb.gesdeportiva.es/partido/0HtM846n9-Sp_vrjAfczcw==?a=1'},\n",
       " 'GIMNASIA (CR) vs INSTITUTO (021/01/2025 21:00)': {'nombre_local': 'GIMNASIA (CR)',\n",
       "  'puntos_local': '72',\n",
       "  'nombre_visita': 'INSTITUTO',\n",
       "  'puntos_visita': '74',\n",
       "  'link_estadisticas': 'https://estadisticascabb.gesdeportiva.es/partido/nOS1ewEHp31LoJJYU7JrXg==?a=1'},\n",
       " 'SAN MARTIN (C) vs OBRAS (021/01/2025 21:30)': {'nombre_local': 'SAN MARTIN (C)',\n",
       "  'puntos_local': '83',\n",
       "  'nombre_visita': 'OBRAS',\n",
       "  'puntos_visita': '61',\n",
       "  'link_estadisticas': 'https://estadisticascabb.gesdeportiva.es/partido/uGd-nt5yaWpBzHq5VLnRbw==?a=1'},\n",
       " 'RIACHUELO (LR) vs PEÑAROL (MDP) (021/01/2025 21:30)': {'nombre_local': 'RIACHUELO (LR)',\n",
       "  'puntos_local': '83',\n",
       "  'nombre_visita': 'PEÑAROL (MDP)',\n",
       "  'puntos_visita': '71',\n",
       "  'link_estadisticas': 'https://estadisticascabb.gesdeportiva.es/partido/98CVVsMPM5d9CV5DUlp32Q==?a=1'},\n",
       " 'OLIMPICO (LB) vs PLATENSE (021/01/2025 22:00)': {'nombre_local': 'OLIMPICO (LB)',\n",
       "  'puntos_local': '73',\n",
       "  'nombre_visita': 'PLATENSE',\n",
       "  'puntos_visita': '68',\n",
       "  'link_estadisticas': 'https://estadisticascabb.gesdeportiva.es/partido/qp9FkYqDvXDk3V-aAJc6tQ==?a=1'},\n",
       " 'ZARATE BASKET vs INSTITUTO (023/01/2025 21:00)': {'nombre_local': 'ZARATE BASKET',\n",
       "  'puntos_local': '0',\n",
       "  'nombre_visita': 'INSTITUTO',\n",
       "  'puntos_visita': '20',\n",
       "  'link_estadisticas': 'https://estadisticascabb.gesdeportiva.es/partido/tE7ShdUDWk6g6NBL8HmqMg==?a=1'},\n",
       " 'REGATAS (C) vs OBRAS (023/01/2025 21:00)': {'nombre_local': 'REGATAS (C)',\n",
       "  'puntos_local': '61',\n",
       "  'nombre_visita': 'OBRAS',\n",
       "  'puntos_visita': '73',\n",
       "  'link_estadisticas': 'https://estadisticascabb.gesdeportiva.es/partido/uCrVLt7_ofWpsBv7pL1IFg==?a=1'},\n",
       " 'QUIMSA vs PLATENSE (023/01/2025 21:30)': {'nombre_local': 'QUIMSA',\n",
       "  'puntos_local': '91',\n",
       "  'nombre_visita': 'PLATENSE',\n",
       "  'puntos_visita': '66',\n",
       "  'link_estadisticas': 'https://estadisticascabb.gesdeportiva.es/partido/aAwa-0g1cGB0IzmEP_Rnkw==?a=1'},\n",
       " 'OLIMPICO (LB) vs PEÑAROL (MDP) (023/01/2025 22:00)': {'nombre_local': 'OLIMPICO (LB)',\n",
       "  'puntos_local': '78',\n",
       "  'nombre_visita': 'PEÑAROL (MDP)',\n",
       "  'puntos_visita': '72',\n",
       "  'link_estadisticas': 'https://estadisticascabb.gesdeportiva.es/partido/WQJNa0zq_loeMxMThGk-2w==?a=1'},\n",
       " 'ARGENTINO (J) vs FERRO (024/01/2025 21:00)': {'nombre_local': 'ARGENTINO (J)',\n",
       "  'puntos_local': '89',\n",
       "  'nombre_visita': 'FERRO',\n",
       "  'puntos_visita': '84',\n",
       "  'link_estadisticas': 'https://estadisticascabb.gesdeportiva.es/partido/TB8Wb1qOZ51XArtuCPUuPA==?a=1'},\n",
       " 'OBERA vs SAN LORENZO (024/01/2025 21:30)': {'nombre_local': 'OBERA',\n",
       "  'puntos_local': '74',\n",
       "  'nombre_visita': 'SAN LORENZO',\n",
       "  'puntos_visita': '79',\n",
       "  'link_estadisticas': 'https://estadisticascabb.gesdeportiva.es/partido/D2-l5WW5pCySAKP0v3TYvw==?a=1'},\n",
       " 'QUIMSA vs PEÑAROL (MDP) (025/01/2025 11:30)': {'nombre_local': 'QUIMSA',\n",
       "  'puntos_local': '79',\n",
       "  'nombre_visita': 'PEÑAROL (MDP)',\n",
       "  'puntos_visita': '84',\n",
       "  'link_estadisticas': 'https://estadisticascabb.gesdeportiva.es/partido/A3XLoaqKTzcaMZ9Vtoll2w==?a=1'},\n",
       " 'RIACHUELO (LR) vs PLATENSE (025/01/2025 21:00)': {'nombre_local': 'RIACHUELO (LR)',\n",
       "  'puntos_local': '86',\n",
       "  'nombre_visita': 'PLATENSE',\n",
       "  'puntos_visita': '91',\n",
       "  'link_estadisticas': 'https://estadisticascabb.gesdeportiva.es/partido/rlKdZL4Bl31o7lZ_N8NBXQ==?a=1'},\n",
       " 'LA UNION FSA. vs OBRAS (025/01/2025 21:30)': {'nombre_local': 'LA UNION FSA.',\n",
       "  'puntos_local': '77',\n",
       "  'nombre_visita': 'OBRAS',\n",
       "  'puntos_visita': '82',\n",
       "  'link_estadisticas': 'https://estadisticascabb.gesdeportiva.es/partido/x5MqAoLuRYk_a74qzEMUPA==?a=1'},\n",
       " 'INSTITUTO vs BOCA (026/01/2025 13:10)': {'nombre_local': 'INSTITUTO',\n",
       "  'puntos_local': '86',\n",
       "  'nombre_visita': 'BOCA',\n",
       "  'puntos_visita': '90',\n",
       "  'link_estadisticas': 'https://estadisticascabb.gesdeportiva.es/partido/suT-o_a3dobo4RJdJ-fGwg==?a=1'},\n",
       " 'ZARATE BASKET vs FERRO (026/01/2025 20:30)': {'nombre_local': 'ZARATE BASKET',\n",
       "  'puntos_local': '66',\n",
       "  'nombre_visita': 'FERRO',\n",
       "  'puntos_visita': '80',\n",
       "  'link_estadisticas': 'https://estadisticascabb.gesdeportiva.es/partido/0s-_otb3i_afOEO3mTvyGA==?a=1'},\n",
       " 'SAN LORENZO vs SAN MARTIN (C) (027/01/2025 20:00)': {'nombre_local': 'SAN LORENZO',\n",
       "  'puntos_local': '59',\n",
       "  'nombre_visita': 'SAN MARTIN (C)',\n",
       "  'puntos_visita': '73',\n",
       "  'link_estadisticas': 'https://estadisticascabb.gesdeportiva.es/partido/SnLtMp9kxYABiaYlV728Yw==?a=1'},\n",
       " 'UNION (SF) vs OBERA (027/01/2025 21:00)': {'nombre_local': 'UNION (SF)',\n",
       "  'puntos_local': '76',\n",
       "  'nombre_visita': 'OBERA',\n",
       "  'puntos_visita': '73',\n",
       "  'link_estadisticas': 'https://estadisticascabb.gesdeportiva.es/partido/_LmJ732wuQJeWvRBZwdfgQ==?a=1'},\n",
       " 'ARGENTINO (J) vs REGATAS (C) (028/01/2025 21:00)': {'nombre_local': 'ARGENTINO (J)',\n",
       "  'puntos_local': '90',\n",
       "  'nombre_visita': 'REGATAS (C)',\n",
       "  'puntos_visita': '80',\n",
       "  'link_estadisticas': 'https://estadisticascabb.gesdeportiva.es/partido/rhiNiSzm-oVunaUyIPuDsw==?a=1'},\n",
       " 'INDEPENDIENTE (O) vs BOCA (028/01/2025 21:30)': {'nombre_local': 'INDEPENDIENTE (O)',\n",
       "  'puntos_local': '77',\n",
       "  'nombre_visita': 'BOCA',\n",
       "  'puntos_visita': '79',\n",
       "  'link_estadisticas': 'https://estadisticascabb.gesdeportiva.es/partido/MFejA1IJeRI7NRo4aFTSww==?a=1'},\n",
       " 'PLATENSE vs SAN MARTIN (C) (029/01/2025 20:00)': {'nombre_local': 'PLATENSE',\n",
       "  'puntos_local': '65',\n",
       "  'nombre_visita': 'SAN MARTIN (C)',\n",
       "  'puntos_visita': '87',\n",
       "  'link_estadisticas': 'https://estadisticascabb.gesdeportiva.es/partido/DH4bxvAY8Xk4hmz_zqDEcQ==?a=1'},\n",
       " 'ZARATE BASKET vs OBERA (029/01/2025 22:00)': {'nombre_local': 'ZARATE BASKET',\n",
       "  'puntos_local': '72',\n",
       "  'nombre_visita': 'OBERA',\n",
       "  'puntos_visita': '74',\n",
       "  'link_estadisticas': 'https://estadisticascabb.gesdeportiva.es/partido/WSgNT2IO-obnbgoBAavIwA==?a=1'},\n",
       " 'INSTITUTO vs RIACHUELO (LR) (030/01/2025 21:00)': {'nombre_local': 'INSTITUTO',\n",
       "  'puntos_local': '78',\n",
       "  'nombre_visita': 'RIACHUELO (LR)',\n",
       "  'puntos_visita': '79',\n",
       "  'link_estadisticas': 'https://estadisticascabb.gesdeportiva.es/partido/J5Neh59DtgdeMRxPYCssXA==?a=1'},\n",
       " 'FERRO vs REGATAS (C) (030/01/2025 21:00)': {'nombre_local': 'FERRO',\n",
       "  'puntos_local': '88',\n",
       "  'nombre_visita': 'REGATAS (C)',\n",
       "  'puntos_visita': '93',\n",
       "  'link_estadisticas': 'https://estadisticascabb.gesdeportiva.es/partido/PGCHEuFc4fx1EATQQaCE_Q==?a=1'},\n",
       " 'UNION (SF) vs OLIMPICO (LB) (031/01/2025 21:00)': {'nombre_local': 'UNION (SF)',\n",
       "  'puntos_local': '95',\n",
       "  'nombre_visita': 'OLIMPICO (LB)',\n",
       "  'puntos_visita': '89',\n",
       "  'link_estadisticas': 'https://estadisticascabb.gesdeportiva.es/partido/pRPHUC8Hg0keMq9rtFuNTg==?a=1'},\n",
       " 'ARGENTINO (J) vs SAN MARTIN (C) (031/01/2025 21:30)': {'nombre_local': 'ARGENTINO (J)',\n",
       "  'puntos_local': '70',\n",
       "  'nombre_visita': 'SAN MARTIN (C)',\n",
       "  'puntos_visita': '69',\n",
       "  'link_estadisticas': 'https://estadisticascabb.gesdeportiva.es/partido/dI5lPZyEnPM0Ht-e0ebjCQ==?a=1'},\n",
       " 'BOCA vs REGATAS (C) (001/02/2025 11:30)': {'nombre_local': 'BOCA',\n",
       "  'puntos_local': '83',\n",
       "  'nombre_visita': 'REGATAS (C)',\n",
       "  'puntos_visita': '79',\n",
       "  'link_estadisticas': 'https://estadisticascabb.gesdeportiva.es/partido/fwd0PDPEMsN4e2MvT50e6w==?a=1'},\n",
       " 'ATENAS (C) vs RIACHUELO (LR) (001/02/2025 21:00)': {'nombre_local': 'ATENAS (C)',\n",
       "  'puntos_local': '63',\n",
       "  'nombre_visita': 'RIACHUELO (LR)',\n",
       "  'puntos_visita': '80',\n",
       "  'link_estadisticas': 'https://estadisticascabb.gesdeportiva.es/partido/4MscrAO7jZCEcXJ44RRKtg==?a=1'},\n",
       " 'OBERA vs OLIMPICO (LB) (002/02/2025 20:30)': {'nombre_local': 'OBERA',\n",
       "  'puntos_local': '101',\n",
       "  'nombre_visita': 'OLIMPICO (LB)',\n",
       "  'puntos_visita': '80',\n",
       "  'link_estadisticas': 'https://estadisticascabb.gesdeportiva.es/partido/UoxtIHDVL1ml0nICixKKVA==?a=1'},\n",
       " 'OBRAS vs ARGENTINO (J) (003/02/2025 20:05)': {'nombre_local': 'OBRAS',\n",
       "  'puntos_local': '79',\n",
       "  'nombre_visita': 'ARGENTINO (J)',\n",
       "  'puntos_visita': '71',\n",
       "  'link_estadisticas': 'https://estadisticascabb.gesdeportiva.es/partido/4wosuSx89rV6a5mHDwV__A==?a=1'},\n",
       " 'PEÑAROL (MDP) vs UNION (SF) (003/02/2025 21:00)': {'nombre_local': 'PEÑAROL (MDP)',\n",
       "  'puntos_local': '80',\n",
       "  'nombre_visita': 'UNION (SF)',\n",
       "  'puntos_visita': '82',\n",
       "  'link_estadisticas': 'https://estadisticascabb.gesdeportiva.es/partido/PhzQ3STd1cIUF2FDr8f7qw==?a=1'},\n",
       " 'INDEPENDIENTE (O) vs RIACHUELO (LR) (003/02/2025 21:30)': {'nombre_local': 'INDEPENDIENTE (O)',\n",
       "  'puntos_local': '98',\n",
       "  'nombre_visita': 'RIACHUELO (LR)',\n",
       "  'puntos_visita': '81',\n",
       "  'link_estadisticas': 'https://estadisticascabb.gesdeportiva.es/partido/5V_m0V7W2oWvE05XUsVODA==?a=1'},\n",
       " 'SAN MARTIN (C) vs OLIMPICO (LB) (004/02/2025 21:00)': {'nombre_local': 'SAN MARTIN (C)',\n",
       "  'puntos_local': '79',\n",
       "  'nombre_visita': 'OLIMPICO (LB)',\n",
       "  'puntos_visita': '78',\n",
       "  'link_estadisticas': 'https://estadisticascabb.gesdeportiva.es/partido/whjvNzbrsHh7QFlTSpzSPA==?a=1'},\n",
       " 'SAN LORENZO vs ATENAS (C) (004/02/2025 22:10)': {'nombre_local': 'SAN LORENZO',\n",
       "  'puntos_local': '94',\n",
       "  'nombre_visita': 'ATENAS (C)',\n",
       "  'puntos_visita': '88',\n",
       "  'link_estadisticas': 'https://estadisticascabb.gesdeportiva.es/partido/0cIB99eAXkBSFduDQbGURQ==?a=1'},\n",
       " 'PLATENSE vs UNION (SF) (005/02/2025 20:30)': {'nombre_local': 'PLATENSE',\n",
       "  'puntos_local': '116',\n",
       "  'nombre_visita': 'UNION (SF)',\n",
       "  'puntos_visita': '92',\n",
       "  'link_estadisticas': 'https://estadisticascabb.gesdeportiva.es/partido/o5ZmMiCii9uY7uGT1gD4Uw==?a=1'},\n",
       " 'PEÑAROL (MDP) vs ARGENTINO (J) (005/02/2025 21:00)': {'nombre_local': 'PEÑAROL (MDP)',\n",
       "  'puntos_local': '94',\n",
       "  'nombre_visita': 'ARGENTINO (J)',\n",
       "  'puntos_visita': '62',\n",
       "  'link_estadisticas': 'https://estadisticascabb.gesdeportiva.es/partido/tb8QI606_et7T-WXOPpmBQ==?a=1'},\n",
       " 'OBRAS vs INDEPENDIENTE (O) (006/02/2025 20:00)': {'nombre_local': 'OBRAS',\n",
       "  'puntos_local': '90',\n",
       "  'nombre_visita': 'INDEPENDIENTE (O)',\n",
       "  'puntos_visita': '78',\n",
       "  'link_estadisticas': 'https://estadisticascabb.gesdeportiva.es/partido/Q-zoMXBkZCy0xnGnwfv2CQ==?a=1'},\n",
       " 'FERRO vs ATENAS (C) (006/02/2025 21:00)': {'nombre_local': 'FERRO',\n",
       "  'puntos_local': '84',\n",
       "  'nombre_visita': 'ATENAS (C)',\n",
       "  'puntos_visita': '79',\n",
       "  'link_estadisticas': 'https://estadisticascabb.gesdeportiva.es/partido/99CrGN-XmBxxcEw4m5cJBg==?a=1'},\n",
       " 'PLATENSE vs ARGENTINO (J) (007/02/2025 20:30)': {'nombre_local': 'PLATENSE',\n",
       "  'puntos_local': '96',\n",
       "  'nombre_visita': 'ARGENTINO (J)',\n",
       "  'puntos_visita': '82',\n",
       "  'link_estadisticas': 'https://estadisticascabb.gesdeportiva.es/partido/cWlRa397kR2viSNwTk22UQ==?a=1'},\n",
       " 'REGATAS (C) vs LA UNION FSA. (007/02/2025 21:30)': {'nombre_local': 'REGATAS (C)',\n",
       "  'puntos_local': '105',\n",
       "  'nombre_visita': 'LA UNION FSA.',\n",
       "  'puntos_visita': '96',\n",
       "  'link_estadisticas': 'https://estadisticascabb.gesdeportiva.es/partido/k-KrhfO4pKtpmOEyFkrIaQ==?a=1'},\n",
       " 'FERRO vs INDEPENDIENTE (O) (008/02/2025 11:30)': {'nombre_local': 'FERRO',\n",
       "  'puntos_local': '93',\n",
       "  'nombre_visita': 'INDEPENDIENTE (O)',\n",
       "  'puntos_visita': '77',\n",
       "  'link_estadisticas': 'https://estadisticascabb.gesdeportiva.es/partido/tGyEg-JSAHch_zWaf7GeNg==?a=1'},\n",
       " 'PEÑAROL (MDP) vs ATENAS (C) (009/02/2025 20:30)': {'nombre_local': 'PEÑAROL (MDP)',\n",
       "  'puntos_local': '81',\n",
       "  'nombre_visita': 'ATENAS (C)',\n",
       "  'puntos_visita': '66',\n",
       "  'link_estadisticas': 'https://estadisticascabb.gesdeportiva.es/partido/M7AxTX85nXi-73ZyH9GGXQ==?a=1'},\n",
       " 'ARGENTINO (J) vs INDEPENDIENTE (O) (010/02/2025 21:00)': {'nombre_local': 'ARGENTINO (J)',\n",
       "  'puntos_local': '51',\n",
       "  'nombre_visita': 'INDEPENDIENTE (O)',\n",
       "  'puntos_visita': '65',\n",
       "  'link_estadisticas': 'https://estadisticascabb.gesdeportiva.es/partido/erTtuyuDnfzkXaeZoD8VZA==?a=1'},\n",
       " 'UNION (SF) vs ZARATE BASKET (011/02/2025 21:00)': {'nombre_local': 'UNION (SF)',\n",
       "  'puntos_local': '91',\n",
       "  'nombre_visita': 'ZARATE BASKET',\n",
       "  'puntos_visita': '77',\n",
       "  'link_estadisticas': 'https://estadisticascabb.gesdeportiva.es/partido/ksqTw7RnwulKSX98KBv-OQ==?a=1'},\n",
       " 'OBERA vs FERRO (011/02/2025 21:30)': {'nombre_local': 'OBERA',\n",
       "  'puntos_local': '89',\n",
       "  'nombre_visita': 'FERRO',\n",
       "  'puntos_visita': '93',\n",
       "  'link_estadisticas': 'https://estadisticascabb.gesdeportiva.es/partido/UFxzRx-hMNB1WDQsa98t1w==?a=1'},\n",
       " 'ATENAS (C) vs REGATAS (C) (012/02/2025 21:00)': {'nombre_local': 'ATENAS (C)',\n",
       "  'puntos_local': '107',\n",
       "  'nombre_visita': 'REGATAS (C)',\n",
       "  'puntos_visita': '79',\n",
       "  'link_estadisticas': 'https://estadisticascabb.gesdeportiva.es/partido/NWV2WR5793Rs540WpghOcw==?a=1'},\n",
       " 'QUIMSA vs GIMNASIA (CR) (013/02/2025 22:00)': {'nombre_local': 'QUIMSA',\n",
       "  'puntos_local': '84',\n",
       "  'nombre_visita': 'GIMNASIA (CR)',\n",
       "  'puntos_visita': '77',\n",
       "  'link_estadisticas': 'https://estadisticascabb.gesdeportiva.es/partido/t8RBEGofYvY-FO2SLY1LwQ==?a=1'},\n",
       " 'INSTITUTO vs REGATAS (C) (014/02/2025 20:30)': {'nombre_local': 'INSTITUTO',\n",
       "  'puntos_local': '75',\n",
       "  'nombre_visita': 'REGATAS (C)',\n",
       "  'puntos_visita': '67',\n",
       "  'link_estadisticas': 'https://estadisticascabb.gesdeportiva.es/partido/JVbg6pKfz26mMwccMwyn_g==?a=1'},\n",
       " 'UNION (SF) vs OBRAS (014/02/2025 21:00)': {'nombre_local': 'UNION (SF)',\n",
       "  'puntos_local': '77',\n",
       "  'nombre_visita': 'OBRAS',\n",
       "  'puntos_visita': '91',\n",
       "  'link_estadisticas': 'https://estadisticascabb.gesdeportiva.es/partido/8AHK8WHLPCSs4yzNMZ1asQ==?a=1'},\n",
       " 'INDEPENDIENTE (O) vs ATENAS (C) (014/02/2025 21:00)': {'nombre_local': 'INDEPENDIENTE (O)',\n",
       "  'puntos_local': '76',\n",
       "  'nombre_visita': 'ATENAS (C)',\n",
       "  'puntos_visita': '83',\n",
       "  'link_estadisticas': 'https://estadisticascabb.gesdeportiva.es/partido/d3QXS9BbLQgg7XYtMMKr9g==?a=1'},\n",
       " 'BOCA vs SAN LORENZO (014/02/2025 22:05)': {'nombre_local': 'BOCA',\n",
       "  'puntos_local': '75',\n",
       "  'nombre_visita': 'SAN LORENZO',\n",
       "  'puntos_visita': '76',\n",
       "  'link_estadisticas': 'https://estadisticascabb.gesdeportiva.es/partido/2SdBKXAUeWy_L7bGN2OlkQ==?a=1'},\n",
       " 'OLIMPICO (LB) vs GIMNASIA (CR) (015/02/2025 11:30)': {'nombre_local': 'OLIMPICO (LB)',\n",
       "  'puntos_local': '82',\n",
       "  'nombre_visita': 'GIMNASIA (CR)',\n",
       "  'puntos_visita': '89',\n",
       "  'link_estadisticas': 'https://estadisticascabb.gesdeportiva.es/partido/rQKOSvu-WUHFFKZYtyRDVA==?a=1'},\n",
       " 'INDEPENDIENTE (O) vs REGATAS (C) (016/02/2025 21:00)': {'nombre_local': 'INDEPENDIENTE (O)',\n",
       "  'puntos_local': '87',\n",
       "  'nombre_visita': 'REGATAS (C)',\n",
       "  'puntos_visita': '75',\n",
       "  'link_estadisticas': 'https://estadisticascabb.gesdeportiva.es/partido/mcEyd9lZhJfYI9k-9o1yTQ==?a=1'},\n",
       " 'LA UNION FSA. vs SAN MARTIN (C) (016/02/2025 21:30)': {'nombre_local': 'LA UNION FSA.',\n",
       "  'puntos_local': '86',\n",
       "  'nombre_visita': 'SAN MARTIN (C)',\n",
       "  'puntos_visita': '81',\n",
       "  'link_estadisticas': 'https://estadisticascabb.gesdeportiva.es/partido/lIZwteInPqnGMcWbVaK9Kg==?a=1'},\n",
       " 'OBERA vs QUIMSA (016/02/2025 21:30)': {'nombre_local': 'OBERA',\n",
       "  'puntos_local': '87',\n",
       "  'nombre_visita': 'QUIMSA',\n",
       "  'puntos_visita': '75',\n",
       "  'link_estadisticas': 'https://estadisticascabb.gesdeportiva.es/partido/OKVW6VPS0q1NUk8sCwa6mg==?a=1'},\n",
       " 'INSTITUTO vs PLATENSE (026/02/2025 21:00)': {'nombre_local': 'INSTITUTO',\n",
       "  'puntos_local': '76',\n",
       "  'nombre_visita': 'PLATENSE',\n",
       "  'puntos_visita': '49',\n",
       "  'link_estadisticas': 'https://estadisticascabb.gesdeportiva.es/partido/luAtZ2E5klGdWtkVGyV0PQ==?a=1'},\n",
       " 'UNION (SF) vs ARGENTINO (J) (026/02/2025 21:00)': {'nombre_local': 'UNION (SF)',\n",
       "  'puntos_local': '86',\n",
       "  'nombre_visita': 'ARGENTINO (J)',\n",
       "  'puntos_visita': '83',\n",
       "  'link_estadisticas': 'https://estadisticascabb.gesdeportiva.es/partido/tAuNM6bG9ZIDRywMMeOcYQ==?a=1'},\n",
       " 'SAN MARTIN (C) vs QUIMSA (026/02/2025 21:30)': {'nombre_local': 'SAN MARTIN (C)',\n",
       "  'puntos_local': '87',\n",
       "  'nombre_visita': 'QUIMSA',\n",
       "  'puntos_visita': '68',\n",
       "  'link_estadisticas': 'https://estadisticascabb.gesdeportiva.es/partido/bzDHbodUm6-IRFJo9tGA7w==?a=1'},\n",
       " 'ZARATE BASKET vs OBRAS (027/02/2025 20:00)': {'nombre_local': 'ZARATE BASKET',\n",
       "  'puntos_local': '74',\n",
       "  'nombre_visita': 'OBRAS',\n",
       "  'puntos_visita': '70',\n",
       "  'link_estadisticas': 'https://estadisticascabb.gesdeportiva.es/partido/xesVIlPbSBAXmwUoGZO2kg==?a=1'},\n",
       " 'BOCA vs FERRO (027/02/2025 21:05)': {'nombre_local': 'BOCA',\n",
       "  'puntos_local': '80',\n",
       "  'nombre_visita': 'FERRO',\n",
       "  'puntos_visita': '77',\n",
       "  'link_estadisticas': 'https://estadisticascabb.gesdeportiva.es/partido/V7ErkWKnTulG7hJWJEjcfQ==?a=1'},\n",
       " 'SAN LORENZO vs UNION (SF) (028/02/2025 20:30)': {'nombre_local': 'SAN LORENZO',\n",
       "  'puntos_local': '80',\n",
       "  'nombre_visita': 'UNION (SF)',\n",
       "  'puntos_visita': '78',\n",
       "  'link_estadisticas': 'https://estadisticascabb.gesdeportiva.es/partido/QxyPalgp2d24QLhx0-ft1w==?a=1'},\n",
       " 'ATENAS (C) vs PLATENSE (028/02/2025 21:00)': {'nombre_local': 'ATENAS (C)',\n",
       "  'puntos_local': '79',\n",
       "  'nombre_visita': 'PLATENSE',\n",
       "  'puntos_visita': '65',\n",
       "  'link_estadisticas': 'https://estadisticascabb.gesdeportiva.es/partido/5aGFKR1rAnd88acWHQ-NPg==?a=1'},\n",
       " 'OBERA vs ARGENTINO (J) (028/02/2025 21:30)': {'nombre_local': 'OBERA',\n",
       "  'puntos_local': '94',\n",
       "  'nombre_visita': 'ARGENTINO (J)',\n",
       "  'puntos_visita': '48',\n",
       "  'link_estadisticas': 'https://estadisticascabb.gesdeportiva.es/partido/nOir_oyRzByBrlTb85Wo1A==?a=1'},\n",
       " 'REGATAS (C) vs QUIMSA (028/02/2025 21:30)': {'nombre_local': 'REGATAS (C)',\n",
       "  'puntos_local': '63',\n",
       "  'nombre_visita': 'QUIMSA',\n",
       "  'puntos_visita': '72',\n",
       "  'link_estadisticas': 'https://estadisticascabb.gesdeportiva.es/partido/gCbLsivHhcu4vzymu5_4qQ==?a=1'},\n",
       " 'INDEPENDIENTE (O) vs PLATENSE (002/03/2025 21:00)': {'nombre_local': 'INDEPENDIENTE (O)',\n",
       "  'puntos_local': '92',\n",
       "  'nombre_visita': 'PLATENSE',\n",
       "  'puntos_visita': '86',\n",
       "  'link_estadisticas': 'https://estadisticascabb.gesdeportiva.es/partido/N3AAo9JkKCGta0GFTXYUvg==?a=1'},\n",
       " 'LA UNION FSA. vs QUIMSA (002/03/2025 21:30)': {'nombre_local': 'LA UNION FSA.',\n",
       "  'puntos_local': '83',\n",
       "  'nombre_visita': 'QUIMSA',\n",
       "  'puntos_visita': '77',\n",
       "  'link_estadisticas': 'https://estadisticascabb.gesdeportiva.es/partido/BANKVVtciqNRulFmUpKkgw==?a=1'},\n",
       " 'SAN MARTIN (C) vs PEÑAROL (MDP) (005/03/2025 21:00)': {'nombre_local': 'SAN MARTIN (C)',\n",
       "  'puntos_local': '76',\n",
       "  'nombre_visita': 'PEÑAROL (MDP)',\n",
       "  'puntos_visita': '55',\n",
       "  'link_estadisticas': 'https://estadisticascabb.gesdeportiva.es/partido/OKMcO1e9my0_gB9CSrgQ1w==?a=1'},\n",
       " 'QUIMSA vs UNION (SF) (005/03/2025 21:30)': {'nombre_local': 'QUIMSA',\n",
       "  'puntos_local': '97',\n",
       "  'nombre_visita': 'UNION (SF)',\n",
       "  'puntos_visita': '84',\n",
       "  'link_estadisticas': 'https://estadisticascabb.gesdeportiva.es/partido/0lv3ARJJ7IFHdbb8q_nGLw==?a=1'},\n",
       " 'PLATENSE vs OBERA (006/03/2025 22:10)': {'nombre_local': 'PLATENSE',\n",
       "  'puntos_local': '73',\n",
       "  'nombre_visita': 'OBERA',\n",
       "  'puntos_visita': '67',\n",
       "  'link_estadisticas': 'https://estadisticascabb.gesdeportiva.es/partido/MtHn2UdZMFIpbtkTEdQzzA==?a=1'},\n",
       " 'REGATAS (C) vs PEÑAROL (MDP) (007/03/2025 21:05)': {'nombre_local': 'REGATAS (C)',\n",
       "  'puntos_local': '84',\n",
       "  'nombre_visita': 'PEÑAROL (MDP)',\n",
       "  'puntos_visita': '64',\n",
       "  'link_estadisticas': 'https://estadisticascabb.gesdeportiva.es/partido/9YQTHpfLdFjLvQF8AkmQFQ==?a=1'},\n",
       " 'OLIMPICO (LB) vs UNION (SF) (007/03/2025 22:00)': {'nombre_local': 'OLIMPICO (LB)',\n",
       "  'puntos_local': '87',\n",
       "  'nombre_visita': 'UNION (SF)',\n",
       "  'puntos_visita': '95',\n",
       "  'link_estadisticas': 'https://estadisticascabb.gesdeportiva.es/partido/CKuW5Pi_VPSV4O6qlhhAVg==?a=1'},\n",
       " 'GIMNASIA (CR) vs OBERA (008/03/2025 11:30)': {'nombre_local': 'GIMNASIA (CR)',\n",
       "  'puntos_local': '64',\n",
       "  'nombre_visita': 'OBERA',\n",
       "  'puntos_visita': '62',\n",
       "  'link_estadisticas': 'https://estadisticascabb.gesdeportiva.es/partido/CtOqLNuX3aEwX4BGJ8yVEg==?a=1'},\n",
       " 'RIACHUELO (LR) vs UNION (SF) (009/03/2025 21:00)': {'nombre_local': 'RIACHUELO (LR)',\n",
       "  'puntos_local': '92',\n",
       "  'nombre_visita': 'UNION (SF)',\n",
       "  'puntos_visita': '87',\n",
       "  'link_estadisticas': 'https://estadisticascabb.gesdeportiva.es/partido/_vuht2RwXIszEtRL9O8WmA==?a=1'},\n",
       " 'LA UNION FSA. vs PEÑAROL (MDP) (009/03/2025 21:30)': {'nombre_local': 'LA UNION FSA.',\n",
       "  'puntos_local': '73',\n",
       "  'nombre_visita': 'PEÑAROL (MDP)',\n",
       "  'puntos_visita': '91',\n",
       "  'link_estadisticas': 'https://estadisticascabb.gesdeportiva.es/partido/aJu-RC_D8LmrrVS3GLDUxw==?a=1'},\n",
       " 'ARGENTINO (J) vs OLIMPICO (LB) (010/03/2025 21:00)': {'nombre_local': 'ARGENTINO (J)',\n",
       "  'puntos_local': '78',\n",
       "  'nombre_visita': 'OLIMPICO (LB)',\n",
       "  'puntos_visita': '80',\n",
       "  'link_estadisticas': 'https://estadisticascabb.gesdeportiva.es/partido/_A_NKg1jQ1DGTCx4DWfycQ==?a=1'},\n",
       " 'SAN MARTIN (C) vs REGATAS (C) (011/03/2025 22:10)': {'nombre_local': 'SAN MARTIN (C)',\n",
       "  'puntos_local': '55',\n",
       "  'nombre_visita': 'REGATAS (C)',\n",
       "  'puntos_visita': '62',\n",
       "  'link_estadisticas': 'https://estadisticascabb.gesdeportiva.es/partido/OoLjgJNstN0lA1H6DCO2KQ==?a=1'},\n",
       " 'PEÑAROL (MDP) vs OLIMPICO (LB) (012/03/2025 21:00)': {'nombre_local': 'PEÑAROL (MDP)',\n",
       "  'puntos_local': '90',\n",
       "  'nombre_visita': 'OLIMPICO (LB)',\n",
       "  'puntos_visita': '58',\n",
       "  'link_estadisticas': 'https://estadisticascabb.gesdeportiva.es/partido/QjmazWvM2ARGtQSrLPw2Jg==?a=1'},\n",
       " 'FERRO vs ZARATE BASKET (012/03/2025 21:00)': {'nombre_local': 'FERRO',\n",
       "  'puntos_local': '72',\n",
       "  'nombre_visita': 'ZARATE BASKET',\n",
       "  'puntos_visita': '64',\n",
       "  'link_estadisticas': 'https://estadisticascabb.gesdeportiva.es/partido/Gpsjb8Xg2oc4tDYBqikyrw==?a=1'},\n",
       " 'OBRAS vs LA UNION FSA. (013/03/2025 20:00)': {'nombre_local': 'OBRAS',\n",
       "  'puntos_local': '85',\n",
       "  'nombre_visita': 'LA UNION FSA.',\n",
       "  'puntos_visita': '77',\n",
       "  'link_estadisticas': 'https://estadisticascabb.gesdeportiva.es/partido/arubR6FDPoRytJP0rjZivg==?a=1'},\n",
       " 'ARGENTINO (J) vs ZARATE BASKET (014/03/2025 21:00)': {'nombre_local': 'ARGENTINO (J)',\n",
       "  'puntos_local': '81',\n",
       "  'nombre_visita': 'ZARATE BASKET',\n",
       "  'puntos_visita': '73',\n",
       "  'link_estadisticas': 'https://estadisticascabb.gesdeportiva.es/partido/ndIKkPMoSbFxRIb8tseFEw==?a=1'},\n",
       " 'OBERA vs SAN MARTIN (C) (014/03/2025 21:30)': {'nombre_local': 'OBERA',\n",
       "  'puntos_local': '74',\n",
       "  'nombre_visita': 'SAN MARTIN (C)',\n",
       "  'puntos_visita': '70',\n",
       "  'link_estadisticas': 'https://estadisticascabb.gesdeportiva.es/partido/YMA_l6-FLJaLDUl8maTNqg==?a=1'},\n",
       " 'RIACHUELO (LR) vs SAN LORENZO (014/03/2025 22:00)': {'nombre_local': 'RIACHUELO (LR)',\n",
       "  'puntos_local': '90',\n",
       "  'nombre_visita': 'SAN LORENZO',\n",
       "  'puntos_visita': '77',\n",
       "  'link_estadisticas': 'https://estadisticascabb.gesdeportiva.es/partido/tY75j8yOeO_lhtLReXAsmQ==?a=1'},\n",
       " 'GIMNASIA (CR) vs LA UNION FSA. (015/03/2025 20:30)': {'nombre_local': 'GIMNASIA (CR)',\n",
       "  'puntos_local': '86',\n",
       "  'nombre_visita': 'LA UNION FSA.',\n",
       "  'puntos_visita': '79',\n",
       "  'link_estadisticas': 'https://estadisticascabb.gesdeportiva.es/partido/E9g1dXUNSnjBS11UzYPDFg==?a=1'},\n",
       " 'UNION (SF) vs SAN MARTIN (C) (016/03/2025 21:35)': {'nombre_local': 'UNION (SF)',\n",
       "  'puntos_local': '79',\n",
       "  'nombre_visita': 'SAN MARTIN (C)',\n",
       "  'puntos_visita': '74',\n",
       "  'link_estadisticas': 'https://estadisticascabb.gesdeportiva.es/partido/TkW5vo52ovkptwDEB2dgjg==?a=1'},\n",
       " 'OLIMPICO (LB) vs SAN LORENZO (016/03/2025 22:00)': {'nombre_local': 'OLIMPICO (LB)',\n",
       "  'puntos_local': '95',\n",
       "  'nombre_visita': 'SAN LORENZO',\n",
       "  'puntos_visita': '72',\n",
       "  'link_estadisticas': 'https://estadisticascabb.gesdeportiva.es/partido/xB6EdO_V3crpNwGucikx8Q==?a=1'},\n",
       " 'ZARATE BASKET vs LA UNION FSA. (017/03/2025 21:00)': {'nombre_local': 'ZARATE BASKET',\n",
       "  'puntos_local': '70',\n",
       "  'nombre_visita': 'LA UNION FSA.',\n",
       "  'puntos_visita': '78',\n",
       "  'link_estadisticas': 'https://estadisticascabb.gesdeportiva.es/partido/IeZfqlUT2xnlYQpwmiTG0w==?a=1'},\n",
       " 'INSTITUTO vs INDEPENDIENTE (O) (018/03/2025 21:00)': {'nombre_local': 'INSTITUTO',\n",
       "  'puntos_local': '96',\n",
       "  'nombre_visita': 'INDEPENDIENTE (O)',\n",
       "  'puntos_visita': '101',\n",
       "  'link_estadisticas': 'https://estadisticascabb.gesdeportiva.es/partido/UC_B2qriF071MGDm1H4qiw==?a=1'},\n",
       " 'REGATAS (C) vs PLATENSE (018/03/2025 21:30)': {'nombre_local': 'REGATAS (C)',\n",
       "  'puntos_local': '94',\n",
       "  'nombre_visita': 'PLATENSE',\n",
       "  'puntos_visita': '61',\n",
       "  'link_estadisticas': 'https://estadisticascabb.gesdeportiva.es/partido/rDa8ZBkdHpR5iDh6ATzSJA==?a=1'},\n",
       " 'QUIMSA vs SAN LORENZO (018/03/2025 22:00)': {'nombre_local': 'QUIMSA',\n",
       "  'puntos_local': '96',\n",
       "  'nombre_visita': 'SAN LORENZO',\n",
       "  'puntos_visita': '79',\n",
       "  'link_estadisticas': 'https://estadisticascabb.gesdeportiva.es/partido/HTnxDoQox5QdS6YN1ls2Zg==?a=1'},\n",
       " 'OBRAS vs BOCA (019/03/2025 20:00)': {'nombre_local': 'OBRAS',\n",
       "  'puntos_local': '92',\n",
       "  'nombre_visita': 'BOCA',\n",
       "  'puntos_visita': '90',\n",
       "  'link_estadisticas': 'https://estadisticascabb.gesdeportiva.es/partido/gl6vSlis6ct5uyX75skWaA==?a=1'},\n",
       " 'UNION (SF) vs GIMNASIA (CR) (019/03/2025 21:00)': {'nombre_local': 'UNION (SF)',\n",
       "  'puntos_local': '88',\n",
       "  'nombre_visita': 'GIMNASIA (CR)',\n",
       "  'puntos_visita': '89',\n",
       "  'link_estadisticas': 'https://estadisticascabb.gesdeportiva.es/partido/eEOwWzjkhcWQhafFB11Elg==?a=1'},\n",
       " 'INSTITUTO vs ATENAS (C) (020/03/2025 21:00)': {'nombre_local': 'INSTITUTO',\n",
       "  'puntos_local': '84',\n",
       "  'nombre_visita': 'ATENAS (C)',\n",
       "  'puntos_visita': '73',\n",
       "  'link_estadisticas': 'https://estadisticascabb.gesdeportiva.es/partido/64HUEtUL8flzlfsa2OKpCg==?a=1'},\n",
       " 'SAN MARTIN (C) vs PLATENSE (020/03/2025 21:30)': {'nombre_local': 'SAN MARTIN (C)',\n",
       "  'puntos_local': '75',\n",
       "  'nombre_visita': 'PLATENSE',\n",
       "  'puntos_visita': '66',\n",
       "  'link_estadisticas': 'https://estadisticascabb.gesdeportiva.es/partido/PJH-TSn75eFNZXPStTUMsA==?a=1'},\n",
       " 'PEÑAROL (MDP) vs BOCA (021/03/2025 19:05)': {'nombre_local': 'PEÑAROL (MDP)',\n",
       "  'puntos_local': '64',\n",
       "  'nombre_visita': 'BOCA',\n",
       "  'puntos_visita': '72',\n",
       "  'link_estadisticas': 'https://estadisticascabb.gesdeportiva.es/partido/VnqG03-rqgkQNMd93Yk_zA==?a=1'},\n",
       " 'INDEPENDIENTE (O) vs GIMNASIA (CR) (021/03/2025 21:30)': {'nombre_local': 'INDEPENDIENTE (O)',\n",
       "  'puntos_local': '79',\n",
       "  'nombre_visita': 'GIMNASIA (CR)',\n",
       "  'puntos_visita': '84',\n",
       "  'link_estadisticas': 'https://estadisticascabb.gesdeportiva.es/partido/g-WK7zQvf7HNc13xMH5cgQ==?a=1'},\n",
       " 'RIACHUELO (LR) vs OBERA (021/03/2025 22:00)': {'nombre_local': 'RIACHUELO (LR)',\n",
       "  'puntos_local': '91',\n",
       "  'nombre_visita': 'OBERA',\n",
       "  'puntos_visita': '58',\n",
       "  'link_estadisticas': 'https://estadisticascabb.gesdeportiva.es/partido/WaRR1vffPVlV3b6d0MWffQ==?a=1'},\n",
       " 'LA UNION FSA. vs PLATENSE (022/03/2025 11:00)': {'nombre_local': 'LA UNION FSA.',\n",
       "  'puntos_local': '82',\n",
       "  'nombre_visita': 'PLATENSE',\n",
       "  'puntos_visita': '88',\n",
       "  'link_estadisticas': 'https://estadisticascabb.gesdeportiva.es/partido/XKp9ErhghNTNSzkK7ye84w==?a=1'},\n",
       " 'ZARATE BASKET vs GIMNASIA (CR) (023/03/2025 20:00)': {'nombre_local': 'ZARATE BASKET',\n",
       "  'puntos_local': '86',\n",
       "  'nombre_visita': 'GIMNASIA (CR)',\n",
       "  'puntos_visita': '109',\n",
       "  'link_estadisticas': 'https://estadisticascabb.gesdeportiva.es/partido/BGwmrmRX6kDwev_0lk2BxQ==?a=1'},\n",
       " 'ATENAS (C) vs UNION (SF) (023/03/2025 21:00)': {'nombre_local': 'ATENAS (C)',\n",
       "  'puntos_local': '85',\n",
       "  'nombre_visita': 'UNION (SF)',\n",
       "  'puntos_visita': '75',\n",
       "  'link_estadisticas': 'https://estadisticascabb.gesdeportiva.es/partido/T_lJC0FMtPDJ-GoAbB_VtA==?a=1'},\n",
       " 'QUIMSA vs OBERA (023/03/2025 21:30)': {'nombre_local': 'QUIMSA',\n",
       "  'puntos_local': '84',\n",
       "  'nombre_visita': 'OBERA',\n",
       "  'puntos_visita': '85',\n",
       "  'link_estadisticas': 'https://estadisticascabb.gesdeportiva.es/partido/BrAgV84s1FPBy8chY1Y0HA==?a=1'},\n",
       " 'INDEPENDIENTE (O) vs UNION (SF) (025/03/2025 21:00)': {'nombre_local': 'INDEPENDIENTE (O)',\n",
       "  'puntos_local': '100',\n",
       "  'nombre_visita': 'UNION (SF)',\n",
       "  'puntos_visita': '105',\n",
       "  'link_estadisticas': 'https://estadisticascabb.gesdeportiva.es/partido/wKGVN-VcTYWlAG9tEeWWKA==?a=1'},\n",
       " 'OLIMPICO (LB) vs OBERA (025/03/2025 22:00)': {'nombre_local': 'OLIMPICO (LB)',\n",
       "  'puntos_local': '82',\n",
       "  'nombre_visita': 'OBERA',\n",
       "  'puntos_visita': '79',\n",
       "  'link_estadisticas': 'https://estadisticascabb.gesdeportiva.es/partido/_pUI43qiaDITFy7ga3TZqQ==?a=1'},\n",
       " 'BOCA vs QUIMSA (026/03/2025 20:05)': {'nombre_local': 'BOCA',\n",
       "  'puntos_local': '72',\n",
       "  'nombre_visita': 'QUIMSA',\n",
       "  'puntos_visita': '76',\n",
       "  'link_estadisticas': 'https://estadisticascabb.gesdeportiva.es/partido/GnukWJXx7zcNSB6-RVmroQ==?a=1'},\n",
       " 'PLATENSE vs OBRAS (026/03/2025 20:30)': {'nombre_local': 'PLATENSE',\n",
       "  'puntos_local': '90',\n",
       "  'nombre_visita': 'OBRAS',\n",
       "  'puntos_visita': '82',\n",
       "  'link_estadisticas': 'https://estadisticascabb.gesdeportiva.es/partido/nNHMWBzYeO4rWRsLPUAblA==?a=1'},\n",
       " 'INSTITUTO vs UNION (SF) (027/03/2025 21:00)': {'nombre_local': 'INSTITUTO',\n",
       "  'puntos_local': '104',\n",
       "  'nombre_visita': 'UNION (SF)',\n",
       "  'puntos_visita': '93',\n",
       "  'link_estadisticas': 'https://estadisticascabb.gesdeportiva.es/partido/uhVwhG5Lj7qQvGBM-OLgUw==?a=1'},\n",
       " 'REGATAS (C) vs FERRO (027/03/2025 21:30)': {'nombre_local': 'REGATAS (C)',\n",
       "  'puntos_local': '84',\n",
       "  'nombre_visita': 'FERRO',\n",
       "  'puntos_visita': '80',\n",
       "  'link_estadisticas': 'https://estadisticascabb.gesdeportiva.es/partido/LbTA6sE-AhhyFuh3h69VLA==?a=1'},\n",
       " 'PEÑAROL (MDP) vs QUIMSA (028/03/2025 21:00)': {'nombre_local': 'PEÑAROL (MDP)',\n",
       "  'puntos_local': '63',\n",
       "  'nombre_visita': 'QUIMSA',\n",
       "  'puntos_visita': '81',\n",
       "  'link_estadisticas': 'https://estadisticascabb.gesdeportiva.es/partido/zqeb6P80Qbm7ycXVGFZ3jg==?a=1'},\n",
       " 'BOCA vs RIACHUELO (LR) (028/03/2025 22:10)': {'nombre_local': 'BOCA',\n",
       "  'puntos_local': '84',\n",
       "  'nombre_visita': 'RIACHUELO (LR)',\n",
       "  'puntos_visita': '77',\n",
       "  'link_estadisticas': 'https://estadisticascabb.gesdeportiva.es/partido/OfA4W60vyb8MqhQ-JpV0zQ==?a=1'},\n",
       " 'OBERA vs ZARATE BASKET (029/03/2025 21:00)': {'nombre_local': 'OBERA',\n",
       "  'puntos_local': '75',\n",
       "  'nombre_visita': 'ZARATE BASKET',\n",
       "  'puntos_visita': '66',\n",
       "  'link_estadisticas': 'https://estadisticascabb.gesdeportiva.es/partido/jioi-OUxRs5tBKpQ4b7aDA==?a=1'},\n",
       " 'LA UNION FSA. vs FERRO (029/03/2025 21:30)': {'nombre_local': 'LA UNION FSA.',\n",
       "  'puntos_local': '99',\n",
       "  'nombre_visita': 'FERRO',\n",
       "  'puntos_visita': '86',\n",
       "  'link_estadisticas': 'https://estadisticascabb.gesdeportiva.es/partido/ikQHUGBgzIOADWfpevK9ww==?a=1'},\n",
       " 'PLATENSE vs QUIMSA (030/03/2025 20:30)': {'nombre_local': 'PLATENSE',\n",
       "  'puntos_local': '82',\n",
       "  'nombre_visita': 'QUIMSA',\n",
       "  'puntos_visita': '106',\n",
       "  'link_estadisticas': 'https://estadisticascabb.gesdeportiva.es/partido/lO7lGFe6fZkESibBokgkxw==?a=1'},\n",
       " 'ARGENTINO (J) vs RIACHUELO (LR) (030/03/2025 21:00)': {'nombre_local': 'ARGENTINO (J)',\n",
       "  'puntos_local': '69',\n",
       "  'nombre_visita': 'RIACHUELO (LR)',\n",
       "  'puntos_visita': '86',\n",
       "  'link_estadisticas': 'https://estadisticascabb.gesdeportiva.es/partido/mv1v8ifbp8O630WDrYwZGg==?a=1'},\n",
       " 'OBRAS vs ATENAS (C) (031/03/2025 20:30)': {'nombre_local': 'OBRAS',\n",
       "  'puntos_local': '76',\n",
       "  'nombre_visita': 'ATENAS (C)',\n",
       "  'puntos_visita': '83',\n",
       "  'link_estadisticas': 'https://estadisticascabb.gesdeportiva.es/partido/u4zIMs2ebPrM1bnsxxEFfA==?a=1'},\n",
       " 'UNION (SF) vs REGATAS (C) (031/03/2025 21:00)': {'nombre_local': 'UNION (SF)',\n",
       "  'puntos_local': '84',\n",
       "  'nombre_visita': 'REGATAS (C)',\n",
       "  'puntos_visita': '76',\n",
       "  'link_estadisticas': 'https://estadisticascabb.gesdeportiva.es/partido/HHSZRpvPE-ne_km1dSGaPA==?a=1'},\n",
       " 'SAN MARTIN (C) vs FERRO (031/03/2025 21:30)': {'nombre_local': 'SAN MARTIN (C)',\n",
       "  'puntos_local': '81',\n",
       "  'nombre_visita': 'FERRO',\n",
       "  'puntos_visita': '71',\n",
       "  'link_estadisticas': 'https://estadisticascabb.gesdeportiva.es/partido/FD4HwJk_hrJ_t8sEykNcOA==?a=1'},\n",
       " 'PLATENSE vs RIACHUELO (LR) (001/04/2025 20:30)': {'nombre_local': 'PLATENSE',\n",
       "  'puntos_local': '65',\n",
       "  'nombre_visita': 'RIACHUELO (LR)',\n",
       "  'puntos_visita': '70',\n",
       "  'link_estadisticas': 'https://estadisticascabb.gesdeportiva.es/partido/3eyM6GXrtmDMWVwRv68-dg==?a=1'},\n",
       " 'ZARATE BASKET vs BOCA (001/04/2025 21:00)': {'nombre_local': 'ZARATE BASKET',\n",
       "  'puntos_local': '72',\n",
       "  'nombre_visita': 'BOCA',\n",
       "  'puntos_visita': '73',\n",
       "  'link_estadisticas': 'https://estadisticascabb.gesdeportiva.es/partido/3xkEd5K6vBv4MsLQ-m_fiQ==?a=1'},\n",
       " 'GIMNASIA (CR) vs PEÑAROL (MDP) (001/04/2025 21:30)': {'nombre_local': 'GIMNASIA (CR)',\n",
       "  'puntos_local': '88',\n",
       "  'nombre_visita': 'PEÑAROL (MDP)',\n",
       "  'puntos_visita': '86',\n",
       "  'link_estadisticas': 'https://estadisticascabb.gesdeportiva.es/partido/wvDVbXWbJ5jAgORPkMJEhg==?a=1'},\n",
       " 'ARGENTINO (J) vs ATENAS (C) (002/04/2025 21:00)': {'nombre_local': 'ARGENTINO (J)',\n",
       "  'puntos_local': '66',\n",
       "  'nombre_visita': 'ATENAS (C)',\n",
       "  'puntos_visita': '91',\n",
       "  'link_estadisticas': 'https://estadisticascabb.gesdeportiva.es/partido/vqKU_W4WQE-ZQByJ19IMcQ==?a=1'},\n",
       " 'OBERA vs REGATAS (C) (002/04/2025 21:30)': {'nombre_local': 'OBERA',\n",
       "  'puntos_local': '69',\n",
       "  'nombre_visita': 'REGATAS (C)',\n",
       "  'puntos_visita': '62',\n",
       "  'link_estadisticas': 'https://estadisticascabb.gesdeportiva.es/partido/kL5NZWuLCDjlSdC8Hk5u-A==?a=1'},\n",
       " 'OBRAS vs PEÑAROL (MDP) (003/04/2025 20:05)': {'nombre_local': 'OBRAS',\n",
       "  'puntos_local': '85',\n",
       "  'nombre_visita': 'PEÑAROL (MDP)',\n",
       "  'puntos_visita': '93',\n",
       "  'link_estadisticas': 'https://estadisticascabb.gesdeportiva.es/partido/7WzFpxK2wp1MkOChj9oNvw==?a=1'},\n",
       " 'ZARATE BASKET vs SAN MARTIN (C) (003/04/2025 21:00)': {'nombre_local': 'ZARATE BASKET',\n",
       "  'puntos_local': '72',\n",
       "  'nombre_visita': 'SAN MARTIN (C)',\n",
       "  'puntos_visita': '84',\n",
       "  'link_estadisticas': 'https://estadisticascabb.gesdeportiva.es/partido/s3tCHhneuFQq9h0dQYpB_A==?a=1'},\n",
       " 'BOCA vs ATENAS (C) (004/04/2025 22:10)': {'nombre_local': 'BOCA',\n",
       "  'puntos_local': '82',\n",
       "  'nombre_visita': 'ATENAS (C)',\n",
       "  'puntos_visita': '57',\n",
       "  'link_estadisticas': 'https://estadisticascabb.gesdeportiva.es/partido/qB5pFBQMqo3oSfqJC4KglQ==?a=1'},\n",
       " 'SAN LORENZO vs PEÑAROL (MDP) (005/04/2025 11:30)': {'nombre_local': 'SAN LORENZO',\n",
       "  'puntos_local': '76',\n",
       "  'nombre_visita': 'PEÑAROL (MDP)',\n",
       "  'puntos_visita': '63',\n",
       "  'link_estadisticas': 'https://estadisticascabb.gesdeportiva.es/partido/a9p_X_DTziBK79iFMxnrnQ==?a=1'},\n",
       " 'FERRO vs INSTITUTO (005/04/2025 20:30)': {'nombre_local': 'FERRO',\n",
       "  'puntos_local': '78',\n",
       "  'nombre_visita': 'INSTITUTO',\n",
       "  'puntos_visita': '88',\n",
       "  'link_estadisticas': 'https://estadisticascabb.gesdeportiva.es/partido/tRWeHIQSC8ZZE-gfnT-8og==?a=1'},\n",
       " 'GIMNASIA (CR) vs SAN MARTIN (C) (005/04/2025 21:00)': {'nombre_local': 'GIMNASIA (CR)',\n",
       "  'puntos_local': '74',\n",
       "  'nombre_visita': 'SAN MARTIN (C)',\n",
       "  'puntos_visita': '72',\n",
       "  'link_estadisticas': 'https://estadisticascabb.gesdeportiva.es/partido/L0QIvgfudvmqzldveZKQPg==?a=1'},\n",
       " 'QUIMSA vs OLIMPICO (LB) (006/04/2025 21:30)': {'nombre_local': 'QUIMSA',\n",
       "  'puntos_local': '95',\n",
       "  'nombre_visita': 'OLIMPICO (LB)',\n",
       "  'puntos_visita': '72',\n",
       "  'link_estadisticas': 'https://estadisticascabb.gesdeportiva.es/partido/nKSkXyOSfhdKhihhRx97tw==?a=1'},\n",
       " 'OBRAS vs SAN MARTIN (C) (007/04/2025 20:30)': {'nombre_local': 'OBRAS',\n",
       "  'puntos_local': '96',\n",
       "  'nombre_visita': 'SAN MARTIN (C)',\n",
       "  'puntos_visita': '99',\n",
       "  'link_estadisticas': 'https://estadisticascabb.gesdeportiva.es/partido/HxrOo31U2AEcrzSr1S4ktw==?a=1'},\n",
       " 'SAN LORENZO vs INSTITUTO (007/04/2025 21:00)': {'nombre_local': 'SAN LORENZO',\n",
       "  'puntos_local': '72',\n",
       "  'nombre_visita': 'INSTITUTO',\n",
       "  'puntos_visita': '87',\n",
       "  'link_estadisticas': 'https://estadisticascabb.gesdeportiva.es/partido/wgEPWAlYlRCtdna9zum9bw==?a=1'},\n",
       " 'RIACHUELO (LR) vs INDEPENDIENTE (O) (007/04/2025 21:30)': {'nombre_local': 'RIACHUELO (LR)',\n",
       "  'puntos_local': '88',\n",
       "  'nombre_visita': 'INDEPENDIENTE (O)',\n",
       "  'puntos_visita': '95',\n",
       "  'link_estadisticas': 'https://estadisticascabb.gesdeportiva.es/partido/HqX05DYz3smO6tZ3HfKK_w==?a=1'},\n",
       " 'ZARATE BASKET vs OLIMPICO (LB) (008/04/2025 20:30)': {'nombre_local': 'ZARATE BASKET',\n",
       "  'puntos_local': '60',\n",
       "  'nombre_visita': 'OLIMPICO (LB)',\n",
       "  'puntos_visita': '92',\n",
       "  'link_estadisticas': 'https://estadisticascabb.gesdeportiva.es/partido/RA6kvFD2hk4IVjltCCqTpQ==?a=1'},\n",
       " 'BOCA vs OBERA (008/04/2025 21:30)': {'nombre_local': 'BOCA',\n",
       "  'puntos_local': '87',\n",
       "  'nombre_visita': 'OBERA',\n",
       "  'puntos_visita': '77',\n",
       "  'link_estadisticas': 'https://estadisticascabb.gesdeportiva.es/partido/IacTwWwwDAoD0bgHBoGSWQ==?a=1'},\n",
       " 'PEÑAROL (MDP) vs INSTITUTO (009/04/2025 21:00)': {'nombre_local': 'PEÑAROL (MDP)',\n",
       "  'puntos_local': '89',\n",
       "  'nombre_visita': 'INSTITUTO',\n",
       "  'puntos_visita': '71',\n",
       "  'link_estadisticas': 'https://estadisticascabb.gesdeportiva.es/partido/7y_OXDn5sZl3AucridlnJg==?a=1'},\n",
       " 'UNION (SF) vs FERRO (009/04/2025 21:30)': {'nombre_local': 'UNION (SF)',\n",
       "  'puntos_local': '85',\n",
       "  'nombre_visita': 'FERRO',\n",
       "  'puntos_visita': '89',\n",
       "  'link_estadisticas': 'https://estadisticascabb.gesdeportiva.es/partido/8i_msqpKb0DKifByCRwwug==?a=1'},\n",
       " 'QUIMSA vs INDEPENDIENTE (O) (009/04/2025 22:00)': {'nombre_local': 'QUIMSA',\n",
       "  'puntos_local': '107',\n",
       "  'nombre_visita': 'INDEPENDIENTE (O)',\n",
       "  'puntos_visita': '99',\n",
       "  'link_estadisticas': 'https://estadisticascabb.gesdeportiva.es/partido/JuTcgwqgHbWijqZ4AYHeug==?a=1'},\n",
       " 'SAN LORENZO vs OBERA (010/04/2025 20:05)': {'nombre_local': 'SAN LORENZO',\n",
       "  'puntos_local': '85',\n",
       "  'nombre_visita': 'OBERA',\n",
       "  'puntos_visita': '86',\n",
       "  'link_estadisticas': 'https://estadisticascabb.gesdeportiva.es/partido/mennQ14okBy17FirqN_3SQ==?a=1'},\n",
       " 'SAN MARTIN (C) vs RIACHUELO (LR) (011/04/2025 21:30)': {'nombre_local': 'SAN MARTIN (C)',\n",
       "  'puntos_local': '74',\n",
       "  'nombre_visita': 'RIACHUELO (LR)',\n",
       "  'puntos_visita': '68',\n",
       "  'link_estadisticas': 'https://estadisticascabb.gesdeportiva.es/partido/dE45M4WkYs8e2ko57b6tXA==?a=1'},\n",
       " 'OLIMPICO (LB) vs INDEPENDIENTE (O) (011/04/2025 22:00)': {'nombre_local': 'OLIMPICO (LB)',\n",
       "  'puntos_local': '97',\n",
       "  'nombre_visita': 'INDEPENDIENTE (O)',\n",
       "  'puntos_visita': '102',\n",
       "  'link_estadisticas': 'https://estadisticascabb.gesdeportiva.es/partido/e6Rv1JbuyJdvE0BS0ZeO4g==?a=1'},\n",
       " 'FERRO vs PLATENSE (012/04/2025 11:00)': {'nombre_local': 'FERRO',\n",
       "  'puntos_local': '92',\n",
       "  'nombre_visita': 'PLATENSE',\n",
       "  'puntos_visita': '82',\n",
       "  'link_estadisticas': 'https://estadisticascabb.gesdeportiva.es/partido/Hnpe3kiDz70OD_vmgdUrzw==?a=1'},\n",
       " 'INSTITUTO vs ZARATE BASKET (013/04/2025 11:00)': {'nombre_local': 'INSTITUTO',\n",
       "  'puntos_local': '92',\n",
       "  'nombre_visita': 'ZARATE BASKET',\n",
       "  'puntos_visita': '69',\n",
       "  'link_estadisticas': 'https://estadisticascabb.gesdeportiva.es/partido/FFIA68hnmO07FE_ndMZKRQ==?a=1'},\n",
       " 'OBERA vs UNION (SF) (013/04/2025 20:00)': {'nombre_local': 'OBERA',\n",
       "  'puntos_local': '96',\n",
       "  'nombre_visita': 'UNION (SF)',\n",
       "  'puntos_visita': '80',\n",
       "  'link_estadisticas': 'https://estadisticascabb.gesdeportiva.es/partido/S-pP00tAkBU1z9WT-9i1Aw==?a=1'},\n",
       " 'REGATAS (C) vs RIACHUELO (LR) (013/04/2025 21:00)': {'nombre_local': 'REGATAS (C)',\n",
       "  'puntos_local': '81',\n",
       "  'nombre_visita': 'RIACHUELO (LR)',\n",
       "  'puntos_visita': '77',\n",
       "  'link_estadisticas': 'https://estadisticascabb.gesdeportiva.es/partido/3I5kIf6Geb8DVCxh5qHvow==?a=1'},\n",
       " 'SAN MARTIN (C) vs SAN LORENZO (014/04/2025 21:30)': {'nombre_local': 'SAN MARTIN (C)',\n",
       "  'puntos_local': '64',\n",
       "  'nombre_visita': 'SAN LORENZO',\n",
       "  'puntos_visita': '73',\n",
       "  'link_estadisticas': 'https://estadisticascabb.gesdeportiva.es/partido/qi0GweZRjHNa2NPs8I4Okg==?a=1'},\n",
       " 'OLIMPICO (LB) vs OBRAS (014/04/2025 22:00)': {'nombre_local': 'OLIMPICO (LB)',\n",
       "  'puntos_local': '79',\n",
       "  'nombre_visita': 'OBRAS',\n",
       "  'puntos_visita': '81',\n",
       "  'link_estadisticas': 'https://estadisticascabb.gesdeportiva.es/partido/cCO4ZCcFV5baXIg_w5DbWw==?a=1'},\n",
       " 'LA UNION FSA. vs RIACHUELO (LR) (015/04/2025 20:30)': {'nombre_local': 'LA UNION FSA.',\n",
       "  'puntos_local': '69',\n",
       "  'nombre_visita': 'RIACHUELO (LR)',\n",
       "  'puntos_visita': '78',\n",
       "  'link_estadisticas': 'https://estadisticascabb.gesdeportiva.es/partido/yW5bvs-E_8PpCMVwNxr5-Q==?a=1'},\n",
       " 'INDEPENDIENTE (O) vs ZARATE BASKET (015/04/2025 21:00)': {'nombre_local': 'INDEPENDIENTE (O)',\n",
       "  'puntos_local': '95',\n",
       "  'nombre_visita': 'ZARATE BASKET',\n",
       "  'puntos_visita': '106',\n",
       "  'link_estadisticas': 'https://estadisticascabb.gesdeportiva.es/partido/C9_4twSkeTaYyBDeHT2ukA==?a=1'},\n",
       " 'GIMNASIA (CR) vs ARGENTINO (J) (016/04/2025 21:00)': {'nombre_local': 'GIMNASIA (CR)',\n",
       "  'puntos_local': '113',\n",
       "  'nombre_visita': 'ARGENTINO (J)',\n",
       "  'puntos_visita': '74',\n",
       "  'link_estadisticas': 'https://estadisticascabb.gesdeportiva.es/partido/HU25fmO6Ol0thqnFmPgr8Q==?a=1'},\n",
       " 'REGATAS (C) vs SAN LORENZO (016/04/2025 21:30)': {'nombre_local': 'REGATAS (C)',\n",
       "  'puntos_local': '88',\n",
       "  'nombre_visita': 'SAN LORENZO',\n",
       "  'puntos_visita': '78',\n",
       "  'link_estadisticas': 'https://estadisticascabb.gesdeportiva.es/partido/b8PREW-ox5B5z-TO9Ekz3w==?a=1'},\n",
       " 'QUIMSA vs OBRAS (016/04/2025 22:00)': {'nombre_local': 'QUIMSA',\n",
       "  'puntos_local': '96',\n",
       "  'nombre_visita': 'OBRAS',\n",
       "  'puntos_visita': '72',\n",
       "  'link_estadisticas': 'https://estadisticascabb.gesdeportiva.es/partido/CuNLC7d5L48r3-Yh_9eATA==?a=1'},\n",
       " 'ATENAS (C) vs ZARATE BASKET (017/04/2025 21:30)': {'nombre_local': 'ATENAS (C)',\n",
       "  'puntos_local': '94',\n",
       "  'nombre_visita': 'ZARATE BASKET',\n",
       "  'puntos_visita': '96',\n",
       "  'link_estadisticas': 'https://estadisticascabb.gesdeportiva.es/partido/LaSj9kRHrKKVvQEGxM3BJw==?a=1'},\n",
       " 'RIACHUELO (LR) vs OBRAS (018/04/2025 21:00)': {'nombre_local': 'RIACHUELO (LR)',\n",
       "  'puntos_local': '63',\n",
       "  'nombre_visita': 'OBRAS',\n",
       "  'puntos_visita': '90',\n",
       "  'link_estadisticas': 'https://estadisticascabb.gesdeportiva.es/partido/YA0rGqV5y004-g0hJuivFg==?a=1'},\n",
       " 'LA UNION FSA. vs SAN LORENZO (018/04/2025 21:30)': {'nombre_local': 'LA UNION FSA.',\n",
       "  'puntos_local': '78',\n",
       "  'nombre_visita': 'SAN LORENZO',\n",
       "  'puntos_visita': '85',\n",
       "  'link_estadisticas': 'https://estadisticascabb.gesdeportiva.es/partido/3V2fGKHk-0KORuv-RXTlxg==?a=1'},\n",
       " 'FERRO vs ARGENTINO (J) (018/04/2025 22:10)': {'nombre_local': 'FERRO',\n",
       "  'puntos_local': '90',\n",
       "  'nombre_visita': 'ARGENTINO (J)',\n",
       "  'puntos_visita': '67',\n",
       "  'link_estadisticas': 'https://estadisticascabb.gesdeportiva.es/partido/fhxWF-jSy29Qzo7OnmSB-Q==?a=1'},\n",
       " 'PLATENSE vs GIMNASIA (CR) (019/04/2025 11:30)': {'nombre_local': 'PLATENSE',\n",
       "  'puntos_local': '88',\n",
       "  'nombre_visita': 'GIMNASIA (CR)',\n",
       "  'puntos_visita': '94',\n",
       "  'link_estadisticas': 'https://estadisticascabb.gesdeportiva.es/partido/oibFxVZrtI726OXC7HboUw==?a=1'},\n",
       " 'INDEPENDIENTE (O) vs SAN MARTIN (C) (019/04/2025 20:00)': {'nombre_local': 'INDEPENDIENTE (O)',\n",
       "  'puntos_local': '93',\n",
       "  'nombre_visita': 'SAN MARTIN (C)',\n",
       "  'puntos_visita': '80',\n",
       "  'link_estadisticas': 'https://estadisticascabb.gesdeportiva.es/partido/lMYay0LbQ9u5uYu7ImUwQw==?a=1'},\n",
       " 'FERRO vs QUIMSA (021/04/2025 16:00)': {'nombre_local': 'FERRO',\n",
       "  'puntos_local': '77',\n",
       "  'nombre_visita': 'QUIMSA',\n",
       "  'puntos_visita': '93',\n",
       "  'link_estadisticas': 'https://estadisticascabb.gesdeportiva.es/partido/TsTCofUwJ_zhfK4onOvWmw==?a=1'},\n",
       " 'OBRAS vs GIMNASIA (CR) (021/04/2025 20:30)': {'nombre_local': 'OBRAS',\n",
       "  'puntos_local': '75',\n",
       "  'nombre_visita': 'GIMNASIA (CR)',\n",
       "  'puntos_visita': '70',\n",
       "  'link_estadisticas': 'https://estadisticascabb.gesdeportiva.es/partido/1nMdCHHAozHrUwOv38WYPw==?a=1'},\n",
       " 'ATENAS (C) vs SAN MARTIN (C) (021/04/2025 21:30)': {'nombre_local': 'ATENAS (C)',\n",
       "  'puntos_local': '68',\n",
       "  'nombre_visita': 'SAN MARTIN (C)',\n",
       "  'puntos_visita': '60',\n",
       "  'link_estadisticas': 'https://estadisticascabb.gesdeportiva.es/partido/fBOLiGayoskHVgjCYAgf-Q==?a=1'},\n",
       " 'SAN LORENZO vs PLATENSE (022/04/2025 20:30)': {'nombre_local': 'SAN LORENZO',\n",
       "  'puntos_local': '73',\n",
       "  'nombre_visita': 'PLATENSE',\n",
       "  'puntos_visita': '78',\n",
       "  'link_estadisticas': 'https://estadisticascabb.gesdeportiva.es/partido/1GsHczVrmmYWKZHzZhJt9Q==?a=1'},\n",
       " 'INDEPENDIENTE (O) vs LA UNION FSA. (022/04/2025 21:30)': {'nombre_local': 'INDEPENDIENTE (O)',\n",
       "  'puntos_local': '82',\n",
       "  'nombre_visita': 'LA UNION FSA.',\n",
       "  'puntos_visita': '80',\n",
       "  'link_estadisticas': 'https://estadisticascabb.gesdeportiva.es/partido/f899eZT9S1YxAD8NVRZdRw==?a=1'},\n",
       " 'BOCA vs GIMNASIA (CR) (023/04/2025 20:30)': {'nombre_local': 'BOCA',\n",
       "  'puntos_local': '73',\n",
       "  'nombre_visita': 'GIMNASIA (CR)',\n",
       "  'puntos_visita': '62',\n",
       "  'link_estadisticas': 'https://estadisticascabb.gesdeportiva.es/partido/Vad8_XKUX5Qn1xS6DjuS7g==?a=1'},\n",
       " 'ARGENTINO (J) vs QUIMSA (023/04/2025 21:00)': {'nombre_local': 'ARGENTINO (J)',\n",
       "  'puntos_local': '67',\n",
       "  'nombre_visita': 'QUIMSA',\n",
       "  'puntos_visita': '99',\n",
       "  'link_estadisticas': 'https://estadisticascabb.gesdeportiva.es/partido/lkZS-M6_vzEX31RMPqNJWg==?a=1'},\n",
       " 'INSTITUTO vs SAN MARTIN (C) (023/04/2025 21:30)': {'nombre_local': 'INSTITUTO',\n",
       "  'puntos_local': '65',\n",
       "  'nombre_visita': 'SAN MARTIN (C)',\n",
       "  'puntos_visita': '71',\n",
       "  'link_estadisticas': 'https://estadisticascabb.gesdeportiva.es/partido/jNz-fFe-0UMxC6chR_vgYA==?a=1'},\n",
       " 'OBRAS vs FERRO (024/04/2025 20:00)': {'nombre_local': 'OBRAS',\n",
       "  'puntos_local': '89',\n",
       "  'nombre_visita': 'FERRO',\n",
       "  'puntos_visita': '73',\n",
       "  'link_estadisticas': 'https://estadisticascabb.gesdeportiva.es/partido/vZfphvi8Gktaf1zPAjZIBw==?a=1'},\n",
       " 'PEÑAROL (MDP) vs PLATENSE (024/04/2025 21:00)': {'nombre_local': 'PEÑAROL (MDP)',\n",
       "  'puntos_local': '75',\n",
       "  'nombre_visita': 'PLATENSE',\n",
       "  'puntos_visita': '79',\n",
       "  'link_estadisticas': 'https://estadisticascabb.gesdeportiva.es/partido/U7zfzHX5r4x1kLcQFdN_1w==?a=1'},\n",
       " 'ATENAS (C) vs LA UNION FSA. (024/04/2025 21:30)': {'nombre_local': 'ATENAS (C)',\n",
       "  'puntos_local': '68',\n",
       "  'nombre_visita': 'LA UNION FSA.',\n",
       "  'puntos_visita': '87',\n",
       "  'link_estadisticas': 'https://estadisticascabb.gesdeportiva.es/partido/UY5S9sW7SXP1eJH0eke-0A==?a=1'},\n",
       " 'BOCA vs OLIMPICO (LB) (025/04/2025 20:05)': {'nombre_local': 'BOCA',\n",
       "  'puntos_local': '84',\n",
       "  'nombre_visita': 'OLIMPICO (LB)',\n",
       "  'puntos_visita': '76',\n",
       "  'link_estadisticas': 'https://estadisticascabb.gesdeportiva.es/partido/rEv8N_pv0760KAf4Q2fmlA==?a=1'},\n",
       " 'ZARATE BASKET vs QUIMSA (025/04/2025 21:00)': {'nombre_local': 'ZARATE BASKET',\n",
       "  'puntos_local': '97',\n",
       "  'nombre_visita': 'QUIMSA',\n",
       "  'puntos_visita': '90',\n",
       "  'link_estadisticas': 'https://estadisticascabb.gesdeportiva.es/partido/iN8AzE9kUNO8OklOXl-i0Q==?a=1'},\n",
       " 'INSTITUTO vs LA UNION FSA. (026/04/2025 11:30)': {'nombre_local': 'INSTITUTO',\n",
       "  'puntos_local': '79',\n",
       "  'nombre_visita': 'LA UNION FSA.',\n",
       "  'puntos_visita': '75',\n",
       "  'link_estadisticas': 'https://estadisticascabb.gesdeportiva.es/partido/V4oA6jTnjXJHf0HSZeQE9g==?a=1'},\n",
       " 'REGATAS (C) vs ARGENTINO (J) (026/04/2025 21:30)': {'nombre_local': 'REGATAS (C)',\n",
       "  'puntos_local': '81',\n",
       "  'nombre_visita': 'ARGENTINO (J)',\n",
       "  'puntos_visita': '76',\n",
       "  'link_estadisticas': 'https://estadisticascabb.gesdeportiva.es/partido/XgC1KWRlNlvjVTRGi6mESQ==?a=1'},\n",
       " 'PEÑAROL (MDP) vs FERRO (027/04/2025 11:30)': {'nombre_local': 'PEÑAROL (MDP)',\n",
       "  'puntos_local': '73',\n",
       "  'nombre_visita': 'FERRO',\n",
       "  'puntos_visita': '75',\n",
       "  'link_estadisticas': 'https://estadisticascabb.gesdeportiva.es/partido/sFhczjwHPf5AO40iPYvvuw==?a=1'},\n",
       " 'PLATENSE vs OLIMPICO (LB) (027/04/2025 20:00)': {'nombre_local': 'PLATENSE',\n",
       "  'puntos_local': '97',\n",
       "  'nombre_visita': 'OLIMPICO (LB)',\n",
       "  'puntos_visita': '66',\n",
       "  'link_estadisticas': 'https://estadisticascabb.gesdeportiva.es/partido/VFlm8nAvbVGd4feLSURVCg==?a=1'},\n",
       " 'ZARATE BASKET vs SAN LORENZO (027/04/2025 20:30)': {'nombre_local': 'ZARATE BASKET',\n",
       "  'puntos_local': '75',\n",
       "  'nombre_visita': 'SAN LORENZO',\n",
       "  'puntos_visita': '85',\n",
       "  'link_estadisticas': 'https://estadisticascabb.gesdeportiva.es/partido/kkDPnteGiT_pJkv3jm2qhQ==?a=1'},\n",
       " 'OBERA vs OBRAS (027/04/2025 21:00)': {'nombre_local': 'OBERA',\n",
       "  'puntos_local': '90',\n",
       "  'nombre_visita': 'OBRAS',\n",
       "  'puntos_visita': '75',\n",
       "  'link_estadisticas': 'https://estadisticascabb.gesdeportiva.es/partido/C75SVANlP5PU64kzEiPqzw==?a=1'},\n",
       " 'SAN MARTIN (C) vs ARGENTINO (J) (028/04/2025 21:00)': {'nombre_local': 'SAN MARTIN (C)',\n",
       "  'puntos_local': '66',\n",
       "  'nombre_visita': 'ARGENTINO (J)',\n",
       "  'puntos_visita': '82',\n",
       "  'link_estadisticas': 'https://estadisticascabb.gesdeportiva.es/partido/A8GnlabpN7y9tOyc9Ye0Vw==?a=1'},\n",
       " 'RIACHUELO (LR) vs ATENAS (C) (028/04/2025 21:30)': {'nombre_local': 'RIACHUELO (LR)',\n",
       "  'puntos_local': '97',\n",
       "  'nombre_visita': 'ATENAS (C)',\n",
       "  'puntos_visita': '88',\n",
       "  'link_estadisticas': 'https://estadisticascabb.gesdeportiva.es/partido/r5RQLPW31H_S2MLKHZrYPA==?a=1'},\n",
       " 'UNION (SF) vs BOCA (029/04/2025 20:05)': {'nombre_local': 'UNION (SF)',\n",
       "  'puntos_local': '77',\n",
       "  'nombre_visita': 'BOCA',\n",
       "  'puntos_visita': '83',\n",
       "  'link_estadisticas': 'https://estadisticascabb.gesdeportiva.es/partido/7HjXFzqA-mYCN73WWejJRg==?a=1'},\n",
       " 'FERRO vs OLIMPICO (LB) (029/04/2025 20:30)': {'nombre_local': 'FERRO',\n",
       "  'puntos_local': '81',\n",
       "  'nombre_visita': 'OLIMPICO (LB)',\n",
       "  'puntos_visita': '69',\n",
       "  'link_estadisticas': 'https://estadisticascabb.gesdeportiva.es/partido/V-b--5TAm5oY03AWIQ-HaA==?a=1'},\n",
       " 'GIMNASIA (CR) vs SAN LORENZO (029/04/2025 21:30)': {'nombre_local': 'GIMNASIA (CR)',\n",
       "  'puntos_local': '92',\n",
       "  'nombre_visita': 'SAN LORENZO',\n",
       "  'puntos_visita': '81',\n",
       "  'link_estadisticas': 'https://estadisticascabb.gesdeportiva.es/partido/4fAFTxG4T_aplLlQ0N3XPg==?a=1'},\n",
       " 'LA UNION FSA. vs ARGENTINO (J) (030/04/2025 21:00)': {'nombre_local': 'LA UNION FSA.',\n",
       "  'puntos_local': '104',\n",
       "  'nombre_visita': 'ARGENTINO (J)',\n",
       "  'puntos_visita': '73',\n",
       "  'link_estadisticas': 'https://estadisticascabb.gesdeportiva.es/partido/0eu76ni0dPU67t-lQUqEpg==?a=1'},\n",
       " 'QUIMSA vs ATENAS (C) (030/04/2025 21:30)': {'nombre_local': 'QUIMSA',\n",
       "  'puntos_local': '119',\n",
       "  'nombre_visita': 'ATENAS (C)',\n",
       "  'puntos_visita': '76',\n",
       "  'link_estadisticas': 'https://estadisticascabb.gesdeportiva.es/partido/AE0QjkPgC2hPyLpwniOv-A==?a=1'},\n",
       " 'UNION (SF) vs PEÑAROL (MDP) (002/05/2025 21:00)': {'nombre_local': 'UNION (SF)',\n",
       "  'puntos_local': '85',\n",
       "  'nombre_visita': 'PEÑAROL (MDP)',\n",
       "  'puntos_visita': '79',\n",
       "  'link_estadisticas': 'https://estadisticascabb.gesdeportiva.es/partido/4w3voLUgm54RXEvPjUGdTA==?a=1'},\n",
       " 'OLIMPICO (LB) vs ATENAS (C) (002/05/2025 22:10)': {'nombre_local': 'OLIMPICO (LB)',\n",
       "  'puntos_local': '81',\n",
       "  'nombre_visita': 'ATENAS (C)',\n",
       "  'puntos_visita': '84',\n",
       "  'link_estadisticas': 'https://estadisticascabb.gesdeportiva.es/partido/IbOfCFFSxWD2IBbXIIqGBg==?a=1'},\n",
       " 'BOCA vs INDEPENDIENTE (O) (003/05/2025 11:30)': {'nombre_local': 'BOCA',\n",
       "  'puntos_local': '80',\n",
       "  'nombre_visita': 'INDEPENDIENTE (O)',\n",
       "  'puntos_visita': '78',\n",
       "  'link_estadisticas': 'https://estadisticascabb.gesdeportiva.es/partido/hIBNFzWci0foSgxRfj3Eyg==?a=1'},\n",
       " 'RIACHUELO (LR) vs INSTITUTO (003/05/2025 19:00)': {'nombre_local': 'RIACHUELO (LR)',\n",
       "  'puntos_local': '67',\n",
       "  'nombre_visita': 'INSTITUTO',\n",
       "  'puntos_visita': '87',\n",
       "  'link_estadisticas': 'https://estadisticascabb.gesdeportiva.es/partido/81EvfuCVyyJdgfQIux2azQ==?a=1'},\n",
       " 'GIMNASIA (CR) vs REGATAS (C) (003/05/2025 20:30)': {'nombre_local': 'GIMNASIA (CR)',\n",
       "  'puntos_local': '109',\n",
       "  'nombre_visita': 'REGATAS (C)',\n",
       "  'puntos_visita': '70',\n",
       "  'link_estadisticas': 'https://estadisticascabb.gesdeportiva.es/partido/EImi5Tc8raH75IyMO0gO6Q==?a=1'},\n",
       " 'OBERA vs PEÑAROL (MDP) (004/05/2025 20:00)': {'nombre_local': 'OBERA',\n",
       "  'puntos_local': '86',\n",
       "  'nombre_visita': 'PEÑAROL (MDP)',\n",
       "  'puntos_visita': '71',\n",
       "  'link_estadisticas': 'https://estadisticascabb.gesdeportiva.es/partido/seNnY1w_vUKl493TILTydQ==?a=1'},\n",
       " 'SAN LORENZO vs INDEPENDIENTE (O) (005/05/2025 20:30)': {'nombre_local': 'SAN LORENZO',\n",
       "  'puntos_local': '94',\n",
       "  'nombre_visita': 'INDEPENDIENTE (O)',\n",
       "  'puntos_visita': '77',\n",
       "  'link_estadisticas': 'https://estadisticascabb.gesdeportiva.es/partido/nOvJ_udrNhDaoQ-cmP003g==?a=1'},\n",
       " 'ZARATE BASKET vs REGATAS (C) (005/05/2025 21:00)': {'nombre_local': 'ZARATE BASKET',\n",
       "  'puntos_local': '66',\n",
       "  'nombre_visita': 'REGATAS (C)',\n",
       "  'puntos_visita': '85',\n",
       "  'link_estadisticas': 'https://estadisticascabb.gesdeportiva.es/partido/gcCGBp5FNtgHJpeRiA_EDw==?a=1'},\n",
       " 'OLIMPICO (LB) vs INSTITUTO (005/05/2025 22:00)': {'nombre_local': 'OLIMPICO (LB)',\n",
       "  'puntos_local': '92',\n",
       "  'nombre_visita': 'INSTITUTO',\n",
       "  'puntos_visita': '80',\n",
       "  'link_estadisticas': 'https://estadisticascabb.gesdeportiva.es/partido/6tUAFI1qhQsV5Jeom0oRVA==?a=1'},\n",
       " 'LA UNION FSA. vs BOCA (006/05/2025 21:30)': {'nombre_local': 'LA UNION FSA.',\n",
       "  'puntos_local': '97',\n",
       "  'nombre_visita': 'BOCA',\n",
       "  'puntos_visita': '92',\n",
       "  'link_estadisticas': 'https://estadisticascabb.gesdeportiva.es/partido/QIiDTyPgZBe5DaS1u0mLKw==?a=1'},\n",
       " 'OBRAS vs REGATAS (C) (007/05/2025 20:05)': {'nombre_local': 'OBRAS',\n",
       "  'puntos_local': '92',\n",
       "  'nombre_visita': 'REGATAS (C)',\n",
       "  'puntos_visita': '85',\n",
       "  'link_estadisticas': 'https://estadisticascabb.gesdeportiva.es/partido/iYu2Kn_P8NXzMfyopr_KcQ==?a=1'},\n",
       " 'PEÑAROL (MDP) vs INDEPENDIENTE (O) (007/05/2025 21:00)': {'nombre_local': 'PEÑAROL (MDP)',\n",
       "  'puntos_local': '99',\n",
       "  'nombre_visita': 'INDEPENDIENTE (O)',\n",
       "  'puntos_visita': '74',\n",
       "  'link_estadisticas': 'https://estadisticascabb.gesdeportiva.es/partido/YEQon0uaLkR2PJCVfPogdg==?a=1'},\n",
       " 'ATENAS (C) vs GIMNASIA (CR) (007/05/2025 21:30)': {'nombre_local': 'ATENAS (C)',\n",
       "  'puntos_local': '78',\n",
       "  'nombre_visita': 'GIMNASIA (CR)',\n",
       "  'puntos_visita': '74',\n",
       "  'link_estadisticas': 'https://estadisticascabb.gesdeportiva.es/partido/Cu2NMHeSKRlU3EUBr5qDPw==?a=1'},\n",
       " 'QUIMSA vs INSTITUTO (007/05/2025 22:00)': {'nombre_local': 'QUIMSA',\n",
       "  'puntos_local': '75',\n",
       "  'nombre_visita': 'INSTITUTO',\n",
       "  'puntos_visita': '77',\n",
       "  'link_estadisticas': 'https://estadisticascabb.gesdeportiva.es/partido/XHrdTcRvKIfo5DWmg_PFSA==?a=1'},\n",
       " 'SAN MARTIN (C) vs BOCA (008/05/2025 21:30)': {'nombre_local': 'SAN MARTIN (C)',\n",
       "  'puntos_local': '69',\n",
       "  'nombre_visita': 'BOCA',\n",
       "  'puntos_visita': '64',\n",
       "  'link_estadisticas': 'https://estadisticascabb.gesdeportiva.es/partido/O-8aomwRP8R60OkT6xe_9w==?a=1'},\n",
       " 'PEÑAROL (MDP) vs ZARATE BASKET (009/05/2025 21:00)': {'nombre_local': 'PEÑAROL (MDP)',\n",
       "  'puntos_local': '110',\n",
       "  'nombre_visita': 'ZARATE BASKET',\n",
       "  'puntos_visita': '81',\n",
       "  'link_estadisticas': 'https://estadisticascabb.gesdeportiva.es/partido/MDmIPAzt4Z4UE_Wsn6OQ_w==?a=1'},\n",
       " 'RIACHUELO (LR) vs GIMNASIA (CR) (009/05/2025 21:30)': {'nombre_local': 'RIACHUELO (LR)',\n",
       "  'puntos_local': '77',\n",
       "  'nombre_visita': 'GIMNASIA (CR)',\n",
       "  'puntos_visita': '73',\n",
       "  'link_estadisticas': 'https://estadisticascabb.gesdeportiva.es/partido/zvw1Doxy4I5ol_hfmKfEOw==?a=1'},\n",
       " 'REGATAS (C) vs BOCA (010/05/2025 11:30)': {'nombre_local': 'REGATAS (C)',\n",
       "  'puntos_local': '61',\n",
       "  'nombre_visita': 'BOCA',\n",
       "  'puntos_visita': '68',\n",
       "  'link_estadisticas': 'https://estadisticascabb.gesdeportiva.es/partido/538i5gp5hYWi5iMTEk-zaA==?a=1'},\n",
       " 'ARGENTINO (J) vs SAN LORENZO (010/05/2025 21:00)': {'nombre_local': 'ARGENTINO (J)',\n",
       "  'puntos_local': '60',\n",
       "  'nombre_visita': 'SAN LORENZO',\n",
       "  'puntos_visita': '77',\n",
       "  'link_estadisticas': 'https://estadisticascabb.gesdeportiva.es/partido/kfNMCy0hV_3yhsBqys_5OA==?a=1'},\n",
       " 'PLATENSE vs ZARATE BASKET (011/05/2025 20:00)': {'nombre_local': 'PLATENSE',\n",
       "  'puntos_local': '88',\n",
       "  'nombre_visita': 'ZARATE BASKET',\n",
       "  'puntos_visita': '82',\n",
       "  'link_estadisticas': 'https://estadisticascabb.gesdeportiva.es/partido/317F0UGPSsEQLhzBMC63Nw==?a=1'},\n",
       " 'INSTITUTO vs GIMNASIA (CR) (011/05/2025 20:30)': {'nombre_local': 'INSTITUTO',\n",
       "  'puntos_local': '90',\n",
       "  'nombre_visita': 'GIMNASIA (CR)',\n",
       "  'puntos_visita': '78',\n",
       "  'link_estadisticas': 'https://estadisticascabb.gesdeportiva.es/partido/lhvTm-ZrhPkz42qCJG0HaA==?a=1'},\n",
       " 'RIACHUELO (LR) vs QUIMSA (011/05/2025 21:00)': {'nombre_local': 'RIACHUELO (LR)',\n",
       "  'puntos_local': '97',\n",
       "  'nombre_visita': 'QUIMSA',\n",
       "  'puntos_visita': '99',\n",
       "  'link_estadisticas': 'https://estadisticascabb.gesdeportiva.es/partido/8HKUhz5FoNomxF1bSxdBow==?a=1'},\n",
       " 'REGATAS (C) vs OLIMPICO (LB) (012/05/2025 21:00)': {'nombre_local': 'REGATAS (C)',\n",
       "  'puntos_local': '98',\n",
       "  'nombre_visita': 'OLIMPICO (LB)',\n",
       "  'puntos_visita': '74',\n",
       "  'link_estadisticas': 'https://estadisticascabb.gesdeportiva.es/partido/Puj0VPgHFx56mEkHKvDS9g==?a=1'},\n",
       " 'INSTITUTO vs OBERA (013/05/2025 21:30)': {'nombre_local': 'INSTITUTO',\n",
       "  'puntos_local': '74',\n",
       "  'nombre_visita': 'OBERA',\n",
       "  'puntos_visita': '86',\n",
       "  'link_estadisticas': 'https://estadisticascabb.gesdeportiva.es/partido/3uXyJ60Uv1X4tR5KvHZIcw==?a=1'},\n",
       " 'PLATENSE vs BOCA (014/05/2025 20:30)': {'nombre_local': 'PLATENSE',\n",
       "  'puntos_local': '84',\n",
       "  'nombre_visita': 'BOCA',\n",
       "  'puntos_visita': '93',\n",
       "  'link_estadisticas': 'https://estadisticascabb.gesdeportiva.es/partido/B9iD8NYO5x86io9xtwmC_A==?a=1'},\n",
       " 'ARGENTINO (J) vs OBRAS (014/05/2025 21:00)': {'nombre_local': 'ARGENTINO (J)',\n",
       "  'puntos_local': '64',\n",
       "  'nombre_visita': 'OBRAS',\n",
       "  'puntos_visita': '76',\n",
       "  'link_estadisticas': 'https://estadisticascabb.gesdeportiva.es/partido/ups7hmH4-endLNKjRkg69Q==?a=1'},\n",
       " 'LA UNION FSA. vs OLIMPICO (LB) (014/05/2025 21:30)': {'nombre_local': 'LA UNION FSA.',\n",
       "  'puntos_local': '88',\n",
       "  'nombre_visita': 'OLIMPICO (LB)',\n",
       "  'puntos_visita': '102',\n",
       "  'link_estadisticas': 'https://estadisticascabb.gesdeportiva.es/partido/mScf0gY2FTgM1bcMKaISuw==?a=1'},\n",
       " 'FERRO vs RIACHUELO (LR) (015/05/2025 20:00)': {'nombre_local': 'FERRO',\n",
       "  'puntos_local': '90',\n",
       "  'nombre_visita': 'RIACHUELO (LR)',\n",
       "  'puntos_visita': '80',\n",
       "  'link_estadisticas': 'https://estadisticascabb.gesdeportiva.es/partido/WehwbGIYRHlNzOdw8cL9og==?a=1'},\n",
       " 'INDEPENDIENTE (O) vs OBERA (015/05/2025 21:00)': {'nombre_local': 'INDEPENDIENTE (O)',\n",
       "  'puntos_local': '84',\n",
       "  'nombre_visita': 'OBERA',\n",
       "  'puntos_visita': '93',\n",
       "  'link_estadisticas': 'https://estadisticascabb.gesdeportiva.es/partido/muWmba0P0uZQXFs4V1hd3A==?a=1'},\n",
       " 'SAN LORENZO vs OBRAS (016/05/2025 20:00)': {'nombre_local': 'SAN LORENZO',\n",
       "  'puntos_local': '88',\n",
       "  'nombre_visita': 'OBRAS',\n",
       "  'puntos_visita': '95',\n",
       "  'link_estadisticas': 'https://estadisticascabb.gesdeportiva.es/partido/F5F0SnZuzrdAbMOAWMOWAw==?a=1'},\n",
       " 'BOCA vs INSTITUTO (016/05/2025 22:00)': {'nombre_local': 'BOCA',\n",
       "  'puntos_local': '105',\n",
       "  'nombre_visita': 'INSTITUTO',\n",
       "  'puntos_visita': '80',\n",
       "  'link_estadisticas': 'https://estadisticascabb.gesdeportiva.es/partido/VFiVQ8HsMm-pehVNHlUMQQ==?a=1'},\n",
       " 'ATENAS (C) vs OBERA (017/05/2025 11:30)': {'nombre_local': 'ATENAS (C)',\n",
       "  'puntos_local': '81',\n",
       "  'nombre_visita': 'OBERA',\n",
       "  'puntos_visita': '85',\n",
       "  'link_estadisticas': 'https://estadisticascabb.gesdeportiva.es/partido/tzDx2VMG3k32zn5D9v_95Q==?a=1'},\n",
       " 'ZARATE BASKET vs RIACHUELO (LR) (017/05/2025 20:30)': {'nombre_local': 'ZARATE BASKET',\n",
       "  'puntos_local': '0',\n",
       "  'nombre_visita': 'RIACHUELO (LR)',\n",
       "  'puntos_visita': '2',\n",
       "  'link_estadisticas': 'https://estadisticascabb.gesdeportiva.es/partido/PjVpVCeQDvJ8k8YgjetMVQ==?a=1'},\n",
       " 'GIMNASIA (CR) vs FERRO (018/05/2025 20:00)': {'nombre_local': 'GIMNASIA (CR)',\n",
       "  'puntos_local': '74',\n",
       "  'nombre_visita': 'FERRO',\n",
       "  'puntos_visita': '81',\n",
       "  'link_estadisticas': 'https://estadisticascabb.gesdeportiva.es/partido/YtLQ3cCJ2CiB_sx5td3pbw==?a=1'},\n",
       " 'ARGENTINO (J) vs INSTITUTO (018/05/2025 20:30)': {'nombre_local': 'ARGENTINO (J)',\n",
       "  'puntos_local': '63',\n",
       "  'nombre_visita': 'INSTITUTO',\n",
       "  'puntos_visita': '78',\n",
       "  'link_estadisticas': 'https://estadisticascabb.gesdeportiva.es/partido/fWa5D8iWkXK2B-BAJdRmoQ==?a=1'},\n",
       " 'UNION (SF) vs LA UNION FSA. (018/05/2025 21:00)': {'nombre_local': 'UNION (SF)',\n",
       "  'puntos_local': '87',\n",
       "  'nombre_visita': 'LA UNION FSA.',\n",
       "  'puntos_visita': '81',\n",
       "  'link_estadisticas': 'https://estadisticascabb.gesdeportiva.es/partido/WPSF0l6Ihdcu36DEowgCFg==?a=1'},\n",
       " 'PEÑAROL (MDP) vs RIACHUELO (LR) (019/05/2025 21:00)': {'nombre_local': 'PEÑAROL (MDP)',\n",
       "  'puntos_local': '89',\n",
       "  'nombre_visita': 'RIACHUELO (LR)',\n",
       "  'puntos_visita': '75',\n",
       "  'link_estadisticas': 'https://estadisticascabb.gesdeportiva.es/partido/C57u9AXPB6WaIHJmaJk36A==?a=1'},\n",
       " 'OBRAS vs INSTITUTO (020/05/2025 20:00)': {'nombre_local': 'OBRAS',\n",
       "  'puntos_local': '61',\n",
       "  'nombre_visita': 'INSTITUTO',\n",
       "  'puntos_visita': '76',\n",
       "  'link_estadisticas': 'https://estadisticascabb.gesdeportiva.es/partido/MfxrohEB4IAeKPQZLHTIGA==?a=1'},\n",
       " 'SAN LORENZO vs FERRO (020/05/2025 20:00)': {'nombre_local': 'SAN LORENZO',\n",
       "  'puntos_local': '72',\n",
       "  'nombre_visita': 'FERRO',\n",
       "  'puntos_visita': '85',\n",
       "  'link_estadisticas': 'https://estadisticascabb.gesdeportiva.es/partido/abc_jhi-4xLFOkeA6hTaVA==?a=1'},\n",
       " 'BOCA vs ARGENTINO (J) (020/05/2025 20:30)': {'nombre_local': 'BOCA',\n",
       "  'puntos_local': '89',\n",
       "  'nombre_visita': 'ARGENTINO (J)',\n",
       "  'puntos_visita': '81',\n",
       "  'link_estadisticas': 'https://estadisticascabb.gesdeportiva.es/partido/1jY9zVrYB4Z9LKO9I_iOhA==?a=1'},\n",
       " 'OBERA vs LA UNION FSA. (020/05/2025 21:00)': {'nombre_local': 'OBERA',\n",
       "  'puntos_local': '98',\n",
       "  'nombre_visita': 'LA UNION FSA.',\n",
       "  'puntos_visita': '91',\n",
       "  'link_estadisticas': 'https://estadisticascabb.gesdeportiva.es/partido/3eruvwLLqZm1gSdXrjBdug==?a=1'}}"
      ]
     },
     "metadata": {},
     "output_type": "display_data"
    }
   ],
   "source": [
    "\n",
    "\n",
    "# Nombre del archivo de texto que contiene el HTML\n",
    "file_name = \"../data/external/elemento_html_partidos_temporada_24_25.txt\"\n",
    "\n",
    "# Diccionario para almacenar los datos de los partidos\n",
    "match_data = {}\n",
    "try:\n",
    "    # 1. Leer el contenido del archivo .txt\n",
    "    with open(file_name, \"r\", encoding=\"utf-8\") as f:\n",
    "        html_content = f.read()\n",
    "\n",
    "    # 2. Crear un objeto BeautifulSoup para parsear el HTML\n",
    "    soup = BeautifulSoup(html_content, \"html.parser\")\n",
    "    \n",
    "    # 3. Buscar todas las filas de la tabla (<tr>)\n",
    "    filas_partidos = soup.find_all(\"tr\", role=\"row\")\n",
    "    \n",
    "    print(f\"Extrayendo datos de {len(filas_partidos)} partidos...\")\n",
    "\n",
    "    for fila in filas_partidos:\n",
    "        # Extraer los datos de las celdas (<td>) de cada fila\n",
    "        celdas = fila.find_all(\"td\")\n",
    "\n",
    "        # Asegurarse de que la fila tiene la estructura esperada\n",
    "        if len(celdas) > 8:\n",
    "            # Extraer los datos por su índice de celda\n",
    "            fecha_hora = celdas[0].get_text(strip=True)[-17:]\n",
    "            nombre_local = celdas[1].get_text(strip=True)\n",
    "            puntos_local = celdas[3].get_text(strip=True)\n",
    "            puntos_visita = celdas[4].get_text(strip=True)\n",
    "            nombre_visita = celdas[6].get_text(strip=True)\n",
    "            \n",
    "            # El link está dentro de la celda en el índice 8 (anteriormente 9)\n",
    "            link_tag = celdas[8].find(\"a\", href=True)\n",
    "            link_estadisticas = link_tag.get('href') if link_tag else None\n",
    "            \n",
    "            # Usar una combinación única como clave del diccionario\n",
    "            match_key = f\"{nombre_local} vs {nombre_visita} ({fecha_hora})\"\n",
    "            \n",
    "            # Guardar los datos en el diccionario\n",
    "            match_data[match_key] = {\n",
    "                \"nombre_local\": nombre_local,\n",
    "                \"puntos_local\": puntos_local,\n",
    "                \"nombre_visita\": nombre_visita,\n",
    "                \"puntos_visita\": puntos_visita,\n",
    "                \"link_estadisticas\": link_estadisticas\n",
    "            }\n",
    "    \n",
    "    print(\"\\nDiccionario de datos de partidos creado.\")\n",
    "    \n",
    "    # Mostrar el diccionario para su verificación\n",
    "    display(match_data)\n",
    "    \n",
    "except FileNotFoundError:\n",
    "    print(f\"Error: No se encontró el archivo '{file_name}'. Asegúrate de que el archivo existe en la ruta correcta.\")\n",
    "except Exception as e:\n",
    "    print(f\"Ocurrió un error al procesar el archivo: {e}\")"
   ]
  },
  {
   "cell_type": "markdown",
   "id": "53f91a01",
   "metadata": {},
   "source": [
    "## Pruebas de web scrapping"
   ]
  },
  {
   "cell_type": "code",
   "execution_count": 3,
   "id": "dcb297e0",
   "metadata": {},
   "outputs": [],
   "source": [
    "from selenium import webdriver\n",
    "from selenium.webdriver.chrome.service import Service\n",
    "from selenium.webdriver.chrome.options import Options\n",
    "from selenium.webdriver.common.by import By\n",
    "from selenium.webdriver.support.ui import WebDriverWait\n",
    "from selenium.webdriver.support import expected_conditions as EC\n",
    "from webdriver_manager.chrome import ChromeDriverManager\n",
    "from bs4 import BeautifulSoup\n",
    "import pandas as pd\n",
    "import re # Carta de trio\n",
    "import json # Box score\n",
    "import time # Box score\n"
   ]
  },
  {
   "cell_type": "markdown",
   "id": "2ab5de4d",
   "metadata": {},
   "source": [
    "### Mapa de tiro"
   ]
  },
  {
   "cell_type": "code",
   "execution_count": 4,
   "id": "de6ffd4d",
   "metadata": {},
   "outputs": [
    {
     "data": {
      "text/plain": [
       "{'nombre_local': 'FERRO',\n",
       " 'puntos_local': '84',\n",
       " 'nombre_visita': 'PEÑAROL (MDP)',\n",
       " 'puntos_visita': '82',\n",
       " 'link_estadisticas': 'https://estadisticascabb.gesdeportiva.es/partido/7FrcQXet0O0dRypYCF4kWQ==?a=1'}"
      ]
     },
     "execution_count": 4,
     "metadata": {},
     "output_type": "execute_result"
    }
   ],
   "source": [
    "# 1. Define la clave exacta del partido que querés buscar\n",
    "partido_key = 'FERRO vs PEÑAROL (MDP) (009/10/2024 20:00)'\n",
    "partido_info = match_data[partido_key]\n",
    "partido_info"
   ]
  },
  {
   "cell_type": "code",
   "execution_count": 5,
   "id": "55d8c62d",
   "metadata": {},
   "outputs": [
    {
     "name": "stdout",
     "output_type": "stream",
     "text": [
      "El enlace del primer partido es: https://estadisticascabb.gesdeportiva.es/partido/7FrcQXet0O0dRypYCF4kWQ==?a=1\n",
      "Procesando partido: FERRO vs PEÑAROL (MDP)\n",
      "\n",
      "Iniciando Selenium para navegar al mapa de tiro...\n",
      "Se encontraron 146 tiros en el mapa del primer partido.\n",
      "\n",
      "DataFrame de tiros del partido (FERRO vs PEÑAROL (MDP)):\n"
     ]
    },
    {
     "data": {
      "text/html": [
       "<div>\n",
       "<style scoped>\n",
       "    .dataframe tbody tr th:only-of-type {\n",
       "        vertical-align: middle;\n",
       "    }\n",
       "\n",
       "    .dataframe tbody tr th {\n",
       "        vertical-align: top;\n",
       "    }\n",
       "\n",
       "    .dataframe thead th {\n",
       "        text-align: right;\n",
       "    }\n",
       "</style>\n",
       "<table border=\"1\" class=\"dataframe\">\n",
       "  <thead>\n",
       "    <tr style=\"text-align: right;\">\n",
       "      <th></th>\n",
       "      <th>equipo</th>\n",
       "      <th>resultado</th>\n",
       "      <th>left_pct</th>\n",
       "      <th>top_pct</th>\n",
       "    </tr>\n",
       "  </thead>\n",
       "  <tbody>\n",
       "    <tr>\n",
       "      <th>0</th>\n",
       "      <td>PEÑAROL (MDP)</td>\n",
       "      <td>fallado</td>\n",
       "      <td>80.03</td>\n",
       "      <td>51.68</td>\n",
       "    </tr>\n",
       "    <tr>\n",
       "      <th>1</th>\n",
       "      <td>PEÑAROL (MDP)</td>\n",
       "      <td>fallado</td>\n",
       "      <td>62.52</td>\n",
       "      <td>79.84</td>\n",
       "    </tr>\n",
       "    <tr>\n",
       "      <th>2</th>\n",
       "      <td>FERRO</td>\n",
       "      <td>fallado</td>\n",
       "      <td>32.87</td>\n",
       "      <td>80.36</td>\n",
       "    </tr>\n",
       "    <tr>\n",
       "      <th>3</th>\n",
       "      <td>PEÑAROL (MDP)</td>\n",
       "      <td>fallado</td>\n",
       "      <td>70.97</td>\n",
       "      <td>14.21</td>\n",
       "    </tr>\n",
       "    <tr>\n",
       "      <th>4</th>\n",
       "      <td>FERRO</td>\n",
       "      <td>fallado</td>\n",
       "      <td>12.90</td>\n",
       "      <td>52.45</td>\n",
       "    </tr>\n",
       "    <tr>\n",
       "      <th>5</th>\n",
       "      <td>PEÑAROL (MDP)</td>\n",
       "      <td>fallado</td>\n",
       "      <td>80.95</td>\n",
       "      <td>50.65</td>\n",
       "    </tr>\n",
       "    <tr>\n",
       "      <th>6</th>\n",
       "      <td>PEÑAROL (MDP)</td>\n",
       "      <td>fallado</td>\n",
       "      <td>80.03</td>\n",
       "      <td>68.22</td>\n",
       "    </tr>\n",
       "    <tr>\n",
       "      <th>7</th>\n",
       "      <td>PEÑAROL (MDP)</td>\n",
       "      <td>fallado</td>\n",
       "      <td>68.51</td>\n",
       "      <td>16.28</td>\n",
       "    </tr>\n",
       "    <tr>\n",
       "      <th>8</th>\n",
       "      <td>FERRO</td>\n",
       "      <td>fallado</td>\n",
       "      <td>12.60</td>\n",
       "      <td>53.75</td>\n",
       "    </tr>\n",
       "    <tr>\n",
       "      <th>9</th>\n",
       "      <td>FERRO</td>\n",
       "      <td>fallado</td>\n",
       "      <td>37.94</td>\n",
       "      <td>46.51</td>\n",
       "    </tr>\n",
       "    <tr>\n",
       "      <th>10</th>\n",
       "      <td>FERRO</td>\n",
       "      <td>acertado</td>\n",
       "      <td>12.90</td>\n",
       "      <td>51.16</td>\n",
       "    </tr>\n",
       "    <tr>\n",
       "      <th>11</th>\n",
       "      <td>PEÑAROL (MDP)</td>\n",
       "      <td>fallado</td>\n",
       "      <td>60.06</td>\n",
       "      <td>72.35</td>\n",
       "    </tr>\n",
       "    <tr>\n",
       "      <th>12</th>\n",
       "      <td>FERRO</td>\n",
       "      <td>acertado</td>\n",
       "      <td>22.27</td>\n",
       "      <td>54.26</td>\n",
       "    </tr>\n",
       "    <tr>\n",
       "      <th>13</th>\n",
       "      <td>PEÑAROL (MDP)</td>\n",
       "      <td>fallado</td>\n",
       "      <td>63.90</td>\n",
       "      <td>68.48</td>\n",
       "    </tr>\n",
       "    <tr>\n",
       "      <th>14</th>\n",
       "      <td>FERRO</td>\n",
       "      <td>fallado</td>\n",
       "      <td>25.04</td>\n",
       "      <td>62.79</td>\n",
       "    </tr>\n",
       "    <tr>\n",
       "      <th>15</th>\n",
       "      <td>PEÑAROL (MDP)</td>\n",
       "      <td>fallado</td>\n",
       "      <td>61.60</td>\n",
       "      <td>72.35</td>\n",
       "    </tr>\n",
       "    <tr>\n",
       "      <th>16</th>\n",
       "      <td>FERRO</td>\n",
       "      <td>fallado</td>\n",
       "      <td>12.29</td>\n",
       "      <td>51.94</td>\n",
       "    </tr>\n",
       "    <tr>\n",
       "      <th>17</th>\n",
       "      <td>PEÑAROL (MDP)</td>\n",
       "      <td>acertado</td>\n",
       "      <td>90.17</td>\n",
       "      <td>48.32</td>\n",
       "    </tr>\n",
       "    <tr>\n",
       "      <th>18</th>\n",
       "      <td>FERRO</td>\n",
       "      <td>acertado</td>\n",
       "      <td>12.44</td>\n",
       "      <td>48.32</td>\n",
       "    </tr>\n",
       "    <tr>\n",
       "      <th>19</th>\n",
       "      <td>PEÑAROL (MDP)</td>\n",
       "      <td>acertado</td>\n",
       "      <td>88.33</td>\n",
       "      <td>50.13</td>\n",
       "    </tr>\n",
       "  </tbody>\n",
       "</table>\n",
       "</div>"
      ],
      "text/plain": [
       "           equipo resultado  left_pct  top_pct\n",
       "0   PEÑAROL (MDP)   fallado     80.03    51.68\n",
       "1   PEÑAROL (MDP)   fallado     62.52    79.84\n",
       "2           FERRO   fallado     32.87    80.36\n",
       "3   PEÑAROL (MDP)   fallado     70.97    14.21\n",
       "4           FERRO   fallado     12.90    52.45\n",
       "5   PEÑAROL (MDP)   fallado     80.95    50.65\n",
       "6   PEÑAROL (MDP)   fallado     80.03    68.22\n",
       "7   PEÑAROL (MDP)   fallado     68.51    16.28\n",
       "8           FERRO   fallado     12.60    53.75\n",
       "9           FERRO   fallado     37.94    46.51\n",
       "10          FERRO  acertado     12.90    51.16\n",
       "11  PEÑAROL (MDP)   fallado     60.06    72.35\n",
       "12          FERRO  acertado     22.27    54.26\n",
       "13  PEÑAROL (MDP)   fallado     63.90    68.48\n",
       "14          FERRO   fallado     25.04    62.79\n",
       "15  PEÑAROL (MDP)   fallado     61.60    72.35\n",
       "16          FERRO   fallado     12.29    51.94\n",
       "17  PEÑAROL (MDP)  acertado     90.17    48.32\n",
       "18          FERRO  acertado     12.44    48.32\n",
       "19  PEÑAROL (MDP)  acertado     88.33    50.13"
      ]
     },
     "metadata": {},
     "output_type": "display_data"
    }
   ],
   "source": [
    "# Nota: Este script asume que la variable 'match_data' ya fue creada\n",
    "#       y contiene los datos de los partidos, incluyendo los enlaces.\n",
    "#       Por ejemplo:\n",
    "# match_data = {\n",
    "#     \"ATENAS (C) vs BOCA (07/10/2024 22:10)\": {\n",
    "#         \"nombre_local\": \"ATENAS (C)\",\n",
    "#         \"puntos_local\": \"69\",\n",
    "#         \"nombre_visita\": \"BOCA\",\n",
    "#         \"puntos_visita\": \"81\",\n",
    "#         \"link_estadisticas\": \"https://estadisticascabb.gesdeportiva.es/partido/rM2-eTJQHJsR2FLJYE8GRw==?a=1\"\n",
    "#     }\n",
    "#     ...\n",
    "# }\n",
    "# --- Parte 1: Obtener el primer enlace y nombres de equipos ---\n",
    "try:\n",
    "    if not match_data:\n",
    "        raise ValueError(\"El diccionario 'match_data' está vacío o no ha sido creado. No se puede continuar.\")\n",
    "        \n",
    "    # Obtener la clave del primer partido\n",
    "    # primer_partido_key = list(match_data.keys())[0]\n",
    "    # partido_info = match_data[primer_partido_key]\n",
    "\n",
    "    partido_key = 'FERRO vs PEÑAROL (MDP) (009/10/2024 20:00)'\n",
    "    partido_info = match_data[partido_key]\n",
    "\n",
    "    # Guardar el enlace y los nombres de los equipos\n",
    "    primer_link = partido_info[\"link_estadisticas\"]\n",
    "    nombre_local = partido_info[\"nombre_local\"]\n",
    "    nombre_visitante = partido_info[\"nombre_visita\"]\n",
    "    \n",
    "    print(f\"El enlace del primer partido es: {primer_link}\")\n",
    "    print(f\"Procesando partido: {nombre_local} vs {nombre_visitante}\")\n",
    "\n",
    "\n",
    "except Exception as e:\n",
    "    print(f\"Ocurrió un error al obtener datos del diccionario: {e}\")\n",
    "    primer_link = None\n",
    "\n",
    "# --- Parte 2: Usar Selenium para navegar a ese enlace y extraer datos ---\n",
    "if primer_link:\n",
    "    try:\n",
    "        print(\"\\nIniciando Selenium para navegar al mapa de tiro...\")\n",
    "        \n",
    "        # Configuración de Selenium\n",
    "        options = Options()\n",
    "        options.add_argument(\"--no-sandbox\")\n",
    "        options.add_argument(\"--disable-dev-shm-usage\")\n",
    "        options.add_argument(\"user-agent=Mozilla/5.0 (Windows NT 10.0; Win64; x64) AppleWebKit/537.36 (KHTML, like Gecko) Chrome/91.0.4472.124 Safari/537.36\")\n",
    "        # options.add_argument(\"--headless\")  # Descomenta si no quieres ver el navegador\n",
    "        \n",
    "        driver = webdriver.Chrome(service=Service(ChromeDriverManager().install()), options=options)\n",
    "        driver.get(primer_link)\n",
    "\n",
    "        # Esperar el iframe principal y cambiar a él\n",
    "        WebDriverWait(driver, 20).until(EC.frame_to_be_available_and_switch_to_it((By.TAG_NAME, \"iframe\")))\n",
    "        \n",
    "        # Ahora, dentro del iframe principal, buscar el iframe del mapa de tiro\n",
    "        iframe_mapa = WebDriverWait(driver, 20).until(\n",
    "            EC.presence_of_element_located((By.CSS_SELECTOR, \"iframe[src*='mapa-tiro']\"))\n",
    "        )\n",
    "        driver.switch_to.frame(iframe_mapa)\n",
    "        \n",
    "        # Extraer el HTML del iframe del mapa de tiro\n",
    "        html_mapa_tiro = driver.page_source\n",
    "        \n",
    "        # Procesar el HTML con BeautifulSoup\n",
    "        soup = BeautifulSoup(html_mapa_tiro, \"html.parser\")\n",
    "        tiros = soup.find_all(\"i\", class_=\"ico-tiro\")\n",
    "        \n",
    "        print(f\"Se encontraron {len(tiros)} tiros en el mapa del primer partido.\")\n",
    "\n",
    "        # Crear un DataFrame con los datos de los tiros\n",
    "        data = []\n",
    "        for tiro in tiros:\n",
    "            clases = tiro.get(\"class\", [])\n",
    "            estilo = tiro.get(\"style\", \"\")\n",
    "            \n",
    "            resultado = \"fallado\" if \"fa-times\" in clases else \"acertado\" if \"fa-circle\" in clases else \"desconocido\"\n",
    "            \n",
    "            try:\n",
    "                left = float(estilo.split(\"left:\")[1].split(\"%\")[0].strip())\n",
    "                top = float(estilo.split(\"top:\")[1].split(\"%\")[0].strip())\n",
    "            except (IndexError, ValueError):\n",
    "                left, top = None, None\n",
    "\n",
    "            # --- LÓGICA FINAL PARA DETERMINAR EL EQUIPO ---\n",
    "            # Se asigna el NOMBRE del equipo local o visitante según la coordenada 'left'\n",
    "            if left is not None:\n",
    "                equipo = nombre_local if left <= 50 else nombre_visitante\n",
    "            else:\n",
    "                equipo = \"desconocido\"\n",
    "            \n",
    "            data.append({\n",
    "                \"equipo\": equipo,\n",
    "                \"resultado\": resultado,\n",
    "                \"left_pct\": left,\n",
    "                \"top_pct\": top\n",
    "            })\n",
    "\n",
    "        df_tiros = pd.DataFrame(data)\n",
    "        print(f\"\\nDataFrame de tiros del partido ({nombre_local} vs {nombre_visitante}):\")\n",
    "        display(df_tiros.head(20))\n",
    "\n",
    "    except Exception as e:\n",
    "        print(f\"Ocurrió un error en la parte de Selenium: {e}\")\n",
    "    finally:\n",
    "        try:\n",
    "            driver.quit()\n",
    "        except NameError:\n",
    "            pass"
   ]
  },
  {
   "cell_type": "markdown",
   "id": "4594e8ad",
   "metadata": {},
   "source": [
    "### Box Score"
   ]
  },
  {
   "cell_type": "code",
   "execution_count": 6,
   "id": "91321b1a",
   "metadata": {},
   "outputs": [
    {
     "name": "stdout",
     "output_type": "stream",
     "text": [
      "El enlace del partido es: https://estadisticascabb.gesdeportiva.es/partido/7FrcQXet0O0dRypYCF4kWQ==?a=1\n",
      "\n",
      "Iniciando Selenium...\n",
      "Cambiando al iframe principal...\n",
      "Cambio al iframe principal exitoso.\n",
      "Buscando y haciendo clic en la pestaña 'Estadísticas'...\n",
      "Cambiando al iframe de datos de estadísticas...\n",
      "Acceso al iframe de datos exitoso.\n",
      "Extrayendo el código HTML final...\n",
      "Procesando el HTML para extraer datos de jugadores...\n",
      "\n",
      "Extrayendo datos de: FERRO\n",
      "Extrayendo datos de: PEÑAROL (MDP)\n",
      "\n",
      "✅ DataFrame final con todos los datos extraídos:\n",
      "\n",
      "Navegador cerrado.\n"
     ]
    },
    {
     "data": {
      "text/html": [
       "<div>\n",
       "<style scoped>\n",
       "    .dataframe tbody tr th:only-of-type {\n",
       "        vertical-align: middle;\n",
       "    }\n",
       "\n",
       "    .dataframe tbody tr th {\n",
       "        vertical-align: top;\n",
       "    }\n",
       "\n",
       "    .dataframe thead th {\n",
       "        text-align: right;\n",
       "    }\n",
       "</style>\n",
       "<table border=\"1\" class=\"dataframe\">\n",
       "  <thead>\n",
       "    <tr style=\"text-align: right;\">\n",
       "      <th></th>\n",
       "      <th>IdJugador</th>\n",
       "      <th>IdClub</th>\n",
       "      <th>IdEquipo</th>\n",
       "      <th>Nombre</th>\n",
       "      <th>NombreCompleto</th>\n",
       "      <th>Puntos</th>\n",
       "      <th>ReboteDefensivo</th>\n",
       "      <th>ReboteOfensivo</th>\n",
       "      <th>RebotesTotales</th>\n",
       "      <th>Asistencias</th>\n",
       "      <th>Recuperaciones</th>\n",
       "      <th>Perdidas</th>\n",
       "      <th>TaponCometido</th>\n",
       "      <th>TaponRecibido</th>\n",
       "      <th>FaltaCometida</th>\n",
       "      <th>FaltaRecibida</th>\n",
       "      <th>Valoracion</th>\n",
       "      <th>TiempoJuego</th>\n",
       "      <th>CincoInicial</th>\n",
       "      <th>equipo</th>\n",
       "      <th>TirosDosAciertos</th>\n",
       "      <th>TirosDosFallos</th>\n",
       "      <th>TirosTresAciertos</th>\n",
       "      <th>TirosTresFallos</th>\n",
       "      <th>TirosLibresAciertos</th>\n",
       "      <th>TirosLibresFallos</th>\n",
       "    </tr>\n",
       "  </thead>\n",
       "  <tbody>\n",
       "    <tr>\n",
       "      <th>0</th>\n",
       "      <td>68608</td>\n",
       "      <td>46</td>\n",
       "      <td>0</td>\n",
       "      <td>GONZALEZ, M.</td>\n",
       "      <td>GONZALEZ CELANO, MARTIN</td>\n",
       "      <td>0</td>\n",
       "      <td>0</td>\n",
       "      <td>0</td>\n",
       "      <td>0</td>\n",
       "      <td>0</td>\n",
       "      <td>0</td>\n",
       "      <td>0</td>\n",
       "      <td>0</td>\n",
       "      <td>0</td>\n",
       "      <td>0</td>\n",
       "      <td>0</td>\n",
       "      <td>0</td>\n",
       "      <td>00:00</td>\n",
       "      <td>False</td>\n",
       "      <td>FERRO</td>\n",
       "      <td>0</td>\n",
       "      <td>0</td>\n",
       "      <td>0</td>\n",
       "      <td>0</td>\n",
       "      <td>0</td>\n",
       "      <td>0</td>\n",
       "    </tr>\n",
       "    <tr>\n",
       "      <th>1</th>\n",
       "      <td>271508</td>\n",
       "      <td>46</td>\n",
       "      <td>0</td>\n",
       "      <td>LEZCANO, E.</td>\n",
       "      <td>LEZCANO, EMILIANO</td>\n",
       "      <td>14</td>\n",
       "      <td>4</td>\n",
       "      <td>0</td>\n",
       "      <td>4</td>\n",
       "      <td>2</td>\n",
       "      <td>0</td>\n",
       "      <td>3</td>\n",
       "      <td>1</td>\n",
       "      <td>1</td>\n",
       "      <td>4</td>\n",
       "      <td>2</td>\n",
       "      <td>6</td>\n",
       "      <td>32:07</td>\n",
       "      <td>True</td>\n",
       "      <td>FERRO</td>\n",
       "      <td>7</td>\n",
       "      <td>0</td>\n",
       "      <td>0</td>\n",
       "      <td>0</td>\n",
       "      <td>0</td>\n",
       "      <td>0</td>\n",
       "    </tr>\n",
       "    <tr>\n",
       "      <th>2</th>\n",
       "      <td>326914</td>\n",
       "      <td>46</td>\n",
       "      <td>0</td>\n",
       "      <td>LADO, M.</td>\n",
       "      <td>LADO, MOGGA CHARLES ARNADO</td>\n",
       "      <td>11</td>\n",
       "      <td>2</td>\n",
       "      <td>0</td>\n",
       "      <td>2</td>\n",
       "      <td>1</td>\n",
       "      <td>0</td>\n",
       "      <td>2</td>\n",
       "      <td>0</td>\n",
       "      <td>2</td>\n",
       "      <td>1</td>\n",
       "      <td>4</td>\n",
       "      <td>8</td>\n",
       "      <td>21:24</td>\n",
       "      <td>True</td>\n",
       "      <td>FERRO</td>\n",
       "      <td>4</td>\n",
       "      <td>0</td>\n",
       "      <td>0</td>\n",
       "      <td>0</td>\n",
       "      <td>3</td>\n",
       "      <td>0</td>\n",
       "    </tr>\n",
       "    <tr>\n",
       "      <th>3</th>\n",
       "      <td>324409</td>\n",
       "      <td>46</td>\n",
       "      <td>0</td>\n",
       "      <td>MARTINEZ, J.</td>\n",
       "      <td>MARTINEZ, JANO DAVID</td>\n",
       "      <td>5</td>\n",
       "      <td>2</td>\n",
       "      <td>1</td>\n",
       "      <td>3</td>\n",
       "      <td>1</td>\n",
       "      <td>2</td>\n",
       "      <td>1</td>\n",
       "      <td>0</td>\n",
       "      <td>0</td>\n",
       "      <td>3</td>\n",
       "      <td>0</td>\n",
       "      <td>-1</td>\n",
       "      <td>22:18</td>\n",
       "      <td>False</td>\n",
       "      <td>FERRO</td>\n",
       "      <td>1</td>\n",
       "      <td>0</td>\n",
       "      <td>1</td>\n",
       "      <td>0</td>\n",
       "      <td>0</td>\n",
       "      <td>0</td>\n",
       "    </tr>\n",
       "    <tr>\n",
       "      <th>4</th>\n",
       "      <td>271509</td>\n",
       "      <td>46</td>\n",
       "      <td>0</td>\n",
       "      <td>ROVERES, A.</td>\n",
       "      <td>ROVERES, AUGUSTO DANIEL</td>\n",
       "      <td>2</td>\n",
       "      <td>2</td>\n",
       "      <td>1</td>\n",
       "      <td>3</td>\n",
       "      <td>0</td>\n",
       "      <td>0</td>\n",
       "      <td>0</td>\n",
       "      <td>0</td>\n",
       "      <td>0</td>\n",
       "      <td>0</td>\n",
       "      <td>0</td>\n",
       "      <td>3</td>\n",
       "      <td>07:03</td>\n",
       "      <td>False</td>\n",
       "      <td>FERRO</td>\n",
       "      <td>1</td>\n",
       "      <td>0</td>\n",
       "      <td>0</td>\n",
       "      <td>0</td>\n",
       "      <td>0</td>\n",
       "      <td>0</td>\n",
       "    </tr>\n",
       "    <tr>\n",
       "      <th>5</th>\n",
       "      <td>74902</td>\n",
       "      <td>46</td>\n",
       "      <td>0</td>\n",
       "      <td>RODRIGUEZ, F.</td>\n",
       "      <td>RODRIGUEZ, FELIPE SALVADOR</td>\n",
       "      <td>3</td>\n",
       "      <td>6</td>\n",
       "      <td>0</td>\n",
       "      <td>6</td>\n",
       "      <td>0</td>\n",
       "      <td>1</td>\n",
       "      <td>0</td>\n",
       "      <td>0</td>\n",
       "      <td>0</td>\n",
       "      <td>3</td>\n",
       "      <td>0</td>\n",
       "      <td>3</td>\n",
       "      <td>20:11</td>\n",
       "      <td>True</td>\n",
       "      <td>FERRO</td>\n",
       "      <td>0</td>\n",
       "      <td>0</td>\n",
       "      <td>1</td>\n",
       "      <td>0</td>\n",
       "      <td>0</td>\n",
       "      <td>0</td>\n",
       "    </tr>\n",
       "    <tr>\n",
       "      <th>6</th>\n",
       "      <td>182885</td>\n",
       "      <td>46</td>\n",
       "      <td>0</td>\n",
       "      <td>WOLINSKY, F.</td>\n",
       "      <td>WOLINSKY, FACUNDO ARIEL</td>\n",
       "      <td>0</td>\n",
       "      <td>0</td>\n",
       "      <td>0</td>\n",
       "      <td>0</td>\n",
       "      <td>0</td>\n",
       "      <td>0</td>\n",
       "      <td>0</td>\n",
       "      <td>0</td>\n",
       "      <td>0</td>\n",
       "      <td>0</td>\n",
       "      <td>0</td>\n",
       "      <td>0</td>\n",
       "      <td>00:00</td>\n",
       "      <td>False</td>\n",
       "      <td>FERRO</td>\n",
       "      <td>0</td>\n",
       "      <td>0</td>\n",
       "      <td>0</td>\n",
       "      <td>0</td>\n",
       "      <td>0</td>\n",
       "      <td>0</td>\n",
       "    </tr>\n",
       "    <tr>\n",
       "      <th>7</th>\n",
       "      <td>278259</td>\n",
       "      <td>46</td>\n",
       "      <td>0</td>\n",
       "      <td>GALLEGOS, R.</td>\n",
       "      <td>GALLEGOS, RODRIGO AGUSTIN</td>\n",
       "      <td>19</td>\n",
       "      <td>8</td>\n",
       "      <td>1</td>\n",
       "      <td>9</td>\n",
       "      <td>5</td>\n",
       "      <td>1</td>\n",
       "      <td>2</td>\n",
       "      <td>0</td>\n",
       "      <td>0</td>\n",
       "      <td>5</td>\n",
       "      <td>4</td>\n",
       "      <td>25</td>\n",
       "      <td>32:29</td>\n",
       "      <td>True</td>\n",
       "      <td>FERRO</td>\n",
       "      <td>6</td>\n",
       "      <td>0</td>\n",
       "      <td>0</td>\n",
       "      <td>0</td>\n",
       "      <td>7</td>\n",
       "      <td>0</td>\n",
       "    </tr>\n",
       "    <tr>\n",
       "      <th>8</th>\n",
       "      <td>68602</td>\n",
       "      <td>46</td>\n",
       "      <td>0</td>\n",
       "      <td>RODRIGUEZ, C.</td>\n",
       "      <td>RODRIGUEZ, CAMILO</td>\n",
       "      <td>0</td>\n",
       "      <td>0</td>\n",
       "      <td>0</td>\n",
       "      <td>0</td>\n",
       "      <td>0</td>\n",
       "      <td>2</td>\n",
       "      <td>0</td>\n",
       "      <td>0</td>\n",
       "      <td>0</td>\n",
       "      <td>0</td>\n",
       "      <td>0</td>\n",
       "      <td>1</td>\n",
       "      <td>05:57</td>\n",
       "      <td>False</td>\n",
       "      <td>FERRO</td>\n",
       "      <td>0</td>\n",
       "      <td>0</td>\n",
       "      <td>0</td>\n",
       "      <td>0</td>\n",
       "      <td>0</td>\n",
       "      <td>0</td>\n",
       "    </tr>\n",
       "    <tr>\n",
       "      <th>9</th>\n",
       "      <td>325771</td>\n",
       "      <td>46</td>\n",
       "      <td>0</td>\n",
       "      <td>DIEZ, A.</td>\n",
       "      <td>DIEZ, ALEJANDRO GABRIEL</td>\n",
       "      <td>10</td>\n",
       "      <td>3</td>\n",
       "      <td>2</td>\n",
       "      <td>5</td>\n",
       "      <td>1</td>\n",
       "      <td>0</td>\n",
       "      <td>2</td>\n",
       "      <td>0</td>\n",
       "      <td>1</td>\n",
       "      <td>3</td>\n",
       "      <td>3</td>\n",
       "      <td>10</td>\n",
       "      <td>26:35</td>\n",
       "      <td>False</td>\n",
       "      <td>FERRO</td>\n",
       "      <td>4</td>\n",
       "      <td>0</td>\n",
       "      <td>0</td>\n",
       "      <td>0</td>\n",
       "      <td>2</td>\n",
       "      <td>0</td>\n",
       "    </tr>\n",
       "    <tr>\n",
       "      <th>10</th>\n",
       "      <td>22581</td>\n",
       "      <td>46</td>\n",
       "      <td>0</td>\n",
       "      <td>SPANO, T.</td>\n",
       "      <td>SPANO, TOMAS</td>\n",
       "      <td>6</td>\n",
       "      <td>4</td>\n",
       "      <td>0</td>\n",
       "      <td>4</td>\n",
       "      <td>6</td>\n",
       "      <td>2</td>\n",
       "      <td>3</td>\n",
       "      <td>0</td>\n",
       "      <td>1</td>\n",
       "      <td>1</td>\n",
       "      <td>1</td>\n",
       "      <td>10</td>\n",
       "      <td>34:05</td>\n",
       "      <td>False</td>\n",
       "      <td>FERRO</td>\n",
       "      <td>2</td>\n",
       "      <td>0</td>\n",
       "      <td>0</td>\n",
       "      <td>0</td>\n",
       "      <td>2</td>\n",
       "      <td>0</td>\n",
       "    </tr>\n",
       "    <tr>\n",
       "      <th>11</th>\n",
       "      <td>271029</td>\n",
       "      <td>46</td>\n",
       "      <td>0</td>\n",
       "      <td>FIERRO, M.</td>\n",
       "      <td>FIERRO, MARIANO</td>\n",
       "      <td>14</td>\n",
       "      <td>8</td>\n",
       "      <td>1</td>\n",
       "      <td>9</td>\n",
       "      <td>0</td>\n",
       "      <td>0</td>\n",
       "      <td>0</td>\n",
       "      <td>0</td>\n",
       "      <td>0</td>\n",
       "      <td>3</td>\n",
       "      <td>3</td>\n",
       "      <td>21</td>\n",
       "      <td>22:51</td>\n",
       "      <td>True</td>\n",
       "      <td>FERRO</td>\n",
       "      <td>3</td>\n",
       "      <td>0</td>\n",
       "      <td>2</td>\n",
       "      <td>0</td>\n",
       "      <td>2</td>\n",
       "      <td>0</td>\n",
       "    </tr>\n",
       "    <tr>\n",
       "      <th>12</th>\n",
       "      <td>277487</td>\n",
       "      <td>2376</td>\n",
       "      <td>0</td>\n",
       "      <td>FERNANDEZ, V.</td>\n",
       "      <td>FERNANDEZ, VICTOR LUIS</td>\n",
       "      <td>18</td>\n",
       "      <td>2</td>\n",
       "      <td>1</td>\n",
       "      <td>3</td>\n",
       "      <td>1</td>\n",
       "      <td>2</td>\n",
       "      <td>3</td>\n",
       "      <td>0</td>\n",
       "      <td>0</td>\n",
       "      <td>1</td>\n",
       "      <td>3</td>\n",
       "      <td>11</td>\n",
       "      <td>38:57</td>\n",
       "      <td>True</td>\n",
       "      <td>PEÑAROL (MDP)</td>\n",
       "      <td>3</td>\n",
       "      <td>0</td>\n",
       "      <td>3</td>\n",
       "      <td>0</td>\n",
       "      <td>3</td>\n",
       "      <td>0</td>\n",
       "    </tr>\n",
       "    <tr>\n",
       "      <th>13</th>\n",
       "      <td>211116</td>\n",
       "      <td>2376</td>\n",
       "      <td>0</td>\n",
       "      <td>THORNTON, W.</td>\n",
       "      <td>THORNTON, WILLIE ALFORD</td>\n",
       "      <td>25</td>\n",
       "      <td>11</td>\n",
       "      <td>1</td>\n",
       "      <td>12</td>\n",
       "      <td>1</td>\n",
       "      <td>0</td>\n",
       "      <td>0</td>\n",
       "      <td>4</td>\n",
       "      <td>0</td>\n",
       "      <td>2</td>\n",
       "      <td>5</td>\n",
       "      <td>38</td>\n",
       "      <td>34:37</td>\n",
       "      <td>True</td>\n",
       "      <td>PEÑAROL (MDP)</td>\n",
       "      <td>6</td>\n",
       "      <td>0</td>\n",
       "      <td>1</td>\n",
       "      <td>0</td>\n",
       "      <td>10</td>\n",
       "      <td>0</td>\n",
       "    </tr>\n",
       "    <tr>\n",
       "      <th>14</th>\n",
       "      <td>189628</td>\n",
       "      <td>2376</td>\n",
       "      <td>0</td>\n",
       "      <td>TOLOSA, F.</td>\n",
       "      <td>TOLOSA, FACUNDO GERMAN</td>\n",
       "      <td>0</td>\n",
       "      <td>1</td>\n",
       "      <td>0</td>\n",
       "      <td>1</td>\n",
       "      <td>0</td>\n",
       "      <td>0</td>\n",
       "      <td>0</td>\n",
       "      <td>0</td>\n",
       "      <td>0</td>\n",
       "      <td>1</td>\n",
       "      <td>0</td>\n",
       "      <td>-2</td>\n",
       "      <td>11:00</td>\n",
       "      <td>True</td>\n",
       "      <td>PEÑAROL (MDP)</td>\n",
       "      <td>0</td>\n",
       "      <td>0</td>\n",
       "      <td>0</td>\n",
       "      <td>0</td>\n",
       "      <td>0</td>\n",
       "      <td>0</td>\n",
       "    </tr>\n",
       "    <tr>\n",
       "      <th>15</th>\n",
       "      <td>274342</td>\n",
       "      <td>2376</td>\n",
       "      <td>0</td>\n",
       "      <td>CHAPERO, M.</td>\n",
       "      <td>CHAPERO, MARTIN</td>\n",
       "      <td>0</td>\n",
       "      <td>0</td>\n",
       "      <td>0</td>\n",
       "      <td>0</td>\n",
       "      <td>0</td>\n",
       "      <td>0</td>\n",
       "      <td>0</td>\n",
       "      <td>0</td>\n",
       "      <td>0</td>\n",
       "      <td>0</td>\n",
       "      <td>0</td>\n",
       "      <td>0</td>\n",
       "      <td>00:00</td>\n",
       "      <td>False</td>\n",
       "      <td>PEÑAROL (MDP)</td>\n",
       "      <td>0</td>\n",
       "      <td>0</td>\n",
       "      <td>0</td>\n",
       "      <td>0</td>\n",
       "      <td>0</td>\n",
       "      <td>0</td>\n",
       "    </tr>\n",
       "    <tr>\n",
       "      <th>16</th>\n",
       "      <td>322874</td>\n",
       "      <td>2376</td>\n",
       "      <td>0</td>\n",
       "      <td>CAUMO, J.</td>\n",
       "      <td>CAUMO, JOAQUIN</td>\n",
       "      <td>0</td>\n",
       "      <td>0</td>\n",
       "      <td>0</td>\n",
       "      <td>0</td>\n",
       "      <td>0</td>\n",
       "      <td>0</td>\n",
       "      <td>0</td>\n",
       "      <td>0</td>\n",
       "      <td>0</td>\n",
       "      <td>0</td>\n",
       "      <td>0</td>\n",
       "      <td>0</td>\n",
       "      <td>00:00</td>\n",
       "      <td>False</td>\n",
       "      <td>PEÑAROL (MDP)</td>\n",
       "      <td>0</td>\n",
       "      <td>0</td>\n",
       "      <td>0</td>\n",
       "      <td>0</td>\n",
       "      <td>0</td>\n",
       "      <td>0</td>\n",
       "    </tr>\n",
       "    <tr>\n",
       "      <th>17</th>\n",
       "      <td>220521</td>\n",
       "      <td>2376</td>\n",
       "      <td>0</td>\n",
       "      <td>CHIARAVIGLIO, N.</td>\n",
       "      <td>CHIARAVIGLIO, NICOLAS</td>\n",
       "      <td>9</td>\n",
       "      <td>3</td>\n",
       "      <td>0</td>\n",
       "      <td>3</td>\n",
       "      <td>0</td>\n",
       "      <td>1</td>\n",
       "      <td>0</td>\n",
       "      <td>0</td>\n",
       "      <td>0</td>\n",
       "      <td>3</td>\n",
       "      <td>2</td>\n",
       "      <td>7</td>\n",
       "      <td>39:07</td>\n",
       "      <td>False</td>\n",
       "      <td>PEÑAROL (MDP)</td>\n",
       "      <td>0</td>\n",
       "      <td>0</td>\n",
       "      <td>3</td>\n",
       "      <td>0</td>\n",
       "      <td>0</td>\n",
       "      <td>0</td>\n",
       "    </tr>\n",
       "    <tr>\n",
       "      <th>18</th>\n",
       "      <td>93423</td>\n",
       "      <td>2376</td>\n",
       "      <td>0</td>\n",
       "      <td>BEDNAREK, I.</td>\n",
       "      <td>BEDNAREK, IGNACIO NICOLAS</td>\n",
       "      <td>2</td>\n",
       "      <td>4</td>\n",
       "      <td>0</td>\n",
       "      <td>4</td>\n",
       "      <td>1</td>\n",
       "      <td>1</td>\n",
       "      <td>1</td>\n",
       "      <td>1</td>\n",
       "      <td>0</td>\n",
       "      <td>3</td>\n",
       "      <td>0</td>\n",
       "      <td>4</td>\n",
       "      <td>16:16</td>\n",
       "      <td>True</td>\n",
       "      <td>PEÑAROL (MDP)</td>\n",
       "      <td>1</td>\n",
       "      <td>0</td>\n",
       "      <td>0</td>\n",
       "      <td>0</td>\n",
       "      <td>0</td>\n",
       "      <td>0</td>\n",
       "    </tr>\n",
       "    <tr>\n",
       "      <th>19</th>\n",
       "      <td>274664</td>\n",
       "      <td>2376</td>\n",
       "      <td>0</td>\n",
       "      <td>AMAN, G.</td>\n",
       "      <td>AMAN, GONZALO</td>\n",
       "      <td>0</td>\n",
       "      <td>0</td>\n",
       "      <td>0</td>\n",
       "      <td>0</td>\n",
       "      <td>0</td>\n",
       "      <td>0</td>\n",
       "      <td>0</td>\n",
       "      <td>0</td>\n",
       "      <td>0</td>\n",
       "      <td>0</td>\n",
       "      <td>0</td>\n",
       "      <td>0</td>\n",
       "      <td>00:00</td>\n",
       "      <td>False</td>\n",
       "      <td>PEÑAROL (MDP)</td>\n",
       "      <td>0</td>\n",
       "      <td>0</td>\n",
       "      <td>0</td>\n",
       "      <td>0</td>\n",
       "      <td>0</td>\n",
       "      <td>0</td>\n",
       "    </tr>\n",
       "    <tr>\n",
       "      <th>20</th>\n",
       "      <td>325394</td>\n",
       "      <td>2376</td>\n",
       "      <td>0</td>\n",
       "      <td>ANDUJAR, L.</td>\n",
       "      <td>ANDUJAR, LUCAS</td>\n",
       "      <td>1</td>\n",
       "      <td>3</td>\n",
       "      <td>3</td>\n",
       "      <td>6</td>\n",
       "      <td>3</td>\n",
       "      <td>3</td>\n",
       "      <td>2</td>\n",
       "      <td>0</td>\n",
       "      <td>0</td>\n",
       "      <td>5</td>\n",
       "      <td>1</td>\n",
       "      <td>0</td>\n",
       "      <td>28:25</td>\n",
       "      <td>False</td>\n",
       "      <td>PEÑAROL (MDP)</td>\n",
       "      <td>0</td>\n",
       "      <td>0</td>\n",
       "      <td>0</td>\n",
       "      <td>0</td>\n",
       "      <td>1</td>\n",
       "      <td>0</td>\n",
       "    </tr>\n",
       "    <tr>\n",
       "      <th>21</th>\n",
       "      <td>326636</td>\n",
       "      <td>2376</td>\n",
       "      <td>0</td>\n",
       "      <td>WALLACE, D.</td>\n",
       "      <td>WALLACE, DEVANTE RASHAD-KEITH</td>\n",
       "      <td>8</td>\n",
       "      <td>1</td>\n",
       "      <td>1</td>\n",
       "      <td>2</td>\n",
       "      <td>0</td>\n",
       "      <td>1</td>\n",
       "      <td>2</td>\n",
       "      <td>0</td>\n",
       "      <td>0</td>\n",
       "      <td>2</td>\n",
       "      <td>0</td>\n",
       "      <td>2</td>\n",
       "      <td>16:31</td>\n",
       "      <td>False</td>\n",
       "      <td>PEÑAROL (MDP)</td>\n",
       "      <td>1</td>\n",
       "      <td>0</td>\n",
       "      <td>2</td>\n",
       "      <td>0</td>\n",
       "      <td>0</td>\n",
       "      <td>0</td>\n",
       "    </tr>\n",
       "    <tr>\n",
       "      <th>22</th>\n",
       "      <td>272375</td>\n",
       "      <td>2376</td>\n",
       "      <td>0</td>\n",
       "      <td>ROSSI, G.</td>\n",
       "      <td>ROSSI, GIAN LUCA</td>\n",
       "      <td>0</td>\n",
       "      <td>0</td>\n",
       "      <td>0</td>\n",
       "      <td>0</td>\n",
       "      <td>0</td>\n",
       "      <td>0</td>\n",
       "      <td>0</td>\n",
       "      <td>0</td>\n",
       "      <td>0</td>\n",
       "      <td>0</td>\n",
       "      <td>0</td>\n",
       "      <td>0</td>\n",
       "      <td>00:00</td>\n",
       "      <td>False</td>\n",
       "      <td>PEÑAROL (MDP)</td>\n",
       "      <td>0</td>\n",
       "      <td>0</td>\n",
       "      <td>0</td>\n",
       "      <td>0</td>\n",
       "      <td>0</td>\n",
       "      <td>0</td>\n",
       "    </tr>\n",
       "    <tr>\n",
       "      <th>23</th>\n",
       "      <td>327540</td>\n",
       "      <td>2376</td>\n",
       "      <td>0</td>\n",
       "      <td>THOMAS, M.</td>\n",
       "      <td>THOMAS JR, MARCUS WILEY</td>\n",
       "      <td>19</td>\n",
       "      <td>5</td>\n",
       "      <td>2</td>\n",
       "      <td>7</td>\n",
       "      <td>1</td>\n",
       "      <td>1</td>\n",
       "      <td>2</td>\n",
       "      <td>0</td>\n",
       "      <td>1</td>\n",
       "      <td>1</td>\n",
       "      <td>12</td>\n",
       "      <td>22</td>\n",
       "      <td>40:08</td>\n",
       "      <td>True</td>\n",
       "      <td>PEÑAROL (MDP)</td>\n",
       "      <td>4</td>\n",
       "      <td>0</td>\n",
       "      <td>0</td>\n",
       "      <td>0</td>\n",
       "      <td>11</td>\n",
       "      <td>0</td>\n",
       "    </tr>\n",
       "  </tbody>\n",
       "</table>\n",
       "</div>"
      ],
      "text/plain": [
       "    IdJugador  IdClub  IdEquipo            Nombre  \\\n",
       "0       68608      46         0      GONZALEZ, M.   \n",
       "1      271508      46         0       LEZCANO, E.   \n",
       "2      326914      46         0          LADO, M.   \n",
       "3      324409      46         0      MARTINEZ, J.   \n",
       "4      271509      46         0       ROVERES, A.   \n",
       "5       74902      46         0     RODRIGUEZ, F.   \n",
       "6      182885      46         0      WOLINSKY, F.   \n",
       "7      278259      46         0      GALLEGOS, R.   \n",
       "8       68602      46         0     RODRIGUEZ, C.   \n",
       "9      325771      46         0          DIEZ, A.   \n",
       "10      22581      46         0         SPANO, T.   \n",
       "11     271029      46         0        FIERRO, M.   \n",
       "12     277487    2376         0     FERNANDEZ, V.   \n",
       "13     211116    2376         0      THORNTON, W.   \n",
       "14     189628    2376         0        TOLOSA, F.   \n",
       "15     274342    2376         0       CHAPERO, M.   \n",
       "16     322874    2376         0         CAUMO, J.   \n",
       "17     220521    2376         0  CHIARAVIGLIO, N.   \n",
       "18      93423    2376         0      BEDNAREK, I.   \n",
       "19     274664    2376         0          AMAN, G.   \n",
       "20     325394    2376         0       ANDUJAR, L.   \n",
       "21     326636    2376         0       WALLACE, D.   \n",
       "22     272375    2376         0         ROSSI, G.   \n",
       "23     327540    2376         0        THOMAS, M.   \n",
       "\n",
       "                   NombreCompleto  Puntos  ReboteDefensivo  ReboteOfensivo  \\\n",
       "0         GONZALEZ CELANO, MARTIN       0                0               0   \n",
       "1               LEZCANO, EMILIANO      14                4               0   \n",
       "2      LADO, MOGGA CHARLES ARNADO      11                2               0   \n",
       "3            MARTINEZ, JANO DAVID       5                2               1   \n",
       "4         ROVERES, AUGUSTO DANIEL       2                2               1   \n",
       "5      RODRIGUEZ, FELIPE SALVADOR       3                6               0   \n",
       "6         WOLINSKY, FACUNDO ARIEL       0                0               0   \n",
       "7       GALLEGOS, RODRIGO AGUSTIN      19                8               1   \n",
       "8               RODRIGUEZ, CAMILO       0                0               0   \n",
       "9         DIEZ, ALEJANDRO GABRIEL      10                3               2   \n",
       "10                   SPANO, TOMAS       6                4               0   \n",
       "11                FIERRO, MARIANO      14                8               1   \n",
       "12         FERNANDEZ, VICTOR LUIS      18                2               1   \n",
       "13        THORNTON, WILLIE ALFORD      25               11               1   \n",
       "14         TOLOSA, FACUNDO GERMAN       0                1               0   \n",
       "15               CHAPERO, MARTIN        0                0               0   \n",
       "16                 CAUMO, JOAQUIN       0                0               0   \n",
       "17          CHIARAVIGLIO, NICOLAS       9                3               0   \n",
       "18      BEDNAREK, IGNACIO NICOLAS       2                4               0   \n",
       "19                  AMAN, GONZALO       0                0               0   \n",
       "20                 ANDUJAR, LUCAS       1                3               3   \n",
       "21  WALLACE, DEVANTE RASHAD-KEITH       8                1               1   \n",
       "22               ROSSI, GIAN LUCA       0                0               0   \n",
       "23        THOMAS JR, MARCUS WILEY      19                5               2   \n",
       "\n",
       "    RebotesTotales  Asistencias  Recuperaciones  Perdidas  TaponCometido  \\\n",
       "0                0            0               0         0              0   \n",
       "1                4            2               0         3              1   \n",
       "2                2            1               0         2              0   \n",
       "3                3            1               2         1              0   \n",
       "4                3            0               0         0              0   \n",
       "5                6            0               1         0              0   \n",
       "6                0            0               0         0              0   \n",
       "7                9            5               1         2              0   \n",
       "8                0            0               2         0              0   \n",
       "9                5            1               0         2              0   \n",
       "10               4            6               2         3              0   \n",
       "11               9            0               0         0              0   \n",
       "12               3            1               2         3              0   \n",
       "13              12            1               0         0              4   \n",
       "14               1            0               0         0              0   \n",
       "15               0            0               0         0              0   \n",
       "16               0            0               0         0              0   \n",
       "17               3            0               1         0              0   \n",
       "18               4            1               1         1              1   \n",
       "19               0            0               0         0              0   \n",
       "20               6            3               3         2              0   \n",
       "21               2            0               1         2              0   \n",
       "22               0            0               0         0              0   \n",
       "23               7            1               1         2              0   \n",
       "\n",
       "    TaponRecibido  FaltaCometida  FaltaRecibida  Valoracion TiempoJuego  \\\n",
       "0               0              0              0           0       00:00   \n",
       "1               1              4              2           6       32:07   \n",
       "2               2              1              4           8       21:24   \n",
       "3               0              3              0          -1       22:18   \n",
       "4               0              0              0           3       07:03   \n",
       "5               0              3              0           3       20:11   \n",
       "6               0              0              0           0       00:00   \n",
       "7               0              5              4          25       32:29   \n",
       "8               0              0              0           1       05:57   \n",
       "9               1              3              3          10       26:35   \n",
       "10              1              1              1          10       34:05   \n",
       "11              0              3              3          21       22:51   \n",
       "12              0              1              3          11       38:57   \n",
       "13              0              2              5          38       34:37   \n",
       "14              0              1              0          -2       11:00   \n",
       "15              0              0              0           0       00:00   \n",
       "16              0              0              0           0       00:00   \n",
       "17              0              3              2           7       39:07   \n",
       "18              0              3              0           4       16:16   \n",
       "19              0              0              0           0       00:00   \n",
       "20              0              5              1           0       28:25   \n",
       "21              0              2              0           2       16:31   \n",
       "22              0              0              0           0       00:00   \n",
       "23              1              1             12          22       40:08   \n",
       "\n",
       "    CincoInicial         equipo  TirosDosAciertos  TirosDosFallos  \\\n",
       "0          False          FERRO                 0               0   \n",
       "1           True          FERRO                 7               0   \n",
       "2           True          FERRO                 4               0   \n",
       "3          False          FERRO                 1               0   \n",
       "4          False          FERRO                 1               0   \n",
       "5           True          FERRO                 0               0   \n",
       "6          False          FERRO                 0               0   \n",
       "7           True          FERRO                 6               0   \n",
       "8          False          FERRO                 0               0   \n",
       "9          False          FERRO                 4               0   \n",
       "10         False          FERRO                 2               0   \n",
       "11          True          FERRO                 3               0   \n",
       "12          True  PEÑAROL (MDP)                 3               0   \n",
       "13          True  PEÑAROL (MDP)                 6               0   \n",
       "14          True  PEÑAROL (MDP)                 0               0   \n",
       "15         False  PEÑAROL (MDP)                 0               0   \n",
       "16         False  PEÑAROL (MDP)                 0               0   \n",
       "17         False  PEÑAROL (MDP)                 0               0   \n",
       "18          True  PEÑAROL (MDP)                 1               0   \n",
       "19         False  PEÑAROL (MDP)                 0               0   \n",
       "20         False  PEÑAROL (MDP)                 0               0   \n",
       "21         False  PEÑAROL (MDP)                 1               0   \n",
       "22         False  PEÑAROL (MDP)                 0               0   \n",
       "23          True  PEÑAROL (MDP)                 4               0   \n",
       "\n",
       "    TirosTresAciertos  TirosTresFallos  TirosLibresAciertos  TirosLibresFallos  \n",
       "0                   0                0                    0                  0  \n",
       "1                   0                0                    0                  0  \n",
       "2                   0                0                    3                  0  \n",
       "3                   1                0                    0                  0  \n",
       "4                   0                0                    0                  0  \n",
       "5                   1                0                    0                  0  \n",
       "6                   0                0                    0                  0  \n",
       "7                   0                0                    7                  0  \n",
       "8                   0                0                    0                  0  \n",
       "9                   0                0                    2                  0  \n",
       "10                  0                0                    2                  0  \n",
       "11                  2                0                    2                  0  \n",
       "12                  3                0                    3                  0  \n",
       "13                  1                0                   10                  0  \n",
       "14                  0                0                    0                  0  \n",
       "15                  0                0                    0                  0  \n",
       "16                  0                0                    0                  0  \n",
       "17                  3                0                    0                  0  \n",
       "18                  0                0                    0                  0  \n",
       "19                  0                0                    0                  0  \n",
       "20                  0                0                    1                  0  \n",
       "21                  2                0                    0                  0  \n",
       "22                  0                0                    0                  0  \n",
       "23                  0                0                   11                  0  "
      ]
     },
     "execution_count": 6,
     "metadata": {},
     "output_type": "execute_result"
    }
   ],
   "source": [
    "# --- Datos de ejemplo ---\n",
    "# match_data = {\n",
    "#     \"ATENAS (C) vs BOCA (07/10/2024 22:10)\": {\n",
    "#         \"link_estadisticas\": \"https://estadisticascabb.gesdeportiva.es/partido/rM2-eTJQHJsR2FLJYE8GRw==?a=1\"\n",
    "#     }\n",
    "# }\n",
    "# --- Fin del ejemplo ---\n",
    "\n",
    "all_player_stats = []\n",
    "driver = None\n",
    "\n",
    "try:\n",
    "    # primer_partido_key = list(match_data.keys())[0]  # Obtener el último partido del diccionario\n",
    "    # primer_link = match_data[primer_partido_key][\"link_estadisticas\"]\n",
    "\n",
    "    partido_key = 'FERRO vs PEÑAROL (MDP) (009/10/2024 20:00)'\n",
    "    partido_info = match_data[partido_key][\"link_estadisticas\"]\n",
    "    print(f\"El enlace del partido es: {primer_link}\")\n",
    "\n",
    "    # --- Parte 1: NAVEGACIÓN CON SELENIUM (YA FUNCIONA CORRECTAMENTE) ---\n",
    "    print(\"\\nIniciando Selenium...\")\n",
    "    options = Options()\n",
    "    options.add_argument(\"--headless\")\n",
    "    options.add_argument(\"--no-sandbox\")\n",
    "    options.add_argument(\"--disable-dev-shm-usage\")\n",
    "    options.add_argument(\"user-agent=Mozilla/5.0 (Windows NT 10.0; Win64; x64) AppleWebKit/537.36 (KHTML, like Gecko) Chrome/91.0.4472.124 Safari/537.36\")\n",
    "\n",
    "    driver = webdriver.Chrome(service=Service(ChromeDriverManager().install()), options=options)\n",
    "    driver.get(primer_link)\n",
    "    \n",
    "    wait = WebDriverWait(driver, 20)\n",
    "\n",
    "    print(\"Cambiando al iframe principal...\")\n",
    "    wait.until(EC.frame_to_be_available_and_switch_to_it((By.TAG_NAME, \"iframe\")))\n",
    "    print(\"Cambio al iframe principal exitoso.\")\n",
    "\n",
    "    print(\"Buscando y haciendo clic en la pestaña 'Estadísticas'...\")\n",
    "    tab_selector = (By.CSS_SELECTOR, \"li.pestana-estadisticas\")\n",
    "    estadisticas_tab_element = wait.until(EC.visibility_of_element_located(tab_selector))\n",
    "    driver.execute_script(\"arguments[0].click();\", estadisticas_tab_element)\n",
    "    time.sleep(1)\n",
    "\n",
    "    print(\"Cambiando al iframe de datos de estadísticas...\")\n",
    "    iframe_de_datos_selector = (By.CSS_SELECTOR, \"div.contenido-estadisticas.activo iframe\")\n",
    "    wait.until(EC.frame_to_be_available_and_switch_to_it(iframe_de_datos_selector))\n",
    "    print(\"Acceso al iframe de datos exitoso.\")\n",
    "\n",
    "    print(\"Extrayendo el código HTML final...\")\n",
    "    html_box_scores = driver.page_source\n",
    "    \n",
    "    # --- Parte 2: EXTRACCIÓN CON BEAUTIFULSOUP (SECCIÓN CORREGIDA) ---\n",
    "    print(\"Procesando el HTML para extraer datos de jugadores...\")\n",
    "    soup = BeautifulSoup(html_box_scores, \"html.parser\")\n",
    "    \n",
    "    # --- INICIO DE LA CORRECCIÓN ---\n",
    "    # Hacemos la búsqueda de los nombres de equipo de forma segura\n",
    "    \n",
    "    equipo_local_nombre = \"Local\" # Valor por defecto\n",
    "    equipo_visitante_nombre = \"Visitante\" # Valor por defecto\n",
    "    \n",
    "    # Buscamos los divs que contienen los nombres de los equipos.\n",
    "    # El selector 'div.nombre-equipo' es un candidato común.\n",
    "    divs_nombres = soup.find_all(\"div\", class_=\"nombre-equipo\")\n",
    "    if len(divs_nombres) >= 2:\n",
    "        equipo_local_nombre = divs_nombres[0].get_text(strip=True)\n",
    "        equipo_visitante_nombre = divs_nombres[1].get_text(strip=True)\n",
    "    else:\n",
    "        print(\"Advertencia: No se encontraron los nombres de equipo con el selector 'div.nombre-equipo'. Se usarán nombres genéricos.\")\n",
    "    # --- FIN DE LA CORRECCIÓN ---\n",
    "\n",
    "    tablas = soup.find_all(\"table\", class_=\"tabla-estadisticas\")\n",
    "    \n",
    "    if len(tablas) >= 2:\n",
    "        print(f\"\\nExtrayendo datos de: {equipo_local_nombre}\")\n",
    "        for fila in tablas[0].find(\"tbody\").find_all(\"tr\", onclick=True):\n",
    "            onclick_attr = fila[\"onclick\"]\n",
    "            match = re.search(r\"(\\{.*\\})\", onclick_attr)\n",
    "            if match:\n",
    "                json_str = match.group(1).replace(\"'\", '\"')\n",
    "                player_data = json.loads(json_str)\n",
    "                player_data['equipo'] = equipo_local_nombre\n",
    "                all_player_stats.append(player_data)\n",
    "\n",
    "        print(f\"Extrayendo datos de: {equipo_visitante_nombre}\")\n",
    "        for fila in tablas[1].find(\"tbody\").find_all(\"tr\", onclick=True):\n",
    "            onclick_attr = fila[\"onclick\"]\n",
    "            match = re.search(r\"(\\{.*\\})\", onclick_attr)\n",
    "            if match:\n",
    "                json_str = match.group(1).replace(\"'\", '\"')\n",
    "                player_data = json.loads(json_str)\n",
    "                player_data['equipo'] = equipo_visitante_nombre\n",
    "                all_player_stats.append(player_data)\n",
    "    \n",
    "    # --- Parte 3: PRESENTACIÓN DE DATOS CON PANDAS ---\n",
    "    if all_player_stats:\n",
    "        df_box_scores = pd.DataFrame(all_player_stats)\n",
    "        print(\"\\n✅ DataFrame final con todos los datos extraídos:\")\n",
    "        df_box_scores\n",
    "    else:\n",
    "        print(\"\\nNo se pudieron extraer datos de jugadores del HTML.\")\n",
    "\n",
    "except Exception as e:\n",
    "    print(f\"Ocurrió un error general: {e}\")\n",
    "finally:\n",
    "    if driver:\n",
    "        driver.quit()\n",
    "        print(\"\\nNavegador cerrado.\")\n",
    "\n",
    "df_box_scores = df_box_scores[['IdJugador', 'IdClub', 'IdEquipo', 'Nombre', 'NombreCompleto',\n",
    "                              'Puntos', 'TirosDos', 'TirosTres', 'TirosLibres',\n",
    "                              'ReboteDefensivo', 'ReboteOfensivo', 'RebotesTotales',\n",
    "                              'Asistencias', 'Recuperaciones', 'Perdidas',\n",
    "                              'TaponCometido','TaponRecibido', 'FaltaCometida','FaltaRecibida','Valoracion',\n",
    "                              'TiempoJuego', 'CincoInicial', 'equipo']]\n",
    "# Lista de las columnas que contienen diccionarios para procesar\n",
    "columnas_con_diccionarios = ['TirosDos', 'TirosTres', 'TirosLibres']\n",
    "\n",
    "# Iteramos sobre cada columna que necesitamos transformar\n",
    "for columna in columnas_con_diccionarios:\n",
    "    if columna in df_box_scores.columns:\n",
    "        # Creamos la nueva columna para 'Aciertos'\n",
    "        # La función lambda toma cada diccionario (x) de la columna y extrae el valor de 'Aciertos'\n",
    "        # .get('Aciertos', 0) es una forma segura que devuelve 0 si la clave 'Aciertos' no existe\n",
    "        df_box_scores[f'{columna}Aciertos'] = df_box_scores[columna].apply(lambda x: x.get('Aciertos', 0))\n",
    "        \n",
    "        # Creamos la nueva columna para 'Fallos'\n",
    "        df_box_scores[f'{columna}Fallos'] = df_box_scores[columna].apply(lambda x: x.get('Fallos', 0))\n",
    "\n",
    "# Eliminamos las columnas originales que contenían los diccionarios para limpiar el DataFrame\n",
    "df_box_scores = df_box_scores.drop(columns=columnas_con_diccionarios)\n",
    "df_box_scores\n"
   ]
  },
  {
   "cell_type": "code",
   "execution_count": 7,
   "id": "08f0496e",
   "metadata": {},
   "outputs": [
    {
     "data": {
      "text/plain": [
       "Index(['IdJugador', 'IdClub', 'IdEquipo', 'Nombre', 'NombreCompleto', 'Puntos',\n",
       "       'ReboteDefensivo', 'ReboteOfensivo', 'RebotesTotales', 'Asistencias',\n",
       "       'Recuperaciones', 'Perdidas', 'TaponCometido', 'TaponRecibido',\n",
       "       'FaltaCometida', 'FaltaRecibida', 'Valoracion', 'TiempoJuego',\n",
       "       'CincoInicial', 'equipo', 'TirosDosAciertos', 'TirosDosFallos',\n",
       "       'TirosTresAciertos', 'TirosTresFallos', 'TirosLibresAciertos',\n",
       "       'TirosLibresFallos'],\n",
       "      dtype='object')"
      ]
     },
     "execution_count": 7,
     "metadata": {},
     "output_type": "execute_result"
    }
   ],
   "source": [
    "df_box_scores.columns"
   ]
  },
  {
   "cell_type": "markdown",
   "id": "6fee737f",
   "metadata": {},
   "source": [
    "### Play by Play"
   ]
  },
  {
   "cell_type": "code",
   "execution_count": 8,
   "id": "5c98b12d",
   "metadata": {},
   "outputs": [
    {
     "name": "stdout",
     "output_type": "stream",
     "text": [
      "El enlace del partido es: https://estadisticascabb.gesdeportiva.es/partido/7FrcQXet0O0dRypYCF4kWQ==?a=1\n",
      "\n",
      "Iniciando Selenium...\n",
      "Cambiando al iframe principal...\n",
      "Cambio al iframe principal exitoso.\n",
      "Haciendo clic en la pestaña 'En vivo'...\n",
      "Cambiando al iframe anidado del Play-by-Play...\n",
      "Acceso al iframe final del Play-by-Play exitoso.\n",
      "Procesando el HTML para extraer las acciones del partido...\n",
      "Se encontraron 606 acciones en el partido.\n",
      "\n",
      "✅ DataFrame con marcador en cada acción:\n"
     ]
    },
    {
     "data": {
      "text/html": [
       "<div>\n",
       "<style scoped>\n",
       "    .dataframe tbody tr th:only-of-type {\n",
       "        vertical-align: middle;\n",
       "    }\n",
       "\n",
       "    .dataframe tbody tr th {\n",
       "        vertical-align: top;\n",
       "    }\n",
       "\n",
       "    .dataframe thead th {\n",
       "        text-align: right;\n",
       "    }\n",
       "</style>\n",
       "<table border=\"1\" class=\"dataframe\">\n",
       "  <thead>\n",
       "    <tr style=\"text-align: right;\">\n",
       "      <th></th>\n",
       "      <th>cuarto</th>\n",
       "      <th>tiempo</th>\n",
       "      <th>accion</th>\n",
       "      <th>jugador</th>\n",
       "      <th>puntos_local</th>\n",
       "      <th>puntos_visita</th>\n",
       "    </tr>\n",
       "  </thead>\n",
       "  <tbody>\n",
       "    <tr>\n",
       "      <th>0</th>\n",
       "      <td></td>\n",
       "      <td></td>\n",
       "      <td>FINAL DEL PERIODO5</td>\n",
       "      <td></td>\n",
       "      <td>NaN</td>\n",
       "      <td>NaN</td>\n",
       "    </tr>\n",
       "    <tr>\n",
       "      <th>1</th>\n",
       "      <td>5</td>\n",
       "      <td>00:00:01</td>\n",
       "      <td>REBOTE DEFENSIVO#9</td>\n",
       "      <td>RODRIGUEZ, FELIPE SALVADOR</td>\n",
       "      <td>NaN</td>\n",
       "      <td>NaN</td>\n",
       "    </tr>\n",
       "    <tr>\n",
       "      <th>2</th>\n",
       "      <td>5</td>\n",
       "      <td>00:00:02</td>\n",
       "      <td>TIRO DE 2 FALLADO</td>\n",
       "      <td>WALLACE, DEVANTE RASHAD-KEITH</td>\n",
       "      <td>NaN</td>\n",
       "      <td>NaN</td>\n",
       "    </tr>\n",
       "    <tr>\n",
       "      <th>3</th>\n",
       "      <td>5</td>\n",
       "      <td>00:00:02</td>\n",
       "      <td>REBOTE OFENSIVO#24</td>\n",
       "      <td>WALLACE, DEVANTE RASHAD-KEITH</td>\n",
       "      <td>NaN</td>\n",
       "      <td>NaN</td>\n",
       "    </tr>\n",
       "    <tr>\n",
       "      <th>4</th>\n",
       "      <td>5</td>\n",
       "      <td>00:00:02</td>\n",
       "      <td>TIRO LIBRE FALLADO</td>\n",
       "      <td>THOMAS JR, MARCUS WILEY</td>\n",
       "      <td>NaN</td>\n",
       "      <td>NaN</td>\n",
       "    </tr>\n",
       "    <tr>\n",
       "      <th>5</th>\n",
       "      <td>5</td>\n",
       "      <td>00:00:02</td>\n",
       "      <td>TIRO LIBRE ANOTADO</td>\n",
       "      <td>THOMAS JR, MARCUS WILEY</td>\n",
       "      <td>84.0</td>\n",
       "      <td>82.0</td>\n",
       "    </tr>\n",
       "    <tr>\n",
       "      <th>6</th>\n",
       "      <td>5</td>\n",
       "      <td>00:00:02</td>\n",
       "      <td>2 TIROS LIBRES PARA EL#50</td>\n",
       "      <td>THOMAS JR, MARCUS WILEY</td>\n",
       "      <td>NaN</td>\n",
       "      <td>NaN</td>\n",
       "    </tr>\n",
       "    <tr>\n",
       "      <th>7</th>\n",
       "      <td>5</td>\n",
       "      <td>00:00:02</td>\n",
       "      <td>ENTRA A PISTA EL#93</td>\n",
       "      <td>FIERRO, MARIANO</td>\n",
       "      <td>NaN</td>\n",
       "      <td>NaN</td>\n",
       "    </tr>\n",
       "    <tr>\n",
       "      <th>8</th>\n",
       "      <td>5</td>\n",
       "      <td>00:00:02</td>\n",
       "      <td>ABANDONA LA PISTA EL#12</td>\n",
       "      <td>GALLEGOS, RODRIGO AGUSTIN</td>\n",
       "      <td>NaN</td>\n",
       "      <td>NaN</td>\n",
       "    </tr>\n",
       "    <tr>\n",
       "      <th>9</th>\n",
       "      <td>5</td>\n",
       "      <td>00:00:02</td>\n",
       "      <td>FALTA RECIBIDA</td>\n",
       "      <td>THOMAS JR, MARCUS WILEY</td>\n",
       "      <td>NaN</td>\n",
       "      <td>NaN</td>\n",
       "    </tr>\n",
       "  </tbody>\n",
       "</table>\n",
       "</div>"
      ],
      "text/plain": [
       "  cuarto    tiempo                     accion                        jugador  \\\n",
       "0                          FINAL DEL PERIODO5                                  \n",
       "1      5  00:00:01         REBOTE DEFENSIVO#9     RODRIGUEZ, FELIPE SALVADOR   \n",
       "2      5  00:00:02          TIRO DE 2 FALLADO  WALLACE, DEVANTE RASHAD-KEITH   \n",
       "3      5  00:00:02         REBOTE OFENSIVO#24  WALLACE, DEVANTE RASHAD-KEITH   \n",
       "4      5  00:00:02         TIRO LIBRE FALLADO        THOMAS JR, MARCUS WILEY   \n",
       "5      5  00:00:02         TIRO LIBRE ANOTADO        THOMAS JR, MARCUS WILEY   \n",
       "6      5  00:00:02  2 TIROS LIBRES PARA EL#50        THOMAS JR, MARCUS WILEY   \n",
       "7      5  00:00:02        ENTRA A PISTA EL#93                FIERRO, MARIANO   \n",
       "8      5  00:00:02    ABANDONA LA PISTA EL#12      GALLEGOS, RODRIGO AGUSTIN   \n",
       "9      5  00:00:02             FALTA RECIBIDA        THOMAS JR, MARCUS WILEY   \n",
       "\n",
       "   puntos_local  puntos_visita  \n",
       "0           NaN            NaN  \n",
       "1           NaN            NaN  \n",
       "2           NaN            NaN  \n",
       "3           NaN            NaN  \n",
       "4           NaN            NaN  \n",
       "5          84.0           82.0  \n",
       "6           NaN            NaN  \n",
       "7           NaN            NaN  \n",
       "8           NaN            NaN  \n",
       "9           NaN            NaN  "
      ]
     },
     "metadata": {},
     "output_type": "display_data"
    },
    {
     "name": "stdout",
     "output_type": "stream",
     "text": [
      "\n",
      "Navegador cerrado.\n"
     ]
    }
   ],
   "source": [
    "acciones_del_partido = []\n",
    "driver = None\n",
    "\n",
    "try:\n",
    "    # Asumiendo que 'match_data' ya fue creada\n",
    "    # partido_key = list(match_data.keys())[0]\n",
    "    # partido_link = match_data[partido_key][\"link_estadisticas\"]\n",
    "\n",
    "    partido_key = 'FERRO vs PEÑAROL (MDP) (009/10/2024 20:00)'\n",
    "    partido_link = match_data[partido_key][\"link_estadisticas\"]\n",
    "    print(f\"El enlace del partido es: {partido_link}\")\n",
    "\n",
    "    # --- Parte 1: NAVEGACIÓN CON SELENIUM ---\n",
    "    print(\"\\nIniciando Selenium...\")\n",
    "    options = webdriver.ChromeOptions()\n",
    "    options.add_argument(\"--headless\")\n",
    "    options.add_argument(\"--no-sandbox\")\n",
    "    options.add_argument(\"--disable-dev-shm-usage\")\n",
    "    options.add_argument(\"user-agent=Mozilla/5.0 (Windows NT 10.0; Win64; x64) AppleWebKit/537.36 (KHTML, like Gecko) Chrome/91.0.4472.124 Safari/537.36\")\n",
    "\n",
    "    driver = webdriver.Chrome(service=Service(ChromeDriverManager().install()), options=options)\n",
    "    driver.get(partido_link)\n",
    "    \n",
    "    wait = WebDriverWait(driver, 20)\n",
    "\n",
    "    print(\"Cambiando al iframe principal...\")\n",
    "    wait.until(EC.frame_to_be_available_and_switch_to_it((By.TAG_NAME, \"iframe\")))\n",
    "    print(\"Cambio al iframe principal exitoso.\")\n",
    "    \n",
    "    print(\"Haciendo clic en la pestaña 'En vivo'...\")\n",
    "    en_vivo_tab = wait.until(EC.element_to_be_clickable((By.CSS_SELECTOR, \"li.pestana-en-vivo\")))\n",
    "    driver.execute_script(\"arguments[0].click();\", en_vivo_tab)\n",
    "    \n",
    "    print(\"Cambiando al iframe anidado del Play-by-Play...\")\n",
    "    iframe_pbp_selector = (By.CSS_SELECTOR, \"div.contenido-en-vivo div:nth-child(2) iframe\")\n",
    "    wait.until(EC.frame_to_be_available_and_switch_to_it(iframe_pbp_selector))\n",
    "    print(\"Acceso al iframe final del Play-by-Play exitoso.\")\n",
    "    \n",
    "    html_pbp = driver.page_source\n",
    "    \n",
    "    # --- Parte 2: EXTRACCIÓN CON BEAUTIFULSOUP (CORREGIDA) ---\n",
    "    print(\"Procesando el HTML para extraer las acciones del partido...\")\n",
    "    soup = BeautifulSoup(html_pbp, \"html.parser\")\n",
    "\n",
    "    contenedor_acciones = soup.find(\"ul\", class_=\"listadoAccionesPartido\")\n",
    "\n",
    "    if contenedor_acciones:\n",
    "        acciones = contenedor_acciones.find_all(\"li\", class_=\"accion\")\n",
    "        print(f\"Se encontraron {len(acciones)} acciones en el partido.\")\n",
    "\n",
    "        for accion in acciones:\n",
    "            # Inicializamos todas las variables\n",
    "            tipo_accion = jugador = cuarto = tiempo = \"\"\n",
    "            puntos_local = None \n",
    "            puntos_visita = None\n",
    "\n",
    "            titulo_tag = accion.find(\"strong\", class_=\"titulo\")\n",
    "            if titulo_tag:\n",
    "                tipo_accion = titulo_tag.get_text(strip=True)\n",
    "\n",
    "            spans_info = accion.find_all(\"span\", class_=\"informacion\")\n",
    "            if len(spans_info) >= 2:\n",
    "                jugador = spans_info[0].get_text(strip=True)\n",
    "                tiempo_text = spans_info[1].get_text(strip=True)\n",
    "                match = re.search(r\"Cuarto\\s*(\\d+)\\s*-\\s*(\\d{2}:\\d{2}:\\d{2})\", tiempo_text)\n",
    "                if match:\n",
    "                    cuarto = match.group(1)\n",
    "                    tiempo = match.group(2)\n",
    "\n",
    "            # --- NUEVO: Extraer el marcador de la acción ---\n",
    "            marcador_tag = accion.find(\"strong\", class_=\"informacionAdicional\")\n",
    "            if marcador_tag:\n",
    "                marcador_texto = marcador_tag.get_text(strip=True)\n",
    "                partes_marcador = marcador_texto.split('-')\n",
    "                if len(partes_marcador) == 2:\n",
    "                    try:\n",
    "                        puntos_local = int(partes_marcador[0].strip())\n",
    "                        puntos_visita = int(partes_marcador[1].strip())\n",
    "                    except ValueError:\n",
    "                        pass # Si hay un error, se quedan como None\n",
    "\n",
    "            acciones_del_partido.append({\n",
    "                \"cuarto\": cuarto,\n",
    "                \"tiempo\": tiempo,\n",
    "                \"accion\": tipo_accion,\n",
    "                \"jugador\": jugador,\n",
    "                \"puntos_local\": puntos_local,\n",
    "                \"puntos_visita\": puntos_visita\n",
    "            })\n",
    "\n",
    "    # --- Parte 3: Crear y mostrar el DataFrame ---\n",
    "    if acciones_del_partido:\n",
    "        df_acciones = pd.DataFrame(acciones_del_partido)\n",
    "        print(\"\\n✅ DataFrame con marcador en cada acción:\")\n",
    "        display(df_acciones.head(10))\n",
    "    else:\n",
    "        print(\"No se pudieron extraer datos del Play-by-Play.\")\n",
    "\n",
    "except Exception as e:\n",
    "    print(f\"Ocurrió un error general: {e}\")\n",
    "finally:\n",
    "    if driver:\n",
    "        driver.quit()\n",
    "        print(\"\\nNavegador cerrado.\")"
   ]
  },
  {
   "cell_type": "code",
   "execution_count": 9,
   "id": "0d32aece",
   "metadata": {},
   "outputs": [
    {
     "name": "stdout",
     "output_type": "stream",
     "text": [
      "Iniciando el proceso completo para generar quintetos por equipo...\n",
      "Paso 1: Creando mapa de jugadores desde 'df_box_scores'...\n",
      "Mapa de roster creado. Equipo local: FERRO\n",
      "Paso 2: Generando lista de 10 jugadores en cancha por acción...\n",
      "Paso 3: Separando la lista de 10 jugadores en quintetos por equipo...\n",
      "\n",
      "✅ ¡Proceso completado! DataFrame final generado.\n"
     ]
    },
    {
     "data": {
      "text/html": [
       "<div>\n",
       "<style scoped>\n",
       "    .dataframe tbody tr th:only-of-type {\n",
       "        vertical-align: middle;\n",
       "    }\n",
       "\n",
       "    .dataframe tbody tr th {\n",
       "        vertical-align: top;\n",
       "    }\n",
       "\n",
       "    .dataframe thead th {\n",
       "        text-align: right;\n",
       "    }\n",
       "</style>\n",
       "<table border=\"1\" class=\"dataframe\">\n",
       "  <thead>\n",
       "    <tr style=\"text-align: right;\">\n",
       "      <th></th>\n",
       "      <th>cuarto</th>\n",
       "      <th>tiempo</th>\n",
       "      <th>accion</th>\n",
       "      <th>jugador</th>\n",
       "      <th>puntos_local</th>\n",
       "      <th>puntos_visita</th>\n",
       "      <th>quinteto_local</th>\n",
       "      <th>quinteto_visita</th>\n",
       "    </tr>\n",
       "  </thead>\n",
       "  <tbody>\n",
       "    <tr>\n",
       "      <th>0</th>\n",
       "      <td></td>\n",
       "      <td></td>\n",
       "      <td>FINAL DEL PERIODO5</td>\n",
       "      <td></td>\n",
       "      <td>NaN</td>\n",
       "      <td>NaN</td>\n",
       "      <td>[DIEZ, ALEJANDRO GABRIEL, FIERRO, MARIANO, LAD...</td>\n",
       "      <td>[CHIARAVIGLIO, NICOLAS, FERNANDEZ, VICTOR LUIS...</td>\n",
       "    </tr>\n",
       "    <tr>\n",
       "      <th>1</th>\n",
       "      <td>5</td>\n",
       "      <td>00:00:01</td>\n",
       "      <td>REBOTE DEFENSIVO#9</td>\n",
       "      <td>RODRIGUEZ, FELIPE SALVADOR</td>\n",
       "      <td>NaN</td>\n",
       "      <td>NaN</td>\n",
       "      <td>[DIEZ, ALEJANDRO GABRIEL, FIERRO, MARIANO, LAD...</td>\n",
       "      <td>[CHIARAVIGLIO, NICOLAS, FERNANDEZ, VICTOR LUIS...</td>\n",
       "    </tr>\n",
       "    <tr>\n",
       "      <th>2</th>\n",
       "      <td>5</td>\n",
       "      <td>00:00:02</td>\n",
       "      <td>TIRO DE 2 FALLADO</td>\n",
       "      <td>WALLACE, DEVANTE RASHAD-KEITH</td>\n",
       "      <td>NaN</td>\n",
       "      <td>NaN</td>\n",
       "      <td>[DIEZ, ALEJANDRO GABRIEL, FIERRO, MARIANO, LAD...</td>\n",
       "      <td>[CHIARAVIGLIO, NICOLAS, FERNANDEZ, VICTOR LUIS...</td>\n",
       "    </tr>\n",
       "    <tr>\n",
       "      <th>3</th>\n",
       "      <td>5</td>\n",
       "      <td>00:00:02</td>\n",
       "      <td>REBOTE OFENSIVO#24</td>\n",
       "      <td>WALLACE, DEVANTE RASHAD-KEITH</td>\n",
       "      <td>NaN</td>\n",
       "      <td>NaN</td>\n",
       "      <td>[DIEZ, ALEJANDRO GABRIEL, FIERRO, MARIANO, LAD...</td>\n",
       "      <td>[CHIARAVIGLIO, NICOLAS, FERNANDEZ, VICTOR LUIS...</td>\n",
       "    </tr>\n",
       "    <tr>\n",
       "      <th>4</th>\n",
       "      <td>5</td>\n",
       "      <td>00:00:02</td>\n",
       "      <td>TIRO LIBRE FALLADO</td>\n",
       "      <td>THOMAS JR, MARCUS WILEY</td>\n",
       "      <td>NaN</td>\n",
       "      <td>NaN</td>\n",
       "      <td>[DIEZ, ALEJANDRO GABRIEL, FIERRO, MARIANO, LAD...</td>\n",
       "      <td>[CHIARAVIGLIO, NICOLAS, FERNANDEZ, VICTOR LUIS...</td>\n",
       "    </tr>\n",
       "    <tr>\n",
       "      <th>5</th>\n",
       "      <td>5</td>\n",
       "      <td>00:00:02</td>\n",
       "      <td>TIRO LIBRE ANOTADO</td>\n",
       "      <td>THOMAS JR, MARCUS WILEY</td>\n",
       "      <td>84.0</td>\n",
       "      <td>82.0</td>\n",
       "      <td>[DIEZ, ALEJANDRO GABRIEL, FIERRO, MARIANO, LAD...</td>\n",
       "      <td>[CHIARAVIGLIO, NICOLAS, FERNANDEZ, VICTOR LUIS...</td>\n",
       "    </tr>\n",
       "    <tr>\n",
       "      <th>6</th>\n",
       "      <td>5</td>\n",
       "      <td>00:00:02</td>\n",
       "      <td>2 TIROS LIBRES PARA EL#50</td>\n",
       "      <td>THOMAS JR, MARCUS WILEY</td>\n",
       "      <td>NaN</td>\n",
       "      <td>NaN</td>\n",
       "      <td>[DIEZ, ALEJANDRO GABRIEL, FIERRO, MARIANO, LAD...</td>\n",
       "      <td>[CHIARAVIGLIO, NICOLAS, FERNANDEZ, VICTOR LUIS...</td>\n",
       "    </tr>\n",
       "    <tr>\n",
       "      <th>7</th>\n",
       "      <td>5</td>\n",
       "      <td>00:00:02</td>\n",
       "      <td>ENTRA A PISTA EL#93</td>\n",
       "      <td>FIERRO, MARIANO</td>\n",
       "      <td>NaN</td>\n",
       "      <td>NaN</td>\n",
       "      <td>[DIEZ, ALEJANDRO GABRIEL, FIERRO, MARIANO, LAD...</td>\n",
       "      <td>[CHIARAVIGLIO, NICOLAS, FERNANDEZ, VICTOR LUIS...</td>\n",
       "    </tr>\n",
       "    <tr>\n",
       "      <th>8</th>\n",
       "      <td>5</td>\n",
       "      <td>00:00:02</td>\n",
       "      <td>ABANDONA LA PISTA EL#12</td>\n",
       "      <td>GALLEGOS, RODRIGO AGUSTIN</td>\n",
       "      <td>NaN</td>\n",
       "      <td>NaN</td>\n",
       "      <td>[DIEZ, ALEJANDRO GABRIEL, LADO, MOGGA CHARLES ...</td>\n",
       "      <td>[CHIARAVIGLIO, NICOLAS, FERNANDEZ, VICTOR LUIS...</td>\n",
       "    </tr>\n",
       "    <tr>\n",
       "      <th>9</th>\n",
       "      <td>5</td>\n",
       "      <td>00:00:02</td>\n",
       "      <td>FALTA RECIBIDA</td>\n",
       "      <td>THOMAS JR, MARCUS WILEY</td>\n",
       "      <td>NaN</td>\n",
       "      <td>NaN</td>\n",
       "      <td>[DIEZ, ALEJANDRO GABRIEL, GALLEGOS, RODRIGO AG...</td>\n",
       "      <td>[CHIARAVIGLIO, NICOLAS, FERNANDEZ, VICTOR LUIS...</td>\n",
       "    </tr>\n",
       "  </tbody>\n",
       "</table>\n",
       "</div>"
      ],
      "text/plain": [
       "  cuarto    tiempo                     accion                        jugador  \\\n",
       "0                          FINAL DEL PERIODO5                                  \n",
       "1      5  00:00:01         REBOTE DEFENSIVO#9     RODRIGUEZ, FELIPE SALVADOR   \n",
       "2      5  00:00:02          TIRO DE 2 FALLADO  WALLACE, DEVANTE RASHAD-KEITH   \n",
       "3      5  00:00:02         REBOTE OFENSIVO#24  WALLACE, DEVANTE RASHAD-KEITH   \n",
       "4      5  00:00:02         TIRO LIBRE FALLADO        THOMAS JR, MARCUS WILEY   \n",
       "5      5  00:00:02         TIRO LIBRE ANOTADO        THOMAS JR, MARCUS WILEY   \n",
       "6      5  00:00:02  2 TIROS LIBRES PARA EL#50        THOMAS JR, MARCUS WILEY   \n",
       "7      5  00:00:02        ENTRA A PISTA EL#93                FIERRO, MARIANO   \n",
       "8      5  00:00:02    ABANDONA LA PISTA EL#12      GALLEGOS, RODRIGO AGUSTIN   \n",
       "9      5  00:00:02             FALTA RECIBIDA        THOMAS JR, MARCUS WILEY   \n",
       "\n",
       "   puntos_local  puntos_visita  \\\n",
       "0           NaN            NaN   \n",
       "1           NaN            NaN   \n",
       "2           NaN            NaN   \n",
       "3           NaN            NaN   \n",
       "4           NaN            NaN   \n",
       "5          84.0           82.0   \n",
       "6           NaN            NaN   \n",
       "7           NaN            NaN   \n",
       "8           NaN            NaN   \n",
       "9           NaN            NaN   \n",
       "\n",
       "                                      quinteto_local  \\\n",
       "0  [DIEZ, ALEJANDRO GABRIEL, FIERRO, MARIANO, LAD...   \n",
       "1  [DIEZ, ALEJANDRO GABRIEL, FIERRO, MARIANO, LAD...   \n",
       "2  [DIEZ, ALEJANDRO GABRIEL, FIERRO, MARIANO, LAD...   \n",
       "3  [DIEZ, ALEJANDRO GABRIEL, FIERRO, MARIANO, LAD...   \n",
       "4  [DIEZ, ALEJANDRO GABRIEL, FIERRO, MARIANO, LAD...   \n",
       "5  [DIEZ, ALEJANDRO GABRIEL, FIERRO, MARIANO, LAD...   \n",
       "6  [DIEZ, ALEJANDRO GABRIEL, FIERRO, MARIANO, LAD...   \n",
       "7  [DIEZ, ALEJANDRO GABRIEL, FIERRO, MARIANO, LAD...   \n",
       "8  [DIEZ, ALEJANDRO GABRIEL, LADO, MOGGA CHARLES ...   \n",
       "9  [DIEZ, ALEJANDRO GABRIEL, GALLEGOS, RODRIGO AG...   \n",
       "\n",
       "                                     quinteto_visita  \n",
       "0  [CHIARAVIGLIO, NICOLAS, FERNANDEZ, VICTOR LUIS...  \n",
       "1  [CHIARAVIGLIO, NICOLAS, FERNANDEZ, VICTOR LUIS...  \n",
       "2  [CHIARAVIGLIO, NICOLAS, FERNANDEZ, VICTOR LUIS...  \n",
       "3  [CHIARAVIGLIO, NICOLAS, FERNANDEZ, VICTOR LUIS...  \n",
       "4  [CHIARAVIGLIO, NICOLAS, FERNANDEZ, VICTOR LUIS...  \n",
       "5  [CHIARAVIGLIO, NICOLAS, FERNANDEZ, VICTOR LUIS...  \n",
       "6  [CHIARAVIGLIO, NICOLAS, FERNANDEZ, VICTOR LUIS...  \n",
       "7  [CHIARAVIGLIO, NICOLAS, FERNANDEZ, VICTOR LUIS...  \n",
       "8  [CHIARAVIGLIO, NICOLAS, FERNANDEZ, VICTOR LUIS...  \n",
       "9  [CHIARAVIGLIO, NICOLAS, FERNANDEZ, VICTOR LUIS...  "
      ]
     },
     "metadata": {},
     "output_type": "display_data"
    }
   ],
   "source": [
    "# --- Requisitos ---\n",
    "# Se asume que ya existen:\n",
    "# 1. df_acciones: Con las columnas básicas (cuarto, tiempo, accion, etc.).\n",
    "# 2. df_box_scores: Con las columnas 'NombreCompleto' y 'equipo'.\n",
    "# ------------------\n",
    "\n",
    "print(\"Iniciando el proceso completo para generar quintetos por equipo...\")\n",
    "\n",
    "try:\n",
    "    # === PASO 1: Crear el mapa de jugadores desde el Box Score ===\n",
    "    print(\"Paso 1: Creando mapa de jugadores desde 'df_box_scores'...\")\n",
    "    if 'df_box_scores' not in locals() or df_box_scores.empty:\n",
    "        raise NameError(\"El DataFrame 'df_box_scores' no existe o está vacío.\")\n",
    "    \n",
    "    player_to_team_map = pd.Series(df_box_scores.equipo.values, index=df_box_scores.NombreCompleto).to_dict()\n",
    "    nombre_local = df_box_scores['equipo'].unique()[0]\n",
    "    print(f\"Mapa de roster creado. Equipo local: {nombre_local}\")\n",
    "\n",
    "    # === PASO 2: Generar la columna temporal 'quinteto_en_cancha' ===\n",
    "    print(\"Paso 2: Generando lista de 10 jugadores en cancha por acción...\")\n",
    "    # Invertimos el DataFrame para procesar en orden cronológico\n",
    "    df_cronologico = df_acciones.iloc[::-1].reset_index(drop=True)\n",
    "\n",
    "    jugadores_en_cancha = set()\n",
    "    lista_de_quintetos_mixtos = []\n",
    "\n",
    "    for index, row in df_cronologico.iterrows():\n",
    "        accion = row.get('accion', '')\n",
    "        jugador = row.get('jugador', '')\n",
    "        accion_upper = accion.upper() if isinstance(accion, str) else ''\n",
    "\n",
    "        # Actualizamos el set de jugadores en cancha\n",
    "        if \"ENTRA A PISTA\" in accion_upper or \"CAMBIO-ENTRA\" in accion_upper:\n",
    "            if pd.notna(jugador) and jugador != '':\n",
    "                jugadores_en_cancha.add(jugador)\n",
    "        elif \"ABANDONA LA PISTA\" in accion_upper or \"CAMBIO-SALE\" in accion_upper:\n",
    "            if pd.notna(jugador) and jugador != '':\n",
    "                jugadores_en_cancha.discard(jugador)\n",
    "        \n",
    "        lista_de_quintetos_mixtos.append(sorted(list(jugadores_en_cancha)))\n",
    "\n",
    "    # Añadimos la columna temporal al DataFrame cronológico\n",
    "    df_cronologico['quinteto_en_cancha'] = lista_de_quintetos_mixtos\n",
    "\n",
    "    # === PASO 3: Separar el quinteto mixto en local y visitante ===\n",
    "    print(\"Paso 3: Separando la lista de 10 jugadores en quintetos por equipo...\")\n",
    "    \n",
    "    def dividir_quinteto(quinteto_mixto, roster_map, equipo_local_nombre):\n",
    "        quinteto_local, quinteto_visitante = [], []\n",
    "        for jugador in quinteto_mixto:\n",
    "            if roster_map.get(jugador) == equipo_local_nombre:\n",
    "                quinteto_local.append(jugador)\n",
    "            else:\n",
    "                quinteto_visitante.append(jugador)\n",
    "        return sorted(quinteto_local), sorted(quinteto_visitante)\n",
    "\n",
    "    # Aplicamos la función para crear las dos columnas finales\n",
    "    nuevas_columnas = df_cronologico['quinteto_en_cancha'].apply(\n",
    "        lambda q: pd.Series(dividir_quinteto(q, player_to_team_map, nombre_local))\n",
    "    )\n",
    "    nuevas_columnas.columns = ['quinteto_local', 'quinteto_visita']\n",
    "\n",
    "    # Unimos las columnas finales al DataFrame cronológico\n",
    "    df_cronologico = pd.concat([df_cronologico, nuevas_columnas], axis=1)\n",
    "\n",
    "    # === PASO 4: Finalizar y mostrar el DataFrame ===\n",
    "    # Eliminamos la columna temporal que ya no necesitamos\n",
    "    df_cronologico = df_cronologico.drop(columns=['quinteto_en_cancha'])\n",
    "    \n",
    "    # Revertimos el orden para que coincida con el original y lo guardamos\n",
    "    df_acciones_final = df_cronologico.iloc[::-1].reset_index(drop=True)\n",
    "\n",
    "    print(\"\\n✅ ¡Proceso completado! DataFrame final generado.\")\n",
    "    \n",
    "    # Mostramos el resultado\n",
    "    columnas_a_mostrar = [\n",
    "    'cuarto',          \n",
    "    'tiempo',           \n",
    "    'accion',\n",
    "    'jugador',\n",
    "    'puntos_local',\n",
    "    'puntos_visita',\n",
    "    'quinteto_local',\n",
    "    'quinteto_visita'\n",
    "]\n",
    "    display(df_acciones_final[columnas_a_mostrar].head(10))\n",
    "\n",
    "except Exception as e:\n",
    "    print(f\"❌ Ocurrió un error en el script: {e}\")"
   ]
  },
  {
   "cell_type": "code",
   "execution_count": 10,
   "id": "8bd91106",
   "metadata": {},
   "outputs": [],
   "source": [
    "# --- FUNCIÓN PARA CALCULAR EL +/- ---\n",
    "def calcular_plus_minus_corregido(df_enriquecido, roster_completo):\n",
    "    plus_minus = {jugador: 0 for jugador in roster_completo.keys()}\n",
    "    score_anterior = {'local': 0, 'visitante': 0}\n",
    "    df_enriquecido[['puntos_local', 'puntos_visita']] = df_enriquecido[['puntos_local', 'puntos_visita']].ffill().fillna(0)\n",
    "    \n",
    "    for _, row in df_enriquecido.iterrows():\n",
    "        puntos_actual_local, puntos_actual_visitante = row['puntos_local'], row['puntos_visita']\n",
    "        if puntos_actual_local != score_anterior['local'] or puntos_actual_visitante != score_anterior['visitante']:\n",
    "            diferencial_jugada = (puntos_actual_local - score_anterior['local']) - (puntos_actual_visitante - score_anterior['visitante'])\n",
    "            for p in row['quinteto_local']:\n",
    "                if p in plus_minus: plus_minus[p] += diferencial_jugada\n",
    "            for p in row['quinteto_visita']:\n",
    "                if p in plus_minus: plus_minus[p] -= diferencial_jugada\n",
    "            score_anterior = {'local': puntos_actual_local, 'visitante': puntos_actual_visitante}\n",
    "    return pd.DataFrame(list(plus_minus.items()), columns=['jugador', 'plus_minus'])\n",
    "\n",
    "# --- NUEVA FUNCIÓN PARA CALCULAR POSESIONES ---\n",
    "def calcular_posesiones(df_acciones):\n",
    "    \"\"\"\n",
    "    Calcula las posesiones consumidas por cada jugador basándose en palabras clave.\n",
    "\n",
    "    Args:\n",
    "        df_acciones (pd.DataFrame): DataFrame con el play-by-play del partido.\n",
    "            Debe contener las columnas 'accion' y 'jugador'.\n",
    "\n",
    "    Returns:\n",
    "        pd.DataFrame: Un DataFrame con las columnas 'jugador' y 'posesiones'.\n",
    "    \"\"\"\n",
    "\n",
    "    # 1. Lista de acciones que cuentan como una posesión consumida\n",
    "    acciones_de_posesion = [\n",
    "        \"TIRO DE 3 FALLADO\",\n",
    "        \"TIRO DE 2 FALLADO\",\n",
    "        \"2 TIROS LIBRES PARA\",\n",
    "        \"3 TIROS LIBRES PARA\",\n",
    "        \"TRIPLE\",\n",
    "        \"CANASTA DE 2 PUNTOS\",\n",
    "        \"PÉRDIDA DE BALÓN\"\n",
    "    ]\n",
    "\n",
    "    # 2. Crear un patrón de texto para buscar todas las acciones a la vez\n",
    "    # El '|' funciona como un 'OR' en la búsqueda de texto.\n",
    "    patron_busqueda = '|'.join(acciones_de_posesion)\n",
    "\n",
    "    # 3. Filtrar el DataFrame para obtener solo las filas donde la acción coincide\n",
    "    # 'str.contains' busca el patrón en la columna 'accion'. 'na=False' evita errores con filas vacías.\n",
    "    df_posesiones_consumidas = df_acciones[df_acciones['accion'].str.contains(patron_busqueda, na=False)].copy()\n",
    "\n",
    "    # 4. Agrupar por jugador y contar cuántas de estas acciones tuvo cada uno\n",
    "    conteo_posesiones = df_posesiones_consumidas.groupby('jugador').size()\n",
    "    \n",
    "    # 5. Convertir el resultado a un DataFrame con el formato correcto\n",
    "    df_resultado = conteo_posesiones.reset_index(name='posesiones')\n",
    "\n",
    "    return df_resultado\n",
    "\n",
    "def contar_posesiones_jugadas_por_equipo(df_acciones, df_box_scores, player_to_team_map):\n",
    "    \"\"\"\n",
    "    Cuenta las posesiones que ocurrieron para el equipo de un jugador mientras\n",
    "    este se encontraba en la cancha.\n",
    "\n",
    "    Args:\n",
    "        df_acciones (pd.DataFrame): DataFrame con el play-by-play y quintetos.\n",
    "        df_box_scores (pd.DataFrame): DataFrame con el roster de jugadores y equipos.\n",
    "        player_to_team_map (dict): Diccionario que mapea 'NombreCompleto' a 'equipo'.\n",
    "\n",
    "    Returns:\n",
    "        pd.DataFrame: DataFrame con las columnas 'jugador' y 'posesiones_jugadas'.\n",
    "    \"\"\"\n",
    "\n",
    "    # 1. Inicializar el contador para todos los jugadores del partido.\n",
    "    roster = df_box_scores['NombreCompleto'].tolist()\n",
    "    posesiones_jugadas = {jugador: 0 for jugador in roster}\n",
    "    \n",
    "    # Necesitamos saber cuál es el equipo local para diferenciar quintetos.\n",
    "    nombre_local = df_box_scores['equipo'].unique()[0]\n",
    "\n",
    "    # 2. Identificar las jugadas que finalizan una posesión.\n",
    "    acciones_de_posesion = [\n",
    "        \"TIRO DE 3 FALLADO\",\n",
    "        \"TIRO DE 2 FALLADO\",\n",
    "        \"2 TIROS LIBRES PARA\",\n",
    "        \"3 TIROS LIBRES PARA\",\n",
    "        \"TRIPLE\",\n",
    "        \"CANASTA DE 2 PUNTOS\",\n",
    "        \"PÉRDIDA DE BALÓN\"\n",
    "    ]\n",
    "    patron_busqueda = '|'.join(acciones_de_posesion)\n",
    "    df_fines_de_posesion = df_acciones[df_acciones['accion'].str.contains(patron_busqueda, na=False)].copy()\n",
    "\n",
    "    # 3. Iterar sobre las jugadas de fin de posesión.\n",
    "    for _, jugada in df_fines_de_posesion.iterrows():\n",
    "        jugador_accion = jugada.get('jugador')\n",
    "        \n",
    "        # Si no hay un jugador asociado a la acción, no podemos determinar el equipo.\n",
    "        if not jugador_accion or pd.isna(jugador_accion):\n",
    "            continue\n",
    "\n",
    "        # 4. Determinar qué equipo tuvo la posesión.\n",
    "        equipo_posesion = player_to_team_map.get(jugador_accion)\n",
    "        \n",
    "        # 5. Seleccionar el quinteto correcto (local o visitante).\n",
    "        quinteto_del_equipo_en_posesion = []\n",
    "        if equipo_posesion == nombre_local:\n",
    "            quinteto_del_equipo_en_posesion = jugada['quinteto_local']\n",
    "        else:\n",
    "            quinteto_del_equipo_en_posesion = jugada['quinteto_visita']\n",
    "\n",
    "        # 6. Sumar 1 al contador de cada jugador de ese quinteto.\n",
    "        for jugador in quinteto_del_equipo_en_posesion:\n",
    "            if jugador in posesiones_jugadas:\n",
    "                posesiones_jugadas[jugador] += 1\n",
    "    \n",
    "    # 7. Convertir el resultado a un DataFrame.\n",
    "    df_resultado = pd.DataFrame(list(posesiones_jugadas.items()), columns=['jugador', 'posesiones_jugadas'])\n",
    "    return df_resultado\n",
    "\n",
    "# --- FUNCIÓN MEJORADA PARA CALCULAR REBOTES OF/DEF DISPONIBLES ---\n",
    "def calcular_rebotes_disponibles(df_acciones, df_box_scores, player_to_team_map):\n",
    "    \"\"\"\n",
    "    Calcula la cantidad de oportunidades de rebote ofensivo y defensivo que \n",
    "    tuvo cada jugador mientras estaba en la cancha.\n",
    "\n",
    "    Una oportunidad de rebote ocurre cuando hay un tiro de campo fallado o el\n",
    "    último tiro libre de una secuencia es fallado.\n",
    "\n",
    "    - Para el equipo que atacaba, es una oportunidad de rebote OFENSIVO.\n",
    "    - Para el equipo que defendía, es una oportunidad de rebote DEFENSIVO.\n",
    "\n",
    "    Args:\n",
    "        df_acciones (pd.DataFrame): DF con el play-by-play y quintetos, ordenado cronológicamente.\n",
    "        df_box_scores (pd.DataFrame): DF con el roster de jugadores y equipos.\n",
    "        player_to_team_map (dict): Diccionario que mapea 'NombreCompleto' a 'equipo'.\n",
    "\n",
    "    Returns:\n",
    "        pd.DataFrame: DataFrame con las columnas 'jugador', 'reb_of_disp', y 'reb_def_disp'.\n",
    "    \"\"\"\n",
    "\n",
    "    # 1. Inicializar contadores para todos los jugadores del partido.\n",
    "    roster = df_box_scores['NombreCompleto'].tolist()\n",
    "    # *** NUEVO: Dos diccionarios, uno para cada tipo de rebote disponible. ***\n",
    "    reb_of_disponibles = {jugador: 0 for jugador in roster}\n",
    "    reb_def_disponibles = {jugador: 0 for jugador in roster}\n",
    "    \n",
    "    nombre_local = df_box_scores['equipo'].unique()[0]\n",
    "    \n",
    "    # 2. Iterar sobre el índice del DataFrame para poder mirar filas futuras.\n",
    "    num_acciones = len(df_acciones)\n",
    "    for i in range(num_acciones):\n",
    "        jugada = df_acciones.iloc[i]\n",
    "        accion = jugada['accion']\n",
    "        \n",
    "        es_oportunidad_de_rebote = False\n",
    "        \n",
    "        # --- Lógica para detectar una oportunidad de rebote (sin cambios) ---\n",
    "        if \"TIRO DE 3 FALLADO\" in accion or \"TIRO DE 2 FALLADO\" in accion:\n",
    "            es_oportunidad_de_rebote = True\n",
    "        elif \"1 TIRO LIBRE PARA\" in accion:\n",
    "            if (i + 1 < num_acciones) and \"TIRO LIBRE FALLADO\" in df_acciones.iloc[i + 1]['accion']:\n",
    "                es_oportunidad_de_rebote = True\n",
    "        elif \"2 TIROS LIBRES PARA\" in accion:\n",
    "            if (i + 2 < num_acciones) and \"TIRO LIBRE FALLADO\" in df_acciones.iloc[i + 2]['accion']:\n",
    "                es_oportunidad_de_rebote = True\n",
    "        elif \"3 TIROS LIBRES PARA\" in accion:\n",
    "            if (i + 3 < num_acciones) and \"TIRO LIBRE FALLADO\" in df_acciones.iloc[i + 3]['accion']:\n",
    "                es_oportunidad_de_rebote = True\n",
    "\n",
    "        # 3. Si se encontró una oportunidad, se asigna a ambos equipos.\n",
    "        if es_oportunidad_de_rebote:\n",
    "            jugador_accion = jugada.get('jugador')\n",
    "            if not jugador_accion or pd.isna(jugador_accion):\n",
    "                continue\n",
    "\n",
    "            equipo_ofensivo = player_to_team_map.get(jugador_accion)\n",
    "            if not equipo_ofensivo:\n",
    "                continue\n",
    "\n",
    "            # *** NUEVO: Identificar ambos quintetos, el ofensivo y el defensivo. ***\n",
    "            if equipo_ofensivo == nombre_local:\n",
    "                quinteto_ofensivo = jugada['quinteto_local']\n",
    "                quinteto_defensivo = jugada['quinteto_visita']\n",
    "            else:\n",
    "                quinteto_ofensivo = jugada['quinteto_visita']\n",
    "                quinteto_defensivo = jugada['quinteto_local']\n",
    "\n",
    "            # Sumar la oportunidad de REBOTE OFENSIVO a los jugadores del equipo atacante.\n",
    "            for jugador in quinteto_ofensivo:\n",
    "                if jugador in reb_of_disponibles:\n",
    "                    reb_of_disponibles[jugador] += 1\n",
    "            \n",
    "            # Sumar la oportunidad de REBOTE DEFENSIVO a los jugadores del equipo defensor.\n",
    "            for jugador in quinteto_defensivo:\n",
    "                if jugador in reb_def_disponibles:\n",
    "                    reb_def_disponibles[jugador] += 1\n",
    "\n",
    "    # 4. Convertir los diccionarios en DataFrames y unirlos.\n",
    "    df_ofensivos = pd.DataFrame(list(reb_of_disponibles.items()), columns=['jugador', 'rebote_of_disp'])\n",
    "    df_defensivos = pd.DataFrame(list(reb_def_disponibles.items()), columns=['jugador', 'rebote_def_disp'])\n",
    "    \n",
    "    # Unir los dos dataframes en uno solo usando 'jugador' como clave.\n",
    "    df_resultado = pd.merge(df_ofensivos, df_defensivos, on='jugador')\n",
    "    \n",
    "    return df_resultado\n",
    "\n",
    "# --- FUNCIÓN PARA CALCULAR POSESIONES INDIVIDUALES ESTIMADAS ---\n",
    "def calcular_posesiones_individuales(df_box_score):\n",
    "    \"\"\"\n",
    "    Estima las posesiones finalizadas por cada jugador individualmente usando\n",
    "    la fórmula de Dean Oliver.\n",
    "\n",
    "    Args:\n",
    "        df_box_score (pd.DataFrame): DataFrame que contiene las estadísticas\n",
    "                                     detalladas por jugador. Debe incluir columnas\n",
    "                                     de aciertos y fallos para cada tipo de tiro,\n",
    "                                     'ReboteOfensivo' y 'Perdidas'.\n",
    "\n",
    "    Returns:\n",
    "        pd.DataFrame: El DataFrame original con una nueva columna llamada\n",
    "                      'posesiones_estimadas'.\n",
    "    \"\"\"\n",
    "    \n",
    "    # Se crea una copia para evitar advertencias de SettingWithCopyWarning\n",
    "    df = df_box_score.copy()\n",
    "\n",
    "    # 1. Calcular Tiros de Campo Intentados (TCI)\n",
    "    tci_individual = (df['TirosDosAciertos'] + df['TirosDosFallos'] +\n",
    "                      df['TirosTresAciertos'] + df['TirosTresFallos'])\n",
    "\n",
    "    # 2. Calcular Tiros Libres Intentados (TLI)\n",
    "    tli_individual = df['TirosLibresAciertos'] + df['TirosLibresFallos']\n",
    "    \n",
    "    # 3. Aplicar la fórmula de Oliver y crear la nueva columna\n",
    "    df['posesiones_estimadas'] = (\n",
    "        tci_individual +\n",
    "        0.44 * tli_individual -\n",
    "        df['ReboteOfensivo'] +\n",
    "        df['Perdidas']\n",
    "    ).clip(lower=0).round(2)\n",
    "    \n",
    "    return df\n",
    "\n",
    "# --- FUNCIÓN PARA CALCULAR PUNTOS EN EL ÚLTIMO CUARTO (LÓGICA MEJORADA) ---\n",
    "def calcular_puntos_ultimo_cuarto(df_acciones, df_box_scores):\n",
    "    \"\"\"\n",
    "    Calcula los puntos anotados por cada jugador en el último cuarto (Q4) y\n",
    "    cualquier prórroga posterior.\n",
    "\n",
    "    Args:\n",
    "        df_acciones (pd.DataFrame): DataFrame con el play-by-play del partido.\n",
    "                                    Debe contener las columnas 'accion', 'jugador' y 'cuarto'.\n",
    "        df_box_scores (pd.DataFrame): DataFrame con el roster de jugadores para inicializar los contadores.\n",
    "\n",
    "    Returns:\n",
    "        pd.DataFrame: Un DataFrame con las columnas 'jugador' y 'puntos_q4_y_prorroga'.\n",
    "    \"\"\"\n",
    "\n",
    "    # 1. Inicializar el contador de puntos.\n",
    "    roster = df_box_scores['NombreCompleto'].tolist()\n",
    "    puntos_finales = {jugador: 0 for jugador in roster}\n",
    "\n",
    "    # 2. Filtrar las acciones que NO ocurrieron en los primeros 3 cuartos.\n",
    "    cuartos_a_excluir = ['1', '2', '3']\n",
    "    df_momentos_finales = df_acciones[~df_acciones['cuarto'].isin(cuartos_a_excluir)].copy()\n",
    "\n",
    "    # 3. Definir los puntos por acción.\n",
    "    # ¡Ajusta 'TIRO LIBRE ANOTADO' si en tus datos se llama de otra manera!\n",
    "    puntos_por_accion = {\n",
    "        \"TRIPLE\": 3,\n",
    "        \"CANASTA DE 2 PUNTOS\": 2,\n",
    "        \"TIRO LIBRE ANOTADO\": 1\n",
    "    }\n",
    "\n",
    "    # 4. Iterar sobre las jugadas de los momentos finales y sumar los puntos.\n",
    "    for _, jugada in df_momentos_finales.iterrows():\n",
    "        accion = jugada.get('accion')\n",
    "        jugador = jugada.get('jugador')\n",
    "        \n",
    "        if accion in puntos_por_accion and pd.notna(jugador):\n",
    "            if jugador in puntos_finales:\n",
    "                puntos_finales[jugador] += puntos_por_accion[accion]\n",
    "    \n",
    "    # 5. Convertir a DataFrame y renombrar la columna para mayor claridad.\n",
    "    df_resultado = pd.DataFrame(list(puntos_finales.items()), columns=['jugador', 'puntos_q4_y_prorroga'])\n",
    "\n",
    "    return df_resultado\n",
    "\n",
    "# --- FUNCIÓN PARA CALCULAR PUNTOS \"CLUTCH\" ---\n",
    "def calcular_puntos_clutch(df_acciones, df_box_scores):\n",
    "    \"\"\"\n",
    "    Calcula los puntos anotados por cada jugador en situaciones \"clutch\".\n",
    "\n",
    "    Una situación \"clutch\" se define como:\n",
    "    - Ocurre en los últimos 5 minutos del 4º cuarto o en cualquier prórroga.\n",
    "    - La diferencia de puntos entre ambos equipos es de 5 o menos.\n",
    "\n",
    "    Args:\n",
    "        df_acciones (pd.DataFrame): DataFrame con el play-by-play. Debe contener\n",
    "                                    'cuarto', 'tiempo' (formato \"HH:MM:SS\"),\n",
    "                                    'puntos_local', 'puntos_visita', 'accion' y 'jugador'.\n",
    "        df_box_scores (pd.DataFrame): DataFrame con el roster para inicializar contadores.\n",
    "\n",
    "    Returns:\n",
    "        pd.DataFrame: Un DataFrame con 'jugador' y 'puntos_clutch'.\n",
    "    \"\"\"\n",
    "\n",
    "    # 1. Inicializar contadores y preparar datos.\n",
    "    roster = df_box_scores['NombreCompleto'].tolist()\n",
    "    puntos_clutch = {jugador: 0 for jugador in roster}\n",
    "    \n",
    "    df_acciones_copy = df_acciones.copy()\n",
    "    df_acciones_copy[['puntos_local', 'puntos_visita']] = df_acciones_copy[['puntos_local', 'puntos_visita']].ffill().fillna(0)\n",
    "\n",
    "    # 2. Definir los puntos por cada tipo de anotación.\n",
    "    puntos_por_accion = {\n",
    "        \"TRIPLE\": 3,\n",
    "        \"CANASTA DE 2 PUNTOS\": 2,\n",
    "        \"TIRO LIBRE ANOTADO\": 1\n",
    "    }\n",
    "\n",
    "    # 3. Iterar sobre cada jugada del partido para evaluar las condiciones.\n",
    "    for _, jugada in df_acciones_copy.iterrows():\n",
    "        # --- CONDICIÓN 1: PERÍODO DEL JUEGO (Q4 o Prórroga) ---\n",
    "        if jugada['cuarto'] not in ['1', '2', '3']:\n",
    "            \n",
    "            # --- CONDICIÓN 2: TIEMPO RESTANTE (Últimos 5 minutos) ---\n",
    "            try:\n",
    "                parts = jugada['tiempo'].split(':')\n",
    "                minutos = int(parts[1])\n",
    "                \n",
    "                if minutos < 5:\n",
    "                    \n",
    "                    # --- CONDICIÓN 3: MARCADOR APRETADO (Diferencia <= 5) ---\n",
    "                    diferencia_puntos = abs(jugada['puntos_local'] - jugada['puntos_visita'])\n",
    "                    if diferencia_puntos <= 5:\n",
    "                        \n",
    "                        accion = jugada.get('accion')\n",
    "                        jugador = jugada.get('jugador')\n",
    "                        \n",
    "                        if accion in puntos_por_accion and pd.notna(jugador):\n",
    "                            if jugador in puntos_clutch:\n",
    "                                puntos_clutch[jugador] += puntos_por_accion[accion]\n",
    "            except (ValueError, AttributeError, IndexError):\n",
    "                # Ignora filas donde el formato de tiempo no es el esperado.\n",
    "                continue\n",
    "    \n",
    "    # 4. Convertir el resultado a un DataFrame.\n",
    "    df_resultado = pd.DataFrame(list(puntos_clutch.items()), columns=['jugador', 'puntos_clutch'])\n",
    "    \n",
    "    return df_resultado\n"
   ]
  },
  {
   "cell_type": "code",
   "execution_count": 11,
   "id": "f70653e9",
   "metadata": {},
   "outputs": [
    {
     "name": "stdout",
     "output_type": "stream",
     "text": [
      "\n",
      "Iniciando análisis avanzado de Play-by-Play...\n",
      "\n",
      "Uniendo todos los datos calculados...\n",
      "\n",
      "✅ Resultado Final con Estadísticas Completas:\n"
     ]
    },
    {
     "data": {
      "text/html": [
       "<div>\n",
       "<style scoped>\n",
       "    .dataframe tbody tr th:only-of-type {\n",
       "        vertical-align: middle;\n",
       "    }\n",
       "\n",
       "    .dataframe tbody tr th {\n",
       "        vertical-align: top;\n",
       "    }\n",
       "\n",
       "    .dataframe thead th {\n",
       "        text-align: right;\n",
       "    }\n",
       "</style>\n",
       "<table border=\"1\" class=\"dataframe\">\n",
       "  <thead>\n",
       "    <tr style=\"text-align: right;\">\n",
       "      <th></th>\n",
       "      <th>IdJugador</th>\n",
       "      <th>IdClub</th>\n",
       "      <th>IdEquipo</th>\n",
       "      <th>Nombre</th>\n",
       "      <th>NombreCompleto</th>\n",
       "      <th>Puntos</th>\n",
       "      <th>ReboteDefensivo</th>\n",
       "      <th>ReboteOfensivo</th>\n",
       "      <th>RebotesTotales</th>\n",
       "      <th>Asistencias</th>\n",
       "      <th>Recuperaciones</th>\n",
       "      <th>Perdidas</th>\n",
       "      <th>TaponCometido</th>\n",
       "      <th>TaponRecibido</th>\n",
       "      <th>FaltaCometida</th>\n",
       "      <th>FaltaRecibida</th>\n",
       "      <th>Valoracion</th>\n",
       "      <th>TiempoJuego</th>\n",
       "      <th>CincoInicial</th>\n",
       "      <th>equipo</th>\n",
       "      <th>TirosDosAciertos</th>\n",
       "      <th>TirosDosFallos</th>\n",
       "      <th>TirosTresAciertos</th>\n",
       "      <th>TirosTresFallos</th>\n",
       "      <th>TirosLibresAciertos</th>\n",
       "      <th>TirosLibresFallos</th>\n",
       "      <th>plus_minus</th>\n",
       "      <th>posesiones_consumidas</th>\n",
       "      <th>posesiones_jugadas</th>\n",
       "      <th>rebote_of_disp</th>\n",
       "      <th>rebote_def_disp</th>\n",
       "      <th>puntos_q4_y_prorroga</th>\n",
       "      <th>puntos_clutch</th>\n",
       "      <th>posesiones_estimadas</th>\n",
       "    </tr>\n",
       "  </thead>\n",
       "  <tbody>\n",
       "    <tr>\n",
       "      <th>0</th>\n",
       "      <td>68608</td>\n",
       "      <td>46</td>\n",
       "      <td>0</td>\n",
       "      <td>GONZALEZ, M.</td>\n",
       "      <td>GONZALEZ CELANO, MARTIN</td>\n",
       "      <td>0</td>\n",
       "      <td>0</td>\n",
       "      <td>0</td>\n",
       "      <td>0</td>\n",
       "      <td>0</td>\n",
       "      <td>0</td>\n",
       "      <td>0</td>\n",
       "      <td>0</td>\n",
       "      <td>0</td>\n",
       "      <td>0</td>\n",
       "      <td>0</td>\n",
       "      <td>0</td>\n",
       "      <td>00:00</td>\n",
       "      <td>False</td>\n",
       "      <td>FERRO</td>\n",
       "      <td>0</td>\n",
       "      <td>0</td>\n",
       "      <td>0</td>\n",
       "      <td>0</td>\n",
       "      <td>0</td>\n",
       "      <td>0</td>\n",
       "      <td>0</td>\n",
       "      <td>0</td>\n",
       "      <td>0</td>\n",
       "      <td>0</td>\n",
       "      <td>0</td>\n",
       "      <td>0</td>\n",
       "      <td>0</td>\n",
       "      <td>0.00</td>\n",
       "    </tr>\n",
       "    <tr>\n",
       "      <th>1</th>\n",
       "      <td>271508</td>\n",
       "      <td>46</td>\n",
       "      <td>0</td>\n",
       "      <td>LEZCANO, E.</td>\n",
       "      <td>LEZCANO, EMILIANO</td>\n",
       "      <td>14</td>\n",
       "      <td>4</td>\n",
       "      <td>0</td>\n",
       "      <td>4</td>\n",
       "      <td>2</td>\n",
       "      <td>0</td>\n",
       "      <td>3</td>\n",
       "      <td>1</td>\n",
       "      <td>1</td>\n",
       "      <td>4</td>\n",
       "      <td>2</td>\n",
       "      <td>6</td>\n",
       "      <td>32:07</td>\n",
       "      <td>True</td>\n",
       "      <td>FERRO</td>\n",
       "      <td>7</td>\n",
       "      <td>0</td>\n",
       "      <td>0</td>\n",
       "      <td>0</td>\n",
       "      <td>0</td>\n",
       "      <td>0</td>\n",
       "      <td>-2</td>\n",
       "      <td>18</td>\n",
       "      <td>69</td>\n",
       "      <td>31</td>\n",
       "      <td>36</td>\n",
       "      <td>6</td>\n",
       "      <td>6</td>\n",
       "      <td>10.00</td>\n",
       "    </tr>\n",
       "    <tr>\n",
       "      <th>2</th>\n",
       "      <td>326914</td>\n",
       "      <td>46</td>\n",
       "      <td>0</td>\n",
       "      <td>LADO, M.</td>\n",
       "      <td>LADO, MOGGA CHARLES ARNADO</td>\n",
       "      <td>11</td>\n",
       "      <td>2</td>\n",
       "      <td>0</td>\n",
       "      <td>2</td>\n",
       "      <td>1</td>\n",
       "      <td>0</td>\n",
       "      <td>2</td>\n",
       "      <td>0</td>\n",
       "      <td>2</td>\n",
       "      <td>1</td>\n",
       "      <td>4</td>\n",
       "      <td>8</td>\n",
       "      <td>21:24</td>\n",
       "      <td>True</td>\n",
       "      <td>FERRO</td>\n",
       "      <td>4</td>\n",
       "      <td>0</td>\n",
       "      <td>0</td>\n",
       "      <td>0</td>\n",
       "      <td>3</td>\n",
       "      <td>0</td>\n",
       "      <td>2</td>\n",
       "      <td>12</td>\n",
       "      <td>49</td>\n",
       "      <td>21</td>\n",
       "      <td>25</td>\n",
       "      <td>1</td>\n",
       "      <td>1</td>\n",
       "      <td>7.32</td>\n",
       "    </tr>\n",
       "    <tr>\n",
       "      <th>3</th>\n",
       "      <td>324409</td>\n",
       "      <td>46</td>\n",
       "      <td>0</td>\n",
       "      <td>MARTINEZ, J.</td>\n",
       "      <td>MARTINEZ, JANO DAVID</td>\n",
       "      <td>5</td>\n",
       "      <td>2</td>\n",
       "      <td>1</td>\n",
       "      <td>3</td>\n",
       "      <td>1</td>\n",
       "      <td>2</td>\n",
       "      <td>1</td>\n",
       "      <td>0</td>\n",
       "      <td>0</td>\n",
       "      <td>3</td>\n",
       "      <td>0</td>\n",
       "      <td>-1</td>\n",
       "      <td>22:18</td>\n",
       "      <td>False</td>\n",
       "      <td>FERRO</td>\n",
       "      <td>1</td>\n",
       "      <td>0</td>\n",
       "      <td>1</td>\n",
       "      <td>0</td>\n",
       "      <td>0</td>\n",
       "      <td>0</td>\n",
       "      <td>-6</td>\n",
       "      <td>11</td>\n",
       "      <td>48</td>\n",
       "      <td>24</td>\n",
       "      <td>23</td>\n",
       "      <td>0</td>\n",
       "      <td>0</td>\n",
       "      <td>2.00</td>\n",
       "    </tr>\n",
       "    <tr>\n",
       "      <th>4</th>\n",
       "      <td>271509</td>\n",
       "      <td>46</td>\n",
       "      <td>0</td>\n",
       "      <td>ROVERES, A.</td>\n",
       "      <td>ROVERES, AUGUSTO DANIEL</td>\n",
       "      <td>2</td>\n",
       "      <td>2</td>\n",
       "      <td>1</td>\n",
       "      <td>3</td>\n",
       "      <td>0</td>\n",
       "      <td>0</td>\n",
       "      <td>0</td>\n",
       "      <td>0</td>\n",
       "      <td>0</td>\n",
       "      <td>0</td>\n",
       "      <td>0</td>\n",
       "      <td>3</td>\n",
       "      <td>07:03</td>\n",
       "      <td>False</td>\n",
       "      <td>FERRO</td>\n",
       "      <td>1</td>\n",
       "      <td>0</td>\n",
       "      <td>0</td>\n",
       "      <td>0</td>\n",
       "      <td>0</td>\n",
       "      <td>0</td>\n",
       "      <td>-4</td>\n",
       "      <td>3</td>\n",
       "      <td>16</td>\n",
       "      <td>10</td>\n",
       "      <td>8</td>\n",
       "      <td>0</td>\n",
       "      <td>0</td>\n",
       "      <td>0.00</td>\n",
       "    </tr>\n",
       "    <tr>\n",
       "      <th>5</th>\n",
       "      <td>74902</td>\n",
       "      <td>46</td>\n",
       "      <td>0</td>\n",
       "      <td>RODRIGUEZ, F.</td>\n",
       "      <td>RODRIGUEZ, FELIPE SALVADOR</td>\n",
       "      <td>3</td>\n",
       "      <td>6</td>\n",
       "      <td>0</td>\n",
       "      <td>6</td>\n",
       "      <td>0</td>\n",
       "      <td>1</td>\n",
       "      <td>0</td>\n",
       "      <td>0</td>\n",
       "      <td>0</td>\n",
       "      <td>3</td>\n",
       "      <td>0</td>\n",
       "      <td>3</td>\n",
       "      <td>20:11</td>\n",
       "      <td>True</td>\n",
       "      <td>FERRO</td>\n",
       "      <td>0</td>\n",
       "      <td>0</td>\n",
       "      <td>1</td>\n",
       "      <td>0</td>\n",
       "      <td>0</td>\n",
       "      <td>0</td>\n",
       "      <td>8</td>\n",
       "      <td>5</td>\n",
       "      <td>44</td>\n",
       "      <td>19</td>\n",
       "      <td>24</td>\n",
       "      <td>0</td>\n",
       "      <td>0</td>\n",
       "      <td>1.00</td>\n",
       "    </tr>\n",
       "    <tr>\n",
       "      <th>6</th>\n",
       "      <td>182885</td>\n",
       "      <td>46</td>\n",
       "      <td>0</td>\n",
       "      <td>WOLINSKY, F.</td>\n",
       "      <td>WOLINSKY, FACUNDO ARIEL</td>\n",
       "      <td>0</td>\n",
       "      <td>0</td>\n",
       "      <td>0</td>\n",
       "      <td>0</td>\n",
       "      <td>0</td>\n",
       "      <td>0</td>\n",
       "      <td>0</td>\n",
       "      <td>0</td>\n",
       "      <td>0</td>\n",
       "      <td>0</td>\n",
       "      <td>0</td>\n",
       "      <td>0</td>\n",
       "      <td>00:00</td>\n",
       "      <td>False</td>\n",
       "      <td>FERRO</td>\n",
       "      <td>0</td>\n",
       "      <td>0</td>\n",
       "      <td>0</td>\n",
       "      <td>0</td>\n",
       "      <td>0</td>\n",
       "      <td>0</td>\n",
       "      <td>0</td>\n",
       "      <td>0</td>\n",
       "      <td>0</td>\n",
       "      <td>0</td>\n",
       "      <td>0</td>\n",
       "      <td>0</td>\n",
       "      <td>0</td>\n",
       "      <td>0.00</td>\n",
       "    </tr>\n",
       "    <tr>\n",
       "      <th>7</th>\n",
       "      <td>278259</td>\n",
       "      <td>46</td>\n",
       "      <td>0</td>\n",
       "      <td>GALLEGOS, R.</td>\n",
       "      <td>GALLEGOS, RODRIGO AGUSTIN</td>\n",
       "      <td>19</td>\n",
       "      <td>8</td>\n",
       "      <td>1</td>\n",
       "      <td>9</td>\n",
       "      <td>5</td>\n",
       "      <td>1</td>\n",
       "      <td>2</td>\n",
       "      <td>0</td>\n",
       "      <td>0</td>\n",
       "      <td>5</td>\n",
       "      <td>4</td>\n",
       "      <td>25</td>\n",
       "      <td>32:29</td>\n",
       "      <td>True</td>\n",
       "      <td>FERRO</td>\n",
       "      <td>6</td>\n",
       "      <td>0</td>\n",
       "      <td>0</td>\n",
       "      <td>0</td>\n",
       "      <td>7</td>\n",
       "      <td>0</td>\n",
       "      <td>5</td>\n",
       "      <td>17</td>\n",
       "      <td>64</td>\n",
       "      <td>28</td>\n",
       "      <td>34</td>\n",
       "      <td>9</td>\n",
       "      <td>9</td>\n",
       "      <td>10.08</td>\n",
       "    </tr>\n",
       "    <tr>\n",
       "      <th>8</th>\n",
       "      <td>68602</td>\n",
       "      <td>46</td>\n",
       "      <td>0</td>\n",
       "      <td>RODRIGUEZ, C.</td>\n",
       "      <td>RODRIGUEZ, CAMILO</td>\n",
       "      <td>0</td>\n",
       "      <td>0</td>\n",
       "      <td>0</td>\n",
       "      <td>0</td>\n",
       "      <td>0</td>\n",
       "      <td>2</td>\n",
       "      <td>0</td>\n",
       "      <td>0</td>\n",
       "      <td>0</td>\n",
       "      <td>0</td>\n",
       "      <td>0</td>\n",
       "      <td>1</td>\n",
       "      <td>05:57</td>\n",
       "      <td>False</td>\n",
       "      <td>FERRO</td>\n",
       "      <td>0</td>\n",
       "      <td>0</td>\n",
       "      <td>0</td>\n",
       "      <td>0</td>\n",
       "      <td>0</td>\n",
       "      <td>0</td>\n",
       "      <td>1</td>\n",
       "      <td>1</td>\n",
       "      <td>16</td>\n",
       "      <td>9</td>\n",
       "      <td>7</td>\n",
       "      <td>0</td>\n",
       "      <td>0</td>\n",
       "      <td>0.00</td>\n",
       "    </tr>\n",
       "    <tr>\n",
       "      <th>9</th>\n",
       "      <td>325771</td>\n",
       "      <td>46</td>\n",
       "      <td>0</td>\n",
       "      <td>DIEZ, A.</td>\n",
       "      <td>DIEZ, ALEJANDRO GABRIEL</td>\n",
       "      <td>10</td>\n",
       "      <td>3</td>\n",
       "      <td>2</td>\n",
       "      <td>5</td>\n",
       "      <td>1</td>\n",
       "      <td>0</td>\n",
       "      <td>2</td>\n",
       "      <td>0</td>\n",
       "      <td>1</td>\n",
       "      <td>3</td>\n",
       "      <td>3</td>\n",
       "      <td>10</td>\n",
       "      <td>26:35</td>\n",
       "      <td>False</td>\n",
       "      <td>FERRO</td>\n",
       "      <td>4</td>\n",
       "      <td>0</td>\n",
       "      <td>0</td>\n",
       "      <td>0</td>\n",
       "      <td>2</td>\n",
       "      <td>0</td>\n",
       "      <td>6</td>\n",
       "      <td>10</td>\n",
       "      <td>64</td>\n",
       "      <td>29</td>\n",
       "      <td>39</td>\n",
       "      <td>4</td>\n",
       "      <td>2</td>\n",
       "      <td>4.88</td>\n",
       "    </tr>\n",
       "    <tr>\n",
       "      <th>10</th>\n",
       "      <td>22581</td>\n",
       "      <td>46</td>\n",
       "      <td>0</td>\n",
       "      <td>SPANO, T.</td>\n",
       "      <td>SPANO, TOMAS</td>\n",
       "      <td>6</td>\n",
       "      <td>4</td>\n",
       "      <td>0</td>\n",
       "      <td>4</td>\n",
       "      <td>6</td>\n",
       "      <td>2</td>\n",
       "      <td>3</td>\n",
       "      <td>0</td>\n",
       "      <td>1</td>\n",
       "      <td>1</td>\n",
       "      <td>1</td>\n",
       "      <td>10</td>\n",
       "      <td>34:05</td>\n",
       "      <td>False</td>\n",
       "      <td>FERRO</td>\n",
       "      <td>2</td>\n",
       "      <td>0</td>\n",
       "      <td>0</td>\n",
       "      <td>0</td>\n",
       "      <td>2</td>\n",
       "      <td>0</td>\n",
       "      <td>4</td>\n",
       "      <td>10</td>\n",
       "      <td>81</td>\n",
       "      <td>36</td>\n",
       "      <td>46</td>\n",
       "      <td>4</td>\n",
       "      <td>2</td>\n",
       "      <td>5.88</td>\n",
       "    </tr>\n",
       "    <tr>\n",
       "      <th>11</th>\n",
       "      <td>271029</td>\n",
       "      <td>46</td>\n",
       "      <td>0</td>\n",
       "      <td>FIERRO, M.</td>\n",
       "      <td>FIERRO, MARIANO</td>\n",
       "      <td>14</td>\n",
       "      <td>8</td>\n",
       "      <td>1</td>\n",
       "      <td>9</td>\n",
       "      <td>0</td>\n",
       "      <td>0</td>\n",
       "      <td>0</td>\n",
       "      <td>0</td>\n",
       "      <td>0</td>\n",
       "      <td>3</td>\n",
       "      <td>3</td>\n",
       "      <td>21</td>\n",
       "      <td>22:51</td>\n",
       "      <td>True</td>\n",
       "      <td>FERRO</td>\n",
       "      <td>3</td>\n",
       "      <td>0</td>\n",
       "      <td>2</td>\n",
       "      <td>0</td>\n",
       "      <td>2</td>\n",
       "      <td>0</td>\n",
       "      <td>-2</td>\n",
       "      <td>8</td>\n",
       "      <td>45</td>\n",
       "      <td>18</td>\n",
       "      <td>28</td>\n",
       "      <td>5</td>\n",
       "      <td>0</td>\n",
       "      <td>4.88</td>\n",
       "    </tr>\n",
       "    <tr>\n",
       "      <th>12</th>\n",
       "      <td>277487</td>\n",
       "      <td>2376</td>\n",
       "      <td>0</td>\n",
       "      <td>FERNANDEZ, V.</td>\n",
       "      <td>FERNANDEZ, VICTOR LUIS</td>\n",
       "      <td>18</td>\n",
       "      <td>2</td>\n",
       "      <td>1</td>\n",
       "      <td>3</td>\n",
       "      <td>1</td>\n",
       "      <td>2</td>\n",
       "      <td>3</td>\n",
       "      <td>0</td>\n",
       "      <td>0</td>\n",
       "      <td>1</td>\n",
       "      <td>3</td>\n",
       "      <td>11</td>\n",
       "      <td>38:57</td>\n",
       "      <td>True</td>\n",
       "      <td>PEÑAROL (MDP)</td>\n",
       "      <td>3</td>\n",
       "      <td>0</td>\n",
       "      <td>3</td>\n",
       "      <td>0</td>\n",
       "      <td>3</td>\n",
       "      <td>0</td>\n",
       "      <td>-3</td>\n",
       "      <td>22</td>\n",
       "      <td>89</td>\n",
       "      <td>48</td>\n",
       "      <td>37</td>\n",
       "      <td>0</td>\n",
       "      <td>0</td>\n",
       "      <td>9.32</td>\n",
       "    </tr>\n",
       "    <tr>\n",
       "      <th>13</th>\n",
       "      <td>211116</td>\n",
       "      <td>2376</td>\n",
       "      <td>0</td>\n",
       "      <td>THORNTON, W.</td>\n",
       "      <td>THORNTON, WILLIE ALFORD</td>\n",
       "      <td>25</td>\n",
       "      <td>11</td>\n",
       "      <td>1</td>\n",
       "      <td>12</td>\n",
       "      <td>1</td>\n",
       "      <td>0</td>\n",
       "      <td>0</td>\n",
       "      <td>4</td>\n",
       "      <td>0</td>\n",
       "      <td>2</td>\n",
       "      <td>5</td>\n",
       "      <td>38</td>\n",
       "      <td>34:37</td>\n",
       "      <td>True</td>\n",
       "      <td>PEÑAROL (MDP)</td>\n",
       "      <td>6</td>\n",
       "      <td>0</td>\n",
       "      <td>1</td>\n",
       "      <td>0</td>\n",
       "      <td>10</td>\n",
       "      <td>0</td>\n",
       "      <td>-9</td>\n",
       "      <td>18</td>\n",
       "      <td>73</td>\n",
       "      <td>39</td>\n",
       "      <td>29</td>\n",
       "      <td>10</td>\n",
       "      <td>3</td>\n",
       "      <td>10.40</td>\n",
       "    </tr>\n",
       "    <tr>\n",
       "      <th>14</th>\n",
       "      <td>189628</td>\n",
       "      <td>2376</td>\n",
       "      <td>0</td>\n",
       "      <td>TOLOSA, F.</td>\n",
       "      <td>TOLOSA, FACUNDO GERMAN</td>\n",
       "      <td>0</td>\n",
       "      <td>1</td>\n",
       "      <td>0</td>\n",
       "      <td>1</td>\n",
       "      <td>0</td>\n",
       "      <td>0</td>\n",
       "      <td>0</td>\n",
       "      <td>0</td>\n",
       "      <td>0</td>\n",
       "      <td>1</td>\n",
       "      <td>0</td>\n",
       "      <td>-2</td>\n",
       "      <td>11:00</td>\n",
       "      <td>True</td>\n",
       "      <td>PEÑAROL (MDP)</td>\n",
       "      <td>0</td>\n",
       "      <td>0</td>\n",
       "      <td>0</td>\n",
       "      <td>0</td>\n",
       "      <td>0</td>\n",
       "      <td>0</td>\n",
       "      <td>-1</td>\n",
       "      <td>2</td>\n",
       "      <td>24</td>\n",
       "      <td>11</td>\n",
       "      <td>9</td>\n",
       "      <td>0</td>\n",
       "      <td>0</td>\n",
       "      <td>0.00</td>\n",
       "    </tr>\n",
       "    <tr>\n",
       "      <th>15</th>\n",
       "      <td>274342</td>\n",
       "      <td>2376</td>\n",
       "      <td>0</td>\n",
       "      <td>CHAPERO, M.</td>\n",
       "      <td>CHAPERO, MARTIN</td>\n",
       "      <td>0</td>\n",
       "      <td>0</td>\n",
       "      <td>0</td>\n",
       "      <td>0</td>\n",
       "      <td>0</td>\n",
       "      <td>0</td>\n",
       "      <td>0</td>\n",
       "      <td>0</td>\n",
       "      <td>0</td>\n",
       "      <td>0</td>\n",
       "      <td>0</td>\n",
       "      <td>0</td>\n",
       "      <td>00:00</td>\n",
       "      <td>False</td>\n",
       "      <td>PEÑAROL (MDP)</td>\n",
       "      <td>0</td>\n",
       "      <td>0</td>\n",
       "      <td>0</td>\n",
       "      <td>0</td>\n",
       "      <td>0</td>\n",
       "      <td>0</td>\n",
       "      <td>0</td>\n",
       "      <td>0</td>\n",
       "      <td>0</td>\n",
       "      <td>0</td>\n",
       "      <td>0</td>\n",
       "      <td>0</td>\n",
       "      <td>0</td>\n",
       "      <td>0.00</td>\n",
       "    </tr>\n",
       "    <tr>\n",
       "      <th>16</th>\n",
       "      <td>322874</td>\n",
       "      <td>2376</td>\n",
       "      <td>0</td>\n",
       "      <td>CAUMO, J.</td>\n",
       "      <td>CAUMO, JOAQUIN</td>\n",
       "      <td>0</td>\n",
       "      <td>0</td>\n",
       "      <td>0</td>\n",
       "      <td>0</td>\n",
       "      <td>0</td>\n",
       "      <td>0</td>\n",
       "      <td>0</td>\n",
       "      <td>0</td>\n",
       "      <td>0</td>\n",
       "      <td>0</td>\n",
       "      <td>0</td>\n",
       "      <td>0</td>\n",
       "      <td>00:00</td>\n",
       "      <td>False</td>\n",
       "      <td>PEÑAROL (MDP)</td>\n",
       "      <td>0</td>\n",
       "      <td>0</td>\n",
       "      <td>0</td>\n",
       "      <td>0</td>\n",
       "      <td>0</td>\n",
       "      <td>0</td>\n",
       "      <td>0</td>\n",
       "      <td>0</td>\n",
       "      <td>0</td>\n",
       "      <td>0</td>\n",
       "      <td>0</td>\n",
       "      <td>0</td>\n",
       "      <td>0</td>\n",
       "      <td>0.00</td>\n",
       "    </tr>\n",
       "    <tr>\n",
       "      <th>17</th>\n",
       "      <td>220521</td>\n",
       "      <td>2376</td>\n",
       "      <td>0</td>\n",
       "      <td>CHIARAVIGLIO, N.</td>\n",
       "      <td>CHIARAVIGLIO, NICOLAS</td>\n",
       "      <td>9</td>\n",
       "      <td>3</td>\n",
       "      <td>0</td>\n",
       "      <td>3</td>\n",
       "      <td>0</td>\n",
       "      <td>1</td>\n",
       "      <td>0</td>\n",
       "      <td>0</td>\n",
       "      <td>0</td>\n",
       "      <td>3</td>\n",
       "      <td>2</td>\n",
       "      <td>7</td>\n",
       "      <td>39:07</td>\n",
       "      <td>False</td>\n",
       "      <td>PEÑAROL (MDP)</td>\n",
       "      <td>0</td>\n",
       "      <td>0</td>\n",
       "      <td>3</td>\n",
       "      <td>0</td>\n",
       "      <td>0</td>\n",
       "      <td>0</td>\n",
       "      <td>-2</td>\n",
       "      <td>7</td>\n",
       "      <td>80</td>\n",
       "      <td>44</td>\n",
       "      <td>39</td>\n",
       "      <td>3</td>\n",
       "      <td>0</td>\n",
       "      <td>3.00</td>\n",
       "    </tr>\n",
       "    <tr>\n",
       "      <th>18</th>\n",
       "      <td>93423</td>\n",
       "      <td>2376</td>\n",
       "      <td>0</td>\n",
       "      <td>BEDNAREK, I.</td>\n",
       "      <td>BEDNAREK, IGNACIO NICOLAS</td>\n",
       "      <td>2</td>\n",
       "      <td>4</td>\n",
       "      <td>0</td>\n",
       "      <td>4</td>\n",
       "      <td>1</td>\n",
       "      <td>1</td>\n",
       "      <td>1</td>\n",
       "      <td>1</td>\n",
       "      <td>0</td>\n",
       "      <td>3</td>\n",
       "      <td>0</td>\n",
       "      <td>4</td>\n",
       "      <td>16:16</td>\n",
       "      <td>True</td>\n",
       "      <td>PEÑAROL (MDP)</td>\n",
       "      <td>1</td>\n",
       "      <td>0</td>\n",
       "      <td>0</td>\n",
       "      <td>0</td>\n",
       "      <td>0</td>\n",
       "      <td>0</td>\n",
       "      <td>7</td>\n",
       "      <td>3</td>\n",
       "      <td>37</td>\n",
       "      <td>19</td>\n",
       "      <td>18</td>\n",
       "      <td>0</td>\n",
       "      <td>0</td>\n",
       "      <td>2.00</td>\n",
       "    </tr>\n",
       "    <tr>\n",
       "      <th>19</th>\n",
       "      <td>274664</td>\n",
       "      <td>2376</td>\n",
       "      <td>0</td>\n",
       "      <td>AMAN, G.</td>\n",
       "      <td>AMAN, GONZALO</td>\n",
       "      <td>0</td>\n",
       "      <td>0</td>\n",
       "      <td>0</td>\n",
       "      <td>0</td>\n",
       "      <td>0</td>\n",
       "      <td>0</td>\n",
       "      <td>0</td>\n",
       "      <td>0</td>\n",
       "      <td>0</td>\n",
       "      <td>0</td>\n",
       "      <td>0</td>\n",
       "      <td>0</td>\n",
       "      <td>00:00</td>\n",
       "      <td>False</td>\n",
       "      <td>PEÑAROL (MDP)</td>\n",
       "      <td>0</td>\n",
       "      <td>0</td>\n",
       "      <td>0</td>\n",
       "      <td>0</td>\n",
       "      <td>0</td>\n",
       "      <td>0</td>\n",
       "      <td>0</td>\n",
       "      <td>0</td>\n",
       "      <td>0</td>\n",
       "      <td>0</td>\n",
       "      <td>0</td>\n",
       "      <td>0</td>\n",
       "      <td>0</td>\n",
       "      <td>0.00</td>\n",
       "    </tr>\n",
       "    <tr>\n",
       "      <th>20</th>\n",
       "      <td>325394</td>\n",
       "      <td>2376</td>\n",
       "      <td>0</td>\n",
       "      <td>ANDUJAR, L.</td>\n",
       "      <td>ANDUJAR, LUCAS</td>\n",
       "      <td>1</td>\n",
       "      <td>3</td>\n",
       "      <td>3</td>\n",
       "      <td>6</td>\n",
       "      <td>3</td>\n",
       "      <td>3</td>\n",
       "      <td>2</td>\n",
       "      <td>0</td>\n",
       "      <td>0</td>\n",
       "      <td>5</td>\n",
       "      <td>1</td>\n",
       "      <td>0</td>\n",
       "      <td>28:25</td>\n",
       "      <td>False</td>\n",
       "      <td>PEÑAROL (MDP)</td>\n",
       "      <td>0</td>\n",
       "      <td>0</td>\n",
       "      <td>0</td>\n",
       "      <td>0</td>\n",
       "      <td>1</td>\n",
       "      <td>0</td>\n",
       "      <td>-6</td>\n",
       "      <td>9</td>\n",
       "      <td>73</td>\n",
       "      <td>42</td>\n",
       "      <td>37</td>\n",
       "      <td>0</td>\n",
       "      <td>0</td>\n",
       "      <td>0.00</td>\n",
       "    </tr>\n",
       "    <tr>\n",
       "      <th>21</th>\n",
       "      <td>326636</td>\n",
       "      <td>2376</td>\n",
       "      <td>0</td>\n",
       "      <td>WALLACE, D.</td>\n",
       "      <td>WALLACE, DEVANTE RASHAD-KEITH</td>\n",
       "      <td>8</td>\n",
       "      <td>1</td>\n",
       "      <td>1</td>\n",
       "      <td>2</td>\n",
       "      <td>0</td>\n",
       "      <td>1</td>\n",
       "      <td>2</td>\n",
       "      <td>0</td>\n",
       "      <td>0</td>\n",
       "      <td>2</td>\n",
       "      <td>0</td>\n",
       "      <td>2</td>\n",
       "      <td>16:31</td>\n",
       "      <td>False</td>\n",
       "      <td>PEÑAROL (MDP)</td>\n",
       "      <td>1</td>\n",
       "      <td>0</td>\n",
       "      <td>2</td>\n",
       "      <td>0</td>\n",
       "      <td>0</td>\n",
       "      <td>0</td>\n",
       "      <td>7</td>\n",
       "      <td>10</td>\n",
       "      <td>32</td>\n",
       "      <td>18</td>\n",
       "      <td>18</td>\n",
       "      <td>3</td>\n",
       "      <td>0</td>\n",
       "      <td>4.00</td>\n",
       "    </tr>\n",
       "    <tr>\n",
       "      <th>22</th>\n",
       "      <td>272375</td>\n",
       "      <td>2376</td>\n",
       "      <td>0</td>\n",
       "      <td>ROSSI, G.</td>\n",
       "      <td>ROSSI, GIAN LUCA</td>\n",
       "      <td>0</td>\n",
       "      <td>0</td>\n",
       "      <td>0</td>\n",
       "      <td>0</td>\n",
       "      <td>0</td>\n",
       "      <td>0</td>\n",
       "      <td>0</td>\n",
       "      <td>0</td>\n",
       "      <td>0</td>\n",
       "      <td>0</td>\n",
       "      <td>0</td>\n",
       "      <td>0</td>\n",
       "      <td>00:00</td>\n",
       "      <td>False</td>\n",
       "      <td>PEÑAROL (MDP)</td>\n",
       "      <td>0</td>\n",
       "      <td>0</td>\n",
       "      <td>0</td>\n",
       "      <td>0</td>\n",
       "      <td>0</td>\n",
       "      <td>0</td>\n",
       "      <td>0</td>\n",
       "      <td>0</td>\n",
       "      <td>0</td>\n",
       "      <td>0</td>\n",
       "      <td>0</td>\n",
       "      <td>0</td>\n",
       "      <td>0</td>\n",
       "      <td>0.00</td>\n",
       "    </tr>\n",
       "    <tr>\n",
       "      <th>23</th>\n",
       "      <td>327540</td>\n",
       "      <td>2376</td>\n",
       "      <td>0</td>\n",
       "      <td>THOMAS, M.</td>\n",
       "      <td>THOMAS JR, MARCUS WILEY</td>\n",
       "      <td>19</td>\n",
       "      <td>5</td>\n",
       "      <td>2</td>\n",
       "      <td>7</td>\n",
       "      <td>1</td>\n",
       "      <td>1</td>\n",
       "      <td>2</td>\n",
       "      <td>0</td>\n",
       "      <td>1</td>\n",
       "      <td>1</td>\n",
       "      <td>12</td>\n",
       "      <td>22</td>\n",
       "      <td>40:08</td>\n",
       "      <td>True</td>\n",
       "      <td>PEÑAROL (MDP)</td>\n",
       "      <td>4</td>\n",
       "      <td>0</td>\n",
       "      <td>0</td>\n",
       "      <td>0</td>\n",
       "      <td>11</td>\n",
       "      <td>0</td>\n",
       "      <td>-8</td>\n",
       "      <td>24</td>\n",
       "      <td>84</td>\n",
       "      <td>45</td>\n",
       "      <td>35</td>\n",
       "      <td>9</td>\n",
       "      <td>7</td>\n",
       "      <td>8.84</td>\n",
       "    </tr>\n",
       "  </tbody>\n",
       "</table>\n",
       "</div>"
      ],
      "text/plain": [
       "    IdJugador  IdClub  IdEquipo            Nombre  \\\n",
       "0       68608      46         0      GONZALEZ, M.   \n",
       "1      271508      46         0       LEZCANO, E.   \n",
       "2      326914      46         0          LADO, M.   \n",
       "3      324409      46         0      MARTINEZ, J.   \n",
       "4      271509      46         0       ROVERES, A.   \n",
       "5       74902      46         0     RODRIGUEZ, F.   \n",
       "6      182885      46         0      WOLINSKY, F.   \n",
       "7      278259      46         0      GALLEGOS, R.   \n",
       "8       68602      46         0     RODRIGUEZ, C.   \n",
       "9      325771      46         0          DIEZ, A.   \n",
       "10      22581      46         0         SPANO, T.   \n",
       "11     271029      46         0        FIERRO, M.   \n",
       "12     277487    2376         0     FERNANDEZ, V.   \n",
       "13     211116    2376         0      THORNTON, W.   \n",
       "14     189628    2376         0        TOLOSA, F.   \n",
       "15     274342    2376         0       CHAPERO, M.   \n",
       "16     322874    2376         0         CAUMO, J.   \n",
       "17     220521    2376         0  CHIARAVIGLIO, N.   \n",
       "18      93423    2376         0      BEDNAREK, I.   \n",
       "19     274664    2376         0          AMAN, G.   \n",
       "20     325394    2376         0       ANDUJAR, L.   \n",
       "21     326636    2376         0       WALLACE, D.   \n",
       "22     272375    2376         0         ROSSI, G.   \n",
       "23     327540    2376         0        THOMAS, M.   \n",
       "\n",
       "                   NombreCompleto  Puntos  ReboteDefensivo  ReboteOfensivo  \\\n",
       "0         GONZALEZ CELANO, MARTIN       0                0               0   \n",
       "1               LEZCANO, EMILIANO      14                4               0   \n",
       "2      LADO, MOGGA CHARLES ARNADO      11                2               0   \n",
       "3            MARTINEZ, JANO DAVID       5                2               1   \n",
       "4         ROVERES, AUGUSTO DANIEL       2                2               1   \n",
       "5      RODRIGUEZ, FELIPE SALVADOR       3                6               0   \n",
       "6         WOLINSKY, FACUNDO ARIEL       0                0               0   \n",
       "7       GALLEGOS, RODRIGO AGUSTIN      19                8               1   \n",
       "8               RODRIGUEZ, CAMILO       0                0               0   \n",
       "9         DIEZ, ALEJANDRO GABRIEL      10                3               2   \n",
       "10                   SPANO, TOMAS       6                4               0   \n",
       "11                FIERRO, MARIANO      14                8               1   \n",
       "12         FERNANDEZ, VICTOR LUIS      18                2               1   \n",
       "13        THORNTON, WILLIE ALFORD      25               11               1   \n",
       "14         TOLOSA, FACUNDO GERMAN       0                1               0   \n",
       "15               CHAPERO, MARTIN        0                0               0   \n",
       "16                 CAUMO, JOAQUIN       0                0               0   \n",
       "17          CHIARAVIGLIO, NICOLAS       9                3               0   \n",
       "18      BEDNAREK, IGNACIO NICOLAS       2                4               0   \n",
       "19                  AMAN, GONZALO       0                0               0   \n",
       "20                 ANDUJAR, LUCAS       1                3               3   \n",
       "21  WALLACE, DEVANTE RASHAD-KEITH       8                1               1   \n",
       "22               ROSSI, GIAN LUCA       0                0               0   \n",
       "23        THOMAS JR, MARCUS WILEY      19                5               2   \n",
       "\n",
       "    RebotesTotales  Asistencias  Recuperaciones  Perdidas  TaponCometido  \\\n",
       "0                0            0               0         0              0   \n",
       "1                4            2               0         3              1   \n",
       "2                2            1               0         2              0   \n",
       "3                3            1               2         1              0   \n",
       "4                3            0               0         0              0   \n",
       "5                6            0               1         0              0   \n",
       "6                0            0               0         0              0   \n",
       "7                9            5               1         2              0   \n",
       "8                0            0               2         0              0   \n",
       "9                5            1               0         2              0   \n",
       "10               4            6               2         3              0   \n",
       "11               9            0               0         0              0   \n",
       "12               3            1               2         3              0   \n",
       "13              12            1               0         0              4   \n",
       "14               1            0               0         0              0   \n",
       "15               0            0               0         0              0   \n",
       "16               0            0               0         0              0   \n",
       "17               3            0               1         0              0   \n",
       "18               4            1               1         1              1   \n",
       "19               0            0               0         0              0   \n",
       "20               6            3               3         2              0   \n",
       "21               2            0               1         2              0   \n",
       "22               0            0               0         0              0   \n",
       "23               7            1               1         2              0   \n",
       "\n",
       "    TaponRecibido  FaltaCometida  FaltaRecibida  Valoracion TiempoJuego  \\\n",
       "0               0              0              0           0       00:00   \n",
       "1               1              4              2           6       32:07   \n",
       "2               2              1              4           8       21:24   \n",
       "3               0              3              0          -1       22:18   \n",
       "4               0              0              0           3       07:03   \n",
       "5               0              3              0           3       20:11   \n",
       "6               0              0              0           0       00:00   \n",
       "7               0              5              4          25       32:29   \n",
       "8               0              0              0           1       05:57   \n",
       "9               1              3              3          10       26:35   \n",
       "10              1              1              1          10       34:05   \n",
       "11              0              3              3          21       22:51   \n",
       "12              0              1              3          11       38:57   \n",
       "13              0              2              5          38       34:37   \n",
       "14              0              1              0          -2       11:00   \n",
       "15              0              0              0           0       00:00   \n",
       "16              0              0              0           0       00:00   \n",
       "17              0              3              2           7       39:07   \n",
       "18              0              3              0           4       16:16   \n",
       "19              0              0              0           0       00:00   \n",
       "20              0              5              1           0       28:25   \n",
       "21              0              2              0           2       16:31   \n",
       "22              0              0              0           0       00:00   \n",
       "23              1              1             12          22       40:08   \n",
       "\n",
       "    CincoInicial         equipo  TirosDosAciertos  TirosDosFallos  \\\n",
       "0          False          FERRO                 0               0   \n",
       "1           True          FERRO                 7               0   \n",
       "2           True          FERRO                 4               0   \n",
       "3          False          FERRO                 1               0   \n",
       "4          False          FERRO                 1               0   \n",
       "5           True          FERRO                 0               0   \n",
       "6          False          FERRO                 0               0   \n",
       "7           True          FERRO                 6               0   \n",
       "8          False          FERRO                 0               0   \n",
       "9          False          FERRO                 4               0   \n",
       "10         False          FERRO                 2               0   \n",
       "11          True          FERRO                 3               0   \n",
       "12          True  PEÑAROL (MDP)                 3               0   \n",
       "13          True  PEÑAROL (MDP)                 6               0   \n",
       "14          True  PEÑAROL (MDP)                 0               0   \n",
       "15         False  PEÑAROL (MDP)                 0               0   \n",
       "16         False  PEÑAROL (MDP)                 0               0   \n",
       "17         False  PEÑAROL (MDP)                 0               0   \n",
       "18          True  PEÑAROL (MDP)                 1               0   \n",
       "19         False  PEÑAROL (MDP)                 0               0   \n",
       "20         False  PEÑAROL (MDP)                 0               0   \n",
       "21         False  PEÑAROL (MDP)                 1               0   \n",
       "22         False  PEÑAROL (MDP)                 0               0   \n",
       "23          True  PEÑAROL (MDP)                 4               0   \n",
       "\n",
       "    TirosTresAciertos  TirosTresFallos  TirosLibresAciertos  \\\n",
       "0                   0                0                    0   \n",
       "1                   0                0                    0   \n",
       "2                   0                0                    3   \n",
       "3                   1                0                    0   \n",
       "4                   0                0                    0   \n",
       "5                   1                0                    0   \n",
       "6                   0                0                    0   \n",
       "7                   0                0                    7   \n",
       "8                   0                0                    0   \n",
       "9                   0                0                    2   \n",
       "10                  0                0                    2   \n",
       "11                  2                0                    2   \n",
       "12                  3                0                    3   \n",
       "13                  1                0                   10   \n",
       "14                  0                0                    0   \n",
       "15                  0                0                    0   \n",
       "16                  0                0                    0   \n",
       "17                  3                0                    0   \n",
       "18                  0                0                    0   \n",
       "19                  0                0                    0   \n",
       "20                  0                0                    1   \n",
       "21                  2                0                    0   \n",
       "22                  0                0                    0   \n",
       "23                  0                0                   11   \n",
       "\n",
       "    TirosLibresFallos  plus_minus  posesiones_consumidas  posesiones_jugadas  \\\n",
       "0                   0           0                      0                   0   \n",
       "1                   0          -2                     18                  69   \n",
       "2                   0           2                     12                  49   \n",
       "3                   0          -6                     11                  48   \n",
       "4                   0          -4                      3                  16   \n",
       "5                   0           8                      5                  44   \n",
       "6                   0           0                      0                   0   \n",
       "7                   0           5                     17                  64   \n",
       "8                   0           1                      1                  16   \n",
       "9                   0           6                     10                  64   \n",
       "10                  0           4                     10                  81   \n",
       "11                  0          -2                      8                  45   \n",
       "12                  0          -3                     22                  89   \n",
       "13                  0          -9                     18                  73   \n",
       "14                  0          -1                      2                  24   \n",
       "15                  0           0                      0                   0   \n",
       "16                  0           0                      0                   0   \n",
       "17                  0          -2                      7                  80   \n",
       "18                  0           7                      3                  37   \n",
       "19                  0           0                      0                   0   \n",
       "20                  0          -6                      9                  73   \n",
       "21                  0           7                     10                  32   \n",
       "22                  0           0                      0                   0   \n",
       "23                  0          -8                     24                  84   \n",
       "\n",
       "    rebote_of_disp  rebote_def_disp  puntos_q4_y_prorroga  puntos_clutch  \\\n",
       "0                0                0                     0              0   \n",
       "1               31               36                     6              6   \n",
       "2               21               25                     1              1   \n",
       "3               24               23                     0              0   \n",
       "4               10                8                     0              0   \n",
       "5               19               24                     0              0   \n",
       "6                0                0                     0              0   \n",
       "7               28               34                     9              9   \n",
       "8                9                7                     0              0   \n",
       "9               29               39                     4              2   \n",
       "10              36               46                     4              2   \n",
       "11              18               28                     5              0   \n",
       "12              48               37                     0              0   \n",
       "13              39               29                    10              3   \n",
       "14              11                9                     0              0   \n",
       "15               0                0                     0              0   \n",
       "16               0                0                     0              0   \n",
       "17              44               39                     3              0   \n",
       "18              19               18                     0              0   \n",
       "19               0                0                     0              0   \n",
       "20              42               37                     0              0   \n",
       "21              18               18                     3              0   \n",
       "22               0                0                     0              0   \n",
       "23              45               35                     9              7   \n",
       "\n",
       "    posesiones_estimadas  \n",
       "0                   0.00  \n",
       "1                  10.00  \n",
       "2                   7.32  \n",
       "3                   2.00  \n",
       "4                   0.00  \n",
       "5                   1.00  \n",
       "6                   0.00  \n",
       "7                  10.08  \n",
       "8                   0.00  \n",
       "9                   4.88  \n",
       "10                  5.88  \n",
       "11                  4.88  \n",
       "12                  9.32  \n",
       "13                 10.40  \n",
       "14                  0.00  \n",
       "15                  0.00  \n",
       "16                  0.00  \n",
       "17                  3.00  \n",
       "18                  2.00  \n",
       "19                  0.00  \n",
       "20                  0.00  \n",
       "21                  4.00  \n",
       "22                  0.00  \n",
       "23                  8.84  "
      ]
     },
     "metadata": {},
     "output_type": "display_data"
    }
   ],
   "source": [
    "# --- INICIO DEL SCRIPT DE ANÁLISIS PRINCIPAL ---\n",
    "print(\"\\nIniciando análisis avanzado de Play-by-Play...\")\n",
    "try:\n",
    "    # --- PREPARACIÓN DE DATOS ---\n",
    "    player_to_team_map = pd.Series(df_box_scores.equipo.values, index=df_box_scores.NombreCompleto).to_dict()\n",
    "    df_sorted = df_acciones_final.iloc[::-1].reset_index(drop=True)\n",
    "    \n",
    "    # --- CÁLCULO DE MÉTRICAS AVANZADAS (DESDE FUNCIONES) ---\n",
    "    df_plus_minus = calcular_plus_minus_corregido(df_sorted.copy(), player_to_team_map)\n",
    "    df_posesiones_consumidas = calcular_posesiones(df_sorted.copy())\n",
    "    df_posesiones_consumidas.rename(columns={'posesiones': 'posesiones_consumidas'}, inplace=True)\n",
    "    df_posesiones_jugadas = contar_posesiones_jugadas_por_equipo(df_sorted.copy(), df_box_scores.copy(), player_to_team_map)\n",
    "    df_rebotes_disponibles = calcular_rebotes_disponibles(df_sorted.copy(), df_box_scores.copy(), player_to_team_map)\n",
    "    df_puntos_q4 = calcular_puntos_ultimo_cuarto(df_acciones_final.copy(), df_box_scores.copy())\n",
    "    df_puntos_clutch = calcular_puntos_clutch(df_acciones_final.copy(), df_box_scores.copy())\n",
    "\n",
    "    # --- UNIR ESTADÍSTICAS AVANZADAS ---\n",
    "    print(\"\\nUniendo todos los datos calculados...\")\n",
    "    resultado_final = df_box_scores.copy()\n",
    "    \n",
    "    lista_de_stats = [df_plus_minus, df_posesiones_consumidas, df_posesiones_jugadas, \n",
    "                      df_rebotes_disponibles, df_puntos_q4, df_puntos_clutch]\n",
    "    \n",
    "    for df_stat in lista_de_stats:\n",
    "        df_stat.rename(columns={'jugador': 'NombreCompleto'}, inplace=True)\n",
    "        resultado_final = pd.merge(resultado_final, df_stat, on='NombreCompleto', how='left')\n",
    "\n",
    "    # Nota: Asegúrate que el nombre 'puntos_q4_y_prorroga' coincida con el que devuelve tu función.\n",
    "    cols_a_rellenar = ['plus_minus', 'posesiones_consumidas', 'posesiones_jugadas', \n",
    "                       'reb_of_disp', 'reb_def_disp', 'puntos_q4_y_prorroga', 'puntos_clutch']\n",
    "    for col in cols_a_rellenar:\n",
    "        if col in resultado_final.columns:\n",
    "            resultado_final[col] = resultado_final[col].fillna(0).astype(int)\n",
    "\n",
    "    resultado_final = calcular_posesiones_individuales(resultado_final)\n",
    "\n",
    "    # --- MOSTRAR RESULTADO FINAL ---\n",
    "    print(\"\\n✅ Resultado Final con Estadísticas Completas:\")\n",
    "    display(resultado_final)\n",
    "\n",
    "except Exception as e:\n",
    "    import traceback\n",
    "    print(f\"\\n❌ Ocurrió un error en el script de análisis: {e}\")\n",
    "    traceback.print_exc()"
   ]
  },
  {
   "cell_type": "markdown",
   "id": "fe451ae3",
   "metadata": {},
   "source": [
    "TODO: pensar\n",
    "- con estas variables puedo calcular los four factors? si\n",
    "- cuantos registros tendra mi base? 380 partidos x24 jugadores = 9.120 es poco\n",
    "- commo performara el group by? es necesario spark? creeria que no hace falta spark"
   ]
  },
  {
   "cell_type": "markdown",
   "id": "6a87ed90",
   "metadata": {},
   "source": [
    "## Iteración"
   ]
  },
  {
   "cell_type": "code",
   "execution_count": 12,
   "id": "3a52947d",
   "metadata": {},
   "outputs": [
    {
     "name": "stderr",
     "output_type": "stream",
     "text": [
      "Procesando partidos: 100%|██████████| 10/10 [04:27<00:00, 26.73s/it]"
     ]
    },
    {
     "name": "stdout",
     "output_type": "stream",
     "text": [
      "\n",
      "✅ DataFrame final con todos los registros de todos los jugadores de los primeros 10 partidos.\n"
     ]
    },
    {
     "name": "stderr",
     "output_type": "stream",
     "text": [
      "\n"
     ]
    },
    {
     "data": {
      "text/html": [
       "<div>\n",
       "<style scoped>\n",
       "    .dataframe tbody tr th:only-of-type {\n",
       "        vertical-align: middle;\n",
       "    }\n",
       "\n",
       "    .dataframe tbody tr th {\n",
       "        vertical-align: top;\n",
       "    }\n",
       "\n",
       "    .dataframe thead th {\n",
       "        text-align: right;\n",
       "    }\n",
       "</style>\n",
       "<table border=\"1\" class=\"dataframe\">\n",
       "  <thead>\n",
       "    <tr style=\"text-align: right;\">\n",
       "      <th></th>\n",
       "      <th>IdJugador</th>\n",
       "      <th>IdClub</th>\n",
       "      <th>IdEquipo</th>\n",
       "      <th>Nombre</th>\n",
       "      <th>NombreCompleto</th>\n",
       "      <th>Puntos</th>\n",
       "      <th>ReboteDefensivo</th>\n",
       "      <th>ReboteOfensivo</th>\n",
       "      <th>RebotesTotales</th>\n",
       "      <th>Asistencias</th>\n",
       "      <th>Recuperaciones</th>\n",
       "      <th>Perdidas</th>\n",
       "      <th>TaponCometido</th>\n",
       "      <th>TaponRecibido</th>\n",
       "      <th>FaltaCometida</th>\n",
       "      <th>FaltaRecibida</th>\n",
       "      <th>Valoracion</th>\n",
       "      <th>TiempoJuego</th>\n",
       "      <th>CincoInicial</th>\n",
       "      <th>equipo</th>\n",
       "      <th>TirosDosAciertos</th>\n",
       "      <th>TirosDosFallos</th>\n",
       "      <th>TirosTresAciertos</th>\n",
       "      <th>TirosTresFallos</th>\n",
       "      <th>TirosLibresAciertos</th>\n",
       "      <th>TirosLibresFallos</th>\n",
       "      <th>plus_minus</th>\n",
       "      <th>posesiones_consumidas</th>\n",
       "      <th>posesiones_jugadas</th>\n",
       "      <th>rebote_of_disp</th>\n",
       "      <th>rebote_def_disp</th>\n",
       "      <th>puntos_q4_y_prorroga</th>\n",
       "      <th>puntos_clutch</th>\n",
       "      <th>posesiones_estimadas</th>\n",
       "      <th>partido_key</th>\n",
       "    </tr>\n",
       "  </thead>\n",
       "  <tbody>\n",
       "    <tr>\n",
       "      <th>0</th>\n",
       "      <td>78377</td>\n",
       "      <td>1498</td>\n",
       "      <td>0</td>\n",
       "      <td>ARAUJO, M.</td>\n",
       "      <td>ARAUJO, MAXIMO</td>\n",
       "      <td>3</td>\n",
       "      <td>0</td>\n",
       "      <td>0</td>\n",
       "      <td>0</td>\n",
       "      <td>0</td>\n",
       "      <td>0</td>\n",
       "      <td>0</td>\n",
       "      <td>0</td>\n",
       "      <td>0</td>\n",
       "      <td>1</td>\n",
       "      <td>0</td>\n",
       "      <td>1</td>\n",
       "      <td>18:05</td>\n",
       "      <td>False</td>\n",
       "      <td>ATENAS (C)</td>\n",
       "      <td>0</td>\n",
       "      <td>0</td>\n",
       "      <td>1</td>\n",
       "      <td>0</td>\n",
       "      <td>0</td>\n",
       "      <td>0</td>\n",
       "      <td>1</td>\n",
       "      <td>2</td>\n",
       "      <td>53</td>\n",
       "      <td>26</td>\n",
       "      <td>22</td>\n",
       "      <td>0</td>\n",
       "      <td>0</td>\n",
       "      <td>1.00</td>\n",
       "      <td>ATENAS (C) vs BOCA (007/10/2024 22:10)</td>\n",
       "    </tr>\n",
       "    <tr>\n",
       "      <th>1</th>\n",
       "      <td>326699</td>\n",
       "      <td>1498</td>\n",
       "      <td>0</td>\n",
       "      <td>BUENDIA, C.</td>\n",
       "      <td>BUENDIA, CARLOS MANUEL</td>\n",
       "      <td>1</td>\n",
       "      <td>0</td>\n",
       "      <td>0</td>\n",
       "      <td>0</td>\n",
       "      <td>1</td>\n",
       "      <td>0</td>\n",
       "      <td>1</td>\n",
       "      <td>0</td>\n",
       "      <td>0</td>\n",
       "      <td>0</td>\n",
       "      <td>3</td>\n",
       "      <td>1</td>\n",
       "      <td>07:57</td>\n",
       "      <td>True</td>\n",
       "      <td>ATENAS (C)</td>\n",
       "      <td>0</td>\n",
       "      <td>0</td>\n",
       "      <td>0</td>\n",
       "      <td>0</td>\n",
       "      <td>1</td>\n",
       "      <td>0</td>\n",
       "      <td>-15</td>\n",
       "      <td>4</td>\n",
       "      <td>14</td>\n",
       "      <td>7</td>\n",
       "      <td>4</td>\n",
       "      <td>0</td>\n",
       "      <td>0</td>\n",
       "      <td>1.44</td>\n",
       "      <td>ATENAS (C) vs BOCA (007/10/2024 22:10)</td>\n",
       "    </tr>\n",
       "    <tr>\n",
       "      <th>2</th>\n",
       "      <td>273565</td>\n",
       "      <td>1498</td>\n",
       "      <td>0</td>\n",
       "      <td>MONTERO, J.</td>\n",
       "      <td>MONTERO, JOSE IGNACIO</td>\n",
       "      <td>2</td>\n",
       "      <td>0</td>\n",
       "      <td>0</td>\n",
       "      <td>0</td>\n",
       "      <td>3</td>\n",
       "      <td>1</td>\n",
       "      <td>2</td>\n",
       "      <td>0</td>\n",
       "      <td>0</td>\n",
       "      <td>0</td>\n",
       "      <td>2</td>\n",
       "      <td>4</td>\n",
       "      <td>23:27</td>\n",
       "      <td>False</td>\n",
       "      <td>ATENAS (C)</td>\n",
       "      <td>0</td>\n",
       "      <td>0</td>\n",
       "      <td>0</td>\n",
       "      <td>0</td>\n",
       "      <td>2</td>\n",
       "      <td>0</td>\n",
       "      <td>-2</td>\n",
       "      <td>5</td>\n",
       "      <td>44</td>\n",
       "      <td>19</td>\n",
       "      <td>17</td>\n",
       "      <td>0</td>\n",
       "      <td>0</td>\n",
       "      <td>2.88</td>\n",
       "      <td>ATENAS (C) vs BOCA (007/10/2024 22:10)</td>\n",
       "    </tr>\n",
       "    <tr>\n",
       "      <th>3</th>\n",
       "      <td>209515</td>\n",
       "      <td>1498</td>\n",
       "      <td>0</td>\n",
       "      <td>ARN BUSTAMANTE, L.</td>\n",
       "      <td>ARN BUSTAMANTE, LUCAS  MARTIN</td>\n",
       "      <td>12</td>\n",
       "      <td>1</td>\n",
       "      <td>0</td>\n",
       "      <td>1</td>\n",
       "      <td>4</td>\n",
       "      <td>0</td>\n",
       "      <td>0</td>\n",
       "      <td>0</td>\n",
       "      <td>0</td>\n",
       "      <td>2</td>\n",
       "      <td>3</td>\n",
       "      <td>9</td>\n",
       "      <td>30:14</td>\n",
       "      <td>True</td>\n",
       "      <td>ATENAS (C)</td>\n",
       "      <td>1</td>\n",
       "      <td>0</td>\n",
       "      <td>3</td>\n",
       "      <td>0</td>\n",
       "      <td>1</td>\n",
       "      <td>0</td>\n",
       "      <td>-15</td>\n",
       "      <td>13</td>\n",
       "      <td>56</td>\n",
       "      <td>27</td>\n",
       "      <td>21</td>\n",
       "      <td>0</td>\n",
       "      <td>0</td>\n",
       "      <td>4.44</td>\n",
       "      <td>ATENAS (C) vs BOCA (007/10/2024 22:10)</td>\n",
       "    </tr>\n",
       "    <tr>\n",
       "      <th>4</th>\n",
       "      <td>321117</td>\n",
       "      <td>1498</td>\n",
       "      <td>0</td>\n",
       "      <td>MARCONETTI, S.</td>\n",
       "      <td>MARCONETTI, SANTIAGO JAVIER</td>\n",
       "      <td>0</td>\n",
       "      <td>0</td>\n",
       "      <td>0</td>\n",
       "      <td>0</td>\n",
       "      <td>0</td>\n",
       "      <td>0</td>\n",
       "      <td>0</td>\n",
       "      <td>0</td>\n",
       "      <td>0</td>\n",
       "      <td>0</td>\n",
       "      <td>0</td>\n",
       "      <td>0</td>\n",
       "      <td>00:00</td>\n",
       "      <td>False</td>\n",
       "      <td>ATENAS (C)</td>\n",
       "      <td>0</td>\n",
       "      <td>0</td>\n",
       "      <td>0</td>\n",
       "      <td>0</td>\n",
       "      <td>0</td>\n",
       "      <td>0</td>\n",
       "      <td>0</td>\n",
       "      <td>0</td>\n",
       "      <td>0</td>\n",
       "      <td>0</td>\n",
       "      <td>0</td>\n",
       "      <td>0</td>\n",
       "      <td>0</td>\n",
       "      <td>0.00</td>\n",
       "      <td>ATENAS (C) vs BOCA (007/10/2024 22:10)</td>\n",
       "    </tr>\n",
       "    <tr>\n",
       "      <th>...</th>\n",
       "      <td>...</td>\n",
       "      <td>...</td>\n",
       "      <td>...</td>\n",
       "      <td>...</td>\n",
       "      <td>...</td>\n",
       "      <td>...</td>\n",
       "      <td>...</td>\n",
       "      <td>...</td>\n",
       "      <td>...</td>\n",
       "      <td>...</td>\n",
       "      <td>...</td>\n",
       "      <td>...</td>\n",
       "      <td>...</td>\n",
       "      <td>...</td>\n",
       "      <td>...</td>\n",
       "      <td>...</td>\n",
       "      <td>...</td>\n",
       "      <td>...</td>\n",
       "      <td>...</td>\n",
       "      <td>...</td>\n",
       "      <td>...</td>\n",
       "      <td>...</td>\n",
       "      <td>...</td>\n",
       "      <td>...</td>\n",
       "      <td>...</td>\n",
       "      <td>...</td>\n",
       "      <td>...</td>\n",
       "      <td>...</td>\n",
       "      <td>...</td>\n",
       "      <td>...</td>\n",
       "      <td>...</td>\n",
       "      <td>...</td>\n",
       "      <td>...</td>\n",
       "      <td>...</td>\n",
       "      <td>...</td>\n",
       "    </tr>\n",
       "    <tr>\n",
       "      <th>234</th>\n",
       "      <td>326165</td>\n",
       "      <td>2314</td>\n",
       "      <td>0</td>\n",
       "      <td>SAFAR, S.</td>\n",
       "      <td>SAFAR, SELEM</td>\n",
       "      <td>8</td>\n",
       "      <td>3</td>\n",
       "      <td>0</td>\n",
       "      <td>3</td>\n",
       "      <td>1</td>\n",
       "      <td>2</td>\n",
       "      <td>3</td>\n",
       "      <td>0</td>\n",
       "      <td>0</td>\n",
       "      <td>0</td>\n",
       "      <td>1</td>\n",
       "      <td>3</td>\n",
       "      <td>26:56</td>\n",
       "      <td>True</td>\n",
       "      <td>ZARATE BASKET</td>\n",
       "      <td>1</td>\n",
       "      <td>0</td>\n",
       "      <td>2</td>\n",
       "      <td>0</td>\n",
       "      <td>0</td>\n",
       "      <td>0</td>\n",
       "      <td>-21</td>\n",
       "      <td>15</td>\n",
       "      <td>58</td>\n",
       "      <td>31</td>\n",
       "      <td>19</td>\n",
       "      <td>0</td>\n",
       "      <td>0</td>\n",
       "      <td>6.00</td>\n",
       "      <td>BOCA vs ZARATE BASKET (012/10/2024 11:30)</td>\n",
       "    </tr>\n",
       "    <tr>\n",
       "      <th>235</th>\n",
       "      <td>274496</td>\n",
       "      <td>2314</td>\n",
       "      <td>0</td>\n",
       "      <td>SCIAMANNA, G.</td>\n",
       "      <td>SCIAMANNA, GINO</td>\n",
       "      <td>0</td>\n",
       "      <td>0</td>\n",
       "      <td>0</td>\n",
       "      <td>0</td>\n",
       "      <td>0</td>\n",
       "      <td>0</td>\n",
       "      <td>0</td>\n",
       "      <td>0</td>\n",
       "      <td>0</td>\n",
       "      <td>0</td>\n",
       "      <td>0</td>\n",
       "      <td>0</td>\n",
       "      <td>00:00</td>\n",
       "      <td>False</td>\n",
       "      <td>ZARATE BASKET</td>\n",
       "      <td>0</td>\n",
       "      <td>0</td>\n",
       "      <td>0</td>\n",
       "      <td>0</td>\n",
       "      <td>0</td>\n",
       "      <td>0</td>\n",
       "      <td>0</td>\n",
       "      <td>0</td>\n",
       "      <td>0</td>\n",
       "      <td>0</td>\n",
       "      <td>0</td>\n",
       "      <td>0</td>\n",
       "      <td>0</td>\n",
       "      <td>0.00</td>\n",
       "      <td>BOCA vs ZARATE BASKET (012/10/2024 11:30)</td>\n",
       "    </tr>\n",
       "    <tr>\n",
       "      <th>236</th>\n",
       "      <td>326162</td>\n",
       "      <td>2314</td>\n",
       "      <td>0</td>\n",
       "      <td>FRAGA, L.</td>\n",
       "      <td>FRAGA PEREZ, LAUTARO EZEQUIEL</td>\n",
       "      <td>8</td>\n",
       "      <td>0</td>\n",
       "      <td>1</td>\n",
       "      <td>1</td>\n",
       "      <td>2</td>\n",
       "      <td>0</td>\n",
       "      <td>1</td>\n",
       "      <td>0</td>\n",
       "      <td>0</td>\n",
       "      <td>2</td>\n",
       "      <td>0</td>\n",
       "      <td>4</td>\n",
       "      <td>16:38</td>\n",
       "      <td>False</td>\n",
       "      <td>ZARATE BASKET</td>\n",
       "      <td>1</td>\n",
       "      <td>0</td>\n",
       "      <td>2</td>\n",
       "      <td>0</td>\n",
       "      <td>0</td>\n",
       "      <td>0</td>\n",
       "      <td>-7</td>\n",
       "      <td>8</td>\n",
       "      <td>34</td>\n",
       "      <td>19</td>\n",
       "      <td>15</td>\n",
       "      <td>0</td>\n",
       "      <td>0</td>\n",
       "      <td>3.00</td>\n",
       "      <td>BOCA vs ZARATE BASKET (012/10/2024 11:30)</td>\n",
       "    </tr>\n",
       "    <tr>\n",
       "      <th>237</th>\n",
       "      <td>326446</td>\n",
       "      <td>2314</td>\n",
       "      <td>0</td>\n",
       "      <td>DEL DO , F.</td>\n",
       "      <td>DEL DO, FACUNDO</td>\n",
       "      <td>0</td>\n",
       "      <td>0</td>\n",
       "      <td>0</td>\n",
       "      <td>0</td>\n",
       "      <td>0</td>\n",
       "      <td>0</td>\n",
       "      <td>0</td>\n",
       "      <td>0</td>\n",
       "      <td>0</td>\n",
       "      <td>0</td>\n",
       "      <td>0</td>\n",
       "      <td>0</td>\n",
       "      <td>00:00</td>\n",
       "      <td>False</td>\n",
       "      <td>ZARATE BASKET</td>\n",
       "      <td>0</td>\n",
       "      <td>0</td>\n",
       "      <td>0</td>\n",
       "      <td>0</td>\n",
       "      <td>0</td>\n",
       "      <td>0</td>\n",
       "      <td>0</td>\n",
       "      <td>0</td>\n",
       "      <td>0</td>\n",
       "      <td>0</td>\n",
       "      <td>0</td>\n",
       "      <td>0</td>\n",
       "      <td>0</td>\n",
       "      <td>0.00</td>\n",
       "      <td>BOCA vs ZARATE BASKET (012/10/2024 11:30)</td>\n",
       "    </tr>\n",
       "    <tr>\n",
       "      <th>238</th>\n",
       "      <td>326167</td>\n",
       "      <td>2314</td>\n",
       "      <td>0</td>\n",
       "      <td>PIÑERO, P.</td>\n",
       "      <td>PIÑERO, PATRICIO</td>\n",
       "      <td>13</td>\n",
       "      <td>1</td>\n",
       "      <td>1</td>\n",
       "      <td>2</td>\n",
       "      <td>0</td>\n",
       "      <td>1</td>\n",
       "      <td>4</td>\n",
       "      <td>0</td>\n",
       "      <td>0</td>\n",
       "      <td>2</td>\n",
       "      <td>3</td>\n",
       "      <td>8</td>\n",
       "      <td>27:21</td>\n",
       "      <td>True</td>\n",
       "      <td>ZARATE BASKET</td>\n",
       "      <td>4</td>\n",
       "      <td>0</td>\n",
       "      <td>1</td>\n",
       "      <td>0</td>\n",
       "      <td>2</td>\n",
       "      <td>0</td>\n",
       "      <td>-21</td>\n",
       "      <td>15</td>\n",
       "      <td>64</td>\n",
       "      <td>34</td>\n",
       "      <td>19</td>\n",
       "      <td>4</td>\n",
       "      <td>0</td>\n",
       "      <td>8.88</td>\n",
       "      <td>BOCA vs ZARATE BASKET (012/10/2024 11:30)</td>\n",
       "    </tr>\n",
       "  </tbody>\n",
       "</table>\n",
       "<p>239 rows × 35 columns</p>\n",
       "</div>"
      ],
      "text/plain": [
       "     IdJugador  IdClub  IdEquipo              Nombre  \\\n",
       "0        78377    1498         0          ARAUJO, M.   \n",
       "1       326699    1498         0         BUENDIA, C.   \n",
       "2       273565    1498         0         MONTERO, J.   \n",
       "3       209515    1498         0  ARN BUSTAMANTE, L.   \n",
       "4       321117    1498         0      MARCONETTI, S.   \n",
       "..         ...     ...       ...                 ...   \n",
       "234     326165    2314         0           SAFAR, S.   \n",
       "235     274496    2314         0       SCIAMANNA, G.   \n",
       "236     326162    2314         0           FRAGA, L.   \n",
       "237     326446    2314         0         DEL DO , F.   \n",
       "238     326167    2314         0          PIÑERO, P.   \n",
       "\n",
       "                    NombreCompleto  Puntos  ReboteDefensivo  ReboteOfensivo  \\\n",
       "0                   ARAUJO, MAXIMO       3                0               0   \n",
       "1           BUENDIA, CARLOS MANUEL       1                0               0   \n",
       "2            MONTERO, JOSE IGNACIO       2                0               0   \n",
       "3    ARN BUSTAMANTE, LUCAS  MARTIN      12                1               0   \n",
       "4      MARCONETTI, SANTIAGO JAVIER       0                0               0   \n",
       "..                             ...     ...              ...             ...   \n",
       "234                   SAFAR, SELEM       8                3               0   \n",
       "235                SCIAMANNA, GINO       0                0               0   \n",
       "236  FRAGA PEREZ, LAUTARO EZEQUIEL       8                0               1   \n",
       "237                DEL DO, FACUNDO       0                0               0   \n",
       "238               PIÑERO, PATRICIO      13                1               1   \n",
       "\n",
       "     RebotesTotales  Asistencias  Recuperaciones  Perdidas  TaponCometido  \\\n",
       "0                 0            0               0         0              0   \n",
       "1                 0            1               0         1              0   \n",
       "2                 0            3               1         2              0   \n",
       "3                 1            4               0         0              0   \n",
       "4                 0            0               0         0              0   \n",
       "..              ...          ...             ...       ...            ...   \n",
       "234               3            1               2         3              0   \n",
       "235               0            0               0         0              0   \n",
       "236               1            2               0         1              0   \n",
       "237               0            0               0         0              0   \n",
       "238               2            0               1         4              0   \n",
       "\n",
       "     TaponRecibido  FaltaCometida  FaltaRecibida  Valoracion TiempoJuego  \\\n",
       "0                0              1              0           1       18:05   \n",
       "1                0              0              3           1       07:57   \n",
       "2                0              0              2           4       23:27   \n",
       "3                0              2              3           9       30:14   \n",
       "4                0              0              0           0       00:00   \n",
       "..             ...            ...            ...         ...         ...   \n",
       "234              0              0              1           3       26:56   \n",
       "235              0              0              0           0       00:00   \n",
       "236              0              2              0           4       16:38   \n",
       "237              0              0              0           0       00:00   \n",
       "238              0              2              3           8       27:21   \n",
       "\n",
       "     CincoInicial         equipo  TirosDosAciertos  TirosDosFallos  \\\n",
       "0           False     ATENAS (C)                 0               0   \n",
       "1            True     ATENAS (C)                 0               0   \n",
       "2           False     ATENAS (C)                 0               0   \n",
       "3            True     ATENAS (C)                 1               0   \n",
       "4           False     ATENAS (C)                 0               0   \n",
       "..            ...            ...               ...             ...   \n",
       "234          True  ZARATE BASKET                 1               0   \n",
       "235         False  ZARATE BASKET                 0               0   \n",
       "236         False  ZARATE BASKET                 1               0   \n",
       "237         False  ZARATE BASKET                 0               0   \n",
       "238          True  ZARATE BASKET                 4               0   \n",
       "\n",
       "     TirosTresAciertos  TirosTresFallos  TirosLibresAciertos  \\\n",
       "0                    1                0                    0   \n",
       "1                    0                0                    1   \n",
       "2                    0                0                    2   \n",
       "3                    3                0                    1   \n",
       "4                    0                0                    0   \n",
       "..                 ...              ...                  ...   \n",
       "234                  2                0                    0   \n",
       "235                  0                0                    0   \n",
       "236                  2                0                    0   \n",
       "237                  0                0                    0   \n",
       "238                  1                0                    2   \n",
       "\n",
       "     TirosLibresFallos  plus_minus  posesiones_consumidas  posesiones_jugadas  \\\n",
       "0                    0           1                      2                  53   \n",
       "1                    0         -15                      4                  14   \n",
       "2                    0          -2                      5                  44   \n",
       "3                    0         -15                     13                  56   \n",
       "4                    0           0                      0                   0   \n",
       "..                 ...         ...                    ...                 ...   \n",
       "234                  0         -21                     15                  58   \n",
       "235                  0           0                      0                   0   \n",
       "236                  0          -7                      8                  34   \n",
       "237                  0           0                      0                   0   \n",
       "238                  0         -21                     15                  64   \n",
       "\n",
       "     rebote_of_disp  rebote_def_disp  puntos_q4_y_prorroga  puntos_clutch  \\\n",
       "0                26               22                     0              0   \n",
       "1                 7                4                     0              0   \n",
       "2                19               17                     0              0   \n",
       "3                27               21                     0              0   \n",
       "4                 0                0                     0              0   \n",
       "..              ...              ...                   ...            ...   \n",
       "234              31               19                     0              0   \n",
       "235               0                0                     0              0   \n",
       "236              19               15                     0              0   \n",
       "237               0                0                     0              0   \n",
       "238              34               19                     4              0   \n",
       "\n",
       "     posesiones_estimadas                                partido_key  \n",
       "0                    1.00     ATENAS (C) vs BOCA (007/10/2024 22:10)  \n",
       "1                    1.44     ATENAS (C) vs BOCA (007/10/2024 22:10)  \n",
       "2                    2.88     ATENAS (C) vs BOCA (007/10/2024 22:10)  \n",
       "3                    4.44     ATENAS (C) vs BOCA (007/10/2024 22:10)  \n",
       "4                    0.00     ATENAS (C) vs BOCA (007/10/2024 22:10)  \n",
       "..                    ...                                        ...  \n",
       "234                  6.00  BOCA vs ZARATE BASKET (012/10/2024 11:30)  \n",
       "235                  0.00  BOCA vs ZARATE BASKET (012/10/2024 11:30)  \n",
       "236                  3.00  BOCA vs ZARATE BASKET (012/10/2024 11:30)  \n",
       "237                  0.00  BOCA vs ZARATE BASKET (012/10/2024 11:30)  \n",
       "238                  8.88  BOCA vs ZARATE BASKET (012/10/2024 11:30)  \n",
       "\n",
       "[239 rows x 35 columns]"
      ]
     },
     "metadata": {},
     "output_type": "display_data"
    }
   ],
   "source": [
    "from tqdm import tqdm\n",
    "def extraer_boxscore_y_pbp(partido_link):\n",
    "    \"\"\"Extrae boxscore y play-by-play de un partido dado su link.\"\"\"\n",
    "    all_player_stats = []\n",
    "    acciones_del_partido = []\n",
    "    driver = None\n",
    "    df_box_scores = None\n",
    "    df_acciones_final = None\n",
    "\n",
    "    try:\n",
    "        # --- BOX SCORE ---\n",
    "        options = Options()\n",
    "        options.add_argument(\"--headless\")\n",
    "        options.add_argument(\"--no-sandbox\")\n",
    "        options.add_argument(\"--disable-dev-shm-usage\")\n",
    "        options.add_argument(\"user-agent=Mozilla/5.0 (Windows NT 10.0; Win64; x64) AppleWebKit/537.36 (KHTML, like Gecko) Chrome/91.0.4472.124 Safari/537.36\")\n",
    "        driver = webdriver.Chrome(service=Service(ChromeDriverManager().install()), options=options)\n",
    "        driver.get(partido_link)\n",
    "        wait = WebDriverWait(driver, 20)\n",
    "        wait.until(EC.frame_to_be_available_and_switch_to_it((By.TAG_NAME, \"iframe\")))\n",
    "        tab_selector = (By.CSS_SELECTOR, \"li.pestana-estadisticas\")\n",
    "        estadisticas_tab_element = wait.until(EC.visibility_of_element_located(tab_selector))\n",
    "        driver.execute_script(\"arguments[0].click();\", estadisticas_tab_element)\n",
    "        time.sleep(1)\n",
    "        iframe_de_datos_selector = (By.CSS_SELECTOR, \"div.contenido-estadisticas.activo iframe\")\n",
    "        wait.until(EC.frame_to_be_available_and_switch_to_it(iframe_de_datos_selector))\n",
    "        html_box_scores = driver.page_source\n",
    "        soup = BeautifulSoup(html_box_scores, \"html.parser\")\n",
    "        divs_nombres = soup.find_all(\"div\", class_=\"nombre-equipo\")\n",
    "        equipo_local_nombre = divs_nombres[0].get_text(strip=True) if len(divs_nombres) >= 2 else \"Local\"\n",
    "        equipo_visitante_nombre = divs_nombres[1].get_text(strip=True) if len(divs_nombres) >= 2 else \"Visitante\"\n",
    "        tablas = soup.find_all(\"table\", class_=\"tabla-estadisticas\")\n",
    "        if len(tablas) >= 2:\n",
    "            for idx, equipo_nombre in enumerate([equipo_local_nombre, equipo_visitante_nombre]):\n",
    "                for fila in tablas[idx].find(\"tbody\").find_all(\"tr\", onclick=True):\n",
    "                    onclick_attr = fila[\"onclick\"]\n",
    "                    match = re.search(r\"(\\{.*\\})\", onclick_attr)\n",
    "                    if match:\n",
    "                        json_str = match.group(1).replace(\"'\", '\"')\n",
    "                        player_data = json.loads(json_str)\n",
    "                        player_data['equipo'] = equipo_nombre\n",
    "                        all_player_stats.append(player_data)\n",
    "        if all_player_stats:\n",
    "            df_box_scores = pd.DataFrame(all_player_stats)\n",
    "            columnas = ['IdJugador', 'IdClub', 'IdEquipo', 'Nombre', 'NombreCompleto',\n",
    "                        'Puntos', 'TirosDos', 'TirosTres', 'TirosLibres',\n",
    "                        'ReboteDefensivo', 'ReboteOfensivo', 'RebotesTotales',\n",
    "                        'Asistencias', 'Recuperaciones', 'Perdidas',\n",
    "                        'TaponCometido','TaponRecibido', 'FaltaCometida','FaltaRecibida','Valoracion',\n",
    "                        'TiempoJuego', 'CincoInicial', 'equipo']\n",
    "            df_box_scores = df_box_scores[[col for col in columnas if col in df_box_scores.columns]]\n",
    "            columnas_con_diccionarios = ['TirosDos', 'TirosTres', 'TirosLibres']\n",
    "            for columna in columnas_con_diccionarios:\n",
    "                if columna in df_box_scores.columns:\n",
    "                    df_box_scores[f'{columna}Aciertos'] = df_box_scores[columna].apply(lambda x: x.get('Aciertos', 0))\n",
    "                    df_box_scores[f'{columna}Fallos'] = df_box_scores[columna].apply(lambda x: x.get('Fallos', 0))\n",
    "            df_box_scores = df_box_scores.drop(columns=[c for c in columnas_con_diccionarios if c in df_box_scores.columns])\n",
    "        else:\n",
    "            return None, None\n",
    "\n",
    "        # --- PLAY BY PLAY ---\n",
    "        driver.switch_to.default_content()\n",
    "        driver.get(partido_link)\n",
    "        wait = WebDriverWait(driver, 20)\n",
    "        wait.until(EC.frame_to_be_available_and_switch_to_it((By.TAG_NAME, \"iframe\")))\n",
    "        en_vivo_tab = wait.until(EC.element_to_be_clickable((By.CSS_SELECTOR, \"li.pestana-en-vivo\")))\n",
    "        driver.execute_script(\"arguments[0].click();\", en_vivo_tab)\n",
    "        iframe_pbp_selector = (By.CSS_SELECTOR, \"div.contenido-en-vivo div:nth-child(2) iframe\")\n",
    "        wait.until(EC.frame_to_be_available_and_switch_to_it(iframe_pbp_selector))\n",
    "        html_pbp = driver.page_source\n",
    "        soup = BeautifulSoup(html_pbp, \"html.parser\")\n",
    "        contenedor_acciones = soup.find(\"ul\", class_=\"listadoAccionesPartido\")\n",
    "        if contenedor_acciones:\n",
    "            acciones = contenedor_acciones.find_all(\"li\", class_=\"accion\")\n",
    "            for accion in acciones:\n",
    "                tipo_accion = jugador = cuarto = tiempo = \"\"\n",
    "                puntos_local = None \n",
    "                puntos_visita = None\n",
    "                titulo_tag = accion.find(\"strong\", class_=\"titulo\")\n",
    "                if titulo_tag:\n",
    "                    tipo_accion = titulo_tag.get_text(strip=True)\n",
    "                spans_info = accion.find_all(\"span\", class_=\"informacion\")\n",
    "                if len(spans_info) >= 2:\n",
    "                    jugador = spans_info[0].get_text(strip=True)\n",
    "                    tiempo_text = spans_info[1].get_text(strip=True)\n",
    "                    match = re.search(r\"Cuarto\\s*(\\d+)\\s*-\\s*(\\d{2}:\\d{2}:\\d{2})\", tiempo_text)\n",
    "                    if match:\n",
    "                        cuarto = match.group(1)\n",
    "                        tiempo = match.group(2)\n",
    "                marcador_tag = accion.find(\"strong\", class_=\"informacionAdicional\")\n",
    "                if marcador_tag:\n",
    "                    marcador_texto = marcador_tag.get_text(strip=True)\n",
    "                    partes_marcador = marcador_texto.split('-')\n",
    "                    if len(partes_marcador) == 2:\n",
    "                        try:\n",
    "                            puntos_local = int(partes_marcador[0].strip())\n",
    "                            puntos_visita = int(partes_marcador[1].strip())\n",
    "                        except ValueError:\n",
    "                            pass\n",
    "                acciones_del_partido.append({\n",
    "                    \"cuarto\": cuarto,\n",
    "                    \"tiempo\": tiempo,\n",
    "                    \"accion\": tipo_accion,\n",
    "                    \"jugador\": jugador,\n",
    "                    \"puntos_local\": puntos_local,\n",
    "                    \"puntos_visita\": puntos_visita\n",
    "                })\n",
    "        if acciones_del_partido:\n",
    "            df_acciones = pd.DataFrame(acciones_del_partido)\n",
    "        else:\n",
    "            return df_box_scores, None\n",
    "\n",
    "        # --- GENERAR QUINTETOS ---\n",
    "        player_to_team_map = pd.Series(df_box_scores.equipo.values, index=df_box_scores.NombreCompleto).to_dict()\n",
    "        nombre_local = df_box_scores['equipo'].unique()[0]\n",
    "        df_cronologico = df_acciones.iloc[::-1].reset_index(drop=True)\n",
    "        jugadores_en_cancha = set()\n",
    "        lista_de_quintetos_mixtos = []\n",
    "        for _, row in df_cronologico.iterrows():\n",
    "            accion = row.get('accion', '')\n",
    "            jugador = row.get('jugador', '')\n",
    "            accion_upper = accion.upper() if isinstance(accion, str) else ''\n",
    "            if \"ENTRA A PISTA\" in accion_upper or \"CAMBIO-ENTRA\" in accion_upper:\n",
    "                if pd.notna(jugador) and jugador != '':\n",
    "                    jugadores_en_cancha.add(jugador)\n",
    "            elif \"ABANDONA LA PISTA\" in accion_upper or \"CAMBIO-SALE\" in accion_upper:\n",
    "                if pd.notna(jugador) and jugador != '':\n",
    "                    jugadores_en_cancha.discard(jugador)\n",
    "            lista_de_quintetos_mixtos.append(sorted(list(jugadores_en_cancha)))\n",
    "        df_cronologico['quinteto_en_cancha'] = lista_de_quintetos_mixtos\n",
    "        def dividir_quinteto(quinteto_mixto, roster_map, equipo_local_nombre):\n",
    "            quinteto_local, quinteto_visita = [], []\n",
    "            for jugador in quinteto_mixto:\n",
    "                if roster_map.get(jugador) == equipo_local_nombre:\n",
    "                    quinteto_local.append(jugador)\n",
    "                else:\n",
    "                    quinteto_visita.append(jugador)\n",
    "            return sorted(quinteto_local), sorted(quinteto_visita)\n",
    "        nuevas_columnas = df_cronologico['quinteto_en_cancha'].apply(\n",
    "            lambda q: pd.Series(dividir_quinteto(q, player_to_team_map, nombre_local))\n",
    "        )\n",
    "        nuevas_columnas.columns = ['quinteto_local', 'quinteto_visita']\n",
    "        df_cronologico = pd.concat([df_cronologico, nuevas_columnas], axis=1)\n",
    "        df_cronologico = df_cronologico.drop(columns=['quinteto_en_cancha'])\n",
    "        df_acciones_final = df_cronologico.iloc[::-1].reset_index(drop=True)\n",
    "        return df_box_scores, df_acciones_final\n",
    "    except Exception as e:\n",
    "        print(f\"Error procesando partido: {e}\")\n",
    "        return None, None\n",
    "    finally:\n",
    "        if driver:\n",
    "            driver.quit()\n",
    "\n",
    "# --- PROCESAR LOS PRIMEROS 10 PARTIDOS ---\n",
    "resultados = []\n",
    "llaves_partidos = list(match_data.keys())[:10]\n",
    "for partido_key in tqdm(llaves_partidos, desc=\"Procesando partidos\"):\n",
    "    partido_link = match_data[partido_key][\"link_estadisticas\"]\n",
    "    df_box_scores, df_acciones_final = extraer_boxscore_y_pbp(partido_link)\n",
    "    if df_box_scores is None or df_acciones_final is None:\n",
    "        continue\n",
    "    player_to_team_map = pd.Series(df_box_scores.equipo.values, index=df_box_scores.NombreCompleto).to_dict()\n",
    "    df_sorted = df_acciones_final.iloc[::-1].reset_index(drop=True)\n",
    "    df_plus_minus = calcular_plus_minus_corregido(df_sorted.copy(), player_to_team_map)\n",
    "    df_posesiones_consumidas = calcular_posesiones(df_sorted.copy())\n",
    "    df_posesiones_consumidas.rename(columns={'posesiones': 'posesiones_consumidas'}, inplace=True)\n",
    "    df_posesiones_jugadas = contar_posesiones_jugadas_por_equipo(df_sorted.copy(), df_box_scores.copy(), player_to_team_map)\n",
    "    df_rebotes_disponibles = calcular_rebotes_disponibles(df_sorted.copy(), df_box_scores.copy(), player_to_team_map)\n",
    "    df_puntos_q4 = calcular_puntos_ultimo_cuarto(df_acciones_final.copy(), df_box_scores.copy())\n",
    "    df_puntos_clutch = calcular_puntos_clutch(df_acciones_final.copy(), df_box_scores.copy())\n",
    "    resultado_final = df_box_scores.copy()\n",
    "    lista_de_stats = [df_plus_minus, df_posesiones_consumidas, df_posesiones_jugadas, \n",
    "                        df_rebotes_disponibles, df_puntos_q4, df_puntos_clutch]\n",
    "    for df_stat in lista_de_stats:\n",
    "        df_stat.rename(columns={'jugador': 'NombreCompleto'}, inplace=True)\n",
    "        resultado_final = pd.merge(resultado_final, df_stat, on='NombreCompleto', how='left')\n",
    "    cols_a_rellenar = ['plus_minus', 'posesiones_consumidas', 'posesiones_jugadas', \n",
    "                        'rebote_of_disp', 'rebote_def_disp', 'puntos_q4_y_prorroga', 'puntos_clutch']\n",
    "    for col in cols_a_rellenar:\n",
    "        if col in resultado_final.columns:\n",
    "            resultado_final[col] = resultado_final[col].fillna(0).astype(int)\n",
    "    resultado_final = calcular_posesiones_individuales(resultado_final)\n",
    "    resultado_final['partido_key'] = partido_key\n",
    "    resultados.append(resultado_final)\n",
    "\n",
    "# --- CONCATENAR TODOS LOS RESULTADOS ---\n",
    "if resultados:\n",
    "    df_resultado_final = pd.concat(resultados, ignore_index=True)\n",
    "    print(\"\\n✅ DataFrame final con todos los registros de todos los jugadores de los primeros 10 partidos.\")\n",
    "    display(df_resultado_final)\n",
    "else:\n",
    "    print(\"No se pudieron procesar partidos correctamente.\")"
   ]
  },
  {
   "cell_type": "markdown",
   "id": "543edcf1",
   "metadata": {},
   "source": [
    "NOTA: hasta aca funciona, pensar como hacer para todos los partidos"
   ]
  },
  {
   "cell_type": "markdown",
   "id": "491af929",
   "metadata": {},
   "source": [
    "## Iteracion 2"
   ]
  },
  {
   "cell_type": "code",
   "execution_count": 14,
   "id": "d5ae77ad",
   "metadata": {},
   "outputs": [
    {
     "name": "stderr",
     "output_type": "stream",
     "text": [
      "<>:169: SyntaxWarning: invalid escape sequence '\\,'\n",
      "<>:169: SyntaxWarning: invalid escape sequence '\\,'\n",
      "C:\\Users\\roman.landa\\AppData\\Local\\Temp\\ipykernel_34528\\2630994244.py:169: SyntaxWarning: invalid escape sequence '\\,'\n",
      "  Reemplaza caracteres no permitidos como :, /, \\, etc., con un guion bajo.\n",
      "Procesando partidos:   0%|          | 1/380 [01:26<9:04:27, 86.19s/it]"
     ]
    },
    {
     "name": "stdout",
     "output_type": "stream",
     "text": [
      "\n",
      "✅ Partido 1 (ATENAS (C) vs BOCA (007/10/2024 22:10)) procesado y guardado en: data/scrapped\\partido_1_ATENAS (C) vs BOCA (007_10_2024 22_10).parquet\n"
     ]
    },
    {
     "name": "stderr",
     "output_type": "stream",
     "text": [
      "Procesando partidos:   1%|          | 2/380 [02:02<5:57:14, 56.70s/it]"
     ]
    },
    {
     "name": "stdout",
     "output_type": "stream",
     "text": [
      "\n",
      "✅ Partido 2 (OBRAS vs PLATENSE (008/10/2024 20:00)) procesado y guardado en: data/scrapped\\partido_2_OBRAS vs PLATENSE (008_10_2024 20_00).parquet\n"
     ]
    },
    {
     "name": "stderr",
     "output_type": "stream",
     "text": [
      "Procesando partidos:   1%|          | 3/380 [02:31<4:37:45, 44.20s/it]"
     ]
    },
    {
     "name": "stdout",
     "output_type": "stream",
     "text": [
      "\n",
      "✅ Partido 3 (INSTITUTO vs OLIMPICO (LB) (008/10/2024 21:00)) procesado y guardado en: data/scrapped\\partido_3_INSTITUTO vs OLIMPICO (LB) (008_10_2024 21_00).parquet\n"
     ]
    },
    {
     "name": "stderr",
     "output_type": "stream",
     "text": [
      "Procesando partidos:   1%|          | 4/380 [02:55<3:47:43, 36.34s/it]"
     ]
    },
    {
     "name": "stdout",
     "output_type": "stream",
     "text": [
      "\n",
      "✅ Partido 4 (UNION (SF) vs SAN LORENZO (008/10/2024 21:30)) procesado y guardado en: data/scrapped\\partido_4_UNION (SF) vs SAN LORENZO (008_10_2024 21_30).parquet\n"
     ]
    },
    {
     "name": "stderr",
     "output_type": "stream",
     "text": [
      "Procesando partidos:   1%|▏         | 5/380 [03:30<3:42:20, 35.57s/it]"
     ]
    },
    {
     "name": "stdout",
     "output_type": "stream",
     "text": [
      "\n",
      "✅ Partido 5 (FERRO vs PEÑAROL (MDP) (009/10/2024 20:00)) procesado y guardado en: data/scrapped\\partido_5_FERRO vs PEÑAROL (MDP) (009_10_2024 20_00).parquet\n"
     ]
    },
    {
     "name": "stderr",
     "output_type": "stream",
     "text": [
      "Procesando partidos:   2%|▏         | 6/380 [04:01<3:31:55, 34.00s/it]"
     ]
    },
    {
     "name": "stdout",
     "output_type": "stream",
     "text": [
      "\n",
      "✅ Partido 6 (INDEPENDIENTE (O) vs OLIMPICO (LB) (010/10/2024 21:00)) procesado y guardado en: data/scrapped\\partido_6_INDEPENDIENTE (O) vs OLIMPICO (LB) (010_10_2024 21_00).parquet\n"
     ]
    },
    {
     "name": "stderr",
     "output_type": "stream",
     "text": [
      "Procesando partidos:   2%|▏         | 7/380 [04:27<3:16:52, 31.67s/it]"
     ]
    },
    {
     "name": "stdout",
     "output_type": "stream",
     "text": [
      "\n",
      "✅ Partido 7 (GIMNASIA (CR) vs OBRAS (011/10/2024 21:00)) procesado y guardado en: data/scrapped\\partido_7_GIMNASIA (CR) vs OBRAS (011_10_2024 21_00).parquet\n"
     ]
    },
    {
     "name": "stderr",
     "output_type": "stream",
     "text": [
      "Procesando partidos:   2%|▏         | 8/380 [04:48<2:54:28, 28.14s/it]"
     ]
    },
    {
     "name": "stdout",
     "output_type": "stream",
     "text": [
      "\n",
      "✅ Partido 8 (REGATAS (C) vs INSTITUTO (011/10/2024 21:30)) procesado y guardado en: data/scrapped\\partido_8_REGATAS (C) vs INSTITUTO (011_10_2024 21_30).parquet\n"
     ]
    },
    {
     "name": "stderr",
     "output_type": "stream",
     "text": [
      "Procesando partidos:   2%|▏         | 9/380 [05:10<2:41:45, 26.16s/it]"
     ]
    },
    {
     "name": "stdout",
     "output_type": "stream",
     "text": [
      "\n",
      "✅ Partido 9 (PLATENSE vs PEÑAROL (MDP) (011/10/2024 22:05)) procesado y guardado en: data/scrapped\\partido_9_PLATENSE vs PEÑAROL (MDP) (011_10_2024 22_05).parquet\n"
     ]
    },
    {
     "name": "stderr",
     "output_type": "stream",
     "text": [
      "Procesando partidos:   3%|▎         | 10/380 [05:33<2:35:13, 25.17s/it]"
     ]
    },
    {
     "name": "stdout",
     "output_type": "stream",
     "text": [
      "\n",
      "✅ Partido 10 (BOCA vs ZARATE BASKET (012/10/2024 11:30)) procesado y guardado en: data/scrapped\\partido_10_BOCA vs ZARATE BASKET (012_10_2024 11_30).parquet\n"
     ]
    },
    {
     "name": "stderr",
     "output_type": "stream",
     "text": [
      "Procesando partidos:   3%|▎         | 11/380 [06:00<2:38:53, 25.84s/it]"
     ]
    },
    {
     "name": "stdout",
     "output_type": "stream",
     "text": [
      "\n",
      "✅ Partido 11 (GIMNASIA (CR) vs INDEPENDIENTE (O) (013/10/2024 20:00)) procesado y guardado en: data/scrapped\\partido_11_GIMNASIA (CR) vs INDEPENDIENTE (O) (013_10_2024 20_00).parquet\n"
     ]
    },
    {
     "name": "stderr",
     "output_type": "stream",
     "text": [
      "Procesando partidos:   3%|▎         | 12/380 [06:22<2:30:43, 24.57s/it]"
     ]
    },
    {
     "name": "stdout",
     "output_type": "stream",
     "text": [
      "\n",
      "✅ Partido 12 (SAN MARTIN (C) vs INSTITUTO (013/10/2024 21:00)) procesado y guardado en: data/scrapped\\partido_12_SAN MARTIN (C) vs INSTITUTO (013_10_2024 21_00).parquet\n"
     ]
    },
    {
     "name": "stderr",
     "output_type": "stream",
     "text": [
      "Procesando partidos:   3%|▎         | 13/380 [06:44<2:25:21, 23.76s/it]"
     ]
    },
    {
     "name": "stdout",
     "output_type": "stream",
     "text": [
      "\n",
      "✅ Partido 13 (PEÑAROL (MDP) vs OBERA (014/10/2024 21:00)) procesado y guardado en: data/scrapped\\partido_13_PEÑAROL (MDP) vs OBERA (014_10_2024 21_00).parquet\n"
     ]
    },
    {
     "name": "stderr",
     "output_type": "stream",
     "text": [
      "Procesando partidos:   4%|▎         | 14/380 [07:05<2:20:27, 23.03s/it]"
     ]
    },
    {
     "name": "stdout",
     "output_type": "stream",
     "text": [
      "\n",
      "✅ Partido 14 (OLIMPICO (LB) vs REGATAS (C) (014/10/2024 22:00)) procesado y guardado en: data/scrapped\\partido_14_OLIMPICO (LB) vs REGATAS (C) (014_10_2024 22_00).parquet\n"
     ]
    },
    {
     "name": "stderr",
     "output_type": "stream",
     "text": [
      "Procesando partidos:   4%|▍         | 15/380 [07:31<2:25:09, 23.86s/it]"
     ]
    },
    {
     "name": "stdout",
     "output_type": "stream",
     "text": [
      "\n",
      "✅ Partido 15 (BOCA vs UNION (SF) (014/10/2024 22:05)) procesado y guardado en: data/scrapped\\partido_15_BOCA vs UNION (SF) (014_10_2024 22_05).parquet\n"
     ]
    },
    {
     "name": "stderr",
     "output_type": "stream",
     "text": [
      "Procesando partidos:   4%|▍         | 16/380 [08:02<2:37:53, 26.03s/it]"
     ]
    },
    {
     "name": "stdout",
     "output_type": "stream",
     "text": [
      "\n",
      "✅ Partido 16 (PLATENSE vs INDEPENDIENTE (O) (015/10/2024 20:00)) procesado y guardado en: data/scrapped\\partido_16_PLATENSE vs INDEPENDIENTE (O) (015_10_2024 20_00).parquet\n"
     ]
    },
    {
     "name": "stderr",
     "output_type": "stream",
     "text": [
      "Procesando partidos:   4%|▍         | 17/380 [08:22<2:26:36, 24.23s/it]"
     ]
    },
    {
     "name": "stdout",
     "output_type": "stream",
     "text": [
      "\n",
      "✅ Partido 17 (LA UNION FSA. vs INSTITUTO (015/10/2024 21:30)) procesado y guardado en: data/scrapped\\partido_17_LA UNION FSA. vs INSTITUTO (015_10_2024 21_30).parquet\n"
     ]
    },
    {
     "name": "stderr",
     "output_type": "stream",
     "text": [
      "Procesando partidos:   5%|▍         | 18/380 [08:43<2:20:47, 23.34s/it]"
     ]
    },
    {
     "name": "stdout",
     "output_type": "stream",
     "text": [
      "\n",
      "✅ Partido 18 (FERRO vs UNION (SF) (016/10/2024 20:00)) procesado y guardado en: data/scrapped\\partido_18_FERRO vs UNION (SF) (016_10_2024 20_00).parquet\n"
     ]
    },
    {
     "name": "stderr",
     "output_type": "stream",
     "text": [
      "Procesando partidos:   5%|▌         | 19/380 [09:05<2:17:06, 22.79s/it]"
     ]
    },
    {
     "name": "stdout",
     "output_type": "stream",
     "text": [
      "\n",
      "✅ Partido 19 (ARGENTINO (J) vs OBERA (016/10/2024 21:00)) procesado y guardado en: data/scrapped\\partido_19_ARGENTINO (J) vs OBERA (016_10_2024 21_00).parquet\n"
     ]
    },
    {
     "name": "stderr",
     "output_type": "stream",
     "text": [
      "Procesando partidos:   5%|▌         | 20/380 [09:25<2:11:55, 21.99s/it]"
     ]
    },
    {
     "name": "stdout",
     "output_type": "stream",
     "text": [
      "\n",
      "✅ Partido 20 (QUIMSA vs REGATAS (C) (016/10/2024 22:00)) procesado y guardado en: data/scrapped\\partido_20_QUIMSA vs REGATAS (C) (016_10_2024 22_00).parquet\n"
     ]
    },
    {
     "name": "stderr",
     "output_type": "stream",
     "text": [
      "Procesando partidos:   6%|▌         | 21/380 [09:47<2:12:05, 22.08s/it]"
     ]
    },
    {
     "name": "stdout",
     "output_type": "stream",
     "text": [
      "\n",
      "✅ Partido 21 (ZARATE BASKET vs INDEPENDIENTE (O) (017/10/2024 21:00)) procesado y guardado en: data/scrapped\\partido_21_ZARATE BASKET vs INDEPENDIENTE (O) (017_10_2024 21_00).parquet\n"
     ]
    },
    {
     "name": "stderr",
     "output_type": "stream",
     "text": [
      "Procesando partidos:   6%|▌         | 22/380 [10:07<2:08:19, 21.51s/it]"
     ]
    },
    {
     "name": "stdout",
     "output_type": "stream",
     "text": [
      "\n",
      "✅ Partido 22 (OLIMPICO (LB) vs BOCA (017/10/2024 22:00)) procesado y guardado en: data/scrapped\\partido_22_OLIMPICO (LB) vs BOCA (017_10_2024 22_00).parquet\n"
     ]
    },
    {
     "name": "stderr",
     "output_type": "stream",
     "text": [
      "Procesando partidos:   6%|▌         | 23/380 [10:32<2:13:02, 22.36s/it]"
     ]
    },
    {
     "name": "stdout",
     "output_type": "stream",
     "text": [
      "\n",
      "✅ Partido 23 (ARGENTINO (J) vs UNION (SF) (018/10/2024 21:00)) procesado y guardado en: data/scrapped\\partido_23_ARGENTINO (J) vs UNION (SF) (018_10_2024 21_00).parquet\n"
     ]
    },
    {
     "name": "stderr",
     "output_type": "stream",
     "text": [
      "Procesando partidos:   6%|▋         | 24/380 [10:53<2:11:28, 22.16s/it]"
     ]
    },
    {
     "name": "stdout",
     "output_type": "stream",
     "text": [
      "\n",
      "✅ Partido 24 (RIACHUELO (LR) vs REGATAS (C) (018/10/2024 21:30)) procesado y guardado en: data/scrapped\\partido_24_RIACHUELO (LR) vs REGATAS (C) (018_10_2024 21_30).parquet\n"
     ]
    },
    {
     "name": "stderr",
     "output_type": "stream",
     "text": [
      "Procesando partidos:   7%|▋         | 25/380 [11:13<2:06:50, 21.44s/it]"
     ]
    },
    {
     "name": "stdout",
     "output_type": "stream",
     "text": [
      "\n",
      "✅ Partido 25 (FERRO vs OBRAS (018/10/2024 22:00)) procesado y guardado en: data/scrapped\\partido_25_FERRO vs OBRAS (018_10_2024 22_00).parquet\n"
     ]
    },
    {
     "name": "stderr",
     "output_type": "stream",
     "text": [
      "Procesando partidos:   7%|▋         | 26/380 [11:35<2:07:25, 21.60s/it]"
     ]
    },
    {
     "name": "stdout",
     "output_type": "stream",
     "text": [
      "\n",
      "✅ Partido 26 (QUIMSA vs BOCA (019/10/2024 11:30)) procesado y guardado en: data/scrapped\\partido_26_QUIMSA vs BOCA (019_10_2024 11_30).parquet\n"
     ]
    },
    {
     "name": "stderr",
     "output_type": "stream",
     "text": [
      "Procesando partidos:   7%|▋         | 27/380 [11:56<2:06:27, 21.49s/it]"
     ]
    },
    {
     "name": "stdout",
     "output_type": "stream",
     "text": [
      "\n",
      "✅ Partido 27 (ARGENTINO (J) vs PEÑAROL (MDP) (021/10/2024 21:00)) procesado y guardado en: data/scrapped\\partido_27_ARGENTINO (J) vs PEÑAROL (MDP) (021_10_2024 21_00).parquet\n"
     ]
    },
    {
     "name": "stderr",
     "output_type": "stream",
     "text": [
      "Procesando partidos:   7%|▋         | 28/380 [12:18<2:05:55, 21.46s/it]"
     ]
    },
    {
     "name": "stdout",
     "output_type": "stream",
     "text": [
      "\n",
      "✅ Partido 28 (RIACHUELO (LR) vs BOCA (021/10/2024 21:30)) procesado y guardado en: data/scrapped\\partido_28_RIACHUELO (LR) vs BOCA (021_10_2024 21_30).parquet\n"
     ]
    },
    {
     "name": "stderr",
     "output_type": "stream",
     "text": [
      "Procesando partidos:   8%|▊         | 29/380 [12:39<2:05:09, 21.39s/it]"
     ]
    },
    {
     "name": "stdout",
     "output_type": "stream",
     "text": [
      "\n",
      "✅ Partido 29 (ATENAS (C) vs INSTITUTO (021/10/2024 22:10)) procesado y guardado en: data/scrapped\\partido_29_ATENAS (C) vs INSTITUTO (021_10_2024 22_10).parquet\n"
     ]
    },
    {
     "name": "stderr",
     "output_type": "stream",
     "text": [
      "Procesando partidos:   8%|▊         | 30/380 [13:04<2:10:47, 22.42s/it]"
     ]
    },
    {
     "name": "stdout",
     "output_type": "stream",
     "text": [
      "\n",
      "✅ Partido 30 (UNION (SF) vs PLATENSE (022/10/2024 21:00)) procesado y guardado en: data/scrapped\\partido_30_UNION (SF) vs PLATENSE (022_10_2024 21_00).parquet\n"
     ]
    },
    {
     "name": "stderr",
     "output_type": "stream",
     "text": [
      "Procesando partidos:   8%|▊         | 31/380 [13:26<2:09:24, 22.25s/it]"
     ]
    },
    {
     "name": "stdout",
     "output_type": "stream",
     "text": [
      "\n",
      "✅ Partido 31 (OBERA vs GIMNASIA (CR) (022/10/2024 21:30)) procesado y guardado en: data/scrapped\\partido_31_OBERA vs GIMNASIA (CR) (022_10_2024 21_30).parquet\n"
     ]
    },
    {
     "name": "stderr",
     "output_type": "stream",
     "text": [
      "Procesando partidos:   8%|▊         | 32/380 [13:52<2:15:52, 23.43s/it]"
     ]
    },
    {
     "name": "stdout",
     "output_type": "stream",
     "text": [
      "\n",
      "✅ Partido 32 (ZARATE BASKET vs PEÑAROL (MDP) (023/10/2024 21:00)) procesado y guardado en: data/scrapped\\partido_32_ZARATE BASKET vs PEÑAROL (MDP) (023_10_2024 21_00).parquet\n"
     ]
    },
    {
     "name": "stderr",
     "output_type": "stream",
     "text": [
      "Procesando partidos:   9%|▊         | 33/380 [14:12<2:10:37, 22.59s/it]"
     ]
    },
    {
     "name": "stdout",
     "output_type": "stream",
     "text": [
      "\n",
      "✅ Partido 33 (SAN LORENZO vs GIMNASIA (CR) (024/10/2024 21:05)) procesado y guardado en: data/scrapped\\partido_33_SAN LORENZO vs GIMNASIA (CR) (024_10_2024 21_05).parquet\n"
     ]
    },
    {
     "name": "stderr",
     "output_type": "stream",
     "text": [
      "Procesando partidos:   9%|▉         | 34/380 [14:38<2:14:49, 23.38s/it]"
     ]
    },
    {
     "name": "stdout",
     "output_type": "stream",
     "text": [
      "\n",
      "✅ Partido 34 (BOCA vs PEÑAROL (MDP) (025/10/2024 22:00)) procesado y guardado en: data/scrapped\\partido_34_BOCA vs PEÑAROL (MDP) (025_10_2024 22_00).parquet\n"
     ]
    },
    {
     "name": "stderr",
     "output_type": "stream",
     "text": [
      "Procesando partidos:   9%|▉         | 35/380 [15:00<2:12:52, 23.11s/it]"
     ]
    },
    {
     "name": "stdout",
     "output_type": "stream",
     "text": [
      "\n",
      "✅ Partido 35 (PLATENSE vs FERRO (026/10/2024 20:00)) procesado y guardado en: data/scrapped\\partido_35_PLATENSE vs FERRO (026_10_2024 20_00).parquet\n"
     ]
    },
    {
     "name": "stderr",
     "output_type": "stream",
     "text": [
      "Procesando partidos:   9%|▉         | 36/380 [15:20<2:07:42, 22.27s/it]"
     ]
    },
    {
     "name": "stdout",
     "output_type": "stream",
     "text": [
      "\n",
      "✅ Partido 36 (RIACHUELO (LR) vs ARGENTINO (J) (027/10/2024 21:30)) procesado y guardado en: data/scrapped\\partido_36_RIACHUELO (LR) vs ARGENTINO (J) (027_10_2024 21_30).parquet\n"
     ]
    },
    {
     "name": "stderr",
     "output_type": "stream",
     "text": [
      "Procesando partidos:  10%|▉         | 37/380 [15:43<2:07:35, 22.32s/it]"
     ]
    },
    {
     "name": "stdout",
     "output_type": "stream",
     "text": [
      "\n",
      "✅ Partido 37 (LA UNION FSA. vs OBERA (027/10/2024 22:00)) procesado y guardado en: data/scrapped\\partido_37_LA UNION FSA. vs OBERA (027_10_2024 22_00).parquet\n"
     ]
    },
    {
     "name": "stderr",
     "output_type": "stream",
     "text": [
      "Procesando partidos:  10%|█         | 38/380 [16:12<2:19:14, 24.43s/it]"
     ]
    },
    {
     "name": "stdout",
     "output_type": "stream",
     "text": [
      "\n",
      "✅ Partido 38 (SAN MARTIN (C) vs UNION (SF) (028/10/2024 21:30)) procesado y guardado en: data/scrapped\\partido_38_SAN MARTIN (C) vs UNION (SF) (028_10_2024 21_30).parquet\n"
     ]
    },
    {
     "name": "stderr",
     "output_type": "stream",
     "text": [
      "Procesando partidos:  10%|█         | 39/380 [16:33<2:12:51, 23.38s/it]"
     ]
    },
    {
     "name": "stdout",
     "output_type": "stream",
     "text": [
      "\n",
      "✅ Partido 39 (REGATAS (C) vs OBERA (029/10/2024 21:00)) procesado y guardado en: data/scrapped\\partido_39_REGATAS (C) vs OBERA (029_10_2024 21_00).parquet\n"
     ]
    },
    {
     "name": "stderr",
     "output_type": "stream",
     "text": [
      "Procesando partidos:  11%|█         | 40/380 [16:58<2:14:37, 23.76s/it]"
     ]
    },
    {
     "name": "stdout",
     "output_type": "stream",
     "text": [
      "\n",
      "✅ Partido 40 (FERRO vs SAN LORENZO (029/10/2024 21:30)) procesado y guardado en: data/scrapped\\partido_40_FERRO vs SAN LORENZO (029_10_2024 21_30).parquet\n"
     ]
    },
    {
     "name": "stderr",
     "output_type": "stream",
     "text": [
      "Procesando partidos:  11%|█         | 41/380 [17:23<2:16:21, 24.13s/it]"
     ]
    },
    {
     "name": "stdout",
     "output_type": "stream",
     "text": [
      "\n",
      "✅ Partido 41 (QUIMSA vs ARGENTINO (J) (029/10/2024 22:00)) procesado y guardado en: data/scrapped\\partido_41_QUIMSA vs ARGENTINO (J) (029_10_2024 22_00).parquet\n"
     ]
    },
    {
     "name": "stderr",
     "output_type": "stream",
     "text": [
      "Procesando partidos:  11%|█         | 42/380 [17:48<2:17:55, 24.48s/it]"
     ]
    },
    {
     "name": "stdout",
     "output_type": "stream",
     "text": [
      "\n",
      "✅ Partido 42 (LA UNION FSA. vs UNION (SF) (030/10/2024 21:30)) procesado y guardado en: data/scrapped\\partido_42_LA UNION FSA. vs UNION (SF) (030_10_2024 21_30).parquet\n"
     ]
    },
    {
     "name": "stderr",
     "output_type": "stream",
     "text": [
      "Procesando partidos:  11%|█▏        | 43/380 [18:27<2:41:41, 28.79s/it]"
     ]
    },
    {
     "name": "stdout",
     "output_type": "stream",
     "text": [
      "\n",
      "✅ Partido 43 (OBRAS vs RIACHUELO (LR) (030/10/2024 22:10)) procesado y guardado en: data/scrapped\\partido_43_OBRAS vs RIACHUELO (LR) (030_10_2024 22_10).parquet\n"
     ]
    },
    {
     "name": "stderr",
     "output_type": "stream",
     "text": [
      "Procesando partidos:  12%|█▏        | 44/380 [18:51<2:33:08, 27.35s/it]"
     ]
    },
    {
     "name": "stdout",
     "output_type": "stream",
     "text": [
      "\n",
      "✅ Partido 44 (INDEPENDIENTE (O) vs INSTITUTO (031/10/2024 21:00)) procesado y guardado en: data/scrapped\\partido_44_INDEPENDIENTE (O) vs INSTITUTO (031_10_2024 21_00).parquet\n"
     ]
    },
    {
     "name": "stderr",
     "output_type": "stream",
     "text": [
      "Procesando partidos:  12%|█▏        | 45/380 [19:19<2:34:37, 27.70s/it]"
     ]
    },
    {
     "name": "stdout",
     "output_type": "stream",
     "text": [
      "\n",
      "✅ Partido 45 (SAN MARTIN (C) vs OBERA (031/10/2024 21:30)) procesado y guardado en: data/scrapped\\partido_45_SAN MARTIN (C) vs OBERA (031_10_2024 21_30).parquet\n"
     ]
    },
    {
     "name": "stderr",
     "output_type": "stream",
     "text": [
      "Procesando partidos:  12%|█▏        | 46/380 [19:49<2:36:55, 28.19s/it]"
     ]
    },
    {
     "name": "stdout",
     "output_type": "stream",
     "text": [
      "\n",
      "✅ Partido 46 (OLIMPICO (LB) vs ARGENTINO (J) (031/10/2024 22:00)) procesado y guardado en: data/scrapped\\partido_46_OLIMPICO (LB) vs ARGENTINO (J) (031_10_2024 22_00).parquet\n"
     ]
    },
    {
     "name": "stderr",
     "output_type": "stream",
     "text": [
      "Procesando partidos:  12%|█▏        | 47/380 [20:15<2:32:31, 27.48s/it]"
     ]
    },
    {
     "name": "stdout",
     "output_type": "stream",
     "text": [
      "\n",
      "✅ Partido 47 (SAN LORENZO vs RIACHUELO (LR) (001/11/2024 20:00)) procesado y guardado en: data/scrapped\\partido_47_SAN LORENZO vs RIACHUELO (LR) (001_11_2024 20_00).parquet\n"
     ]
    },
    {
     "name": "stderr",
     "output_type": "stream",
     "text": [
      "Procesando partidos:  13%|█▎        | 48/380 [20:40<2:28:09, 26.77s/it]"
     ]
    },
    {
     "name": "stdout",
     "output_type": "stream",
     "text": [
      "\n",
      "✅ Partido 48 (GIMNASIA (CR) vs QUIMSA (001/11/2024 21:00)) procesado y guardado en: data/scrapped\\partido_48_GIMNASIA (CR) vs QUIMSA (001_11_2024 21_00).parquet\n"
     ]
    },
    {
     "name": "stderr",
     "output_type": "stream",
     "text": [
      "Procesando partidos:  13%|█▎        | 49/380 [21:09<2:31:32, 27.47s/it]"
     ]
    },
    {
     "name": "stdout",
     "output_type": "stream",
     "text": [
      "\n",
      "✅ Partido 49 (REGATAS (C) vs UNION (SF) (001/11/2024 21:30)) procesado y guardado en: data/scrapped\\partido_49_REGATAS (C) vs UNION (SF) (001_11_2024 21_30).parquet\n"
     ]
    },
    {
     "name": "stderr",
     "output_type": "stream",
     "text": [
      "Procesando partidos:  13%|█▎        | 50/380 [21:33<2:25:48, 26.51s/it]"
     ]
    },
    {
     "name": "stdout",
     "output_type": "stream",
     "text": [
      "\n",
      "✅ Partido 50 (SAN LORENZO vs QUIMSA (003/11/2024 19:10)) procesado y guardado en: data/scrapped\\partido_50_SAN LORENZO vs QUIMSA (003_11_2024 19_10).parquet\n"
     ]
    },
    {
     "name": "stderr",
     "output_type": "stream",
     "text": [
      "Procesando partidos:  13%|█▎        | 51/380 [21:55<2:17:55, 25.15s/it]"
     ]
    },
    {
     "name": "stdout",
     "output_type": "stream",
     "text": [
      "\n",
      "✅ Partido 51 (GIMNASIA (CR) vs RIACHUELO (LR) (003/11/2024 20:00)) procesado y guardado en: data/scrapped\\partido_51_GIMNASIA (CR) vs RIACHUELO (LR) (003_11_2024 20_00).parquet\n"
     ]
    },
    {
     "name": "stderr",
     "output_type": "stream",
     "text": [
      "Procesando partidos:  14%|█▎        | 52/380 [22:20<2:16:57, 25.05s/it]"
     ]
    },
    {
     "name": "stdout",
     "output_type": "stream",
     "text": [
      "\n",
      "✅ Partido 52 (REGATAS (C) vs SAN MARTIN (C) (003/11/2024 20:10)) procesado y guardado en: data/scrapped\\partido_52_REGATAS (C) vs SAN MARTIN (C) (003_11_2024 20_10).parquet\n"
     ]
    },
    {
     "name": "stderr",
     "output_type": "stream",
     "text": [
      "Procesando partidos:  14%|█▍        | 53/380 [22:44<2:14:15, 24.63s/it]"
     ]
    },
    {
     "name": "stdout",
     "output_type": "stream",
     "text": [
      "\n",
      "✅ Partido 53 (OLIMPICO (LB) vs ZARATE BASKET (004/11/2024 22:00)) procesado y guardado en: data/scrapped\\partido_53_OLIMPICO (LB) vs ZARATE BASKET (004_11_2024 22_00).parquet\n"
     ]
    },
    {
     "name": "stderr",
     "output_type": "stream",
     "text": [
      "Procesando partidos:  14%|█▍        | 54/380 [23:05<2:09:21, 23.81s/it]"
     ]
    },
    {
     "name": "stdout",
     "output_type": "stream",
     "text": [
      "\n",
      "✅ Partido 54 (OBRAS vs QUIMSA (005/11/2024 20:00)) procesado y guardado en: data/scrapped\\partido_54_OBRAS vs QUIMSA (005_11_2024 20_00).parquet\n"
     ]
    },
    {
     "name": "stderr",
     "output_type": "stream",
     "text": [
      "Procesando partidos:  14%|█▍        | 55/380 [23:30<2:10:18, 24.06s/it]"
     ]
    },
    {
     "name": "stdout",
     "output_type": "stream",
     "text": [
      "\n",
      "✅ Partido 55 (OBERA vs BOCA (005/11/2024 21:00)) procesado y guardado en: data/scrapped\\partido_55_OBERA vs BOCA (005_11_2024 21_00).parquet\n"
     ]
    },
    {
     "name": "stderr",
     "output_type": "stream",
     "text": [
      "Procesando partidos:  15%|█▍        | 56/380 [24:00<2:18:45, 25.70s/it]"
     ]
    },
    {
     "name": "stdout",
     "output_type": "stream",
     "text": [
      "\n",
      "✅ Partido 56 (SAN MARTIN (C) vs LA UNION FSA. (006/11/2024 21:00)) procesado y guardado en: data/scrapped\\partido_56_SAN MARTIN (C) vs LA UNION FSA. (006_11_2024 21_00).parquet\n"
     ]
    },
    {
     "name": "stderr",
     "output_type": "stream",
     "text": [
      "Procesando partidos:  15%|█▌        | 57/380 [24:22<2:13:18, 24.76s/it]"
     ]
    },
    {
     "name": "stdout",
     "output_type": "stream",
     "text": [
      "\n",
      "✅ Partido 57 (RIACHUELO (LR) vs ZARATE BASKET (006/11/2024 21:30)) procesado y guardado en: data/scrapped\\partido_57_RIACHUELO (LR) vs ZARATE BASKET (006_11_2024 21_30).parquet\n"
     ]
    },
    {
     "name": "stderr",
     "output_type": "stream",
     "text": [
      "Procesando partidos:  15%|█▌        | 58/380 [24:46<2:11:27, 24.49s/it]"
     ]
    },
    {
     "name": "stdout",
     "output_type": "stream",
     "text": [
      "\n",
      "✅ Partido 58 (INDEPENDIENTE (O) vs SAN LORENZO (007/11/2024 21:00)) procesado y guardado en: data/scrapped\\partido_58_INDEPENDIENTE (O) vs SAN LORENZO (007_11_2024 21_00).parquet\n"
     ]
    },
    {
     "name": "stderr",
     "output_type": "stream",
     "text": [
      "Procesando partidos:  16%|█▌        | 59/380 [25:15<2:17:32, 25.71s/it]"
     ]
    },
    {
     "name": "stdout",
     "output_type": "stream",
     "text": [
      "\n",
      "✅ Partido 59 (ATENAS (C) vs OLIMPICO (LB) (007/11/2024 21:05)) procesado y guardado en: data/scrapped\\partido_59_ATENAS (C) vs OLIMPICO (LB) (007_11_2024 21_05).parquet\n"
     ]
    },
    {
     "name": "stderr",
     "output_type": "stream",
     "text": [
      "Procesando partidos:  16%|█▌        | 60/380 [25:40<2:17:02, 25.69s/it]"
     ]
    },
    {
     "name": "stdout",
     "output_type": "stream",
     "text": [
      "\n",
      "✅ Partido 60 (QUIMSA vs ZARATE BASKET (008/11/2024 22:00)) procesado y guardado en: data/scrapped\\partido_60_QUIMSA vs ZARATE BASKET (008_11_2024 22_00).parquet\n"
     ]
    },
    {
     "name": "stderr",
     "output_type": "stream",
     "text": [
      "Procesando partidos:  16%|█▌        | 61/380 [26:02<2:10:18, 24.51s/it]"
     ]
    },
    {
     "name": "stdout",
     "output_type": "stream",
     "text": [
      "\n",
      "✅ Partido 61 (BOCA vs OBRAS (009/11/2024 11:30)) procesado y guardado en: data/scrapped\\partido_61_BOCA vs OBRAS (009_11_2024 11_30).parquet\n"
     ]
    },
    {
     "name": "stderr",
     "output_type": "stream",
     "text": [
      "Procesando partidos:  16%|█▋        | 62/380 [26:24<2:05:48, 23.74s/it]"
     ]
    },
    {
     "name": "stdout",
     "output_type": "stream",
     "text": [
      "\n",
      "✅ Partido 62 (RIACHUELO (LR) vs OLIMPICO (LB) (009/11/2024 20:30)) procesado y guardado en: data/scrapped\\partido_62_RIACHUELO (LR) vs OLIMPICO (LB) (009_11_2024 20_30).parquet\n"
     ]
    },
    {
     "name": "stderr",
     "output_type": "stream",
     "text": [
      "Procesando partidos:  17%|█▋        | 63/380 [26:46<2:03:23, 23.36s/it]"
     ]
    },
    {
     "name": "stdout",
     "output_type": "stream",
     "text": [
      "\n",
      "✅ Partido 63 (ATENAS (C) vs SAN LORENZO (009/11/2024 21:00)) procesado y guardado en: data/scrapped\\partido_63_ATENAS (C) vs SAN LORENZO (009_11_2024 21_00).parquet\n"
     ]
    },
    {
     "name": "stderr",
     "output_type": "stream",
     "text": [
      "Procesando partidos:  17%|█▋        | 64/380 [27:08<2:00:37, 22.90s/it]"
     ]
    },
    {
     "name": "stdout",
     "output_type": "stream",
     "text": [
      "\n",
      "✅ Partido 64 (LA UNION FSA. vs REGATAS (C) (010/11/2024 21:00)) procesado y guardado en: data/scrapped\\partido_64_LA UNION FSA. vs REGATAS (C) (010_11_2024 21_00).parquet\n"
     ]
    },
    {
     "name": "stderr",
     "output_type": "stream",
     "text": [
      "Procesando partidos:  17%|█▋        | 65/380 [27:31<2:00:01, 22.86s/it]"
     ]
    },
    {
     "name": "stdout",
     "output_type": "stream",
     "text": [
      "\n",
      "✅ Partido 65 (INSTITUTO vs SAN LORENZO (011/11/2024 19:30)) procesado y guardado en: data/scrapped\\partido_65_INSTITUTO vs SAN LORENZO (011_11_2024 19_30).parquet\n"
     ]
    },
    {
     "name": "stderr",
     "output_type": "stream",
     "text": [
      "Procesando partidos:  17%|█▋        | 66/380 [27:55<2:01:38, 23.24s/it]"
     ]
    },
    {
     "name": "stdout",
     "output_type": "stream",
     "text": [
      "\n",
      "✅ Partido 66 (OBERA vs INDEPENDIENTE (O) (011/11/2024 21:00)) procesado y guardado en: data/scrapped\\partido_66_OBERA vs INDEPENDIENTE (O) (011_11_2024 21_00).parquet\n"
     ]
    },
    {
     "name": "stderr",
     "output_type": "stream",
     "text": [
      "Procesando partidos:  18%|█▊        | 67/380 [28:20<2:03:24, 23.66s/it]"
     ]
    },
    {
     "name": "stdout",
     "output_type": "stream",
     "text": [
      "\n",
      "✅ Partido 67 (PEÑAROL (MDP) vs OBRAS (011/11/2024 21:30)) procesado y guardado en: data/scrapped\\partido_67_PEÑAROL (MDP) vs OBRAS (011_11_2024 21_30).parquet\n"
     ]
    },
    {
     "name": "stderr",
     "output_type": "stream",
     "text": [
      "Procesando partidos:  18%|█▊        | 68/380 [28:42<2:00:17, 23.13s/it]"
     ]
    },
    {
     "name": "stdout",
     "output_type": "stream",
     "text": [
      "\n",
      "✅ Partido 68 (ZARATE BASKET vs PLATENSE (012/11/2024 20:00)) procesado y guardado en: data/scrapped\\partido_68_ZARATE BASKET vs PLATENSE (012_11_2024 20_00).parquet\n"
     ]
    },
    {
     "name": "stderr",
     "output_type": "stream",
     "text": [
      "Procesando partidos:  18%|█▊        | 69/380 [29:04<1:58:54, 22.94s/it]"
     ]
    },
    {
     "name": "stdout",
     "output_type": "stream",
     "text": [
      "\n",
      "✅ Partido 69 (ATENAS (C) vs FERRO (012/11/2024 21:00)) procesado y guardado en: data/scrapped\\partido_69_ATENAS (C) vs FERRO (012_11_2024 21_00).parquet\n"
     ]
    },
    {
     "name": "stderr",
     "output_type": "stream",
     "text": [
      "Procesando partidos:  18%|█▊        | 70/380 [29:25<1:55:54, 22.43s/it]"
     ]
    },
    {
     "name": "stdout",
     "output_type": "stream",
     "text": [
      "\n",
      "✅ Partido 70 (OLIMPICO (LB) vs QUIMSA (012/11/2024 22:10)) procesado y guardado en: data/scrapped\\partido_70_OLIMPICO (LB) vs QUIMSA (012_11_2024 22_10).parquet\n"
     ]
    },
    {
     "name": "stderr",
     "output_type": "stream",
     "text": [
      "Procesando partidos:  19%|█▊        | 71/380 [29:50<1:58:38, 23.04s/it]"
     ]
    },
    {
     "name": "stdout",
     "output_type": "stream",
     "text": [
      "\n",
      "✅ Partido 71 (GIMNASIA (CR) vs BOCA (013/11/2024 21:00)) procesado y guardado en: data/scrapped\\partido_71_GIMNASIA (CR) vs BOCA (013_11_2024 21_00).parquet\n"
     ]
    },
    {
     "name": "stderr",
     "output_type": "stream",
     "text": [
      "Procesando partidos:  19%|█▉        | 72/380 [30:15<2:01:25, 23.65s/it]"
     ]
    },
    {
     "name": "stdout",
     "output_type": "stream",
     "text": [
      "\n",
      "✅ Partido 72 (UNION (SF) vs INDEPENDIENTE (O) (013/11/2024 21:00)) procesado y guardado en: data/scrapped\\partido_72_UNION (SF) vs INDEPENDIENTE (O) (013_11_2024 21_00).parquet\n"
     ]
    },
    {
     "name": "stderr",
     "output_type": "stream",
     "text": [
      "Procesando partidos:  19%|█▉        | 73/380 [30:36<1:57:23, 22.94s/it]"
     ]
    },
    {
     "name": "stdout",
     "output_type": "stream",
     "text": [
      "\n",
      "✅ Partido 73 (RIACHUELO (LR) vs LA UNION FSA. (013/11/2024 21:30)) procesado y guardado en: data/scrapped\\partido_73_RIACHUELO (LR) vs LA UNION FSA. (013_11_2024 21_30).parquet\n"
     ]
    },
    {
     "name": "stderr",
     "output_type": "stream",
     "text": [
      "Procesando partidos:  19%|█▉        | 74/380 [30:58<1:55:35, 22.67s/it]"
     ]
    },
    {
     "name": "stdout",
     "output_type": "stream",
     "text": [
      "\n",
      "✅ Partido 74 (INSTITUTO vs FERRO (014/11/2024 21:00)) procesado y guardado en: data/scrapped\\partido_74_INSTITUTO vs FERRO (014_11_2024 21_00).parquet\n"
     ]
    },
    {
     "name": "stderr",
     "output_type": "stream",
     "text": [
      "Procesando partidos:  20%|█▉        | 75/380 [31:23<1:58:17, 23.27s/it]"
     ]
    },
    {
     "name": "stdout",
     "output_type": "stream",
     "text": [
      "\n",
      "✅ Partido 75 (ARGENTINO (J) vs PLATENSE (014/11/2024 21:30)) procesado y guardado en: data/scrapped\\partido_75_ARGENTINO (J) vs PLATENSE (014_11_2024 21_30).parquet\n"
     ]
    },
    {
     "name": "stderr",
     "output_type": "stream",
     "text": [
      "Procesando partidos:  20%|██        | 76/380 [31:45<1:55:27, 22.79s/it]"
     ]
    },
    {
     "name": "stdout",
     "output_type": "stream",
     "text": [
      "\n",
      "✅ Partido 76 (OBERA vs ATENAS (C) (015/11/2024 21:00)) procesado y guardado en: data/scrapped\\partido_76_OBERA vs ATENAS (C) (015_11_2024 21_00).parquet\n"
     ]
    },
    {
     "name": "stderr",
     "output_type": "stream",
     "text": [
      "Procesando partidos:  20%|██        | 77/380 [32:07<1:54:40, 22.71s/it]"
     ]
    },
    {
     "name": "stdout",
     "output_type": "stream",
     "text": [
      "\n",
      "✅ Partido 77 (QUIMSA vs LA UNION FSA. (015/11/2024 22:00)) procesado y guardado en: data/scrapped\\partido_77_QUIMSA vs LA UNION FSA. (015_11_2024 22_00).parquet\n"
     ]
    },
    {
     "name": "stderr",
     "output_type": "stream",
     "text": [
      "Procesando partidos:  21%|██        | 78/380 [32:29<1:52:59, 22.45s/it]"
     ]
    },
    {
     "name": "stdout",
     "output_type": "stream",
     "text": [
      "\n",
      "✅ Partido 78 (INDEPENDIENTE (O) vs FERRO (016/11/2024 11:30)) procesado y guardado en: data/scrapped\\partido_78_INDEPENDIENTE (O) vs FERRO (016_11_2024 11_30).parquet\n"
     ]
    },
    {
     "name": "stderr",
     "output_type": "stream",
     "text": [
      "Procesando partidos:  21%|██        | 79/380 [32:50<1:50:41, 22.07s/it]"
     ]
    },
    {
     "name": "stdout",
     "output_type": "stream",
     "text": [
      "\n",
      "✅ Partido 79 (UNION (SF) vs ATENAS (C) (017/11/2024 20:30)) procesado y guardado en: data/scrapped\\partido_79_UNION (SF) vs ATENAS (C) (017_11_2024 20_30).parquet\n"
     ]
    },
    {
     "name": "stderr",
     "output_type": "stream",
     "text": [
      "Procesando partidos:  21%|██        | 80/380 [33:15<1:54:27, 22.89s/it]"
     ]
    },
    {
     "name": "stdout",
     "output_type": "stream",
     "text": [
      "\n",
      "✅ Partido 80 (SAN LORENZO vs BOCA (017/11/2024 21:05)) procesado y guardado en: data/scrapped\\partido_80_SAN LORENZO vs BOCA (017_11_2024 21_05).parquet\n"
     ]
    },
    {
     "name": "stderr",
     "output_type": "stream",
     "text": [
      "Procesando partidos:  21%|██▏       | 81/380 [33:39<1:55:16, 23.13s/it]"
     ]
    },
    {
     "name": "stdout",
     "output_type": "stream",
     "text": [
      "\n",
      "✅ Partido 81 (OLIMPICO (LB) vs LA UNION FSA. (017/11/2024 22:00)) procesado y guardado en: data/scrapped\\partido_81_OLIMPICO (LB) vs LA UNION FSA. (017_11_2024 22_00).parquet\n"
     ]
    },
    {
     "name": "stderr",
     "output_type": "stream",
     "text": [
      "Procesando partidos:  22%|██▏       | 82/380 [34:00<1:51:41, 22.49s/it]"
     ]
    },
    {
     "name": "stdout",
     "output_type": "stream",
     "text": [
      "\n",
      "✅ Partido 82 (OBRAS vs SAN LORENZO (027/11/2024 19:00)) procesado y guardado en: data/scrapped\\partido_82_OBRAS vs SAN LORENZO (027_11_2024 19_00).parquet\n"
     ]
    },
    {
     "name": "stderr",
     "output_type": "stream",
     "text": [
      "Procesando partidos:  22%|██▏       | 83/380 [34:23<1:52:24, 22.71s/it]"
     ]
    },
    {
     "name": "stdout",
     "output_type": "stream",
     "text": [
      "\n",
      "✅ Partido 83 (PEÑAROL (MDP) vs SAN MARTIN (C) (027/11/2024 19:05)) procesado y guardado en: data/scrapped\\partido_83_PEÑAROL (MDP) vs SAN MARTIN (C) (027_11_2024 19_05).parquet\n"
     ]
    },
    {
     "name": "stderr",
     "output_type": "stream",
     "text": [
      "Procesando partidos:  22%|██▏       | 84/380 [34:46<1:52:46, 22.86s/it]"
     ]
    },
    {
     "name": "stdout",
     "output_type": "stream",
     "text": [
      "\n",
      "✅ Partido 84 (INDEPENDIENTE (O) vs ARGENTINO (J) (027/11/2024 21:00)) procesado y guardado en: data/scrapped\\partido_84_INDEPENDIENTE (O) vs ARGENTINO (J) (027_11_2024 21_00).parquet\n"
     ]
    },
    {
     "name": "stderr",
     "output_type": "stream",
     "text": [
      "Procesando partidos:  22%|██▏       | 85/380 [35:14<1:59:57, 24.40s/it]"
     ]
    },
    {
     "name": "stdout",
     "output_type": "stream",
     "text": [
      "\n",
      "✅ Partido 85 (OBERA vs PLATENSE (028/11/2024 21:30)) procesado y guardado en: data/scrapped\\partido_85_OBERA vs PLATENSE (028_11_2024 21_30).parquet\n"
     ]
    },
    {
     "name": "stderr",
     "output_type": "stream",
     "text": [
      "Procesando partidos:  23%|██▎       | 86/380 [35:36<1:56:08, 23.70s/it]"
     ]
    },
    {
     "name": "stdout",
     "output_type": "stream",
     "text": [
      "\n",
      "✅ Partido 86 (ATENAS (C) vs QUIMSA (028/11/2024 22:10)) procesado y guardado en: data/scrapped\\partido_86_ATENAS (C) vs QUIMSA (028_11_2024 22_10).parquet\n"
     ]
    },
    {
     "name": "stderr",
     "output_type": "stream",
     "text": [
      "Procesando partidos:  23%|██▎       | 87/380 [36:04<2:01:50, 24.95s/it]"
     ]
    },
    {
     "name": "stdout",
     "output_type": "stream",
     "text": [
      "\n",
      "✅ Partido 87 (INSTITUTO vs ARGENTINO (J) (029/11/2024 21:00)) procesado y guardado en: data/scrapped\\partido_87_INSTITUTO vs ARGENTINO (J) (029_11_2024 21_00).parquet\n"
     ]
    },
    {
     "name": "stderr",
     "output_type": "stream",
     "text": [
      "Procesando partidos:  23%|██▎       | 88/380 [36:27<1:58:41, 24.39s/it]"
     ]
    },
    {
     "name": "stdout",
     "output_type": "stream",
     "text": [
      "\n",
      "✅ Partido 88 (BOCA vs SAN MARTIN (C) (029/11/2024 21:30)) procesado y guardado en: data/scrapped\\partido_88_BOCA vs SAN MARTIN (C) (029_11_2024 21_30).parquet\n"
     ]
    },
    {
     "name": "stderr",
     "output_type": "stream",
     "text": [
      "Procesando partidos:  23%|██▎       | 89/380 [37:05<2:18:24, 28.54s/it]"
     ]
    },
    {
     "name": "stdout",
     "output_type": "stream",
     "text": [
      "\n",
      "✅ Partido 89 (INDEPENDIENTE (O) vs QUIMSA (030/11/2024 20:30)) procesado y guardado en: data/scrapped\\partido_89_INDEPENDIENTE (O) vs QUIMSA (030_11_2024 20_30).parquet\n"
     ]
    },
    {
     "name": "stderr",
     "output_type": "stream",
     "text": [
      "Procesando partidos:  24%|██▎       | 90/380 [37:27<2:08:18, 26.55s/it]"
     ]
    },
    {
     "name": "stdout",
     "output_type": "stream",
     "text": [
      "\n",
      "✅ Partido 90 (LA UNION FSA. vs GIMNASIA (CR) (030/11/2024 21:30)) procesado y guardado en: data/scrapped\\partido_90_LA UNION FSA. vs GIMNASIA (CR) (030_11_2024 21_30).parquet\n"
     ]
    },
    {
     "name": "stderr",
     "output_type": "stream",
     "text": [
      "Procesando partidos:  24%|██▍       | 91/380 [37:50<2:02:02, 25.34s/it]"
     ]
    },
    {
     "name": "stdout",
     "output_type": "stream",
     "text": [
      "\n",
      "✅ Partido 91 (FERRO vs SAN MARTIN (C) (001/12/2024 20:00)) procesado y guardado en: data/scrapped\\partido_91_FERRO vs SAN MARTIN (C) (001_12_2024 20_00).parquet\n"
     ]
    },
    {
     "name": "stderr",
     "output_type": "stream",
     "text": [
      "Procesando partidos:  24%|██▍       | 92/380 [38:11<1:55:55, 24.15s/it]"
     ]
    },
    {
     "name": "stdout",
     "output_type": "stream",
     "text": [
      "\n",
      "✅ Partido 92 (ATENAS (C) vs ARGENTINO (J) (001/12/2024 20:30)) procesado y guardado en: data/scrapped\\partido_92_ATENAS (C) vs ARGENTINO (J) (001_12_2024 20_30).parquet\n"
     ]
    },
    {
     "name": "stderr",
     "output_type": "stream",
     "text": [
      "Procesando partidos:  24%|██▍       | 93/380 [38:33<1:52:19, 23.48s/it]"
     ]
    },
    {
     "name": "stdout",
     "output_type": "stream",
     "text": [
      "\n",
      "✅ Partido 93 (OBERA vs RIACHUELO (LR) (001/12/2024 21:00)) procesado y guardado en: data/scrapped\\partido_93_OBERA vs RIACHUELO (LR) (001_12_2024 21_00).parquet\n"
     ]
    },
    {
     "name": "stderr",
     "output_type": "stream",
     "text": [
      "Procesando partidos:  25%|██▍       | 94/380 [38:56<1:50:40, 23.22s/it]"
     ]
    },
    {
     "name": "stdout",
     "output_type": "stream",
     "text": [
      "\n",
      "✅ Partido 94 (REGATAS (C) vs GIMNASIA (CR) (002/12/2024 21:30)) procesado y guardado en: data/scrapped\\partido_94_REGATAS (C) vs GIMNASIA (CR) (002_12_2024 21_30).parquet\n"
     ]
    },
    {
     "name": "stderr",
     "output_type": "stream",
     "text": [
      "Procesando partidos:  25%|██▌       | 95/380 [39:17<1:47:31, 22.64s/it]"
     ]
    },
    {
     "name": "stdout",
     "output_type": "stream",
     "text": [
      "\n",
      "✅ Partido 95 (INSTITUTO vs QUIMSA (002/12/2024 22:10)) procesado y guardado en: data/scrapped\\partido_95_INSTITUTO vs QUIMSA (002_12_2024 22_10).parquet\n"
     ]
    },
    {
     "name": "stderr",
     "output_type": "stream",
     "text": [
      "Procesando partidos:  25%|██▌       | 96/380 [39:45<1:54:44, 24.24s/it]"
     ]
    },
    {
     "name": "stdout",
     "output_type": "stream",
     "text": [
      "\n",
      "✅ Partido 96 (UNION (SF) vs RIACHUELO (LR) (003/12/2024 21:00)) procesado y guardado en: data/scrapped\\partido_96_UNION (SF) vs RIACHUELO (LR) (003_12_2024 21_00).parquet\n"
     ]
    },
    {
     "name": "stderr",
     "output_type": "stream",
     "text": [
      "Procesando partidos:  26%|██▌       | 97/380 [40:15<2:03:24, 26.16s/it]"
     ]
    },
    {
     "name": "stdout",
     "output_type": "stream",
     "text": [
      "\n",
      "✅ Partido 97 (FERRO vs BOCA (003/12/2024 21:05)) procesado y guardado en: data/scrapped\\partido_97_FERRO vs BOCA (003_12_2024 21_05).parquet\n"
     ]
    },
    {
     "name": "stderr",
     "output_type": "stream",
     "text": [
      "Procesando partidos:  26%|██▌       | 98/380 [41:47<3:34:54, 45.72s/it]"
     ]
    },
    {
     "name": "stdout",
     "output_type": "stream",
     "text": [
      "\n",
      "✅ Partido 98 (LA UNION FSA. vs ZARATE BASKET (003/12/2024 21:30)) procesado y guardado en: data/scrapped\\partido_98_LA UNION FSA. vs ZARATE BASKET (003_12_2024 21_30).parquet\n"
     ]
    },
    {
     "name": "stderr",
     "output_type": "stream",
     "text": [
      "Procesando partidos:  26%|██▌       | 99/380 [42:13<3:06:34, 39.84s/it]"
     ]
    },
    {
     "name": "stdout",
     "output_type": "stream",
     "text": [
      "\n",
      "✅ Partido 99 (SAN MARTIN (C) vs GIMNASIA (CR) (004/12/2024 21:30)) procesado y guardado en: data/scrapped\\partido_99_SAN MARTIN (C) vs GIMNASIA (CR) (004_12_2024 21_30).parquet\n"
     ]
    },
    {
     "name": "stderr",
     "output_type": "stream",
     "text": [
      "Procesando partidos:  26%|██▋       | 100/380 [42:36<2:42:38, 34.85s/it]"
     ]
    },
    {
     "name": "stdout",
     "output_type": "stream",
     "text": [
      "\n",
      "✅ Partido 100 (ARGENTINO (J) vs BOCA (005/12/2024 21:00)) procesado y guardado en: data/scrapped\\partido_100_ARGENTINO (J) vs BOCA (005_12_2024 21_00).parquet\n"
     ]
    },
    {
     "name": "stderr",
     "output_type": "stream",
     "text": [
      "Procesando partidos:  27%|██▋       | 101/380 [42:58<2:23:38, 30.89s/it]"
     ]
    },
    {
     "name": "stdout",
     "output_type": "stream",
     "text": [
      "\n",
      "✅ Partido 101 (UNION (SF) vs INSTITUTO (005/12/2024 21:00)) procesado y guardado en: data/scrapped\\partido_101_UNION (SF) vs INSTITUTO (005_12_2024 21_00).parquet\n"
     ]
    },
    {
     "name": "stderr",
     "output_type": "stream",
     "text": [
      "Procesando partidos:  27%|██▋       | 102/380 [43:22<2:13:48, 28.88s/it]"
     ]
    },
    {
     "name": "stdout",
     "output_type": "stream",
     "text": [
      "\n",
      "✅ Partido 102 (REGATAS (C) vs ZARATE BASKET (005/12/2024 21:30)) procesado y guardado en: data/scrapped\\partido_102_REGATAS (C) vs ZARATE BASKET (005_12_2024 21_30).parquet\n"
     ]
    },
    {
     "name": "stderr",
     "output_type": "stream",
     "text": [
      "Procesando partidos:  27%|██▋       | 103/380 [43:44<2:04:11, 26.90s/it]"
     ]
    },
    {
     "name": "stdout",
     "output_type": "stream",
     "text": [
      "\n",
      "✅ Partido 103 (ATENAS (C) vs INDEPENDIENTE (O) (006/12/2024 21:00)) procesado y guardado en: data/scrapped\\partido_103_ATENAS (C) vs INDEPENDIENTE (O) (006_12_2024 21_00).parquet\n"
     ]
    },
    {
     "name": "stderr",
     "output_type": "stream",
     "text": [
      "Procesando partidos:  27%|██▋       | 104/380 [44:08<1:58:39, 25.80s/it]"
     ]
    },
    {
     "name": "stdout",
     "output_type": "stream",
     "text": [
      "\n",
      "✅ Partido 104 (QUIMSA vs FERRO (007/12/2024 11:30)) procesado y guardado en: data/scrapped\\partido_104_QUIMSA vs FERRO (007_12_2024 11_30).parquet\n"
     ]
    },
    {
     "name": "stderr",
     "output_type": "stream",
     "text": [
      "Procesando partidos:  28%|██▊       | 105/380 [44:30<1:54:20, 24.95s/it]"
     ]
    },
    {
     "name": "stdout",
     "output_type": "stream",
     "text": [
      "\n",
      "✅ Partido 105 (OBERA vs INSTITUTO (007/12/2024 21:00)) procesado y guardado en: data/scrapped\\partido_105_OBERA vs INSTITUTO (007_12_2024 21_00).parquet\n"
     ]
    },
    {
     "name": "stderr",
     "output_type": "stream",
     "text": [
      "Procesando partidos:  28%|██▊       | 106/380 [44:53<1:51:12, 24.35s/it]"
     ]
    },
    {
     "name": "stdout",
     "output_type": "stream",
     "text": [
      "\n",
      "✅ Partido 106 (SAN MARTIN (C) vs ZARATE BASKET (007/12/2024 21:30)) procesado y guardado en: data/scrapped\\partido_106_SAN MARTIN (C) vs ZARATE BASKET (007_12_2024 21_30).parquet\n"
     ]
    },
    {
     "name": "stderr",
     "output_type": "stream",
     "text": [
      "Procesando partidos:  28%|██▊       | 107/380 [45:14<1:45:53, 23.27s/it]"
     ]
    },
    {
     "name": "stdout",
     "output_type": "stream",
     "text": [
      "\n",
      "✅ Partido 107 (GIMNASIA (CR) vs UNION (SF) (008/12/2024 20:30)) procesado y guardado en: data/scrapped\\partido_107_GIMNASIA (CR) vs UNION (SF) (008_12_2024 20_30).parquet\n"
     ]
    },
    {
     "name": "stderr",
     "output_type": "stream",
     "text": [
      "Procesando partidos:  28%|██▊       | 108/380 [45:37<1:44:45, 23.11s/it]"
     ]
    },
    {
     "name": "stdout",
     "output_type": "stream",
     "text": [
      "\n",
      "✅ Partido 108 (PLATENSE vs REGATAS (C) (009/12/2024 20:30)) procesado y guardado en: data/scrapped\\partido_108_PLATENSE vs REGATAS (C) (009_12_2024 20_30).parquet\n"
     ]
    },
    {
     "name": "stderr",
     "output_type": "stream",
     "text": [
      "Procesando partidos:  29%|██▊       | 109/380 [45:59<1:43:12, 22.85s/it]"
     ]
    },
    {
     "name": "stdout",
     "output_type": "stream",
     "text": [
      "\n",
      "✅ Partido 109 (OLIMPICO (LB) vs FERRO (009/12/2024 22:00)) procesado y guardado en: data/scrapped\\partido_109_OLIMPICO (LB) vs FERRO (009_12_2024 22_00).parquet\n"
     ]
    },
    {
     "name": "stderr",
     "output_type": "stream",
     "text": [
      "Procesando partidos:  29%|██▉       | 110/380 [46:24<1:45:30, 23.45s/it]"
     ]
    },
    {
     "name": "stdout",
     "output_type": "stream",
     "text": [
      "\n",
      "✅ Partido 110 (OBRAS vs UNION (SF) (010/12/2024 20:00)) procesado y guardado en: data/scrapped\\partido_110_OBRAS vs UNION (SF) (010_12_2024 20_00).parquet\n"
     ]
    },
    {
     "name": "stderr",
     "output_type": "stream",
     "text": [
      "Procesando partidos:  29%|██▉       | 111/380 [46:47<1:44:35, 23.33s/it]"
     ]
    },
    {
     "name": "stdout",
     "output_type": "stream",
     "text": [
      "\n",
      "✅ Partido 111 (ZARATE BASKET vs ATENAS (C) (010/12/2024 21:00)) procesado y guardado en: data/scrapped\\partido_111_ZARATE BASKET vs ATENAS (C) (010_12_2024 21_00).parquet\n"
     ]
    },
    {
     "name": "stderr",
     "output_type": "stream",
     "text": [
      "Procesando partidos:  29%|██▉       | 112/380 [47:09<1:42:31, 22.95s/it]"
     ]
    },
    {
     "name": "stdout",
     "output_type": "stream",
     "text": [
      "\n",
      "✅ Partido 112 (SAN LORENZO vs REGATAS (C) (011/12/2024 19:05)) procesado y guardado en: data/scrapped\\partido_112_SAN LORENZO vs REGATAS (C) (011_12_2024 19_05).parquet\n"
     ]
    },
    {
     "name": "stderr",
     "output_type": "stream",
     "text": [
      "Procesando partidos:  30%|██▉       | 113/380 [47:31<1:40:04, 22.49s/it]"
     ]
    },
    {
     "name": "stdout",
     "output_type": "stream",
     "text": [
      "\n",
      "✅ Partido 113 (RIACHUELO (LR) vs FERRO (011/12/2024 21:30)) procesado y guardado en: data/scrapped\\partido_113_RIACHUELO (LR) vs FERRO (011_12_2024 21_30).parquet\n"
     ]
    },
    {
     "name": "stderr",
     "output_type": "stream",
     "text": [
      "Procesando partidos:  30%|███       | 114/380 [47:58<1:46:13, 23.96s/it]"
     ]
    },
    {
     "name": "stdout",
     "output_type": "stream",
     "text": [
      "\n",
      "✅ Partido 114 (GIMNASIA (CR) vs ATENAS (C) (012/12/2024 21:00)) procesado y guardado en: data/scrapped\\partido_114_GIMNASIA (CR) vs ATENAS (C) (012_12_2024 21_00).parquet\n"
     ]
    },
    {
     "name": "stderr",
     "output_type": "stream",
     "text": [
      "Procesando partidos:  30%|███       | 115/380 [48:28<1:53:53, 25.79s/it]"
     ]
    },
    {
     "name": "stdout",
     "output_type": "stream",
     "text": [
      "\n",
      "✅ Partido 115 (PEÑAROL (MDP) vs REGATAS (C) (013/12/2024 21:30)) procesado y guardado en: data/scrapped\\partido_115_PEÑAROL (MDP) vs REGATAS (C) (013_12_2024 21_30).parquet\n"
     ]
    },
    {
     "name": "stderr",
     "output_type": "stream",
     "text": [
      "Procesando partidos:  31%|███       | 116/380 [48:50<1:48:13, 24.60s/it]"
     ]
    },
    {
     "name": "stdout",
     "output_type": "stream",
     "text": [
      "\n",
      "✅ Partido 116 (PLATENSE vs ATENAS (C) (014/12/2024 20:30)) procesado y guardado en: data/scrapped\\partido_116_PLATENSE vs ATENAS (C) (014_12_2024 20_30).parquet\n"
     ]
    },
    {
     "name": "stderr",
     "output_type": "stream",
     "text": [
      "Procesando partidos:  31%|███       | 117/380 [49:12<1:44:08, 23.76s/it]"
     ]
    },
    {
     "name": "stdout",
     "output_type": "stream",
     "text": [
      "\n",
      "✅ Partido 117 (ARGENTINO (J) vs LA UNION FSA. (014/12/2024 21:00)) procesado y guardado en: data/scrapped\\partido_117_ARGENTINO (J) vs LA UNION FSA. (014_12_2024 21_00).parquet\n"
     ]
    },
    {
     "name": "stderr",
     "output_type": "stream",
     "text": [
      "Procesando partidos:  31%|███       | 118/380 [49:35<1:43:24, 23.68s/it]"
     ]
    },
    {
     "name": "stdout",
     "output_type": "stream",
     "text": [
      "\n",
      "✅ Partido 118 (RIACHUELO (LR) vs SAN MARTIN (C) (015/12/2024 21:30)) procesado y guardado en: data/scrapped\\partido_118_RIACHUELO (LR) vs SAN MARTIN (C) (015_12_2024 21_30).parquet\n"
     ]
    },
    {
     "name": "stderr",
     "output_type": "stream",
     "text": [
      "Procesando partidos:  31%|███▏      | 119/380 [49:56<1:39:41, 22.92s/it]"
     ]
    },
    {
     "name": "stdout",
     "output_type": "stream",
     "text": [
      "\n",
      "✅ Partido 119 (PLATENSE vs LA UNION FSA. (016/12/2024 20:30)) procesado y guardado en: data/scrapped\\partido_119_PLATENSE vs LA UNION FSA. (016_12_2024 20_30).parquet\n"
     ]
    },
    {
     "name": "stderr",
     "output_type": "stream",
     "text": [
      "Procesando partidos:  32%|███▏      | 120/380 [50:18<1:37:29, 22.50s/it]"
     ]
    },
    {
     "name": "stdout",
     "output_type": "stream",
     "text": [
      "\n",
      "✅ Partido 120 (OLIMPICO (LB) vs SAN MARTIN (C) (017/12/2024 22:00)) procesado y guardado en: data/scrapped\\partido_120_OLIMPICO (LB) vs SAN MARTIN (C) (017_12_2024 22_00).parquet\n"
     ]
    },
    {
     "name": "stderr",
     "output_type": "stream",
     "text": [
      "Procesando partidos:  32%|███▏      | 121/380 [50:41<1:38:28, 22.81s/it]"
     ]
    },
    {
     "name": "stdout",
     "output_type": "stream",
     "text": [
      "\n",
      "✅ Partido 121 (ATENAS (C) vs OBRAS (017/12/2024 22:10)) procesado y guardado en: data/scrapped\\partido_121_ATENAS (C) vs OBRAS (017_12_2024 22_10).parquet\n"
     ]
    },
    {
     "name": "stderr",
     "output_type": "stream",
     "text": [
      "Procesando partidos:  32%|███▏      | 122/380 [51:03<1:36:36, 22.47s/it]"
     ]
    },
    {
     "name": "stdout",
     "output_type": "stream",
     "text": [
      "\n",
      "✅ Partido 122 (FERRO vs LA UNION FSA. (018/12/2024 20:00)) procesado y guardado en: data/scrapped\\partido_122_FERRO vs LA UNION FSA. (018_12_2024 20_00).parquet\n"
     ]
    },
    {
     "name": "stderr",
     "output_type": "stream",
     "text": [
      "Procesando partidos:  32%|███▏      | 123/380 [51:25<1:35:08, 22.21s/it]"
     ]
    },
    {
     "name": "stdout",
     "output_type": "stream",
     "text": [
      "\n",
      "✅ Partido 123 (INDEPENDIENTE (O) vs PEÑAROL (MDP) (018/12/2024 21:00)) procesado y guardado en: data/scrapped\\partido_123_INDEPENDIENTE (O) vs PEÑAROL (MDP) (018_12_2024 21_00).parquet\n"
     ]
    },
    {
     "name": "stderr",
     "output_type": "stream",
     "text": [
      "Procesando partidos:  33%|███▎      | 124/380 [51:47<1:34:41, 22.19s/it]"
     ]
    },
    {
     "name": "stdout",
     "output_type": "stream",
     "text": [
      "\n",
      "✅ Partido 124 (INSTITUTO vs OBRAS (019/12/2024 21:05)) procesado y guardado en: data/scrapped\\partido_124_INSTITUTO vs OBRAS (019_12_2024 21_05).parquet\n"
     ]
    },
    {
     "name": "stderr",
     "output_type": "stream",
     "text": [
      "Procesando partidos:  33%|███▎      | 125/380 [52:09<1:33:54, 22.10s/it]"
     ]
    },
    {
     "name": "stdout",
     "output_type": "stream",
     "text": [
      "\n",
      "✅ Partido 125 (GIMNASIA (CR) vs PLATENSE (019/12/2024 21:30)) procesado y guardado en: data/scrapped\\partido_125_GIMNASIA (CR) vs PLATENSE (019_12_2024 21_30).parquet\n"
     ]
    },
    {
     "name": "stderr",
     "output_type": "stream",
     "text": [
      "Procesando partidos:  33%|███▎      | 126/380 [52:31<1:34:20, 22.28s/it]"
     ]
    },
    {
     "name": "stdout",
     "output_type": "stream",
     "text": [
      "\n",
      "✅ Partido 126 (QUIMSA vs SAN MARTIN (C) (019/12/2024 22:00)) procesado y guardado en: data/scrapped\\partido_126_QUIMSA vs SAN MARTIN (C) (019_12_2024 22_00).parquet\n"
     ]
    },
    {
     "name": "stderr",
     "output_type": "stream",
     "text": [
      "Procesando partidos:  33%|███▎      | 127/380 [52:56<1:37:22, 23.09s/it]"
     ]
    },
    {
     "name": "stdout",
     "output_type": "stream",
     "text": [
      "\n",
      "✅ Partido 127 (ZARATE BASKET vs UNION (SF) (020/12/2024 21:00)) procesado y guardado en: data/scrapped\\partido_127_ZARATE BASKET vs UNION (SF) (020_12_2024 21_00).parquet\n"
     ]
    },
    {
     "name": "stderr",
     "output_type": "stream",
     "text": [
      "Procesando partidos:  34%|███▎      | 128/380 [53:18<1:34:50, 22.58s/it]"
     ]
    },
    {
     "name": "stdout",
     "output_type": "stream",
     "text": [
      "\n",
      "✅ Partido 128 (ATENAS (C) vs PEÑAROL (MDP) (020/12/2024 22:10)) procesado y guardado en: data/scrapped\\partido_128_ATENAS (C) vs PEÑAROL (MDP) (020_12_2024 22_10).parquet\n"
     ]
    },
    {
     "name": "stderr",
     "output_type": "stream",
     "text": [
      "Procesando partidos:  34%|███▍      | 129/380 [54:23<2:27:28, 35.25s/it]"
     ]
    },
    {
     "name": "stdout",
     "output_type": "stream",
     "text": [
      "\n",
      "✅ Partido 129 (BOCA vs PLATENSE (021/12/2024 11:30)) procesado y guardado en: data/scrapped\\partido_129_BOCA vs PLATENSE (021_12_2024 11_30).parquet\n"
     ]
    },
    {
     "name": "stderr",
     "output_type": "stream",
     "text": [
      "Procesando partidos:  34%|███▍      | 130/380 [54:46<2:12:21, 31.76s/it]"
     ]
    },
    {
     "name": "stdout",
     "output_type": "stream",
     "text": [
      "\n",
      "✅ Partido 130 (INDEPENDIENTE (O) vs OBRAS (021/12/2024 20:30)) procesado y guardado en: data/scrapped\\partido_130_INDEPENDIENTE (O) vs OBRAS (021_12_2024 20_30).parquet\n"
     ]
    },
    {
     "name": "stderr",
     "output_type": "stream",
     "text": [
      "Procesando partidos:  34%|███▍      | 131/380 [55:10<2:02:07, 29.43s/it]"
     ]
    },
    {
     "name": "stdout",
     "output_type": "stream",
     "text": [
      "\n",
      "✅ Partido 131 (QUIMSA vs RIACHUELO (LR) (021/12/2024 21:00)) procesado y guardado en: data/scrapped\\partido_131_QUIMSA vs RIACHUELO (LR) (021_12_2024 21_00).parquet\n"
     ]
    },
    {
     "name": "stderr",
     "output_type": "stream",
     "text": [
      "Procesando partidos:  35%|███▍      | 132/380 [55:37<1:58:44, 28.73s/it]"
     ]
    },
    {
     "name": "stdout",
     "output_type": "stream",
     "text": [
      "\n",
      "✅ Partido 132 (SAN LORENZO vs ZARATE BASKET (022/12/2024 20:30)) procesado y guardado en: data/scrapped\\partido_132_SAN LORENZO vs ZARATE BASKET (022_12_2024 20_30).parquet\n"
     ]
    },
    {
     "name": "stderr",
     "output_type": "stream",
     "text": [
      "Procesando partidos:  35%|███▌      | 133/380 [56:02<1:53:53, 27.67s/it]"
     ]
    },
    {
     "name": "stdout",
     "output_type": "stream",
     "text": [
      "\n",
      "✅ Partido 133 (INSTITUTO vs PEÑAROL (MDP) (022/12/2024 22:10)) procesado y guardado en: data/scrapped\\partido_133_INSTITUTO vs PEÑAROL (MDP) (022_12_2024 22_10).parquet\n"
     ]
    },
    {
     "name": "stderr",
     "output_type": "stream",
     "text": [
      "Procesando partidos:  35%|███▌      | 134/380 [56:28<1:51:20, 27.15s/it]"
     ]
    },
    {
     "name": "stdout",
     "output_type": "stream",
     "text": [
      "\n",
      "✅ Partido 134 (OBRAS vs ZARATE BASKET (007/01/2025 20:00)) procesado y guardado en: data/scrapped\\partido_134_OBRAS vs ZARATE BASKET (007_01_2025 20_00).parquet\n"
     ]
    },
    {
     "name": "stderr",
     "output_type": "stream",
     "text": [
      "Procesando partidos:  36%|███▌      | 135/380 [56:50<1:43:39, 25.39s/it]"
     ]
    },
    {
     "name": "stdout",
     "output_type": "stream",
     "text": [
      "\n",
      "✅ Partido 135 (PLATENSE vs SAN LORENZO (007/01/2025 21:00)) procesado y guardado en: data/scrapped\\partido_135_PLATENSE vs SAN LORENZO (007_01_2025 21_00).parquet\n"
     ]
    },
    {
     "name": "stderr",
     "output_type": "stream",
     "text": [
      "Procesando partidos:  36%|███▌      | 136/380 [57:12<1:39:01, 24.35s/it]"
     ]
    },
    {
     "name": "stdout",
     "output_type": "stream",
     "text": [
      "\n",
      "✅ Partido 136 (FERRO vs OBERA (007/01/2025 22:00)) procesado y guardado en: data/scrapped\\partido_136_FERRO vs OBERA (007_01_2025 22_00).parquet\n"
     ]
    },
    {
     "name": "stderr",
     "output_type": "stream",
     "text": [
      "Procesando partidos:  36%|███▌      | 137/380 [57:34<1:36:09, 23.74s/it]"
     ]
    },
    {
     "name": "stdout",
     "output_type": "stream",
     "text": [
      "\n",
      "✅ Partido 137 (ARGENTINO (J) vs GIMNASIA (CR) (008/01/2025 21:00)) procesado y guardado en: data/scrapped\\partido_137_ARGENTINO (J) vs GIMNASIA (CR) (008_01_2025 21_00).parquet\n"
     ]
    },
    {
     "name": "stderr",
     "output_type": "stream",
     "text": [
      "Procesando partidos:  36%|███▋      | 138/380 [57:55<1:32:35, 22.96s/it]"
     ]
    },
    {
     "name": "stdout",
     "output_type": "stream",
     "text": [
      "\n",
      "✅ Partido 138 (LA UNION FSA. vs ATENAS (C) (008/01/2025 21:30)) procesado y guardado en: data/scrapped\\partido_138_LA UNION FSA. vs ATENAS (C) (008_01_2025 21_30).parquet\n"
     ]
    },
    {
     "name": "stderr",
     "output_type": "stream",
     "text": [
      "Procesando partidos:  37%|███▋      | 139/380 [58:17<1:30:38, 22.57s/it]"
     ]
    },
    {
     "name": "stdout",
     "output_type": "stream",
     "text": [
      "\n",
      "✅ Partido 139 (OLIMPICO (LB) vs RIACHUELO (LR) (008/01/2025 22:00)) procesado y guardado en: data/scrapped\\partido_139_OLIMPICO (LB) vs RIACHUELO (LR) (008_01_2025 22_00).parquet\n"
     ]
    },
    {
     "name": "stderr",
     "output_type": "stream",
     "text": [
      "Procesando partidos:  37%|███▋      | 140/380 [58:39<1:29:49, 22.45s/it]"
     ]
    },
    {
     "name": "stdout",
     "output_type": "stream",
     "text": [
      "\n",
      "✅ Partido 140 (OBRAS vs OBERA (009/01/2025 20:00)) procesado y guardado en: data/scrapped\\partido_140_OBRAS vs OBERA (009_01_2025 20_00).parquet\n"
     ]
    },
    {
     "name": "stderr",
     "output_type": "stream",
     "text": [
      "Procesando partidos:  37%|███▋      | 141/380 [59:01<1:29:05, 22.37s/it]"
     ]
    },
    {
     "name": "stdout",
     "output_type": "stream",
     "text": [
      "\n",
      "✅ Partido 141 (PEÑAROL (MDP) vs SAN LORENZO (009/01/2025 21:00)) procesado y guardado en: data/scrapped\\partido_141_PEÑAROL (MDP) vs SAN LORENZO (009_01_2025 21_00).parquet\n"
     ]
    },
    {
     "name": "stderr",
     "output_type": "stream",
     "text": [
      "Procesando partidos:  37%|███▋      | 142/380 [59:23<1:28:02, 22.19s/it]"
     ]
    },
    {
     "name": "stdout",
     "output_type": "stream",
     "text": [
      "\n",
      "✅ Partido 142 (SAN MARTIN (C) vs ATENAS (C) (010/01/2025 21:30)) procesado y guardado en: data/scrapped\\partido_142_SAN MARTIN (C) vs ATENAS (C) (010_01_2025 21_30).parquet\n"
     ]
    },
    {
     "name": "stderr",
     "output_type": "stream",
     "text": [
      "Procesando partidos:  38%|███▊      | 143/380 [59:46<1:29:09, 22.57s/it]"
     ]
    },
    {
     "name": "stdout",
     "output_type": "stream",
     "text": [
      "\n",
      "✅ Partido 143 (FERRO vs GIMNASIA (CR) (010/01/2025 22:00)) procesado y guardado en: data/scrapped\\partido_143_FERRO vs GIMNASIA (CR) (010_01_2025 22_00).parquet\n"
     ]
    },
    {
     "name": "stderr",
     "output_type": "stream",
     "text": [
      "Procesando partidos:  38%|███▊      | 144/380 [1:00:12<1:32:07, 23.42s/it]"
     ]
    },
    {
     "name": "stdout",
     "output_type": "stream",
     "text": [
      "\n",
      "✅ Partido 144 (SAN LORENZO vs ARGENTINO (J) (012/01/2025 12:10)) procesado y guardado en: data/scrapped\\partido_144_SAN LORENZO vs ARGENTINO (J) (012_01_2025 12_10).parquet\n"
     ]
    },
    {
     "name": "stderr",
     "output_type": "stream",
     "text": [
      "Procesando partidos:  38%|███▊      | 145/380 [1:00:36<1:32:36, 23.64s/it]"
     ]
    },
    {
     "name": "stdout",
     "output_type": "stream",
     "text": [
      "\n",
      "✅ Partido 145 (PEÑAROL (MDP) vs GIMNASIA (CR) (012/01/2025 20:30)) procesado y guardado en: data/scrapped\\partido_145_PEÑAROL (MDP) vs GIMNASIA (CR) (012_01_2025 20_30).parquet\n"
     ]
    },
    {
     "name": "stderr",
     "output_type": "stream",
     "text": [
      "Procesando partidos:  38%|███▊      | 146/380 [1:01:00<1:32:18, 23.67s/it]"
     ]
    },
    {
     "name": "stdout",
     "output_type": "stream",
     "text": [
      "\n",
      "✅ Partido 146 (REGATAS (C) vs ATENAS (C) (012/01/2025 21:00)) procesado y guardado en: data/scrapped\\partido_146_REGATAS (C) vs ATENAS (C) (012_01_2025 21_00).parquet\n"
     ]
    },
    {
     "name": "stderr",
     "output_type": "stream",
     "text": [
      "Procesando partidos:  39%|███▊      | 147/380 [1:01:28<1:36:56, 24.97s/it]"
     ]
    },
    {
     "name": "stdout",
     "output_type": "stream",
     "text": [
      "\n",
      "✅ Partido 147 (LA UNION FSA. vs INDEPENDIENTE (O) (012/01/2025 21:30)) procesado y guardado en: data/scrapped\\partido_147_LA UNION FSA. vs INDEPENDIENTE (O) (012_01_2025 21_30).parquet\n"
     ]
    },
    {
     "name": "stderr",
     "output_type": "stream",
     "text": [
      "Procesando partidos:  39%|███▉      | 148/380 [1:01:51<1:34:40, 24.49s/it]"
     ]
    },
    {
     "name": "stdout",
     "output_type": "stream",
     "text": [
      "\n",
      "✅ Partido 148 (SAN LORENZO vs OLIMPICO (LB) (014/01/2025 20:00)) procesado y guardado en: data/scrapped\\partido_148_SAN LORENZO vs OLIMPICO (LB) (014_01_2025 20_00).parquet\n"
     ]
    },
    {
     "name": "stderr",
     "output_type": "stream",
     "text": [
      "Procesando partidos:  39%|███▉      | 149/380 [1:02:15<1:34:13, 24.47s/it]"
     ]
    },
    {
     "name": "stdout",
     "output_type": "stream",
     "text": [
      "\n",
      "✅ Partido 149 (REGATAS (C) vs INDEPENDIENTE (O) (014/01/2025 21:00)) procesado y guardado en: data/scrapped\\partido_149_REGATAS (C) vs INDEPENDIENTE (O) (014_01_2025 21_00).parquet\n"
     ]
    },
    {
     "name": "stderr",
     "output_type": "stream",
     "text": [
      "Procesando partidos:  39%|███▉      | 150/380 [1:02:39<1:32:57, 24.25s/it]"
     ]
    },
    {
     "name": "stdout",
     "output_type": "stream",
     "text": [
      "\n",
      "✅ Partido 150 (ZARATE BASKET vs ARGENTINO (J) (014/01/2025 22:00)) procesado y guardado en: data/scrapped\\partido_150_ZARATE BASKET vs ARGENTINO (J) (014_01_2025 22_00).parquet\n"
     ]
    },
    {
     "name": "stderr",
     "output_type": "stream",
     "text": [
      "Procesando partidos:  40%|███▉      | 151/380 [1:03:02<1:31:35, 24.00s/it]"
     ]
    },
    {
     "name": "stdout",
     "output_type": "stream",
     "text": [
      "\n",
      "✅ Partido 151 (PEÑAROL (MDP) vs LA UNION FSA. (016/01/2025 21:00)) procesado y guardado en: data/scrapped\\partido_151_PEÑAROL (MDP) vs LA UNION FSA. (016_01_2025 21_00).parquet\n",
      "Error procesando partido: Message: \n",
      "Stacktrace:\n",
      "\tGetHandleVerifier [0x0xcca8a3+63283]\n",
      "\tGetHandleVerifier [0x0xcca8e4+63348]\n",
      "\t(No symbol) [0x0xb03e43]\n",
      "\t(No symbol) [0x0xb4c8de]\n",
      "\t(No symbol) [0x0xb4cc7b]\n",
      "\t(No symbol) [0x0xb94ef2]\n",
      "\t(No symbol) [0x0xb71464]\n",
      "\t(No symbol) [0x0xb9271a]\n",
      "\t(No symbol) [0x0xb71216]\n",
      "\t(No symbol) [0x0xb40855]\n",
      "\t(No symbol) [0x0xb416f4]\n",
      "\tGetHandleVerifier [0x0xf3bb43+2623955]\n",
      "\tGetHandleVerifier [0x0xf36daa+2604090]\n",
      "\tGetHandleVerifier [0x0xcf069a+218410]\n",
      "\tGetHandleVerifier [0x0xce0ed8+154984]\n",
      "\tGetHandleVerifier [0x0xce742d+180925]\n",
      "\tGetHandleVerifier [0x0xcd22b8+94536]\n",
      "\tGetHandleVerifier [0x0xcd2442+94930]\n",
      "\tGetHandleVerifier [0x0xcbd5ea+9338]\n",
      "\tBaseThreadInitThunk [0x0x76c65d49+25]\n",
      "\tRtlInitializeExceptionChain [0x0x773ad2fb+107]\n",
      "\tRtlGetAppContainerNamedObjectPath [0x0x773ad281+561]\n",
      "\n"
     ]
    },
    {
     "name": "stderr",
     "output_type": "stream",
     "text": [
      "Procesando partidos:  40%|████      | 152/380 [1:03:41<1:48:06, 28.45s/it]"
     ]
    },
    {
     "name": "stdout",
     "output_type": "stream",
     "text": [
      "Partido SAN MARTIN (C) vs INDEPENDIENTE (O) (016/01/2025 21:30) fallido. Continuando...\n"
     ]
    },
    {
     "name": "stderr",
     "output_type": "stream",
     "text": [
      "Procesando partidos:  40%|████      | 153/380 [1:04:08<1:45:47, 27.96s/it]"
     ]
    },
    {
     "name": "stdout",
     "output_type": "stream",
     "text": [
      "\n",
      "✅ Partido 153 (GIMNASIA (CR) vs OLIMPICO (LB) (016/01/2025 21:30)) procesado y guardado en: data/scrapped\\partido_153_GIMNASIA (CR) vs OLIMPICO (LB) (016_01_2025 21_30).parquet\n"
     ]
    },
    {
     "name": "stderr",
     "output_type": "stream",
     "text": [
      "Procesando partidos:  41%|████      | 154/380 [1:04:35<1:44:16, 27.68s/it]"
     ]
    },
    {
     "name": "stdout",
     "output_type": "stream",
     "text": [
      "\n",
      "✅ Partido 154 (OBRAS vs OLIMPICO (LB) (018/01/2025 20:00)) procesado y guardado en: data/scrapped\\partido_154_OBRAS vs OLIMPICO (LB) (018_01_2025 20_00).parquet\n"
     ]
    },
    {
     "name": "stderr",
     "output_type": "stream",
     "text": [
      "Procesando partidos:  41%|████      | 155/380 [1:05:06<1:46:55, 28.51s/it]"
     ]
    },
    {
     "name": "stdout",
     "output_type": "stream",
     "text": [
      "\n",
      "✅ Partido 155 (SAN LORENZO vs LA UNION FSA. (018/01/2025 21:00)) procesado y guardado en: data/scrapped\\partido_155_SAN LORENZO vs LA UNION FSA. (018_01_2025 21_00).parquet\n"
     ]
    },
    {
     "name": "stderr",
     "output_type": "stream",
     "text": [
      "Procesando partidos:  41%|████      | 156/380 [1:05:33<1:45:22, 28.23s/it]"
     ]
    },
    {
     "name": "stdout",
     "output_type": "stream",
     "text": [
      "\n",
      "✅ Partido 156 (PLATENSE vs INSTITUTO (019/01/2025 11:45)) procesado y guardado en: data/scrapped\\partido_156_PLATENSE vs INSTITUTO (019_01_2025 11_45).parquet\n"
     ]
    },
    {
     "name": "stderr",
     "output_type": "stream",
     "text": [
      "Procesando partidos:  41%|████▏     | 157/380 [1:05:58<1:41:08, 27.21s/it]"
     ]
    },
    {
     "name": "stdout",
     "output_type": "stream",
     "text": [
      "\n",
      "✅ Partido 157 (GIMNASIA (CR) vs ZARATE BASKET (019/01/2025 20:30)) procesado y guardado en: data/scrapped\\partido_157_GIMNASIA (CR) vs ZARATE BASKET (019_01_2025 20_30).parquet\n"
     ]
    },
    {
     "name": "stderr",
     "output_type": "stream",
     "text": [
      "Procesando partidos:  42%|████▏     | 158/380 [1:06:22<1:37:27, 26.34s/it]"
     ]
    },
    {
     "name": "stdout",
     "output_type": "stream",
     "text": [
      "\n",
      "✅ Partido 158 (UNION (SF) vs QUIMSA (020/01/2025 21:00)) procesado y guardado en: data/scrapped\\partido_158_UNION (SF) vs QUIMSA (020_01_2025 21_00).parquet\n"
     ]
    },
    {
     "name": "stderr",
     "output_type": "stream",
     "text": [
      "Procesando partidos:  42%|████▏     | 159/380 [1:06:49<1:37:12, 26.39s/it]"
     ]
    },
    {
     "name": "stdout",
     "output_type": "stream",
     "text": [
      "\n",
      "✅ Partido 159 (BOCA vs LA UNION FSA. (020/01/2025 22:00)) procesado y guardado en: data/scrapped\\partido_159_BOCA vs LA UNION FSA. (020_01_2025 22_00).parquet\n"
     ]
    },
    {
     "name": "stderr",
     "output_type": "stream",
     "text": [
      "Procesando partidos:  42%|████▏     | 160/380 [1:07:13<1:34:24, 25.75s/it]"
     ]
    },
    {
     "name": "stdout",
     "output_type": "stream",
     "text": [
      "\n",
      "✅ Partido 160 (GIMNASIA (CR) vs INSTITUTO (021/01/2025 21:00)) procesado y guardado en: data/scrapped\\partido_160_GIMNASIA (CR) vs INSTITUTO (021_01_2025 21_00).parquet\n"
     ]
    },
    {
     "name": "stderr",
     "output_type": "stream",
     "text": [
      "Procesando partidos:  42%|████▏     | 161/380 [1:07:37<1:31:49, 25.16s/it]"
     ]
    },
    {
     "name": "stdout",
     "output_type": "stream",
     "text": [
      "\n",
      "✅ Partido 161 (SAN MARTIN (C) vs OBRAS (021/01/2025 21:30)) procesado y guardado en: data/scrapped\\partido_161_SAN MARTIN (C) vs OBRAS (021_01_2025 21_30).parquet\n"
     ]
    },
    {
     "name": "stderr",
     "output_type": "stream",
     "text": [
      "Procesando partidos:  43%|████▎     | 162/380 [1:08:02<1:31:35, 25.21s/it]"
     ]
    },
    {
     "name": "stdout",
     "output_type": "stream",
     "text": [
      "\n",
      "✅ Partido 162 (RIACHUELO (LR) vs PEÑAROL (MDP) (021/01/2025 21:30)) procesado y guardado en: data/scrapped\\partido_162_RIACHUELO (LR) vs PEÑAROL (MDP) (021_01_2025 21_30).parquet\n"
     ]
    },
    {
     "name": "stderr",
     "output_type": "stream",
     "text": [
      "Procesando partidos:  43%|████▎     | 163/380 [1:08:27<1:30:47, 25.10s/it]"
     ]
    },
    {
     "name": "stdout",
     "output_type": "stream",
     "text": [
      "\n",
      "✅ Partido 163 (OLIMPICO (LB) vs PLATENSE (021/01/2025 22:00)) procesado y guardado en: data/scrapped\\partido_163_OLIMPICO (LB) vs PLATENSE (021_01_2025 22_00).parquet\n"
     ]
    },
    {
     "name": "stderr",
     "output_type": "stream",
     "text": [
      "Procesando partidos:  43%|████▎     | 164/380 [1:08:50<1:28:18, 24.53s/it]"
     ]
    },
    {
     "name": "stdout",
     "output_type": "stream",
     "text": [
      "Partido ZARATE BASKET vs INSTITUTO (023/01/2025 21:00) fallido. Continuando...\n"
     ]
    },
    {
     "name": "stderr",
     "output_type": "stream",
     "text": [
      "Procesando partidos:  43%|████▎     | 165/380 [1:09:21<1:34:25, 26.35s/it]"
     ]
    },
    {
     "name": "stdout",
     "output_type": "stream",
     "text": [
      "\n",
      "✅ Partido 165 (REGATAS (C) vs OBRAS (023/01/2025 21:00)) procesado y guardado en: data/scrapped\\partido_165_REGATAS (C) vs OBRAS (023_01_2025 21_00).parquet\n"
     ]
    },
    {
     "name": "stderr",
     "output_type": "stream",
     "text": [
      "Procesando partidos:  44%|████▎     | 166/380 [1:09:46<1:32:48, 26.02s/it]"
     ]
    },
    {
     "name": "stdout",
     "output_type": "stream",
     "text": [
      "\n",
      "✅ Partido 166 (QUIMSA vs PLATENSE (023/01/2025 21:30)) procesado y guardado en: data/scrapped\\partido_166_QUIMSA vs PLATENSE (023_01_2025 21_30).parquet\n"
     ]
    },
    {
     "name": "stderr",
     "output_type": "stream",
     "text": [
      "Procesando partidos:  44%|████▍     | 167/380 [1:10:11<1:31:29, 25.77s/it]"
     ]
    },
    {
     "name": "stdout",
     "output_type": "stream",
     "text": [
      "\n",
      "✅ Partido 167 (OLIMPICO (LB) vs PEÑAROL (MDP) (023/01/2025 22:00)) procesado y guardado en: data/scrapped\\partido_167_OLIMPICO (LB) vs PEÑAROL (MDP) (023_01_2025 22_00).parquet\n"
     ]
    },
    {
     "name": "stderr",
     "output_type": "stream",
     "text": [
      "Procesando partidos:  44%|████▍     | 168/380 [1:10:38<1:32:09, 26.08s/it]"
     ]
    },
    {
     "name": "stdout",
     "output_type": "stream",
     "text": [
      "\n",
      "✅ Partido 168 (ARGENTINO (J) vs FERRO (024/01/2025 21:00)) procesado y guardado en: data/scrapped\\partido_168_ARGENTINO (J) vs FERRO (024_01_2025 21_00).parquet\n"
     ]
    },
    {
     "name": "stderr",
     "output_type": "stream",
     "text": [
      "Procesando partidos:  44%|████▍     | 169/380 [1:11:04<1:31:41, 26.07s/it]"
     ]
    },
    {
     "name": "stdout",
     "output_type": "stream",
     "text": [
      "\n",
      "✅ Partido 169 (OBERA vs SAN LORENZO (024/01/2025 21:30)) procesado y guardado en: data/scrapped\\partido_169_OBERA vs SAN LORENZO (024_01_2025 21_30).parquet\n"
     ]
    },
    {
     "name": "stderr",
     "output_type": "stream",
     "text": [
      "Procesando partidos:  45%|████▍     | 170/380 [1:11:28<1:29:21, 25.53s/it]"
     ]
    },
    {
     "name": "stdout",
     "output_type": "stream",
     "text": [
      "\n",
      "✅ Partido 170 (QUIMSA vs PEÑAROL (MDP) (025/01/2025 11:30)) procesado y guardado en: data/scrapped\\partido_170_QUIMSA vs PEÑAROL (MDP) (025_01_2025 11_30).parquet\n"
     ]
    },
    {
     "name": "stderr",
     "output_type": "stream",
     "text": [
      "Procesando partidos:  45%|████▌     | 171/380 [1:11:54<1:28:52, 25.51s/it]"
     ]
    },
    {
     "name": "stdout",
     "output_type": "stream",
     "text": [
      "\n",
      "✅ Partido 171 (RIACHUELO (LR) vs PLATENSE (025/01/2025 21:00)) procesado y guardado en: data/scrapped\\partido_171_RIACHUELO (LR) vs PLATENSE (025_01_2025 21_00).parquet\n"
     ]
    },
    {
     "name": "stderr",
     "output_type": "stream",
     "text": [
      "Procesando partidos:  45%|████▌     | 172/380 [1:12:19<1:27:43, 25.31s/it]"
     ]
    },
    {
     "name": "stdout",
     "output_type": "stream",
     "text": [
      "\n",
      "✅ Partido 172 (LA UNION FSA. vs OBRAS (025/01/2025 21:30)) procesado y guardado en: data/scrapped\\partido_172_LA UNION FSA. vs OBRAS (025_01_2025 21_30).parquet\n"
     ]
    },
    {
     "name": "stderr",
     "output_type": "stream",
     "text": [
      "Procesando partidos:  46%|████▌     | 173/380 [1:12:47<1:29:53, 26.06s/it]"
     ]
    },
    {
     "name": "stdout",
     "output_type": "stream",
     "text": [
      "\n",
      "✅ Partido 173 (INSTITUTO vs BOCA (026/01/2025 13:10)) procesado y guardado en: data/scrapped\\partido_173_INSTITUTO vs BOCA (026_01_2025 13_10).parquet\n"
     ]
    },
    {
     "name": "stderr",
     "output_type": "stream",
     "text": [
      "Procesando partidos:  46%|████▌     | 174/380 [1:13:14<1:30:41, 26.42s/it]"
     ]
    },
    {
     "name": "stdout",
     "output_type": "stream",
     "text": [
      "\n",
      "✅ Partido 174 (ZARATE BASKET vs FERRO (026/01/2025 20:30)) procesado y guardado en: data/scrapped\\partido_174_ZARATE BASKET vs FERRO (026_01_2025 20_30).parquet\n"
     ]
    },
    {
     "name": "stderr",
     "output_type": "stream",
     "text": [
      "Procesando partidos:  46%|████▌     | 175/380 [1:13:38<1:28:26, 25.88s/it]"
     ]
    },
    {
     "name": "stdout",
     "output_type": "stream",
     "text": [
      "\n",
      "✅ Partido 175 (SAN LORENZO vs SAN MARTIN (C) (027/01/2025 20:00)) procesado y guardado en: data/scrapped\\partido_175_SAN LORENZO vs SAN MARTIN (C) (027_01_2025 20_00).parquet\n"
     ]
    },
    {
     "name": "stderr",
     "output_type": "stream",
     "text": [
      "Procesando partidos:  46%|████▋     | 176/380 [1:14:03<1:26:14, 25.36s/it]"
     ]
    },
    {
     "name": "stdout",
     "output_type": "stream",
     "text": [
      "\n",
      "✅ Partido 176 (UNION (SF) vs OBERA (027/01/2025 21:00)) procesado y guardado en: data/scrapped\\partido_176_UNION (SF) vs OBERA (027_01_2025 21_00).parquet\n"
     ]
    },
    {
     "name": "stderr",
     "output_type": "stream",
     "text": [
      "Procesando partidos:  47%|████▋     | 177/380 [1:14:29<1:26:31, 25.57s/it]"
     ]
    },
    {
     "name": "stdout",
     "output_type": "stream",
     "text": [
      "\n",
      "✅ Partido 177 (ARGENTINO (J) vs REGATAS (C) (028/01/2025 21:00)) procesado y guardado en: data/scrapped\\partido_177_ARGENTINO (J) vs REGATAS (C) (028_01_2025 21_00).parquet\n"
     ]
    },
    {
     "name": "stderr",
     "output_type": "stream",
     "text": [
      "Procesando partidos:  47%|████▋     | 178/380 [1:15:00<1:32:12, 27.39s/it]"
     ]
    },
    {
     "name": "stdout",
     "output_type": "stream",
     "text": [
      "\n",
      "✅ Partido 178 (INDEPENDIENTE (O) vs BOCA (028/01/2025 21:30)) procesado y guardado en: data/scrapped\\partido_178_INDEPENDIENTE (O) vs BOCA (028_01_2025 21_30).parquet\n"
     ]
    },
    {
     "name": "stderr",
     "output_type": "stream",
     "text": [
      "Procesando partidos:  47%|████▋     | 179/380 [1:15:28<1:32:23, 27.58s/it]"
     ]
    },
    {
     "name": "stdout",
     "output_type": "stream",
     "text": [
      "\n",
      "✅ Partido 179 (PLATENSE vs SAN MARTIN (C) (029/01/2025 20:00)) procesado y guardado en: data/scrapped\\partido_179_PLATENSE vs SAN MARTIN (C) (029_01_2025 20_00).parquet\n"
     ]
    },
    {
     "name": "stderr",
     "output_type": "stream",
     "text": [
      "Procesando partidos:  47%|████▋     | 180/380 [1:16:01<1:37:26, 29.23s/it]"
     ]
    },
    {
     "name": "stdout",
     "output_type": "stream",
     "text": [
      "\n",
      "✅ Partido 180 (ZARATE BASKET vs OBERA (029/01/2025 22:00)) procesado y guardado en: data/scrapped\\partido_180_ZARATE BASKET vs OBERA (029_01_2025 22_00).parquet\n"
     ]
    },
    {
     "name": "stderr",
     "output_type": "stream",
     "text": [
      "Procesando partidos:  48%|████▊     | 181/380 [1:16:31<1:37:06, 29.28s/it]"
     ]
    },
    {
     "name": "stdout",
     "output_type": "stream",
     "text": [
      "\n",
      "✅ Partido 181 (INSTITUTO vs RIACHUELO (LR) (030/01/2025 21:00)) procesado y guardado en: data/scrapped\\partido_181_INSTITUTO vs RIACHUELO (LR) (030_01_2025 21_00).parquet\n"
     ]
    },
    {
     "name": "stderr",
     "output_type": "stream",
     "text": [
      "Procesando partidos:  48%|████▊     | 182/380 [1:17:15<1:51:47, 33.88s/it]"
     ]
    },
    {
     "name": "stdout",
     "output_type": "stream",
     "text": [
      "\n",
      "✅ Partido 182 (FERRO vs REGATAS (C) (030/01/2025 21:00)) procesado y guardado en: data/scrapped\\partido_182_FERRO vs REGATAS (C) (030_01_2025 21_00).parquet\n"
     ]
    },
    {
     "name": "stderr",
     "output_type": "stream",
     "text": [
      "Procesando partidos:  48%|████▊     | 183/380 [1:17:48<1:50:06, 33.53s/it]"
     ]
    },
    {
     "name": "stdout",
     "output_type": "stream",
     "text": [
      "\n",
      "✅ Partido 183 (UNION (SF) vs OLIMPICO (LB) (031/01/2025 21:00)) procesado y guardado en: data/scrapped\\partido_183_UNION (SF) vs OLIMPICO (LB) (031_01_2025 21_00).parquet\n"
     ]
    },
    {
     "name": "stderr",
     "output_type": "stream",
     "text": [
      "Procesando partidos:  48%|████▊     | 184/380 [1:18:50<2:16:56, 41.92s/it]"
     ]
    },
    {
     "name": "stdout",
     "output_type": "stream",
     "text": [
      "\n",
      "✅ Partido 184 (ARGENTINO (J) vs SAN MARTIN (C) (031/01/2025 21:30)) procesado y guardado en: data/scrapped\\partido_184_ARGENTINO (J) vs SAN MARTIN (C) (031_01_2025 21_30).parquet\n"
     ]
    },
    {
     "name": "stderr",
     "output_type": "stream",
     "text": [
      "Procesando partidos:  49%|████▊     | 185/380 [1:19:15<2:00:30, 37.08s/it]"
     ]
    },
    {
     "name": "stdout",
     "output_type": "stream",
     "text": [
      "\n",
      "✅ Partido 185 (BOCA vs REGATAS (C) (001/02/2025 11:30)) procesado y guardado en: data/scrapped\\partido_185_BOCA vs REGATAS (C) (001_02_2025 11_30).parquet\n"
     ]
    },
    {
     "name": "stderr",
     "output_type": "stream",
     "text": [
      "Procesando partidos:  49%|████▉     | 186/380 [1:19:43<1:50:32, 34.19s/it]"
     ]
    },
    {
     "name": "stdout",
     "output_type": "stream",
     "text": [
      "\n",
      "✅ Partido 186 (ATENAS (C) vs RIACHUELO (LR) (001/02/2025 21:00)) procesado y guardado en: data/scrapped\\partido_186_ATENAS (C) vs RIACHUELO (LR) (001_02_2025 21_00).parquet\n"
     ]
    },
    {
     "name": "stderr",
     "output_type": "stream",
     "text": [
      "Procesando partidos:  49%|████▉     | 187/380 [1:20:08<1:41:28, 31.54s/it]"
     ]
    },
    {
     "name": "stdout",
     "output_type": "stream",
     "text": [
      "\n",
      "✅ Partido 187 (OBERA vs OLIMPICO (LB) (002/02/2025 20:30)) procesado y guardado en: data/scrapped\\partido_187_OBERA vs OLIMPICO (LB) (002_02_2025 20_30).parquet\n"
     ]
    },
    {
     "name": "stderr",
     "output_type": "stream",
     "text": [
      "Procesando partidos:  49%|████▉     | 188/380 [1:20:34<1:35:26, 29.83s/it]"
     ]
    },
    {
     "name": "stdout",
     "output_type": "stream",
     "text": [
      "\n",
      "✅ Partido 188 (OBRAS vs ARGENTINO (J) (003/02/2025 20:05)) procesado y guardado en: data/scrapped\\partido_188_OBRAS vs ARGENTINO (J) (003_02_2025 20_05).parquet\n"
     ]
    },
    {
     "name": "stderr",
     "output_type": "stream",
     "text": [
      "Procesando partidos:  50%|████▉     | 189/380 [1:21:09<1:39:31, 31.27s/it]"
     ]
    },
    {
     "name": "stdout",
     "output_type": "stream",
     "text": [
      "\n",
      "✅ Partido 189 (PEÑAROL (MDP) vs UNION (SF) (003/02/2025 21:00)) procesado y guardado en: data/scrapped\\partido_189_PEÑAROL (MDP) vs UNION (SF) (003_02_2025 21_00).parquet\n"
     ]
    },
    {
     "name": "stderr",
     "output_type": "stream",
     "text": [
      "Procesando partidos:  50%|█████     | 190/380 [1:21:40<1:38:57, 31.25s/it]"
     ]
    },
    {
     "name": "stdout",
     "output_type": "stream",
     "text": [
      "\n",
      "✅ Partido 190 (INDEPENDIENTE (O) vs RIACHUELO (LR) (003/02/2025 21:30)) procesado y guardado en: data/scrapped\\partido_190_INDEPENDIENTE (O) vs RIACHUELO (LR) (003_02_2025 21_30).parquet\n"
     ]
    },
    {
     "name": "stderr",
     "output_type": "stream",
     "text": [
      "Procesando partidos:  50%|█████     | 191/380 [1:22:10<1:37:12, 30.86s/it]"
     ]
    },
    {
     "name": "stdout",
     "output_type": "stream",
     "text": [
      "\n",
      "✅ Partido 191 (SAN MARTIN (C) vs OLIMPICO (LB) (004/02/2025 21:00)) procesado y guardado en: data/scrapped\\partido_191_SAN MARTIN (C) vs OLIMPICO (LB) (004_02_2025 21_00).parquet\n"
     ]
    },
    {
     "name": "stderr",
     "output_type": "stream",
     "text": [
      "Procesando partidos:  51%|█████     | 192/380 [1:22:37<1:33:29, 29.84s/it]"
     ]
    },
    {
     "name": "stdout",
     "output_type": "stream",
     "text": [
      "\n",
      "✅ Partido 192 (SAN LORENZO vs ATENAS (C) (004/02/2025 22:10)) procesado y guardado en: data/scrapped\\partido_192_SAN LORENZO vs ATENAS (C) (004_02_2025 22_10).parquet\n"
     ]
    },
    {
     "name": "stderr",
     "output_type": "stream",
     "text": [
      "Procesando partidos:  51%|█████     | 193/380 [1:23:03<1:29:11, 28.62s/it]"
     ]
    },
    {
     "name": "stdout",
     "output_type": "stream",
     "text": [
      "\n",
      "✅ Partido 193 (PLATENSE vs UNION (SF) (005/02/2025 20:30)) procesado y guardado en: data/scrapped\\partido_193_PLATENSE vs UNION (SF) (005_02_2025 20_30).parquet\n"
     ]
    },
    {
     "name": "stderr",
     "output_type": "stream",
     "text": [
      "Procesando partidos:  51%|█████     | 194/380 [1:23:32<1:28:55, 28.69s/it]"
     ]
    },
    {
     "name": "stdout",
     "output_type": "stream",
     "text": [
      "\n",
      "✅ Partido 194 (PEÑAROL (MDP) vs ARGENTINO (J) (005/02/2025 21:00)) procesado y guardado en: data/scrapped\\partido_194_PEÑAROL (MDP) vs ARGENTINO (J) (005_02_2025 21_00).parquet\n"
     ]
    },
    {
     "name": "stderr",
     "output_type": "stream",
     "text": [
      "Procesando partidos:  51%|█████▏    | 195/380 [1:23:59<1:27:14, 28.29s/it]"
     ]
    },
    {
     "name": "stdout",
     "output_type": "stream",
     "text": [
      "\n",
      "✅ Partido 195 (OBRAS vs INDEPENDIENTE (O) (006/02/2025 20:00)) procesado y guardado en: data/scrapped\\partido_195_OBRAS vs INDEPENDIENTE (O) (006_02_2025 20_00).parquet\n"
     ]
    },
    {
     "name": "stderr",
     "output_type": "stream",
     "text": [
      "Procesando partidos:  52%|█████▏    | 196/380 [1:24:25<1:24:46, 27.64s/it]"
     ]
    },
    {
     "name": "stdout",
     "output_type": "stream",
     "text": [
      "\n",
      "✅ Partido 196 (FERRO vs ATENAS (C) (006/02/2025 21:00)) procesado y guardado en: data/scrapped\\partido_196_FERRO vs ATENAS (C) (006_02_2025 21_00).parquet\n"
     ]
    },
    {
     "name": "stderr",
     "output_type": "stream",
     "text": [
      "Procesando partidos:  52%|█████▏    | 197/380 [1:25:01<1:32:04, 30.19s/it]"
     ]
    },
    {
     "name": "stdout",
     "output_type": "stream",
     "text": [
      "\n",
      "✅ Partido 197 (PLATENSE vs ARGENTINO (J) (007/02/2025 20:30)) procesado y guardado en: data/scrapped\\partido_197_PLATENSE vs ARGENTINO (J) (007_02_2025 20_30).parquet\n"
     ]
    },
    {
     "name": "stderr",
     "output_type": "stream",
     "text": [
      "Procesando partidos:  52%|█████▏    | 198/380 [1:25:28<1:28:28, 29.17s/it]"
     ]
    },
    {
     "name": "stdout",
     "output_type": "stream",
     "text": [
      "\n",
      "✅ Partido 198 (REGATAS (C) vs LA UNION FSA. (007/02/2025 21:30)) procesado y guardado en: data/scrapped\\partido_198_REGATAS (C) vs LA UNION FSA. (007_02_2025 21_30).parquet\n"
     ]
    },
    {
     "name": "stderr",
     "output_type": "stream",
     "text": [
      "Procesando partidos:  52%|█████▏    | 199/380 [1:25:57<1:27:45, 29.09s/it]"
     ]
    },
    {
     "name": "stdout",
     "output_type": "stream",
     "text": [
      "\n",
      "✅ Partido 199 (FERRO vs INDEPENDIENTE (O) (008/02/2025 11:30)) procesado y guardado en: data/scrapped\\partido_199_FERRO vs INDEPENDIENTE (O) (008_02_2025 11_30).parquet\n"
     ]
    },
    {
     "name": "stderr",
     "output_type": "stream",
     "text": [
      "Procesando partidos:  53%|█████▎    | 200/380 [1:26:23<1:24:25, 28.14s/it]"
     ]
    },
    {
     "name": "stdout",
     "output_type": "stream",
     "text": [
      "\n",
      "✅ Partido 200 (PEÑAROL (MDP) vs ATENAS (C) (009/02/2025 20:30)) procesado y guardado en: data/scrapped\\partido_200_PEÑAROL (MDP) vs ATENAS (C) (009_02_2025 20_30).parquet\n"
     ]
    },
    {
     "name": "stderr",
     "output_type": "stream",
     "text": [
      "Procesando partidos:  53%|█████▎    | 201/380 [1:26:49<1:21:39, 27.37s/it]"
     ]
    },
    {
     "name": "stdout",
     "output_type": "stream",
     "text": [
      "\n",
      "✅ Partido 201 (ARGENTINO (J) vs INDEPENDIENTE (O) (010/02/2025 21:00)) procesado y guardado en: data/scrapped\\partido_201_ARGENTINO (J) vs INDEPENDIENTE (O) (010_02_2025 21_00).parquet\n"
     ]
    },
    {
     "name": "stderr",
     "output_type": "stream",
     "text": [
      "Procesando partidos:  53%|█████▎    | 202/380 [1:27:21<1:25:41, 28.88s/it]"
     ]
    },
    {
     "name": "stdout",
     "output_type": "stream",
     "text": [
      "\n",
      "✅ Partido 202 (UNION (SF) vs ZARATE BASKET (011/02/2025 21:00)) procesado y guardado en: data/scrapped\\partido_202_UNION (SF) vs ZARATE BASKET (011_02_2025 21_00).parquet\n"
     ]
    },
    {
     "name": "stderr",
     "output_type": "stream",
     "text": [
      "Procesando partidos:  53%|█████▎    | 203/380 [1:27:52<1:27:08, 29.54s/it]"
     ]
    },
    {
     "name": "stdout",
     "output_type": "stream",
     "text": [
      "\n",
      "✅ Partido 203 (OBERA vs FERRO (011/02/2025 21:30)) procesado y guardado en: data/scrapped\\partido_203_OBERA vs FERRO (011_02_2025 21_30).parquet\n"
     ]
    },
    {
     "name": "stderr",
     "output_type": "stream",
     "text": [
      "Procesando partidos:  54%|█████▎    | 204/380 [1:28:18<1:23:41, 28.53s/it]"
     ]
    },
    {
     "name": "stdout",
     "output_type": "stream",
     "text": [
      "\n",
      "✅ Partido 204 (ATENAS (C) vs REGATAS (C) (012/02/2025 21:00)) procesado y guardado en: data/scrapped\\partido_204_ATENAS (C) vs REGATAS (C) (012_02_2025 21_00).parquet\n"
     ]
    },
    {
     "name": "stderr",
     "output_type": "stream",
     "text": [
      "Procesando partidos:  54%|█████▍    | 205/380 [1:29:02<1:36:13, 32.99s/it]"
     ]
    },
    {
     "name": "stdout",
     "output_type": "stream",
     "text": [
      "\n",
      "✅ Partido 205 (QUIMSA vs GIMNASIA (CR) (013/02/2025 22:00)) procesado y guardado en: data/scrapped\\partido_205_QUIMSA vs GIMNASIA (CR) (013_02_2025 22_00).parquet\n"
     ]
    },
    {
     "name": "stderr",
     "output_type": "stream",
     "text": [
      "Procesando partidos:  54%|█████▍    | 206/380 [1:29:32<1:33:10, 32.13s/it]"
     ]
    },
    {
     "name": "stdout",
     "output_type": "stream",
     "text": [
      "\n",
      "✅ Partido 206 (INSTITUTO vs REGATAS (C) (014/02/2025 20:30)) procesado y guardado en: data/scrapped\\partido_206_INSTITUTO vs REGATAS (C) (014_02_2025 20_30).parquet\n"
     ]
    },
    {
     "name": "stderr",
     "output_type": "stream",
     "text": [
      "Procesando partidos:  54%|█████▍    | 207/380 [1:29:59<1:28:09, 30.57s/it]"
     ]
    },
    {
     "name": "stdout",
     "output_type": "stream",
     "text": [
      "\n",
      "✅ Partido 207 (UNION (SF) vs OBRAS (014/02/2025 21:00)) procesado y guardado en: data/scrapped\\partido_207_UNION (SF) vs OBRAS (014_02_2025 21_00).parquet\n"
     ]
    },
    {
     "name": "stderr",
     "output_type": "stream",
     "text": [
      "Procesando partidos:  55%|█████▍    | 208/380 [1:30:30<1:28:17, 30.80s/it]"
     ]
    },
    {
     "name": "stdout",
     "output_type": "stream",
     "text": [
      "\n",
      "✅ Partido 208 (INDEPENDIENTE (O) vs ATENAS (C) (014/02/2025 21:00)) procesado y guardado en: data/scrapped\\partido_208_INDEPENDIENTE (O) vs ATENAS (C) (014_02_2025 21_00).parquet\n"
     ]
    },
    {
     "name": "stderr",
     "output_type": "stream",
     "text": [
      "Procesando partidos:  55%|█████▌    | 209/380 [1:31:01<1:27:43, 30.78s/it]"
     ]
    },
    {
     "name": "stdout",
     "output_type": "stream",
     "text": [
      "\n",
      "✅ Partido 209 (BOCA vs SAN LORENZO (014/02/2025 22:05)) procesado y guardado en: data/scrapped\\partido_209_BOCA vs SAN LORENZO (014_02_2025 22_05).parquet\n"
     ]
    },
    {
     "name": "stderr",
     "output_type": "stream",
     "text": [
      "Procesando partidos:  55%|█████▌    | 210/380 [1:31:32<1:27:09, 30.76s/it]"
     ]
    },
    {
     "name": "stdout",
     "output_type": "stream",
     "text": [
      "\n",
      "✅ Partido 210 (OLIMPICO (LB) vs GIMNASIA (CR) (015/02/2025 11:30)) procesado y guardado en: data/scrapped\\partido_210_OLIMPICO (LB) vs GIMNASIA (CR) (015_02_2025 11_30).parquet\n"
     ]
    },
    {
     "name": "stderr",
     "output_type": "stream",
     "text": [
      "Procesando partidos:  56%|█████▌    | 211/380 [1:32:04<1:27:45, 31.16s/it]"
     ]
    },
    {
     "name": "stdout",
     "output_type": "stream",
     "text": [
      "\n",
      "✅ Partido 211 (INDEPENDIENTE (O) vs REGATAS (C) (016/02/2025 21:00)) procesado y guardado en: data/scrapped\\partido_211_INDEPENDIENTE (O) vs REGATAS (C) (016_02_2025 21_00).parquet\n"
     ]
    },
    {
     "name": "stderr",
     "output_type": "stream",
     "text": [
      "Procesando partidos:  56%|█████▌    | 212/380 [1:32:37<1:29:13, 31.87s/it]"
     ]
    },
    {
     "name": "stdout",
     "output_type": "stream",
     "text": [
      "\n",
      "✅ Partido 212 (LA UNION FSA. vs SAN MARTIN (C) (016/02/2025 21:30)) procesado y guardado en: data/scrapped\\partido_212_LA UNION FSA. vs SAN MARTIN (C) (016_02_2025 21_30).parquet\n"
     ]
    },
    {
     "name": "stderr",
     "output_type": "stream",
     "text": [
      "Procesando partidos:  56%|█████▌    | 213/380 [1:33:03<1:23:51, 30.13s/it]"
     ]
    },
    {
     "name": "stdout",
     "output_type": "stream",
     "text": [
      "\n",
      "✅ Partido 213 (OBERA vs QUIMSA (016/02/2025 21:30)) procesado y guardado en: data/scrapped\\partido_213_OBERA vs QUIMSA (016_02_2025 21_30).parquet\n"
     ]
    },
    {
     "name": "stderr",
     "output_type": "stream",
     "text": [
      "Procesando partidos:  56%|█████▋    | 214/380 [1:33:33<1:23:21, 30.13s/it]"
     ]
    },
    {
     "name": "stdout",
     "output_type": "stream",
     "text": [
      "\n",
      "✅ Partido 214 (INSTITUTO vs PLATENSE (026/02/2025 21:00)) procesado y guardado en: data/scrapped\\partido_214_INSTITUTO vs PLATENSE (026_02_2025 21_00).parquet\n"
     ]
    },
    {
     "name": "stderr",
     "output_type": "stream",
     "text": [
      "Procesando partidos:  57%|█████▋    | 215/380 [1:33:58<1:18:34, 28.57s/it]"
     ]
    },
    {
     "name": "stdout",
     "output_type": "stream",
     "text": [
      "\n",
      "✅ Partido 215 (UNION (SF) vs ARGENTINO (J) (026/02/2025 21:00)) procesado y guardado en: data/scrapped\\partido_215_UNION (SF) vs ARGENTINO (J) (026_02_2025 21_00).parquet\n"
     ]
    },
    {
     "name": "stderr",
     "output_type": "stream",
     "text": [
      "Procesando partidos:  57%|█████▋    | 216/380 [1:34:23<1:15:03, 27.46s/it]"
     ]
    },
    {
     "name": "stdout",
     "output_type": "stream",
     "text": [
      "\n",
      "✅ Partido 216 (SAN MARTIN (C) vs QUIMSA (026/02/2025 21:30)) procesado y guardado en: data/scrapped\\partido_216_SAN MARTIN (C) vs QUIMSA (026_02_2025 21_30).parquet\n"
     ]
    },
    {
     "name": "stderr",
     "output_type": "stream",
     "text": [
      "Procesando partidos:  57%|█████▋    | 217/380 [1:34:49<1:13:14, 26.96s/it]"
     ]
    },
    {
     "name": "stdout",
     "output_type": "stream",
     "text": [
      "\n",
      "✅ Partido 217 (ZARATE BASKET vs OBRAS (027/02/2025 20:00)) procesado y guardado en: data/scrapped\\partido_217_ZARATE BASKET vs OBRAS (027_02_2025 20_00).parquet\n"
     ]
    },
    {
     "name": "stderr",
     "output_type": "stream",
     "text": [
      "Procesando partidos:  57%|█████▋    | 218/380 [1:35:15<1:11:39, 26.54s/it]"
     ]
    },
    {
     "name": "stdout",
     "output_type": "stream",
     "text": [
      "\n",
      "✅ Partido 218 (BOCA vs FERRO (027/02/2025 21:05)) procesado y guardado en: data/scrapped\\partido_218_BOCA vs FERRO (027_02_2025 21_05).parquet\n"
     ]
    },
    {
     "name": "stderr",
     "output_type": "stream",
     "text": [
      "Procesando partidos:  58%|█████▊    | 219/380 [1:35:42<1:11:50, 26.78s/it]"
     ]
    },
    {
     "name": "stdout",
     "output_type": "stream",
     "text": [
      "\n",
      "✅ Partido 219 (SAN LORENZO vs UNION (SF) (028/02/2025 20:30)) procesado y guardado en: data/scrapped\\partido_219_SAN LORENZO vs UNION (SF) (028_02_2025 20_30).parquet\n"
     ]
    },
    {
     "name": "stderr",
     "output_type": "stream",
     "text": [
      "Procesando partidos:  58%|█████▊    | 220/380 [1:36:11<1:13:27, 27.55s/it]"
     ]
    },
    {
     "name": "stdout",
     "output_type": "stream",
     "text": [
      "\n",
      "✅ Partido 220 (ATENAS (C) vs PLATENSE (028/02/2025 21:00)) procesado y guardado en: data/scrapped\\partido_220_ATENAS (C) vs PLATENSE (028_02_2025 21_00).parquet\n"
     ]
    },
    {
     "name": "stderr",
     "output_type": "stream",
     "text": [
      "Procesando partidos:  58%|█████▊    | 221/380 [1:36:43<1:16:31, 28.88s/it]"
     ]
    },
    {
     "name": "stdout",
     "output_type": "stream",
     "text": [
      "\n",
      "✅ Partido 221 (OBERA vs ARGENTINO (J) (028/02/2025 21:30)) procesado y guardado en: data/scrapped\\partido_221_OBERA vs ARGENTINO (J) (028_02_2025 21_30).parquet\n"
     ]
    },
    {
     "name": "stderr",
     "output_type": "stream",
     "text": [
      "Procesando partidos:  58%|█████▊    | 222/380 [1:37:11<1:14:48, 28.41s/it]"
     ]
    },
    {
     "name": "stdout",
     "output_type": "stream",
     "text": [
      "\n",
      "✅ Partido 222 (REGATAS (C) vs QUIMSA (028/02/2025 21:30)) procesado y guardado en: data/scrapped\\partido_222_REGATAS (C) vs QUIMSA (028_02_2025 21_30).parquet\n"
     ]
    },
    {
     "name": "stderr",
     "output_type": "stream",
     "text": [
      "Procesando partidos:  59%|█████▊    | 223/380 [1:37:37<1:12:46, 27.81s/it]"
     ]
    },
    {
     "name": "stdout",
     "output_type": "stream",
     "text": [
      "\n",
      "✅ Partido 223 (INDEPENDIENTE (O) vs PLATENSE (002/03/2025 21:00)) procesado y guardado en: data/scrapped\\partido_223_INDEPENDIENTE (O) vs PLATENSE (002_03_2025 21_00).parquet\n"
     ]
    },
    {
     "name": "stderr",
     "output_type": "stream",
     "text": [
      "Procesando partidos:  59%|█████▉    | 224/380 [1:38:05<1:12:18, 27.81s/it]"
     ]
    },
    {
     "name": "stdout",
     "output_type": "stream",
     "text": [
      "\n",
      "✅ Partido 224 (LA UNION FSA. vs QUIMSA (002/03/2025 21:30)) procesado y guardado en: data/scrapped\\partido_224_LA UNION FSA. vs QUIMSA (002_03_2025 21_30).parquet\n"
     ]
    },
    {
     "name": "stderr",
     "output_type": "stream",
     "text": [
      "Procesando partidos:  59%|█████▉    | 225/380 [1:38:30<1:09:33, 26.92s/it]"
     ]
    },
    {
     "name": "stdout",
     "output_type": "stream",
     "text": [
      "\n",
      "✅ Partido 225 (SAN MARTIN (C) vs PEÑAROL (MDP) (005/03/2025 21:00)) procesado y guardado en: data/scrapped\\partido_225_SAN MARTIN (C) vs PEÑAROL (MDP) (005_03_2025 21_00).parquet\n"
     ]
    },
    {
     "name": "stderr",
     "output_type": "stream",
     "text": [
      "Procesando partidos:  59%|█████▉    | 226/380 [1:38:57<1:09:16, 26.99s/it]"
     ]
    },
    {
     "name": "stdout",
     "output_type": "stream",
     "text": [
      "\n",
      "✅ Partido 226 (QUIMSA vs UNION (SF) (005/03/2025 21:30)) procesado y guardado en: data/scrapped\\partido_226_QUIMSA vs UNION (SF) (005_03_2025 21_30).parquet\n"
     ]
    },
    {
     "name": "stderr",
     "output_type": "stream",
     "text": [
      "Procesando partidos:  60%|█████▉    | 227/380 [1:39:21<1:06:30, 26.08s/it]"
     ]
    },
    {
     "name": "stdout",
     "output_type": "stream",
     "text": [
      "\n",
      "✅ Partido 227 (PLATENSE vs OBERA (006/03/2025 22:10)) procesado y guardado en: data/scrapped\\partido_227_PLATENSE vs OBERA (006_03_2025 22_10).parquet\n"
     ]
    },
    {
     "name": "stderr",
     "output_type": "stream",
     "text": [
      "Procesando partidos:  60%|██████    | 228/380 [1:39:47<1:06:24, 26.21s/it]"
     ]
    },
    {
     "name": "stdout",
     "output_type": "stream",
     "text": [
      "\n",
      "✅ Partido 228 (REGATAS (C) vs PEÑAROL (MDP) (007/03/2025 21:05)) procesado y guardado en: data/scrapped\\partido_228_REGATAS (C) vs PEÑAROL (MDP) (007_03_2025 21_05).parquet\n"
     ]
    },
    {
     "name": "stderr",
     "output_type": "stream",
     "text": [
      "Procesando partidos:  60%|██████    | 229/380 [1:40:12<1:05:09, 25.89s/it]"
     ]
    },
    {
     "name": "stdout",
     "output_type": "stream",
     "text": [
      "\n",
      "✅ Partido 229 (OLIMPICO (LB) vs UNION (SF) (007/03/2025 22:00)) procesado y guardado en: data/scrapped\\partido_229_OLIMPICO (LB) vs UNION (SF) (007_03_2025 22_00).parquet\n"
     ]
    },
    {
     "name": "stderr",
     "output_type": "stream",
     "text": [
      "Procesando partidos:  61%|██████    | 230/380 [1:40:37<1:03:45, 25.51s/it]"
     ]
    },
    {
     "name": "stdout",
     "output_type": "stream",
     "text": [
      "\n",
      "✅ Partido 230 (GIMNASIA (CR) vs OBERA (008/03/2025 11:30)) procesado y guardado en: data/scrapped\\partido_230_GIMNASIA (CR) vs OBERA (008_03_2025 11_30).parquet\n"
     ]
    },
    {
     "name": "stderr",
     "output_type": "stream",
     "text": [
      "Procesando partidos:  61%|██████    | 231/380 [1:41:02<1:02:46, 25.28s/it]"
     ]
    },
    {
     "name": "stdout",
     "output_type": "stream",
     "text": [
      "\n",
      "✅ Partido 231 (RIACHUELO (LR) vs UNION (SF) (009/03/2025 21:00)) procesado y guardado en: data/scrapped\\partido_231_RIACHUELO (LR) vs UNION (SF) (009_03_2025 21_00).parquet\n"
     ]
    },
    {
     "name": "stderr",
     "output_type": "stream",
     "text": [
      "Procesando partidos:  61%|██████    | 232/380 [1:41:27<1:02:26, 25.31s/it]"
     ]
    },
    {
     "name": "stdout",
     "output_type": "stream",
     "text": [
      "\n",
      "✅ Partido 232 (LA UNION FSA. vs PEÑAROL (MDP) (009/03/2025 21:30)) procesado y guardado en: data/scrapped\\partido_232_LA UNION FSA. vs PEÑAROL (MDP) (009_03_2025 21_30).parquet\n"
     ]
    },
    {
     "name": "stderr",
     "output_type": "stream",
     "text": [
      "Procesando partidos:  61%|██████▏   | 233/380 [1:41:52<1:01:39, 25.17s/it]"
     ]
    },
    {
     "name": "stdout",
     "output_type": "stream",
     "text": [
      "\n",
      "✅ Partido 233 (ARGENTINO (J) vs OLIMPICO (LB) (010/03/2025 21:00)) procesado y guardado en: data/scrapped\\partido_233_ARGENTINO (J) vs OLIMPICO (LB) (010_03_2025 21_00).parquet\n"
     ]
    },
    {
     "name": "stderr",
     "output_type": "stream",
     "text": [
      "Procesando partidos:  62%|██████▏   | 234/380 [1:42:16<1:00:46, 24.98s/it]"
     ]
    },
    {
     "name": "stdout",
     "output_type": "stream",
     "text": [
      "\n",
      "✅ Partido 234 (SAN MARTIN (C) vs REGATAS (C) (011/03/2025 22:10)) procesado y guardado en: data/scrapped\\partido_234_SAN MARTIN (C) vs REGATAS (C) (011_03_2025 22_10).parquet\n"
     ]
    },
    {
     "name": "stderr",
     "output_type": "stream",
     "text": [
      "Procesando partidos:  62%|██████▏   | 235/380 [1:42:40<59:24, 24.58s/it]  "
     ]
    },
    {
     "name": "stdout",
     "output_type": "stream",
     "text": [
      "\n",
      "✅ Partido 235 (PEÑAROL (MDP) vs OLIMPICO (LB) (012/03/2025 21:00)) procesado y guardado en: data/scrapped\\partido_235_PEÑAROL (MDP) vs OLIMPICO (LB) (012_03_2025 21_00).parquet\n"
     ]
    },
    {
     "name": "stderr",
     "output_type": "stream",
     "text": [
      "Procesando partidos:  62%|██████▏   | 236/380 [1:43:04<58:39, 24.44s/it]"
     ]
    },
    {
     "name": "stdout",
     "output_type": "stream",
     "text": [
      "\n",
      "✅ Partido 236 (FERRO vs ZARATE BASKET (012/03/2025 21:00)) procesado y guardado en: data/scrapped\\partido_236_FERRO vs ZARATE BASKET (012_03_2025 21_00).parquet\n"
     ]
    },
    {
     "name": "stderr",
     "output_type": "stream",
     "text": [
      "Procesando partidos:  62%|██████▏   | 237/380 [1:43:29<58:30, 24.55s/it]"
     ]
    },
    {
     "name": "stdout",
     "output_type": "stream",
     "text": [
      "\n",
      "✅ Partido 237 (OBRAS vs LA UNION FSA. (013/03/2025 20:00)) procesado y guardado en: data/scrapped\\partido_237_OBRAS vs LA UNION FSA. (013_03_2025 20_00).parquet\n"
     ]
    },
    {
     "name": "stderr",
     "output_type": "stream",
     "text": [
      "Procesando partidos:  63%|██████▎   | 238/380 [1:43:53<57:19, 24.22s/it]"
     ]
    },
    {
     "name": "stdout",
     "output_type": "stream",
     "text": [
      "\n",
      "✅ Partido 238 (ARGENTINO (J) vs ZARATE BASKET (014/03/2025 21:00)) procesado y guardado en: data/scrapped\\partido_238_ARGENTINO (J) vs ZARATE BASKET (014_03_2025 21_00).parquet\n"
     ]
    },
    {
     "name": "stderr",
     "output_type": "stream",
     "text": [
      "Procesando partidos:  63%|██████▎   | 239/380 [1:44:16<56:10, 23.91s/it]"
     ]
    },
    {
     "name": "stdout",
     "output_type": "stream",
     "text": [
      "\n",
      "✅ Partido 239 (OBERA vs SAN MARTIN (C) (014/03/2025 21:30)) procesado y guardado en: data/scrapped\\partido_239_OBERA vs SAN MARTIN (C) (014_03_2025 21_30).parquet\n"
     ]
    },
    {
     "name": "stderr",
     "output_type": "stream",
     "text": [
      "Procesando partidos:  63%|██████▎   | 240/380 [1:44:40<55:59, 24.00s/it]"
     ]
    },
    {
     "name": "stdout",
     "output_type": "stream",
     "text": [
      "\n",
      "✅ Partido 240 (RIACHUELO (LR) vs SAN LORENZO (014/03/2025 22:00)) procesado y guardado en: data/scrapped\\partido_240_RIACHUELO (LR) vs SAN LORENZO (014_03_2025 22_00).parquet\n"
     ]
    },
    {
     "name": "stderr",
     "output_type": "stream",
     "text": [
      "Procesando partidos:  63%|██████▎   | 241/380 [1:45:06<56:52, 24.55s/it]"
     ]
    },
    {
     "name": "stdout",
     "output_type": "stream",
     "text": [
      "\n",
      "✅ Partido 241 (GIMNASIA (CR) vs LA UNION FSA. (015/03/2025 20:30)) procesado y guardado en: data/scrapped\\partido_241_GIMNASIA (CR) vs LA UNION FSA. (015_03_2025 20_30).parquet\n"
     ]
    },
    {
     "name": "stderr",
     "output_type": "stream",
     "text": [
      "Procesando partidos:  64%|██████▎   | 242/380 [1:45:30<56:18, 24.48s/it]"
     ]
    },
    {
     "name": "stdout",
     "output_type": "stream",
     "text": [
      "\n",
      "✅ Partido 242 (UNION (SF) vs SAN MARTIN (C) (016/03/2025 21:35)) procesado y guardado en: data/scrapped\\partido_242_UNION (SF) vs SAN MARTIN (C) (016_03_2025 21_35).parquet\n"
     ]
    },
    {
     "name": "stderr",
     "output_type": "stream",
     "text": [
      "Procesando partidos:  64%|██████▍   | 243/380 [1:45:57<57:15, 25.08s/it]"
     ]
    },
    {
     "name": "stdout",
     "output_type": "stream",
     "text": [
      "\n",
      "✅ Partido 243 (OLIMPICO (LB) vs SAN LORENZO (016/03/2025 22:00)) procesado y guardado en: data/scrapped\\partido_243_OLIMPICO (LB) vs SAN LORENZO (016_03_2025 22_00).parquet\n"
     ]
    },
    {
     "name": "stderr",
     "output_type": "stream",
     "text": [
      "Procesando partidos:  64%|██████▍   | 244/380 [1:46:22<56:46, 25.05s/it]"
     ]
    },
    {
     "name": "stdout",
     "output_type": "stream",
     "text": [
      "\n",
      "✅ Partido 244 (ZARATE BASKET vs LA UNION FSA. (017/03/2025 21:00)) procesado y guardado en: data/scrapped\\partido_244_ZARATE BASKET vs LA UNION FSA. (017_03_2025 21_00).parquet\n"
     ]
    },
    {
     "name": "stderr",
     "output_type": "stream",
     "text": [
      "Procesando partidos:  64%|██████▍   | 245/380 [1:46:47<56:45, 25.23s/it]"
     ]
    },
    {
     "name": "stdout",
     "output_type": "stream",
     "text": [
      "\n",
      "✅ Partido 245 (INSTITUTO vs INDEPENDIENTE (O) (018/03/2025 21:00)) procesado y guardado en: data/scrapped\\partido_245_INSTITUTO vs INDEPENDIENTE (O) (018_03_2025 21_00).parquet\n"
     ]
    },
    {
     "name": "stderr",
     "output_type": "stream",
     "text": [
      "Procesando partidos:  65%|██████▍   | 246/380 [1:47:47<1:19:38, 35.66s/it]"
     ]
    },
    {
     "name": "stdout",
     "output_type": "stream",
     "text": [
      "\n",
      "✅ Partido 246 (REGATAS (C) vs PLATENSE (018/03/2025 21:30)) procesado y guardado en: data/scrapped\\partido_246_REGATAS (C) vs PLATENSE (018_03_2025 21_30).parquet\n"
     ]
    },
    {
     "name": "stderr",
     "output_type": "stream",
     "text": [
      "Procesando partidos:  65%|██████▌   | 247/380 [1:48:12<1:11:50, 32.41s/it]"
     ]
    },
    {
     "name": "stdout",
     "output_type": "stream",
     "text": [
      "\n",
      "✅ Partido 247 (QUIMSA vs SAN LORENZO (018/03/2025 22:00)) procesado y guardado en: data/scrapped\\partido_247_QUIMSA vs SAN LORENZO (018_03_2025 22_00).parquet\n"
     ]
    },
    {
     "name": "stderr",
     "output_type": "stream",
     "text": [
      "Procesando partidos:  65%|██████▌   | 248/380 [1:48:38<1:07:00, 30.46s/it]"
     ]
    },
    {
     "name": "stdout",
     "output_type": "stream",
     "text": [
      "\n",
      "✅ Partido 248 (OBRAS vs BOCA (019/03/2025 20:00)) procesado y guardado en: data/scrapped\\partido_248_OBRAS vs BOCA (019_03_2025 20_00).parquet\n"
     ]
    },
    {
     "name": "stderr",
     "output_type": "stream",
     "text": [
      "Procesando partidos:  66%|██████▌   | 249/380 [1:49:03<1:03:02, 28.87s/it]"
     ]
    },
    {
     "name": "stdout",
     "output_type": "stream",
     "text": [
      "\n",
      "✅ Partido 249 (UNION (SF) vs GIMNASIA (CR) (019/03/2025 21:00)) procesado y guardado en: data/scrapped\\partido_249_UNION (SF) vs GIMNASIA (CR) (019_03_2025 21_00).parquet\n"
     ]
    },
    {
     "name": "stderr",
     "output_type": "stream",
     "text": [
      "Procesando partidos:  66%|██████▌   | 250/380 [1:49:27<59:37, 27.52s/it]  "
     ]
    },
    {
     "name": "stdout",
     "output_type": "stream",
     "text": [
      "\n",
      "✅ Partido 250 (INSTITUTO vs ATENAS (C) (020/03/2025 21:00)) procesado y guardado en: data/scrapped\\partido_250_INSTITUTO vs ATENAS (C) (020_03_2025 21_00).parquet\n"
     ]
    },
    {
     "name": "stderr",
     "output_type": "stream",
     "text": [
      "Procesando partidos:  66%|██████▌   | 251/380 [1:49:51<56:52, 26.45s/it]"
     ]
    },
    {
     "name": "stdout",
     "output_type": "stream",
     "text": [
      "\n",
      "✅ Partido 251 (SAN MARTIN (C) vs PLATENSE (020/03/2025 21:30)) procesado y guardado en: data/scrapped\\partido_251_SAN MARTIN (C) vs PLATENSE (020_03_2025 21_30).parquet\n"
     ]
    },
    {
     "name": "stderr",
     "output_type": "stream",
     "text": [
      "Procesando partidos:  66%|██████▋   | 252/380 [1:50:16<55:06, 25.83s/it]"
     ]
    },
    {
     "name": "stdout",
     "output_type": "stream",
     "text": [
      "\n",
      "✅ Partido 252 (PEÑAROL (MDP) vs BOCA (021/03/2025 19:05)) procesado y guardado en: data/scrapped\\partido_252_PEÑAROL (MDP) vs BOCA (021_03_2025 19_05).parquet\n"
     ]
    },
    {
     "name": "stderr",
     "output_type": "stream",
     "text": [
      "Procesando partidos:  67%|██████▋   | 253/380 [1:50:41<54:20, 25.67s/it]"
     ]
    },
    {
     "name": "stdout",
     "output_type": "stream",
     "text": [
      "\n",
      "✅ Partido 253 (INDEPENDIENTE (O) vs GIMNASIA (CR) (021/03/2025 21:30)) procesado y guardado en: data/scrapped\\partido_253_INDEPENDIENTE (O) vs GIMNASIA (CR) (021_03_2025 21_30).parquet\n"
     ]
    },
    {
     "name": "stderr",
     "output_type": "stream",
     "text": [
      "Procesando partidos:  67%|██████▋   | 254/380 [1:51:06<53:18, 25.38s/it]"
     ]
    },
    {
     "name": "stdout",
     "output_type": "stream",
     "text": [
      "\n",
      "✅ Partido 254 (RIACHUELO (LR) vs OBERA (021/03/2025 22:00)) procesado y guardado en: data/scrapped\\partido_254_RIACHUELO (LR) vs OBERA (021_03_2025 22_00).parquet\n"
     ]
    },
    {
     "name": "stderr",
     "output_type": "stream",
     "text": [
      "Procesando partidos:  67%|██████▋   | 255/380 [1:51:30<52:16, 25.09s/it]"
     ]
    },
    {
     "name": "stdout",
     "output_type": "stream",
     "text": [
      "\n",
      "✅ Partido 255 (LA UNION FSA. vs PLATENSE (022/03/2025 11:00)) procesado y guardado en: data/scrapped\\partido_255_LA UNION FSA. vs PLATENSE (022_03_2025 11_00).parquet\n"
     ]
    },
    {
     "name": "stderr",
     "output_type": "stream",
     "text": [
      "Procesando partidos:  67%|██████▋   | 256/380 [1:51:55<51:53, 25.11s/it]"
     ]
    },
    {
     "name": "stdout",
     "output_type": "stream",
     "text": [
      "\n",
      "✅ Partido 256 (ZARATE BASKET vs GIMNASIA (CR) (023/03/2025 20:00)) procesado y guardado en: data/scrapped\\partido_256_ZARATE BASKET vs GIMNASIA (CR) (023_03_2025 20_00).parquet\n"
     ]
    },
    {
     "name": "stderr",
     "output_type": "stream",
     "text": [
      "Procesando partidos:  68%|██████▊   | 257/380 [1:52:20<50:56, 24.85s/it]"
     ]
    },
    {
     "name": "stdout",
     "output_type": "stream",
     "text": [
      "\n",
      "✅ Partido 257 (ATENAS (C) vs UNION (SF) (023/03/2025 21:00)) procesado y guardado en: data/scrapped\\partido_257_ATENAS (C) vs UNION (SF) (023_03_2025 21_00).parquet\n"
     ]
    },
    {
     "name": "stderr",
     "output_type": "stream",
     "text": [
      "Procesando partidos:  68%|██████▊   | 258/380 [1:52:43<49:35, 24.39s/it]"
     ]
    },
    {
     "name": "stdout",
     "output_type": "stream",
     "text": [
      "\n",
      "✅ Partido 258 (QUIMSA vs OBERA (023/03/2025 21:30)) procesado y guardado en: data/scrapped\\partido_258_QUIMSA vs OBERA (023_03_2025 21_30).parquet\n"
     ]
    },
    {
     "name": "stderr",
     "output_type": "stream",
     "text": [
      "Procesando partidos:  68%|██████▊   | 259/380 [1:53:07<49:12, 24.40s/it]"
     ]
    },
    {
     "name": "stdout",
     "output_type": "stream",
     "text": [
      "\n",
      "✅ Partido 259 (INDEPENDIENTE (O) vs UNION (SF) (025/03/2025 21:00)) procesado y guardado en: data/scrapped\\partido_259_INDEPENDIENTE (O) vs UNION (SF) (025_03_2025 21_00).parquet\n"
     ]
    },
    {
     "name": "stderr",
     "output_type": "stream",
     "text": [
      "Procesando partidos:  68%|██████▊   | 260/380 [1:53:31<48:38, 24.32s/it]"
     ]
    },
    {
     "name": "stdout",
     "output_type": "stream",
     "text": [
      "\n",
      "✅ Partido 260 (OLIMPICO (LB) vs OBERA (025/03/2025 22:00)) procesado y guardado en: data/scrapped\\partido_260_OLIMPICO (LB) vs OBERA (025_03_2025 22_00).parquet\n"
     ]
    },
    {
     "name": "stderr",
     "output_type": "stream",
     "text": [
      "Procesando partidos:  69%|██████▊   | 261/380 [1:53:55<47:59, 24.19s/it]"
     ]
    },
    {
     "name": "stdout",
     "output_type": "stream",
     "text": [
      "\n",
      "✅ Partido 261 (BOCA vs QUIMSA (026/03/2025 20:05)) procesado y guardado en: data/scrapped\\partido_261_BOCA vs QUIMSA (026_03_2025 20_05).parquet\n"
     ]
    },
    {
     "name": "stderr",
     "output_type": "stream",
     "text": [
      "Procesando partidos:  69%|██████▉   | 262/380 [1:54:21<48:14, 24.53s/it]"
     ]
    },
    {
     "name": "stdout",
     "output_type": "stream",
     "text": [
      "\n",
      "✅ Partido 262 (PLATENSE vs OBRAS (026/03/2025 20:30)) procesado y guardado en: data/scrapped\\partido_262_PLATENSE vs OBRAS (026_03_2025 20_30).parquet\n"
     ]
    },
    {
     "name": "stderr",
     "output_type": "stream",
     "text": [
      "Procesando partidos:  69%|██████▉   | 263/380 [1:54:46<48:00, 24.62s/it]"
     ]
    },
    {
     "name": "stdout",
     "output_type": "stream",
     "text": [
      "\n",
      "✅ Partido 263 (INSTITUTO vs UNION (SF) (027/03/2025 21:00)) procesado y guardado en: data/scrapped\\partido_263_INSTITUTO vs UNION (SF) (027_03_2025 21_00).parquet\n"
     ]
    },
    {
     "name": "stderr",
     "output_type": "stream",
     "text": [
      "Procesando partidos:  69%|██████▉   | 264/380 [1:55:09<46:52, 24.25s/it]"
     ]
    },
    {
     "name": "stdout",
     "output_type": "stream",
     "text": [
      "\n",
      "✅ Partido 264 (REGATAS (C) vs FERRO (027/03/2025 21:30)) procesado y guardado en: data/scrapped\\partido_264_REGATAS (C) vs FERRO (027_03_2025 21_30).parquet\n"
     ]
    },
    {
     "name": "stderr",
     "output_type": "stream",
     "text": [
      "Procesando partidos:  70%|██████▉   | 265/380 [1:55:33<46:29, 24.26s/it]"
     ]
    },
    {
     "name": "stdout",
     "output_type": "stream",
     "text": [
      "\n",
      "✅ Partido 265 (PEÑAROL (MDP) vs QUIMSA (028/03/2025 21:00)) procesado y guardado en: data/scrapped\\partido_265_PEÑAROL (MDP) vs QUIMSA (028_03_2025 21_00).parquet\n"
     ]
    },
    {
     "name": "stderr",
     "output_type": "stream",
     "text": [
      "Procesando partidos:  70%|███████   | 266/380 [1:55:58<46:07, 24.28s/it]"
     ]
    },
    {
     "name": "stdout",
     "output_type": "stream",
     "text": [
      "\n",
      "✅ Partido 266 (BOCA vs RIACHUELO (LR) (028/03/2025 22:10)) procesado y guardado en: data/scrapped\\partido_266_BOCA vs RIACHUELO (LR) (028_03_2025 22_10).parquet\n"
     ]
    },
    {
     "name": "stderr",
     "output_type": "stream",
     "text": [
      "Procesando partidos:  70%|███████   | 267/380 [1:56:22<45:50, 24.34s/it]"
     ]
    },
    {
     "name": "stdout",
     "output_type": "stream",
     "text": [
      "\n",
      "✅ Partido 267 (OBERA vs ZARATE BASKET (029/03/2025 21:00)) procesado y guardado en: data/scrapped\\partido_267_OBERA vs ZARATE BASKET (029_03_2025 21_00).parquet\n"
     ]
    },
    {
     "name": "stderr",
     "output_type": "stream",
     "text": [
      "Procesando partidos:  71%|███████   | 268/380 [1:56:46<45:01, 24.12s/it]"
     ]
    },
    {
     "name": "stdout",
     "output_type": "stream",
     "text": [
      "\n",
      "✅ Partido 268 (LA UNION FSA. vs FERRO (029/03/2025 21:30)) procesado y guardado en: data/scrapped\\partido_268_LA UNION FSA. vs FERRO (029_03_2025 21_30).parquet\n"
     ]
    },
    {
     "name": "stderr",
     "output_type": "stream",
     "text": [
      "Procesando partidos:  71%|███████   | 269/380 [1:57:12<45:49, 24.77s/it]"
     ]
    },
    {
     "name": "stdout",
     "output_type": "stream",
     "text": [
      "\n",
      "✅ Partido 269 (PLATENSE vs QUIMSA (030/03/2025 20:30)) procesado y guardado en: data/scrapped\\partido_269_PLATENSE vs QUIMSA (030_03_2025 20_30).parquet\n"
     ]
    },
    {
     "name": "stderr",
     "output_type": "stream",
     "text": [
      "Procesando partidos:  71%|███████   | 270/380 [1:57:36<44:50, 24.46s/it]"
     ]
    },
    {
     "name": "stdout",
     "output_type": "stream",
     "text": [
      "\n",
      "✅ Partido 270 (ARGENTINO (J) vs RIACHUELO (LR) (030/03/2025 21:00)) procesado y guardado en: data/scrapped\\partido_270_ARGENTINO (J) vs RIACHUELO (LR) (030_03_2025 21_00).parquet\n"
     ]
    },
    {
     "name": "stderr",
     "output_type": "stream",
     "text": [
      "Procesando partidos:  71%|███████▏  | 271/380 [1:58:01<44:50, 24.68s/it]"
     ]
    },
    {
     "name": "stdout",
     "output_type": "stream",
     "text": [
      "\n",
      "✅ Partido 271 (OBRAS vs ATENAS (C) (031/03/2025 20:30)) procesado y guardado en: data/scrapped\\partido_271_OBRAS vs ATENAS (C) (031_03_2025 20_30).parquet\n"
     ]
    },
    {
     "name": "stderr",
     "output_type": "stream",
     "text": [
      "Procesando partidos:  72%|███████▏  | 272/380 [1:58:24<43:41, 24.27s/it]"
     ]
    },
    {
     "name": "stdout",
     "output_type": "stream",
     "text": [
      "\n",
      "✅ Partido 272 (UNION (SF) vs REGATAS (C) (031/03/2025 21:00)) procesado y guardado en: data/scrapped\\partido_272_UNION (SF) vs REGATAS (C) (031_03_2025 21_00).parquet\n"
     ]
    },
    {
     "name": "stderr",
     "output_type": "stream",
     "text": [
      "Procesando partidos:  72%|███████▏  | 273/380 [1:58:49<43:21, 24.31s/it]"
     ]
    },
    {
     "name": "stdout",
     "output_type": "stream",
     "text": [
      "\n",
      "✅ Partido 273 (SAN MARTIN (C) vs FERRO (031/03/2025 21:30)) procesado y guardado en: data/scrapped\\partido_273_SAN MARTIN (C) vs FERRO (031_03_2025 21_30).parquet\n"
     ]
    },
    {
     "name": "stderr",
     "output_type": "stream",
     "text": [
      "Procesando partidos:  72%|███████▏  | 274/380 [1:59:14<43:17, 24.50s/it]"
     ]
    },
    {
     "name": "stdout",
     "output_type": "stream",
     "text": [
      "\n",
      "✅ Partido 274 (PLATENSE vs RIACHUELO (LR) (001/04/2025 20:30)) procesado y guardado en: data/scrapped\\partido_274_PLATENSE vs RIACHUELO (LR) (001_04_2025 20_30).parquet\n"
     ]
    },
    {
     "name": "stderr",
     "output_type": "stream",
     "text": [
      "Procesando partidos:  72%|███████▏  | 275/380 [1:59:42<44:55, 25.68s/it]"
     ]
    },
    {
     "name": "stdout",
     "output_type": "stream",
     "text": [
      "\n",
      "✅ Partido 275 (ZARATE BASKET vs BOCA (001/04/2025 21:00)) procesado y guardado en: data/scrapped\\partido_275_ZARATE BASKET vs BOCA (001_04_2025 21_00).parquet\n"
     ]
    },
    {
     "name": "stderr",
     "output_type": "stream",
     "text": [
      "Procesando partidos:  73%|███████▎  | 276/380 [2:00:07<44:13, 25.51s/it]"
     ]
    },
    {
     "name": "stdout",
     "output_type": "stream",
     "text": [
      "\n",
      "✅ Partido 276 (GIMNASIA (CR) vs PEÑAROL (MDP) (001/04/2025 21:30)) procesado y guardado en: data/scrapped\\partido_276_GIMNASIA (CR) vs PEÑAROL (MDP) (001_04_2025 21_30).parquet\n"
     ]
    },
    {
     "name": "stderr",
     "output_type": "stream",
     "text": [
      "Procesando partidos:  73%|███████▎  | 277/380 [2:00:36<45:20, 26.42s/it]"
     ]
    },
    {
     "name": "stdout",
     "output_type": "stream",
     "text": [
      "\n",
      "✅ Partido 277 (ARGENTINO (J) vs ATENAS (C) (002/04/2025 21:00)) procesado y guardado en: data/scrapped\\partido_277_ARGENTINO (J) vs ATENAS (C) (002_04_2025 21_00).parquet\n"
     ]
    },
    {
     "name": "stderr",
     "output_type": "stream",
     "text": [
      "Procesando partidos:  73%|███████▎  | 278/380 [2:01:04<46:07, 27.14s/it]"
     ]
    },
    {
     "name": "stdout",
     "output_type": "stream",
     "text": [
      "\n",
      "✅ Partido 278 (OBERA vs REGATAS (C) (002/04/2025 21:30)) procesado y guardado en: data/scrapped\\partido_278_OBERA vs REGATAS (C) (002_04_2025 21_30).parquet\n",
      "Error procesando partido: Message: invalid session id: session deleted as the browser has closed the connection\n",
      "from disconnected: Unable to receive message from renderer\n",
      "  (Session info: chrome=139.0.7258.139); For documentation on this error, please visit: https://www.selenium.dev/documentation/webdriver/troubleshooting/errors#invalidsessionidexception\n",
      "Stacktrace:\n",
      "\tGetHandleVerifier [0x0xcca8a3+63283]\n",
      "\tGetHandleVerifier [0x0xcca8e4+63348]\n",
      "\t(No symbol) [0x0xb03e43]\n",
      "\t(No symbol) [0x0xaf4adb]\n",
      "\t(No symbol) [0x0xaf4811]\n",
      "\t(No symbol) [0x0xaf3941]\n",
      "\t(No symbol) [0x0xb10833]\n",
      "\t(No symbol) [0x0xb929fc]\n",
      "\t(No symbol) [0x0xb71216]\n",
      "\t(No symbol) [0x0xb40855]\n",
      "\t(No symbol) [0x0xb416f4]\n",
      "\tGetHandleVerifier [0x0xf3bb43+2623955]\n",
      "\tGetHandleVerifier [0x0xf36daa+2604090]\n",
      "\tGetHandleVerifier [0x0xcf069a+218410]\n",
      "\tGetHandleVerifier [0x0xce0ed8+154984]\n",
      "\tGetHandleVerifier [0x0xce742d+180925]\n",
      "\tGetHandleVerifier [0x0xcd22b8+94536]\n",
      "\tGetHandleVerifier [0x0xcd2442+94930]\n",
      "\tGetHandleVerifier [0x0xcbd5ea+9338]\n",
      "\tBaseThreadInitThunk [0x0x76c65d49+25]\n",
      "\tRtlInitializeExceptionChain [0x0x773ad2fb+107]\n",
      "\tRtlGetAppContainerNamedObjectPath [0x0x773ad281+561]\n",
      "\n"
     ]
    },
    {
     "name": "stderr",
     "output_type": "stream",
     "text": [
      "Procesando partidos:  73%|███████▎  | 279/380 [2:45:34<22:59:56, 819.77s/it]"
     ]
    },
    {
     "name": "stdout",
     "output_type": "stream",
     "text": [
      "Partido OBRAS vs PEÑAROL (MDP) (003/04/2025 20:05) fallido. Continuando...\n"
     ]
    },
    {
     "name": "stderr",
     "output_type": "stream",
     "text": [
      "Procesando partidos:  74%|███████▎  | 280/380 [2:46:07<16:13:09, 583.90s/it]"
     ]
    },
    {
     "name": "stdout",
     "output_type": "stream",
     "text": [
      "\n",
      "✅ Partido 280 (ZARATE BASKET vs SAN MARTIN (C) (003/04/2025 21:00)) procesado y guardado en: data/scrapped\\partido_280_ZARATE BASKET vs SAN MARTIN (C) (003_04_2025 21_00).parquet\n"
     ]
    },
    {
     "name": "stderr",
     "output_type": "stream",
     "text": [
      "Procesando partidos:  74%|███████▍  | 281/380 [2:46:30<11:25:52, 415.68s/it]"
     ]
    },
    {
     "name": "stdout",
     "output_type": "stream",
     "text": [
      "\n",
      "✅ Partido 281 (BOCA vs ATENAS (C) (004/04/2025 22:10)) procesado y guardado en: data/scrapped\\partido_281_BOCA vs ATENAS (C) (004_04_2025 22_10).parquet\n"
     ]
    },
    {
     "name": "stderr",
     "output_type": "stream",
     "text": [
      "Procesando partidos:  74%|███████▍  | 282/380 [2:47:05<8:12:23, 301.47s/it] "
     ]
    },
    {
     "name": "stdout",
     "output_type": "stream",
     "text": [
      "\n",
      "✅ Partido 282 (SAN LORENZO vs PEÑAROL (MDP) (005/04/2025 11:30)) procesado y guardado en: data/scrapped\\partido_282_SAN LORENZO vs PEÑAROL (MDP) (005_04_2025 11_30).parquet\n"
     ]
    },
    {
     "name": "stderr",
     "output_type": "stream",
     "text": [
      "Procesando partidos:  74%|███████▍  | 283/380 [2:47:30<5:53:10, 218.46s/it]"
     ]
    },
    {
     "name": "stdout",
     "output_type": "stream",
     "text": [
      "\n",
      "✅ Partido 283 (FERRO vs INSTITUTO (005/04/2025 20:30)) procesado y guardado en: data/scrapped\\partido_283_FERRO vs INSTITUTO (005_04_2025 20_30).parquet\n"
     ]
    },
    {
     "name": "stderr",
     "output_type": "stream",
     "text": [
      "Procesando partidos:  75%|███████▍  | 284/380 [2:48:04<4:21:09, 163.23s/it]"
     ]
    },
    {
     "name": "stdout",
     "output_type": "stream",
     "text": [
      "\n",
      "✅ Partido 284 (GIMNASIA (CR) vs SAN MARTIN (C) (005/04/2025 21:00)) procesado y guardado en: data/scrapped\\partido_284_GIMNASIA (CR) vs SAN MARTIN (C) (005_04_2025 21_00).parquet\n"
     ]
    },
    {
     "name": "stderr",
     "output_type": "stream",
     "text": [
      "Procesando partidos:  75%|███████▌  | 285/380 [3:04:59<11:02:48, 418.61s/it]"
     ]
    },
    {
     "name": "stdout",
     "output_type": "stream",
     "text": [
      "\n",
      "✅ Partido 285 (QUIMSA vs OLIMPICO (LB) (006/04/2025 21:30)) procesado y guardado en: data/scrapped\\partido_285_QUIMSA vs OLIMPICO (LB) (006_04_2025 21_30).parquet\n"
     ]
    },
    {
     "name": "stderr",
     "output_type": "stream",
     "text": [
      "Procesando partidos:  75%|███████▌  | 286/380 [3:05:25<7:51:20, 300.86s/it] "
     ]
    },
    {
     "name": "stdout",
     "output_type": "stream",
     "text": [
      "\n",
      "✅ Partido 286 (OBRAS vs SAN MARTIN (C) (007/04/2025 20:30)) procesado y guardado en: data/scrapped\\partido_286_OBRAS vs SAN MARTIN (C) (007_04_2025 20_30).parquet\n"
     ]
    },
    {
     "name": "stderr",
     "output_type": "stream",
     "text": [
      "Procesando partidos:  76%|███████▌  | 287/380 [3:05:48<5:37:06, 217.49s/it]"
     ]
    },
    {
     "name": "stdout",
     "output_type": "stream",
     "text": [
      "\n",
      "✅ Partido 287 (SAN LORENZO vs INSTITUTO (007/04/2025 21:00)) procesado y guardado en: data/scrapped\\partido_287_SAN LORENZO vs INSTITUTO (007_04_2025 21_00).parquet\n"
     ]
    },
    {
     "name": "stderr",
     "output_type": "stream",
     "text": [
      "Procesando partidos:  76%|███████▌  | 288/380 [3:06:12<4:04:22, 159.37s/it]"
     ]
    },
    {
     "name": "stdout",
     "output_type": "stream",
     "text": [
      "\n",
      "✅ Partido 288 (RIACHUELO (LR) vs INDEPENDIENTE (O) (007/04/2025 21:30)) procesado y guardado en: data/scrapped\\partido_288_RIACHUELO (LR) vs INDEPENDIENTE (O) (007_04_2025 21_30).parquet\n"
     ]
    },
    {
     "name": "stderr",
     "output_type": "stream",
     "text": [
      "Procesando partidos:  76%|███████▌  | 289/380 [3:06:35<2:59:33, 118.39s/it]"
     ]
    },
    {
     "name": "stdout",
     "output_type": "stream",
     "text": [
      "\n",
      "✅ Partido 289 (ZARATE BASKET vs OLIMPICO (LB) (008/04/2025 20:30)) procesado y guardado en: data/scrapped\\partido_289_ZARATE BASKET vs OLIMPICO (LB) (008_04_2025 20_30).parquet\n"
     ]
    },
    {
     "name": "stderr",
     "output_type": "stream",
     "text": [
      "Procesando partidos:  76%|███████▋  | 290/380 [3:06:57<2:14:34, 89.71s/it] "
     ]
    },
    {
     "name": "stdout",
     "output_type": "stream",
     "text": [
      "\n",
      "✅ Partido 290 (BOCA vs OBERA (008/04/2025 21:30)) procesado y guardado en: data/scrapped\\partido_290_BOCA vs OBERA (008_04_2025 21_30).parquet\n"
     ]
    },
    {
     "name": "stderr",
     "output_type": "stream",
     "text": [
      "Procesando partidos:  77%|███████▋  | 291/380 [3:07:25<1:45:17, 70.98s/it]"
     ]
    },
    {
     "name": "stdout",
     "output_type": "stream",
     "text": [
      "\n",
      "✅ Partido 291 (PEÑAROL (MDP) vs INSTITUTO (009/04/2025 21:00)) procesado y guardado en: data/scrapped\\partido_291_PEÑAROL (MDP) vs INSTITUTO (009_04_2025 21_00).parquet\n"
     ]
    },
    {
     "name": "stderr",
     "output_type": "stream",
     "text": [
      "Procesando partidos:  77%|███████▋  | 292/380 [3:08:01<1:28:54, 60.62s/it]"
     ]
    },
    {
     "name": "stdout",
     "output_type": "stream",
     "text": [
      "\n",
      "✅ Partido 292 (UNION (SF) vs FERRO (009/04/2025 21:30)) procesado y guardado en: data/scrapped\\partido_292_UNION (SF) vs FERRO (009_04_2025 21_30).parquet\n",
      "Error procesando partido: Message: invalid session id: session deleted as the browser has closed the connection\n",
      "from disconnected: Unable to receive message from renderer\n",
      "  (Session info: chrome=139.0.7258.139); For documentation on this error, please visit: https://www.selenium.dev/documentation/webdriver/troubleshooting/errors#invalidsessionidexception\n",
      "Stacktrace:\n",
      "\tGetHandleVerifier [0x0xcca8a3+63283]\n",
      "\tGetHandleVerifier [0x0xcca8e4+63348]\n",
      "\t(No symbol) [0x0xb03e43]\n",
      "\t(No symbol) [0x0xaf4adb]\n",
      "\t(No symbol) [0x0xaf4811]\n",
      "\t(No symbol) [0x0xaf3941]\n",
      "\t(No symbol) [0x0xb10833]\n",
      "\t(No symbol) [0x0xb929fc]\n",
      "\t(No symbol) [0x0xb71216]\n",
      "\t(No symbol) [0x0xb40855]\n",
      "\t(No symbol) [0x0xb416f4]\n",
      "\tGetHandleVerifier [0x0xf3bb43+2623955]\n",
      "\tGetHandleVerifier [0x0xf36daa+2604090]\n",
      "\tGetHandleVerifier [0x0xcf069a+218410]\n",
      "\tGetHandleVerifier [0x0xce0ed8+154984]\n",
      "\tGetHandleVerifier [0x0xce742d+180925]\n",
      "\tGetHandleVerifier [0x0xcd22b8+94536]\n",
      "\tGetHandleVerifier [0x0xcd2442+94930]\n",
      "\tGetHandleVerifier [0x0xcbd5ea+9338]\n",
      "\tBaseThreadInitThunk [0x0x76c65d49+25]\n",
      "\tRtlInitializeExceptionChain [0x0x773ad2fb+107]\n",
      "\tRtlGetAppContainerNamedObjectPath [0x0x773ad281+561]\n",
      "\n"
     ]
    },
    {
     "name": "stderr",
     "output_type": "stream",
     "text": [
      "Procesando partidos:  77%|███████▋  | 293/380 [4:46:31<43:52:22, 1815.43s/it]"
     ]
    },
    {
     "name": "stdout",
     "output_type": "stream",
     "text": [
      "Partido QUIMSA vs INDEPENDIENTE (O) (009/04/2025 22:00) fallido. Continuando...\n"
     ]
    },
    {
     "name": "stderr",
     "output_type": "stream",
     "text": [
      "Procesando partidos:  77%|███████▋  | 294/380 [7:41:08<105:26:39, 4413.95s/it]"
     ]
    },
    {
     "name": "stdout",
     "output_type": "stream",
     "text": [
      "Error procesando partido: Could not reach host. Are you offline?\n",
      "Partido SAN LORENZO vs OBERA (010/04/2025 20:05) fallido. Continuando...\n"
     ]
    },
    {
     "name": "stderr",
     "output_type": "stream",
     "text": [
      "Procesando partidos:  78%|███████▊  | 295/380 [7:41:43<73:11:55, 3100.18s/it] "
     ]
    },
    {
     "name": "stdout",
     "output_type": "stream",
     "text": [
      "\n",
      "✅ Partido 295 (SAN MARTIN (C) vs RIACHUELO (LR) (011/04/2025 21:30)) procesado y guardado en: data/scrapped\\partido_295_SAN MARTIN (C) vs RIACHUELO (LR) (011_04_2025 21_30).parquet\n"
     ]
    },
    {
     "name": "stderr",
     "output_type": "stream",
     "text": [
      "Procesando partidos:  78%|███████▊  | 296/380 [7:42:09<50:49:08, 2177.95s/it]"
     ]
    },
    {
     "name": "stdout",
     "output_type": "stream",
     "text": [
      "\n",
      "✅ Partido 296 (OLIMPICO (LB) vs INDEPENDIENTE (O) (011/04/2025 22:00)) procesado y guardado en: data/scrapped\\partido_296_OLIMPICO (LB) vs INDEPENDIENTE (O) (011_04_2025 22_00).parquet\n"
     ]
    },
    {
     "name": "stderr",
     "output_type": "stream",
     "text": [
      "Procesando partidos:  78%|███████▊  | 297/380 [7:42:37<35:20:38, 1532.99s/it]"
     ]
    },
    {
     "name": "stdout",
     "output_type": "stream",
     "text": [
      "\n",
      "✅ Partido 297 (FERRO vs PLATENSE (012/04/2025 11:00)) procesado y guardado en: data/scrapped\\partido_297_FERRO vs PLATENSE (012_04_2025 11_00).parquet\n"
     ]
    },
    {
     "name": "stderr",
     "output_type": "stream",
     "text": [
      "Procesando partidos:  78%|███████▊  | 298/380 [7:43:03<24:37:15, 1080.92s/it]"
     ]
    },
    {
     "name": "stdout",
     "output_type": "stream",
     "text": [
      "\n",
      "✅ Partido 298 (INSTITUTO vs ZARATE BASKET (013/04/2025 11:00)) procesado y guardado en: data/scrapped\\partido_298_INSTITUTO vs ZARATE BASKET (013_04_2025 11_00).parquet\n"
     ]
    },
    {
     "name": "stderr",
     "output_type": "stream",
     "text": [
      "Procesando partidos:  79%|███████▊  | 299/380 [7:43:29<17:12:05, 764.51s/it] "
     ]
    },
    {
     "name": "stdout",
     "output_type": "stream",
     "text": [
      "\n",
      "✅ Partido 299 (OBERA vs UNION (SF) (013/04/2025 20:00)) procesado y guardado en: data/scrapped\\partido_299_OBERA vs UNION (SF) (013_04_2025 20_00).parquet\n"
     ]
    },
    {
     "name": "stderr",
     "output_type": "stream",
     "text": [
      "Procesando partidos:  79%|███████▉  | 300/380 [7:43:56<12:04:12, 543.15s/it]"
     ]
    },
    {
     "name": "stdout",
     "output_type": "stream",
     "text": [
      "\n",
      "✅ Partido 300 (REGATAS (C) vs RIACHUELO (LR) (013/04/2025 21:00)) procesado y guardado en: data/scrapped\\partido_300_REGATAS (C) vs RIACHUELO (LR) (013_04_2025 21_00).parquet\n"
     ]
    },
    {
     "name": "stderr",
     "output_type": "stream",
     "text": [
      "Procesando partidos:  79%|███████▉  | 301/380 [7:44:23<8:31:09, 388.22s/it] "
     ]
    },
    {
     "name": "stdout",
     "output_type": "stream",
     "text": [
      "\n",
      "✅ Partido 301 (SAN MARTIN (C) vs SAN LORENZO (014/04/2025 21:30)) procesado y guardado en: data/scrapped\\partido_301_SAN MARTIN (C) vs SAN LORENZO (014_04_2025 21_30).parquet\n"
     ]
    },
    {
     "name": "stderr",
     "output_type": "stream",
     "text": [
      "Procesando partidos:  79%|███████▉  | 302/380 [7:44:48<6:03:02, 279.26s/it]"
     ]
    },
    {
     "name": "stdout",
     "output_type": "stream",
     "text": [
      "\n",
      "✅ Partido 302 (OLIMPICO (LB) vs OBRAS (014/04/2025 22:00)) procesado y guardado en: data/scrapped\\partido_302_OLIMPICO (LB) vs OBRAS (014_04_2025 22_00).parquet\n"
     ]
    },
    {
     "name": "stderr",
     "output_type": "stream",
     "text": [
      "Procesando partidos:  80%|███████▉  | 303/380 [7:45:16<4:21:39, 203.89s/it]"
     ]
    },
    {
     "name": "stdout",
     "output_type": "stream",
     "text": [
      "\n",
      "✅ Partido 303 (LA UNION FSA. vs RIACHUELO (LR) (015/04/2025 20:30)) procesado y guardado en: data/scrapped\\partido_303_LA UNION FSA. vs RIACHUELO (LR) (015_04_2025 20_30).parquet\n"
     ]
    },
    {
     "name": "stderr",
     "output_type": "stream",
     "text": [
      "Procesando partidos:  80%|████████  | 304/380 [7:45:41<3:10:30, 150.40s/it]"
     ]
    },
    {
     "name": "stdout",
     "output_type": "stream",
     "text": [
      "\n",
      "✅ Partido 304 (INDEPENDIENTE (O) vs ZARATE BASKET (015/04/2025 21:00)) procesado y guardado en: data/scrapped\\partido_304_INDEPENDIENTE (O) vs ZARATE BASKET (015_04_2025 21_00).parquet\n"
     ]
    },
    {
     "name": "stderr",
     "output_type": "stream",
     "text": [
      "Procesando partidos:  80%|████████  | 305/380 [7:46:07<2:21:17, 113.03s/it]"
     ]
    },
    {
     "name": "stdout",
     "output_type": "stream",
     "text": [
      "\n",
      "✅ Partido 305 (GIMNASIA (CR) vs ARGENTINO (J) (016/04/2025 21:00)) procesado y guardado en: data/scrapped\\partido_305_GIMNASIA (CR) vs ARGENTINO (J) (016_04_2025 21_00).parquet\n"
     ]
    },
    {
     "name": "stderr",
     "output_type": "stream",
     "text": [
      "Procesando partidos:  81%|████████  | 306/380 [7:46:31<1:46:25, 86.29s/it] "
     ]
    },
    {
     "name": "stdout",
     "output_type": "stream",
     "text": [
      "\n",
      "✅ Partido 306 (REGATAS (C) vs SAN LORENZO (016/04/2025 21:30)) procesado y guardado en: data/scrapped\\partido_306_REGATAS (C) vs SAN LORENZO (016_04_2025 21_30).parquet\n"
     ]
    },
    {
     "name": "stderr",
     "output_type": "stream",
     "text": [
      "Procesando partidos:  81%|████████  | 307/380 [7:46:57<1:22:58, 68.20s/it]"
     ]
    },
    {
     "name": "stdout",
     "output_type": "stream",
     "text": [
      "\n",
      "✅ Partido 307 (QUIMSA vs OBRAS (016/04/2025 22:00)) procesado y guardado en: data/scrapped\\partido_307_QUIMSA vs OBRAS (016_04_2025 22_00).parquet\n"
     ]
    },
    {
     "name": "stderr",
     "output_type": "stream",
     "text": [
      "Procesando partidos:  81%|████████  | 308/380 [7:47:22<1:06:11, 55.16s/it]"
     ]
    },
    {
     "name": "stdout",
     "output_type": "stream",
     "text": [
      "\n",
      "✅ Partido 308 (ATENAS (C) vs ZARATE BASKET (017/04/2025 21:30)) procesado y guardado en: data/scrapped\\partido_308_ATENAS (C) vs ZARATE BASKET (017_04_2025 21_30).parquet\n"
     ]
    },
    {
     "name": "stderr",
     "output_type": "stream",
     "text": [
      "Procesando partidos:  81%|████████▏ | 309/380 [7:47:47<54:41, 46.21s/it]  "
     ]
    },
    {
     "name": "stdout",
     "output_type": "stream",
     "text": [
      "\n",
      "✅ Partido 309 (RIACHUELO (LR) vs OBRAS (018/04/2025 21:00)) procesado y guardado en: data/scrapped\\partido_309_RIACHUELO (LR) vs OBRAS (018_04_2025 21_00).parquet\n"
     ]
    },
    {
     "name": "stderr",
     "output_type": "stream",
     "text": [
      "Procesando partidos:  82%|████████▏ | 310/380 [7:48:12<46:22, 39.75s/it]"
     ]
    },
    {
     "name": "stdout",
     "output_type": "stream",
     "text": [
      "\n",
      "✅ Partido 310 (LA UNION FSA. vs SAN LORENZO (018/04/2025 21:30)) procesado y guardado en: data/scrapped\\partido_310_LA UNION FSA. vs SAN LORENZO (018_04_2025 21_30).parquet\n"
     ]
    },
    {
     "name": "stderr",
     "output_type": "stream",
     "text": [
      "Procesando partidos:  82%|████████▏ | 311/380 [7:48:41<42:09, 36.66s/it]"
     ]
    },
    {
     "name": "stdout",
     "output_type": "stream",
     "text": [
      "\n",
      "✅ Partido 311 (FERRO vs ARGENTINO (J) (018/04/2025 22:10)) procesado y guardado en: data/scrapped\\partido_311_FERRO vs ARGENTINO (J) (018_04_2025 22_10).parquet\n"
     ]
    },
    {
     "name": "stderr",
     "output_type": "stream",
     "text": [
      "Procesando partidos:  82%|████████▏ | 312/380 [7:49:08<38:10, 33.69s/it]"
     ]
    },
    {
     "name": "stdout",
     "output_type": "stream",
     "text": [
      "\n",
      "✅ Partido 312 (PLATENSE vs GIMNASIA (CR) (019/04/2025 11:30)) procesado y guardado en: data/scrapped\\partido_312_PLATENSE vs GIMNASIA (CR) (019_04_2025 11_30).parquet\n"
     ]
    },
    {
     "name": "stderr",
     "output_type": "stream",
     "text": [
      "Procesando partidos:  82%|████████▏ | 313/380 [7:49:37<36:07, 32.35s/it]"
     ]
    },
    {
     "name": "stdout",
     "output_type": "stream",
     "text": [
      "\n",
      "✅ Partido 313 (INDEPENDIENTE (O) vs SAN MARTIN (C) (019/04/2025 20:00)) procesado y guardado en: data/scrapped\\partido_313_INDEPENDIENTE (O) vs SAN MARTIN (C) (019_04_2025 20_00).parquet\n"
     ]
    },
    {
     "name": "stderr",
     "output_type": "stream",
     "text": [
      "Procesando partidos:  83%|████████▎ | 314/380 [7:50:02<33:08, 30.12s/it]"
     ]
    },
    {
     "name": "stdout",
     "output_type": "stream",
     "text": [
      "\n",
      "✅ Partido 314 (FERRO vs QUIMSA (021/04/2025 16:00)) procesado y guardado en: data/scrapped\\partido_314_FERRO vs QUIMSA (021_04_2025 16_00).parquet\n"
     ]
    },
    {
     "name": "stderr",
     "output_type": "stream",
     "text": [
      "Procesando partidos:  83%|████████▎ | 315/380 [7:50:28<31:03, 28.67s/it]"
     ]
    },
    {
     "name": "stdout",
     "output_type": "stream",
     "text": [
      "\n",
      "✅ Partido 315 (OBRAS vs GIMNASIA (CR) (021/04/2025 20:30)) procesado y guardado en: data/scrapped\\partido_315_OBRAS vs GIMNASIA (CR) (021_04_2025 20_30).parquet\n"
     ]
    },
    {
     "name": "stderr",
     "output_type": "stream",
     "text": [
      "Procesando partidos:  83%|████████▎ | 316/380 [7:50:53<29:25, 27.58s/it]"
     ]
    },
    {
     "name": "stdout",
     "output_type": "stream",
     "text": [
      "\n",
      "✅ Partido 316 (ATENAS (C) vs SAN MARTIN (C) (021/04/2025 21:30)) procesado y guardado en: data/scrapped\\partido_316_ATENAS (C) vs SAN MARTIN (C) (021_04_2025 21_30).parquet\n"
     ]
    },
    {
     "name": "stderr",
     "output_type": "stream",
     "text": [
      "Procesando partidos:  83%|████████▎ | 317/380 [7:51:37<34:23, 32.76s/it]"
     ]
    },
    {
     "name": "stdout",
     "output_type": "stream",
     "text": [
      "\n",
      "✅ Partido 317 (SAN LORENZO vs PLATENSE (022/04/2025 20:30)) procesado y guardado en: data/scrapped\\partido_317_SAN LORENZO vs PLATENSE (022_04_2025 20_30).parquet\n"
     ]
    },
    {
     "name": "stderr",
     "output_type": "stream",
     "text": [
      "Procesando partidos:  84%|████████▎ | 318/380 [7:52:05<32:14, 31.20s/it]"
     ]
    },
    {
     "name": "stdout",
     "output_type": "stream",
     "text": [
      "\n",
      "✅ Partido 318 (INDEPENDIENTE (O) vs LA UNION FSA. (022/04/2025 21:30)) procesado y guardado en: data/scrapped\\partido_318_INDEPENDIENTE (O) vs LA UNION FSA. (022_04_2025 21_30).parquet\n"
     ]
    },
    {
     "name": "stderr",
     "output_type": "stream",
     "text": [
      "Procesando partidos:  84%|████████▍ | 319/380 [7:52:33<30:37, 30.13s/it]"
     ]
    },
    {
     "name": "stdout",
     "output_type": "stream",
     "text": [
      "\n",
      "✅ Partido 319 (BOCA vs GIMNASIA (CR) (023/04/2025 20:30)) procesado y guardado en: data/scrapped\\partido_319_BOCA vs GIMNASIA (CR) (023_04_2025 20_30).parquet\n"
     ]
    },
    {
     "name": "stderr",
     "output_type": "stream",
     "text": [
      "Procesando partidos:  84%|████████▍ | 320/380 [7:52:58<28:50, 28.83s/it]"
     ]
    },
    {
     "name": "stdout",
     "output_type": "stream",
     "text": [
      "\n",
      "✅ Partido 320 (ARGENTINO (J) vs QUIMSA (023/04/2025 21:00)) procesado y guardado en: data/scrapped\\partido_320_ARGENTINO (J) vs QUIMSA (023_04_2025 21_00).parquet\n"
     ]
    },
    {
     "name": "stderr",
     "output_type": "stream",
     "text": [
      "Procesando partidos:  84%|████████▍ | 321/380 [7:53:25<27:38, 28.12s/it]"
     ]
    },
    {
     "name": "stdout",
     "output_type": "stream",
     "text": [
      "\n",
      "✅ Partido 321 (INSTITUTO vs SAN MARTIN (C) (023/04/2025 21:30)) procesado y guardado en: data/scrapped\\partido_321_INSTITUTO vs SAN MARTIN (C) (023_04_2025 21_30).parquet\n"
     ]
    },
    {
     "name": "stderr",
     "output_type": "stream",
     "text": [
      "Procesando partidos:  85%|████████▍ | 322/380 [7:53:51<26:32, 27.46s/it]"
     ]
    },
    {
     "name": "stdout",
     "output_type": "stream",
     "text": [
      "\n",
      "✅ Partido 322 (OBRAS vs FERRO (024/04/2025 20:00)) procesado y guardado en: data/scrapped\\partido_322_OBRAS vs FERRO (024_04_2025 20_00).parquet\n"
     ]
    },
    {
     "name": "stderr",
     "output_type": "stream",
     "text": [
      "Procesando partidos:  85%|████████▌ | 323/380 [7:54:16<25:25, 26.77s/it]"
     ]
    },
    {
     "name": "stdout",
     "output_type": "stream",
     "text": [
      "\n",
      "✅ Partido 323 (PEÑAROL (MDP) vs PLATENSE (024/04/2025 21:00)) procesado y guardado en: data/scrapped\\partido_323_PEÑAROL (MDP) vs PLATENSE (024_04_2025 21_00).parquet\n"
     ]
    },
    {
     "name": "stderr",
     "output_type": "stream",
     "text": [
      "Procesando partidos:  85%|████████▌ | 324/380 [7:54:42<24:54, 26.69s/it]"
     ]
    },
    {
     "name": "stdout",
     "output_type": "stream",
     "text": [
      "\n",
      "✅ Partido 324 (ATENAS (C) vs LA UNION FSA. (024/04/2025 21:30)) procesado y guardado en: data/scrapped\\partido_324_ATENAS (C) vs LA UNION FSA. (024_04_2025 21_30).parquet\n"
     ]
    },
    {
     "name": "stderr",
     "output_type": "stream",
     "text": [
      "Procesando partidos:  86%|████████▌ | 325/380 [7:55:07<23:54, 26.08s/it]"
     ]
    },
    {
     "name": "stdout",
     "output_type": "stream",
     "text": [
      "\n",
      "✅ Partido 325 (BOCA vs OLIMPICO (LB) (025/04/2025 20:05)) procesado y guardado en: data/scrapped\\partido_325_BOCA vs OLIMPICO (LB) (025_04_2025 20_05).parquet\n"
     ]
    },
    {
     "name": "stderr",
     "output_type": "stream",
     "text": [
      "Procesando partidos:  86%|████████▌ | 326/380 [7:55:32<23:02, 25.59s/it]"
     ]
    },
    {
     "name": "stdout",
     "output_type": "stream",
     "text": [
      "\n",
      "✅ Partido 326 (ZARATE BASKET vs QUIMSA (025/04/2025 21:00)) procesado y guardado en: data/scrapped\\partido_326_ZARATE BASKET vs QUIMSA (025_04_2025 21_00).parquet\n"
     ]
    },
    {
     "name": "stderr",
     "output_type": "stream",
     "text": [
      "Procesando partidos:  86%|████████▌ | 327/380 [7:55:57<22:34, 25.56s/it]"
     ]
    },
    {
     "name": "stdout",
     "output_type": "stream",
     "text": [
      "\n",
      "✅ Partido 327 (INSTITUTO vs LA UNION FSA. (026/04/2025 11:30)) procesado y guardado en: data/scrapped\\partido_327_INSTITUTO vs LA UNION FSA. (026_04_2025 11_30).parquet\n"
     ]
    },
    {
     "name": "stderr",
     "output_type": "stream",
     "text": [
      "Procesando partidos:  86%|████████▋ | 328/380 [7:56:23<22:09, 25.56s/it]"
     ]
    },
    {
     "name": "stdout",
     "output_type": "stream",
     "text": [
      "\n",
      "✅ Partido 328 (REGATAS (C) vs ARGENTINO (J) (026/04/2025 21:30)) procesado y guardado en: data/scrapped\\partido_328_REGATAS (C) vs ARGENTINO (J) (026_04_2025 21_30).parquet\n"
     ]
    },
    {
     "name": "stderr",
     "output_type": "stream",
     "text": [
      "Procesando partidos:  87%|████████▋ | 329/380 [7:56:47<21:21, 25.13s/it]"
     ]
    },
    {
     "name": "stdout",
     "output_type": "stream",
     "text": [
      "\n",
      "✅ Partido 329 (PEÑAROL (MDP) vs FERRO (027/04/2025 11:30)) procesado y guardado en: data/scrapped\\partido_329_PEÑAROL (MDP) vs FERRO (027_04_2025 11_30).parquet\n"
     ]
    },
    {
     "name": "stderr",
     "output_type": "stream",
     "text": [
      "Procesando partidos:  87%|████████▋ | 330/380 [7:57:12<20:55, 25.10s/it]"
     ]
    },
    {
     "name": "stdout",
     "output_type": "stream",
     "text": [
      "\n",
      "✅ Partido 330 (PLATENSE vs OLIMPICO (LB) (027/04/2025 20:00)) procesado y guardado en: data/scrapped\\partido_330_PLATENSE vs OLIMPICO (LB) (027_04_2025 20_00).parquet\n"
     ]
    },
    {
     "name": "stderr",
     "output_type": "stream",
     "text": [
      "Procesando partidos:  87%|████████▋ | 331/380 [7:57:38<20:47, 25.46s/it]"
     ]
    },
    {
     "name": "stdout",
     "output_type": "stream",
     "text": [
      "\n",
      "✅ Partido 331 (ZARATE BASKET vs SAN LORENZO (027/04/2025 20:30)) procesado y guardado en: data/scrapped\\partido_331_ZARATE BASKET vs SAN LORENZO (027_04_2025 20_30).parquet\n"
     ]
    },
    {
     "name": "stderr",
     "output_type": "stream",
     "text": [
      "Procesando partidos:  87%|████████▋ | 332/380 [7:58:05<20:37, 25.79s/it]"
     ]
    },
    {
     "name": "stdout",
     "output_type": "stream",
     "text": [
      "\n",
      "✅ Partido 332 (OBERA vs OBRAS (027/04/2025 21:00)) procesado y guardado en: data/scrapped\\partido_332_OBERA vs OBRAS (027_04_2025 21_00).parquet\n"
     ]
    },
    {
     "name": "stderr",
     "output_type": "stream",
     "text": [
      "Procesando partidos:  88%|████████▊ | 333/380 [7:58:33<20:50, 26.60s/it]"
     ]
    },
    {
     "name": "stdout",
     "output_type": "stream",
     "text": [
      "\n",
      "✅ Partido 333 (SAN MARTIN (C) vs ARGENTINO (J) (028/04/2025 21:00)) procesado y guardado en: data/scrapped\\partido_333_SAN MARTIN (C) vs ARGENTINO (J) (028_04_2025 21_00).parquet\n"
     ]
    },
    {
     "name": "stderr",
     "output_type": "stream",
     "text": [
      "Procesando partidos:  88%|████████▊ | 334/380 [7:58:58<20:03, 26.16s/it]"
     ]
    },
    {
     "name": "stdout",
     "output_type": "stream",
     "text": [
      "\n",
      "✅ Partido 334 (RIACHUELO (LR) vs ATENAS (C) (028/04/2025 21:30)) procesado y guardado en: data/scrapped\\partido_334_RIACHUELO (LR) vs ATENAS (C) (028_04_2025 21_30).parquet\n"
     ]
    },
    {
     "name": "stderr",
     "output_type": "stream",
     "text": [
      "Procesando partidos:  88%|████████▊ | 335/380 [7:59:27<20:12, 26.95s/it]"
     ]
    },
    {
     "name": "stdout",
     "output_type": "stream",
     "text": [
      "\n",
      "✅ Partido 335 (UNION (SF) vs BOCA (029/04/2025 20:05)) procesado y guardado en: data/scrapped\\partido_335_UNION (SF) vs BOCA (029_04_2025 20_05).parquet\n"
     ]
    },
    {
     "name": "stderr",
     "output_type": "stream",
     "text": [
      "Procesando partidos:  88%|████████▊ | 336/380 [7:59:52<19:25, 26.49s/it]"
     ]
    },
    {
     "name": "stdout",
     "output_type": "stream",
     "text": [
      "\n",
      "✅ Partido 336 (FERRO vs OLIMPICO (LB) (029/04/2025 20:30)) procesado y guardado en: data/scrapped\\partido_336_FERRO vs OLIMPICO (LB) (029_04_2025 20_30).parquet\n"
     ]
    },
    {
     "name": "stderr",
     "output_type": "stream",
     "text": [
      "Procesando partidos:  89%|████████▊ | 337/380 [8:00:18<18:46, 26.20s/it]"
     ]
    },
    {
     "name": "stdout",
     "output_type": "stream",
     "text": [
      "\n",
      "✅ Partido 337 (GIMNASIA (CR) vs SAN LORENZO (029/04/2025 21:30)) procesado y guardado en: data/scrapped\\partido_337_GIMNASIA (CR) vs SAN LORENZO (029_04_2025 21_30).parquet\n"
     ]
    },
    {
     "name": "stderr",
     "output_type": "stream",
     "text": [
      "Procesando partidos:  89%|████████▉ | 338/380 [8:00:43<18:11, 25.98s/it]"
     ]
    },
    {
     "name": "stdout",
     "output_type": "stream",
     "text": [
      "\n",
      "✅ Partido 338 (LA UNION FSA. vs ARGENTINO (J) (030/04/2025 21:00)) procesado y guardado en: data/scrapped\\partido_338_LA UNION FSA. vs ARGENTINO (J) (030_04_2025 21_00).parquet\n"
     ]
    },
    {
     "name": "stderr",
     "output_type": "stream",
     "text": [
      "Procesando partidos:  89%|████████▉ | 339/380 [8:01:12<18:13, 26.66s/it]"
     ]
    },
    {
     "name": "stdout",
     "output_type": "stream",
     "text": [
      "\n",
      "✅ Partido 339 (QUIMSA vs ATENAS (C) (030/04/2025 21:30)) procesado y guardado en: data/scrapped\\partido_339_QUIMSA vs ATENAS (C) (030_04_2025 21_30).parquet\n"
     ]
    },
    {
     "name": "stderr",
     "output_type": "stream",
     "text": [
      "Procesando partidos:  89%|████████▉ | 340/380 [8:01:36<17:21, 26.05s/it]"
     ]
    },
    {
     "name": "stdout",
     "output_type": "stream",
     "text": [
      "\n",
      "✅ Partido 340 (UNION (SF) vs PEÑAROL (MDP) (002/05/2025 21:00)) procesado y guardado en: data/scrapped\\partido_340_UNION (SF) vs PEÑAROL (MDP) (002_05_2025 21_00).parquet\n"
     ]
    },
    {
     "name": "stderr",
     "output_type": "stream",
     "text": [
      "Procesando partidos:  90%|████████▉ | 341/380 [8:02:10<18:27, 28.40s/it]"
     ]
    },
    {
     "name": "stdout",
     "output_type": "stream",
     "text": [
      "\n",
      "✅ Partido 341 (OLIMPICO (LB) vs ATENAS (C) (002/05/2025 22:10)) procesado y guardado en: data/scrapped\\partido_341_OLIMPICO (LB) vs ATENAS (C) (002_05_2025 22_10).parquet\n"
     ]
    },
    {
     "name": "stderr",
     "output_type": "stream",
     "text": [
      "Procesando partidos:  90%|█████████ | 342/380 [8:02:37<17:40, 27.90s/it]"
     ]
    },
    {
     "name": "stdout",
     "output_type": "stream",
     "text": [
      "\n",
      "✅ Partido 342 (BOCA vs INDEPENDIENTE (O) (003/05/2025 11:30)) procesado y guardado en: data/scrapped\\partido_342_BOCA vs INDEPENDIENTE (O) (003_05_2025 11_30).parquet\n"
     ]
    },
    {
     "name": "stderr",
     "output_type": "stream",
     "text": [
      "Procesando partidos:  90%|█████████ | 343/380 [8:03:03<16:46, 27.20s/it]"
     ]
    },
    {
     "name": "stdout",
     "output_type": "stream",
     "text": [
      "\n",
      "✅ Partido 343 (RIACHUELO (LR) vs INSTITUTO (003/05/2025 19:00)) procesado y guardado en: data/scrapped\\partido_343_RIACHUELO (LR) vs INSTITUTO (003_05_2025 19_00).parquet\n"
     ]
    },
    {
     "name": "stderr",
     "output_type": "stream",
     "text": [
      "Procesando partidos:  91%|█████████ | 344/380 [8:03:35<17:15, 28.76s/it]"
     ]
    },
    {
     "name": "stdout",
     "output_type": "stream",
     "text": [
      "\n",
      "✅ Partido 344 (GIMNASIA (CR) vs REGATAS (C) (003/05/2025 20:30)) procesado y guardado en: data/scrapped\\partido_344_GIMNASIA (CR) vs REGATAS (C) (003_05_2025 20_30).parquet\n"
     ]
    },
    {
     "name": "stderr",
     "output_type": "stream",
     "text": [
      "Procesando partidos:  91%|█████████ | 345/380 [8:04:03<16:35, 28.45s/it]"
     ]
    },
    {
     "name": "stdout",
     "output_type": "stream",
     "text": [
      "\n",
      "✅ Partido 345 (OBERA vs PEÑAROL (MDP) (004/05/2025 20:00)) procesado y guardado en: data/scrapped\\partido_345_OBERA vs PEÑAROL (MDP) (004_05_2025 20_00).parquet\n"
     ]
    },
    {
     "name": "stderr",
     "output_type": "stream",
     "text": [
      "Procesando partidos:  91%|█████████ | 346/380 [8:04:29<15:41, 27.70s/it]"
     ]
    },
    {
     "name": "stdout",
     "output_type": "stream",
     "text": [
      "\n",
      "✅ Partido 346 (SAN LORENZO vs INDEPENDIENTE (O) (005/05/2025 20:30)) procesado y guardado en: data/scrapped\\partido_346_SAN LORENZO vs INDEPENDIENTE (O) (005_05_2025 20_30).parquet\n"
     ]
    },
    {
     "name": "stderr",
     "output_type": "stream",
     "text": [
      "Procesando partidos:  91%|█████████▏| 347/380 [8:04:53<14:46, 26.85s/it]"
     ]
    },
    {
     "name": "stdout",
     "output_type": "stream",
     "text": [
      "\n",
      "✅ Partido 347 (ZARATE BASKET vs REGATAS (C) (005/05/2025 21:00)) procesado y guardado en: data/scrapped\\partido_347_ZARATE BASKET vs REGATAS (C) (005_05_2025 21_00).parquet\n"
     ]
    },
    {
     "name": "stderr",
     "output_type": "stream",
     "text": [
      "Procesando partidos:  92%|█████████▏| 348/380 [8:05:19<14:09, 26.54s/it]"
     ]
    },
    {
     "name": "stdout",
     "output_type": "stream",
     "text": [
      "\n",
      "✅ Partido 348 (OLIMPICO (LB) vs INSTITUTO (005/05/2025 22:00)) procesado y guardado en: data/scrapped\\partido_348_OLIMPICO (LB) vs INSTITUTO (005_05_2025 22_00).parquet\n"
     ]
    },
    {
     "name": "stderr",
     "output_type": "stream",
     "text": [
      "Procesando partidos:  92%|█████████▏| 349/380 [8:05:44<13:28, 26.09s/it]"
     ]
    },
    {
     "name": "stdout",
     "output_type": "stream",
     "text": [
      "\n",
      "✅ Partido 349 (LA UNION FSA. vs BOCA (006/05/2025 21:30)) procesado y guardado en: data/scrapped\\partido_349_LA UNION FSA. vs BOCA (006_05_2025 21_30).parquet\n"
     ]
    },
    {
     "name": "stderr",
     "output_type": "stream",
     "text": [
      "Procesando partidos:  92%|█████████▏| 350/380 [8:06:10<12:58, 25.95s/it]"
     ]
    },
    {
     "name": "stdout",
     "output_type": "stream",
     "text": [
      "\n",
      "✅ Partido 350 (OBRAS vs REGATAS (C) (007/05/2025 20:05)) procesado y guardado en: data/scrapped\\partido_350_OBRAS vs REGATAS (C) (007_05_2025 20_05).parquet\n"
     ]
    },
    {
     "name": "stderr",
     "output_type": "stream",
     "text": [
      "Procesando partidos:  92%|█████████▏| 351/380 [8:06:37<12:43, 26.34s/it]"
     ]
    },
    {
     "name": "stdout",
     "output_type": "stream",
     "text": [
      "\n",
      "✅ Partido 351 (PEÑAROL (MDP) vs INDEPENDIENTE (O) (007/05/2025 21:00)) procesado y guardado en: data/scrapped\\partido_351_PEÑAROL (MDP) vs INDEPENDIENTE (O) (007_05_2025 21_00).parquet\n"
     ]
    },
    {
     "name": "stderr",
     "output_type": "stream",
     "text": [
      "Procesando partidos:  93%|█████████▎| 352/380 [8:07:01<11:56, 25.59s/it]"
     ]
    },
    {
     "name": "stdout",
     "output_type": "stream",
     "text": [
      "\n",
      "✅ Partido 352 (ATENAS (C) vs GIMNASIA (CR) (007/05/2025 21:30)) procesado y guardado en: data/scrapped\\partido_352_ATENAS (C) vs GIMNASIA (CR) (007_05_2025 21_30).parquet\n"
     ]
    },
    {
     "name": "stderr",
     "output_type": "stream",
     "text": [
      "Procesando partidos:  93%|█████████▎| 353/380 [8:07:26<11:22, 25.28s/it]"
     ]
    },
    {
     "name": "stdout",
     "output_type": "stream",
     "text": [
      "\n",
      "✅ Partido 353 (QUIMSA vs INSTITUTO (007/05/2025 22:00)) procesado y guardado en: data/scrapped\\partido_353_QUIMSA vs INSTITUTO (007_05_2025 22_00).parquet\n"
     ]
    },
    {
     "name": "stderr",
     "output_type": "stream",
     "text": [
      "Procesando partidos:  93%|█████████▎| 354/380 [8:07:50<10:54, 25.17s/it]"
     ]
    },
    {
     "name": "stdout",
     "output_type": "stream",
     "text": [
      "\n",
      "✅ Partido 354 (SAN MARTIN (C) vs BOCA (008/05/2025 21:30)) procesado y guardado en: data/scrapped\\partido_354_SAN MARTIN (C) vs BOCA (008_05_2025 21_30).parquet\n"
     ]
    },
    {
     "name": "stderr",
     "output_type": "stream",
     "text": [
      "Procesando partidos:  93%|█████████▎| 355/380 [8:08:15<10:27, 25.10s/it]"
     ]
    },
    {
     "name": "stdout",
     "output_type": "stream",
     "text": [
      "\n",
      "✅ Partido 355 (PEÑAROL (MDP) vs ZARATE BASKET (009/05/2025 21:00)) procesado y guardado en: data/scrapped\\partido_355_PEÑAROL (MDP) vs ZARATE BASKET (009_05_2025 21_00).parquet\n"
     ]
    },
    {
     "name": "stderr",
     "output_type": "stream",
     "text": [
      "Procesando partidos:  94%|█████████▎| 356/380 [8:08:40<09:56, 24.87s/it]"
     ]
    },
    {
     "name": "stdout",
     "output_type": "stream",
     "text": [
      "\n",
      "✅ Partido 356 (RIACHUELO (LR) vs GIMNASIA (CR) (009/05/2025 21:30)) procesado y guardado en: data/scrapped\\partido_356_RIACHUELO (LR) vs GIMNASIA (CR) (009_05_2025 21_30).parquet\n"
     ]
    },
    {
     "name": "stderr",
     "output_type": "stream",
     "text": [
      "Procesando partidos:  94%|█████████▍| 357/380 [8:09:08<09:56, 25.92s/it]"
     ]
    },
    {
     "name": "stdout",
     "output_type": "stream",
     "text": [
      "\n",
      "✅ Partido 357 (REGATAS (C) vs BOCA (010/05/2025 11:30)) procesado y guardado en: data/scrapped\\partido_357_REGATAS (C) vs BOCA (010_05_2025 11_30).parquet\n"
     ]
    },
    {
     "name": "stderr",
     "output_type": "stream",
     "text": [
      "Procesando partidos:  94%|█████████▍| 358/380 [8:09:33<09:21, 25.53s/it]"
     ]
    },
    {
     "name": "stdout",
     "output_type": "stream",
     "text": [
      "\n",
      "✅ Partido 358 (ARGENTINO (J) vs SAN LORENZO (010/05/2025 21:00)) procesado y guardado en: data/scrapped\\partido_358_ARGENTINO (J) vs SAN LORENZO (010_05_2025 21_00).parquet\n"
     ]
    },
    {
     "name": "stderr",
     "output_type": "stream",
     "text": [
      "Procesando partidos:  94%|█████████▍| 359/380 [8:09:58<08:53, 25.38s/it]"
     ]
    },
    {
     "name": "stdout",
     "output_type": "stream",
     "text": [
      "\n",
      "✅ Partido 359 (PLATENSE vs ZARATE BASKET (011/05/2025 20:00)) procesado y guardado en: data/scrapped\\partido_359_PLATENSE vs ZARATE BASKET (011_05_2025 20_00).parquet\n"
     ]
    },
    {
     "name": "stderr",
     "output_type": "stream",
     "text": [
      "Procesando partidos:  95%|█████████▍| 360/380 [8:10:22<08:23, 25.16s/it]"
     ]
    },
    {
     "name": "stdout",
     "output_type": "stream",
     "text": [
      "\n",
      "✅ Partido 360 (INSTITUTO vs GIMNASIA (CR) (011/05/2025 20:30)) procesado y guardado en: data/scrapped\\partido_360_INSTITUTO vs GIMNASIA (CR) (011_05_2025 20_30).parquet\n"
     ]
    },
    {
     "name": "stderr",
     "output_type": "stream",
     "text": [
      "Procesando partidos:  95%|█████████▌| 361/380 [8:10:47<07:52, 24.89s/it]"
     ]
    },
    {
     "name": "stdout",
     "output_type": "stream",
     "text": [
      "\n",
      "✅ Partido 361 (RIACHUELO (LR) vs QUIMSA (011/05/2025 21:00)) procesado y guardado en: data/scrapped\\partido_361_RIACHUELO (LR) vs QUIMSA (011_05_2025 21_00).parquet\n"
     ]
    },
    {
     "name": "stderr",
     "output_type": "stream",
     "text": [
      "Procesando partidos:  95%|█████████▌| 362/380 [8:11:15<07:46, 25.94s/it]"
     ]
    },
    {
     "name": "stdout",
     "output_type": "stream",
     "text": [
      "\n",
      "✅ Partido 362 (REGATAS (C) vs OLIMPICO (LB) (012/05/2025 21:00)) procesado y guardado en: data/scrapped\\partido_362_REGATAS (C) vs OLIMPICO (LB) (012_05_2025 21_00).parquet\n"
     ]
    },
    {
     "name": "stderr",
     "output_type": "stream",
     "text": [
      "Procesando partidos:  96%|█████████▌| 363/380 [8:11:39<07:10, 25.32s/it]"
     ]
    },
    {
     "name": "stdout",
     "output_type": "stream",
     "text": [
      "\n",
      "✅ Partido 363 (INSTITUTO vs OBERA (013/05/2025 21:30)) procesado y guardado en: data/scrapped\\partido_363_INSTITUTO vs OBERA (013_05_2025 21_30).parquet\n"
     ]
    },
    {
     "name": "stderr",
     "output_type": "stream",
     "text": [
      "Procesando partidos:  96%|█████████▌| 364/380 [8:12:13<07:26, 27.92s/it]"
     ]
    },
    {
     "name": "stdout",
     "output_type": "stream",
     "text": [
      "\n",
      "✅ Partido 364 (PLATENSE vs BOCA (014/05/2025 20:30)) procesado y guardado en: data/scrapped\\partido_364_PLATENSE vs BOCA (014_05_2025 20_30).parquet\n"
     ]
    },
    {
     "name": "stderr",
     "output_type": "stream",
     "text": [
      "Procesando partidos:  96%|█████████▌| 365/380 [8:12:41<07:00, 28.02s/it]"
     ]
    },
    {
     "name": "stdout",
     "output_type": "stream",
     "text": [
      "\n",
      "✅ Partido 365 (ARGENTINO (J) vs OBRAS (014/05/2025 21:00)) procesado y guardado en: data/scrapped\\partido_365_ARGENTINO (J) vs OBRAS (014_05_2025 21_00).parquet\n"
     ]
    },
    {
     "name": "stderr",
     "output_type": "stream",
     "text": [
      "Procesando partidos:  96%|█████████▋| 366/380 [8:13:06<06:18, 27.05s/it]"
     ]
    },
    {
     "name": "stdout",
     "output_type": "stream",
     "text": [
      "\n",
      "✅ Partido 366 (LA UNION FSA. vs OLIMPICO (LB) (014/05/2025 21:30)) procesado y guardado en: data/scrapped\\partido_366_LA UNION FSA. vs OLIMPICO (LB) (014_05_2025 21_30).parquet\n"
     ]
    },
    {
     "name": "stderr",
     "output_type": "stream",
     "text": [
      "Procesando partidos:  97%|█████████▋| 367/380 [8:13:34<05:55, 27.38s/it]"
     ]
    },
    {
     "name": "stdout",
     "output_type": "stream",
     "text": [
      "\n",
      "✅ Partido 367 (FERRO vs RIACHUELO (LR) (015/05/2025 20:00)) procesado y guardado en: data/scrapped\\partido_367_FERRO vs RIACHUELO (LR) (015_05_2025 20_00).parquet\n"
     ]
    },
    {
     "name": "stderr",
     "output_type": "stream",
     "text": [
      "Procesando partidos:  97%|█████████▋| 368/380 [8:14:09<05:55, 29.63s/it]"
     ]
    },
    {
     "name": "stdout",
     "output_type": "stream",
     "text": [
      "\n",
      "✅ Partido 368 (INDEPENDIENTE (O) vs OBERA (015/05/2025 21:00)) procesado y guardado en: data/scrapped\\partido_368_INDEPENDIENTE (O) vs OBERA (015_05_2025 21_00).parquet\n"
     ]
    },
    {
     "name": "stderr",
     "output_type": "stream",
     "text": [
      "Procesando partidos:  97%|█████████▋| 369/380 [8:14:34<05:09, 28.12s/it]"
     ]
    },
    {
     "name": "stdout",
     "output_type": "stream",
     "text": [
      "\n",
      "✅ Partido 369 (SAN LORENZO vs OBRAS (016/05/2025 20:00)) procesado y guardado en: data/scrapped\\partido_369_SAN LORENZO vs OBRAS (016_05_2025 20_00).parquet\n"
     ]
    },
    {
     "name": "stderr",
     "output_type": "stream",
     "text": [
      "Procesando partidos:  97%|█████████▋| 370/380 [8:15:09<05:03, 30.31s/it]"
     ]
    },
    {
     "name": "stdout",
     "output_type": "stream",
     "text": [
      "\n",
      "✅ Partido 370 (BOCA vs INSTITUTO (016/05/2025 22:00)) procesado y guardado en: data/scrapped\\partido_370_BOCA vs INSTITUTO (016_05_2025 22_00).parquet\n"
     ]
    },
    {
     "name": "stderr",
     "output_type": "stream",
     "text": [
      "Procesando partidos:  98%|█████████▊| 371/380 [8:15:43<04:42, 31.43s/it]"
     ]
    },
    {
     "name": "stdout",
     "output_type": "stream",
     "text": [
      "\n",
      "✅ Partido 371 (ATENAS (C) vs OBERA (017/05/2025 11:30)) procesado y guardado en: data/scrapped\\partido_371_ATENAS (C) vs OBERA (017_05_2025 11_30).parquet\n"
     ]
    },
    {
     "name": "stderr",
     "output_type": "stream",
     "text": [
      "Procesando partidos:  98%|█████████▊| 372/380 [8:16:03<03:44, 28.08s/it]"
     ]
    },
    {
     "name": "stdout",
     "output_type": "stream",
     "text": [
      "Partido ZARATE BASKET vs RIACHUELO (LR) (017/05/2025 20:30) fallido. Continuando...\n"
     ]
    },
    {
     "name": "stderr",
     "output_type": "stream",
     "text": [
      "Procesando partidos:  98%|█████████▊| 373/380 [8:16:47<03:49, 32.81s/it]"
     ]
    },
    {
     "name": "stdout",
     "output_type": "stream",
     "text": [
      "\n",
      "✅ Partido 373 (GIMNASIA (CR) vs FERRO (018/05/2025 20:00)) procesado y guardado en: data/scrapped\\partido_373_GIMNASIA (CR) vs FERRO (018_05_2025 20_00).parquet\n"
     ]
    },
    {
     "name": "stderr",
     "output_type": "stream",
     "text": [
      "Procesando partidos:  98%|█████████▊| 374/380 [8:17:23<03:22, 33.73s/it]"
     ]
    },
    {
     "name": "stdout",
     "output_type": "stream",
     "text": [
      "\n",
      "✅ Partido 374 (ARGENTINO (J) vs INSTITUTO (018/05/2025 20:30)) procesado y guardado en: data/scrapped\\partido_374_ARGENTINO (J) vs INSTITUTO (018_05_2025 20_30).parquet\n"
     ]
    },
    {
     "name": "stderr",
     "output_type": "stream",
     "text": [
      "Procesando partidos:  99%|█████████▊| 375/380 [8:18:05<03:00, 36.13s/it]"
     ]
    },
    {
     "name": "stdout",
     "output_type": "stream",
     "text": [
      "\n",
      "✅ Partido 375 (UNION (SF) vs LA UNION FSA. (018/05/2025 21:00)) procesado y guardado en: data/scrapped\\partido_375_UNION (SF) vs LA UNION FSA. (018_05_2025 21_00).parquet\n"
     ]
    },
    {
     "name": "stderr",
     "output_type": "stream",
     "text": [
      "Procesando partidos:  99%|█████████▉| 376/380 [8:18:40<02:23, 35.87s/it]"
     ]
    },
    {
     "name": "stdout",
     "output_type": "stream",
     "text": [
      "\n",
      "✅ Partido 376 (PEÑAROL (MDP) vs RIACHUELO (LR) (019/05/2025 21:00)) procesado y guardado en: data/scrapped\\partido_376_PEÑAROL (MDP) vs RIACHUELO (LR) (019_05_2025 21_00).parquet\n"
     ]
    },
    {
     "name": "stderr",
     "output_type": "stream",
     "text": [
      "Procesando partidos:  99%|█████████▉| 377/380 [8:19:20<01:51, 37.24s/it]"
     ]
    },
    {
     "name": "stdout",
     "output_type": "stream",
     "text": [
      "\n",
      "✅ Partido 377 (OBRAS vs INSTITUTO (020/05/2025 20:00)) procesado y guardado en: data/scrapped\\partido_377_OBRAS vs INSTITUTO (020_05_2025 20_00).parquet\n"
     ]
    },
    {
     "name": "stderr",
     "output_type": "stream",
     "text": [
      "Procesando partidos:  99%|█████████▉| 378/380 [8:19:47<01:07, 33.92s/it]"
     ]
    },
    {
     "name": "stdout",
     "output_type": "stream",
     "text": [
      "\n",
      "✅ Partido 378 (SAN LORENZO vs FERRO (020/05/2025 20:00)) procesado y guardado en: data/scrapped\\partido_378_SAN LORENZO vs FERRO (020_05_2025 20_00).parquet\n"
     ]
    },
    {
     "name": "stderr",
     "output_type": "stream",
     "text": [
      "Procesando partidos: 100%|█████████▉| 379/380 [8:20:16<00:32, 32.42s/it]"
     ]
    },
    {
     "name": "stdout",
     "output_type": "stream",
     "text": [
      "\n",
      "✅ Partido 379 (BOCA vs ARGENTINO (J) (020/05/2025 20:30)) procesado y guardado en: data/scrapped\\partido_379_BOCA vs ARGENTINO (J) (020_05_2025 20_30).parquet\n"
     ]
    },
    {
     "name": "stderr",
     "output_type": "stream",
     "text": [
      "Procesando partidos: 100%|██████████| 380/380 [8:20:41<00:00, 79.06s/it]"
     ]
    },
    {
     "name": "stdout",
     "output_type": "stream",
     "text": [
      "\n",
      "✅ Partido 380 (OBERA vs LA UNION FSA. (020/05/2025 21:00)) procesado y guardado en: data/scrapped\\partido_380_OBERA vs LA UNION FSA. (020_05_2025 21_00).parquet\n",
      "\n",
      "✅ Proceso completado. Se procesaron 380 partidos y se guardaron en la carpeta 'data/scrapped'.\n"
     ]
    },
    {
     "name": "stderr",
     "output_type": "stream",
     "text": [
      "\n"
     ]
    }
   ],
   "source": [
    "from tqdm import tqdm\n",
    "import os\n",
    "\n",
    "def extraer_boxscore_y_pbp(partido_link):\n",
    "    \"\"\"Extrae boxscore y play-by-play de un partido dado su link.\"\"\"\n",
    "    all_player_stats = []\n",
    "    acciones_del_partido = []\n",
    "    driver = None\n",
    "    df_box_scores = None\n",
    "    df_acciones_final = None\n",
    "\n",
    "    try:\n",
    "        # --- BOX SCORE ---\n",
    "        options = Options()\n",
    "        options.add_argument(\"--headless\")\n",
    "        options.add_argument(\"--no-sandbox\")\n",
    "        options.add_argument(\"--disable-dev-shm-usage\")\n",
    "        options.add_argument(\"user-agent=Mozilla/5.0 (Windows NT 10.0; Win64; x64) AppleWebKit/537.36 (KHTML, like Gecko) Chrome/91.0.4472.124 Safari/537.36\")\n",
    "        driver = webdriver.Chrome(service=Service(ChromeDriverManager().install()), options=options)\n",
    "        driver.get(partido_link)\n",
    "        wait = WebDriverWait(driver, 20)\n",
    "        wait.until(EC.frame_to_be_available_and_switch_to_it((By.TAG_NAME, \"iframe\")))\n",
    "        tab_selector = (By.CSS_SELECTOR, \"li.pestana-estadisticas\")\n",
    "        estadisticas_tab_element = wait.until(EC.visibility_of_element_located(tab_selector))\n",
    "        driver.execute_script(\"arguments[0].click();\", estadisticas_tab_element)\n",
    "        time.sleep(1)\n",
    "        iframe_de_datos_selector = (By.CSS_SELECTOR, \"div.contenido-estadisticas.activo iframe\")\n",
    "        wait.until(EC.frame_to_be_available_and_switch_to_it(iframe_de_datos_selector))\n",
    "        html_box_scores = driver.page_source\n",
    "        soup = BeautifulSoup(html_box_scores, \"html.parser\")\n",
    "        divs_nombres = soup.find_all(\"div\", class_=\"nombre-equipo\")\n",
    "        equipo_local_nombre = divs_nombres[0].get_text(strip=True) if len(divs_nombres) >= 2 else \"Local\"\n",
    "        equipo_visitante_nombre = divs_nombres[1].get_text(strip=True) if len(divs_nombres) >= 2 else \"Visitante\"\n",
    "        tablas = soup.find_all(\"table\", class_=\"tabla-estadisticas\")\n",
    "        if len(tablas) >= 2:\n",
    "            for idx, equipo_nombre in enumerate([equipo_local_nombre, equipo_visitante_nombre]):\n",
    "                for fila in tablas[idx].find(\"tbody\").find_all(\"tr\", onclick=True):\n",
    "                    onclick_attr = fila[\"onclick\"]\n",
    "                    match = re.search(r\"(\\{.*\\})\", onclick_attr)\n",
    "                    if match:\n",
    "                        json_str = match.group(1).replace(\"'\", '\"')\n",
    "                        player_data = json.loads(json_str)\n",
    "                        player_data['equipo'] = equipo_nombre\n",
    "                        all_player_stats.append(player_data)\n",
    "        if all_player_stats:\n",
    "            df_box_scores = pd.DataFrame(all_player_stats)\n",
    "            columnas = ['IdJugador', 'IdClub', 'IdEquipo', 'Nombre', 'NombreCompleto',\n",
    "                        'Puntos', 'TirosDos', 'TirosTres', 'TirosLibres',\n",
    "                        'ReboteDefensivo', 'ReboteOfensivo', 'RebotesTotales',\n",
    "                        'Asistencias', 'Recuperaciones', 'Perdidas',\n",
    "                        'TaponCometido','TaponRecibido', 'FaltaCometida','FaltaRecibida','Valoracion',\n",
    "                        'TiempoJuego', 'CincoInicial', 'equipo']\n",
    "            df_box_scores = df_box_scores[[col for col in columnas if col in df_box_scores.columns]]\n",
    "            columnas_con_diccionarios = ['TirosDos', 'TirosTres', 'TirosLibres']\n",
    "            for columna in columnas_con_diccionarios:\n",
    "                if columna in df_box_scores.columns:\n",
    "                    df_box_scores[f'{columna}Aciertos'] = df_box_scores[columna].apply(lambda x: x.get('Aciertos', 0))\n",
    "                    df_box_scores[f'{columna}Fallos'] = df_box_scores[columna].apply(lambda x: x.get('Fallos', 0))\n",
    "            df_box_scores = df_box_scores.drop(columns=[c for c in columnas_con_diccionarios if c in df_box_scores.columns])\n",
    "        else:\n",
    "            return None, None\n",
    "\n",
    "        # --- PLAY BY PLAY ---\n",
    "        driver.switch_to.default_content()\n",
    "        driver.get(partido_link)\n",
    "        wait = WebDriverWait(driver, 20)\n",
    "        wait.until(EC.frame_to_be_available_and_switch_to_it((By.TAG_NAME, \"iframe\")))\n",
    "        en_vivo_tab = wait.until(EC.element_to_be_clickable((By.CSS_SELECTOR, \"li.pestana-en-vivo\")))\n",
    "        driver.execute_script(\"arguments[0].click();\", en_vivo_tab)\n",
    "        iframe_pbp_selector = (By.CSS_SELECTOR, \"div.contenido-en-vivo div:nth-child(2) iframe\")\n",
    "        wait.until(EC.frame_to_be_available_and_switch_to_it(iframe_pbp_selector))\n",
    "        html_pbp = driver.page_source\n",
    "        soup = BeautifulSoup(html_pbp, \"html.parser\")\n",
    "        contenedor_acciones = soup.find(\"ul\", class_=\"listadoAccionesPartido\")\n",
    "        if contenedor_acciones:\n",
    "            acciones = contenedor_acciones.find_all(\"li\", class_=\"accion\")\n",
    "            for accion in acciones:\n",
    "                tipo_accion = jugador = cuarto = tiempo = \"\"\n",
    "                puntos_local = None \n",
    "                puntos_visita = None\n",
    "                titulo_tag = accion.find(\"strong\", class_=\"titulo\")\n",
    "                if titulo_tag:\n",
    "                    tipo_accion = titulo_tag.get_text(strip=True)\n",
    "                spans_info = accion.find_all(\"span\", class_=\"informacion\")\n",
    "                if len(spans_info) >= 2:\n",
    "                    jugador = spans_info[0].get_text(strip=True)\n",
    "                    tiempo_text = spans_info[1].get_text(strip=True)\n",
    "                    match = re.search(r\"Cuarto\\s*(\\d+)\\s*-\\s*(\\d{2}:\\d{2}:\\d{2})\", tiempo_text)\n",
    "                    if match:\n",
    "                        cuarto = match.group(1)\n",
    "                        tiempo = match.group(2)\n",
    "                marcador_tag = accion.find(\"strong\", class_=\"informacionAdicional\")\n",
    "                if marcador_tag:\n",
    "                    marcador_texto = marcador_tag.get_text(strip=True)\n",
    "                    partes_marcador = marcador_texto.split('-')\n",
    "                    if len(partes_marcador) == 2:\n",
    "                        try:\n",
    "                            puntos_local = int(partes_marcador[0].strip())\n",
    "                            puntos_visita = int(partes_marcador[1].strip())\n",
    "                        except ValueError:\n",
    "                            pass\n",
    "                acciones_del_partido.append({\n",
    "                    \"cuarto\": cuarto,\n",
    "                    \"tiempo\": tiempo,\n",
    "                    \"accion\": tipo_accion,\n",
    "                    \"jugador\": jugador,\n",
    "                    \"puntos_local\": puntos_local,\n",
    "                    \"puntos_visita\": puntos_visita\n",
    "                })\n",
    "        if acciones_del_partido:\n",
    "            df_acciones = pd.DataFrame(acciones_del_partido)\n",
    "        else:\n",
    "            return df_box_scores, None\n",
    "\n",
    "        # --- GENERAR QUINTETOS ---\n",
    "        player_to_team_map = pd.Series(df_box_scores.equipo.values, index=df_box_scores.NombreCompleto).to_dict()\n",
    "        nombre_local = df_box_scores['equipo'].unique()[0]\n",
    "        df_cronologico = df_acciones.iloc[::-1].reset_index(drop=True)\n",
    "        jugadores_en_cancha = set()\n",
    "        lista_de_quintetos_mixtos = []\n",
    "        for _, row in df_cronologico.iterrows():\n",
    "            accion = row.get('accion', '')\n",
    "            jugador = row.get('jugador', '')\n",
    "            accion_upper = accion.upper() if isinstance(accion, str) else ''\n",
    "            if \"ENTRA A PISTA\" in accion_upper or \"CAMBIO-ENTRA\" in accion_upper:\n",
    "                if pd.notna(jugador) and jugador != '':\n",
    "                    jugadores_en_cancha.add(jugador)\n",
    "            elif \"ABANDONA LA PISTA\" in accion_upper or \"CAMBIO-SALE\" in accion_upper:\n",
    "                if pd.notna(jugador) and jugador != '':\n",
    "                    jugadores_en_cancha.discard(jugador)\n",
    "            lista_de_quintetos_mixtos.append(sorted(list(jugadores_en_cancha)))\n",
    "        df_cronologico['quinteto_en_cancha'] = lista_de_quintetos_mixtos\n",
    "        def dividir_quinteto(quinteto_mixto, roster_map, equipo_local_nombre):\n",
    "            quinteto_local, quinteto_visita = [], []\n",
    "            for jugador in quinteto_mixto:\n",
    "                if roster_map.get(jugador) == equipo_local_nombre:\n",
    "                    quinteto_local.append(jugador)\n",
    "                else:\n",
    "                    quinteto_visita.append(jugador)\n",
    "            return sorted(quinteto_local), sorted(quinteto_visita)\n",
    "        nuevas_columnas = df_cronologico['quinteto_en_cancha'].apply(\n",
    "            lambda q: pd.Series(dividir_quinteto(q, player_to_team_map, nombre_local))\n",
    "        )\n",
    "        nuevas_columnas.columns = ['quinteto_local', 'quinteto_visita']\n",
    "        df_cronologico = pd.concat([df_cronologico, nuevas_columnas], axis=1)\n",
    "        df_cronologico = df_cronologico.drop(columns=['quinteto_en_cancha'])\n",
    "        df_acciones_final = df_cronologico.iloc[::-1].reset_index(drop=True)\n",
    "        return df_box_scores, df_acciones_final\n",
    "    except Exception as e:\n",
    "        print(f\"Error procesando partido: {e}\")\n",
    "        return None, None\n",
    "    finally:\n",
    "        if driver:\n",
    "            driver.quit()\n",
    "\n",
    "# --- PROCESAR LOS PARTIDOS Y GUARDAR INDIVIDUALMENTE ---\n",
    "# Asegúrate de que `match_data` esté definido y sea un diccionario con las llaves de los partidos y los links.\n",
    "# Por ejemplo: match_data = {'partido_1': {'link_estadisticas': 'http://link1.com'}, ...}\n",
    "\n",
    "# Crear la carpeta si no existe\n",
    "output_dir = \"data/scrapped\"\n",
    "os.makedirs(output_dir, exist_ok=True)\n",
    "llaves_partidos = list(match_data.keys())\n",
    "partidos_procesados = 0\n",
    "\n",
    "def sanitize_filename(filename):\n",
    "    \"\"\"\n",
    "    Limpia una cadena de texto para que sea un nombre de archivo válido.\n",
    "    Reemplaza caracteres no permitidos como :, /, \\, etc., con un guion bajo.\n",
    "    \"\"\"\n",
    "    # Expresión regular que coincide con caracteres no válidos para nombres de archivo en Windows\n",
    "    # y la mayoría de los sistemas.\n",
    "    invalid_chars = re.compile(r'[\\\\/:*?\"<>|]')\n",
    "    return invalid_chars.sub('_', filename)\n",
    "\n",
    "for partido_key in tqdm(llaves_partidos, desc=\"Procesando partidos\"):\n",
    "    # Comprobar si ya se procesó el partido (opcional, para reanudar)\n",
    "    # Por ejemplo, si tienes un archivo de registro\n",
    "    # if partido_key in registro_partidos_completados:\n",
    "    #   continue\n",
    "\n",
    "    partido_link = match_data[partido_key][\"link_estadisticas\"]\n",
    "    df_box_scores, df_acciones_final = extraer_boxscore_y_pbp(partido_link)\n",
    "    \n",
    "    if df_box_scores is None or df_acciones_final is None:\n",
    "        print(f\"Partido {partido_key} fallido. Continuando...\")\n",
    "        partidos_procesados += 1\n",
    "        continue\n",
    "    \n",
    "    # Procesar los datos si la extracción fue exitosa\n",
    "    player_to_team_map = pd.Series(df_box_scores.equipo.values, index=df_box_scores.NombreCompleto).to_dict()\n",
    "    df_sorted = df_acciones_final.iloc[::-1].reset_index(drop=True)\n",
    "    \n",
    "    try:\n",
    "        df_plus_minus = calcular_plus_minus_corregido(df_sorted.copy(), player_to_team_map)\n",
    "        df_posesiones_consumidas = calcular_posesiones(df_sorted.copy())\n",
    "        df_posesiones_consumidas.rename(columns={'posesiones': 'posesiones_consumidas'}, inplace=True)\n",
    "        df_posesiones_jugadas = contar_posesiones_jugadas_por_equipo(df_sorted.copy(), df_box_scores.copy(), player_to_team_map)\n",
    "        df_rebotes_disponibles = calcular_rebotes_disponibles(df_sorted.copy(), df_box_scores.copy(), player_to_team_map)\n",
    "        df_puntos_q4 = calcular_puntos_ultimo_cuarto(df_acciones_final.copy(), df_box_scores.copy())\n",
    "        df_puntos_clutch = calcular_puntos_clutch(df_acciones_final.copy(), df_box_scores.copy())\n",
    "    except Exception as e:\n",
    "        print(f\"Error en los cálculos para el partido {partido_key}: {e}\")\n",
    "        partidos_procesados += 1\n",
    "        continue\n",
    "\n",
    "    resultado_final = df_box_scores.copy()\n",
    "    lista_de_stats = [df_plus_minus, df_posesiones_consumidas, df_posesiones_jugadas, \n",
    "                        df_rebotes_disponibles, df_puntos_q4, df_puntos_clutch]\n",
    "    \n",
    "    for df_stat in lista_de_stats:\n",
    "        if not df_stat.empty and 'jugador' in df_stat.columns:\n",
    "            df_stat.rename(columns={'jugador': 'NombreCompleto'}, inplace=True)\n",
    "            resultado_final = pd.merge(resultado_final, df_stat, on='NombreCompleto', how='left')\n",
    "\n",
    "    cols_a_rellenar = ['plus_minus', 'posesiones_consumidas', 'posesiones_jugadas', \n",
    "                        'rebote_of_disp', 'rebote_def_disp', 'puntos_q4_y_prorroga', 'puntos_clutch']\n",
    "    \n",
    "    for col in cols_a_rellenar:\n",
    "        if col in resultado_final.columns:\n",
    "            resultado_final[col] = resultado_final[col].fillna(0).astype(int)\n",
    "    \n",
    "    resultado_final = calcular_posesiones_individuales(resultado_final)\n",
    "    resultado_final['partido_key'] = partido_key\n",
    "\n",
    "    # Limpiar la llave del partido antes de usarla en el nombre del archivo\n",
    "    clean_partido_key = sanitize_filename(partido_key)\n",
    "    \n",
    "    # Guardar cada DataFrame en un archivo parquet individual\n",
    "    nombre_archivo = f\"partido_{partidos_procesados + 1}_{clean_partido_key}.parquet\"\n",
    "    ruta_archivo = os.path.join(output_dir, nombre_archivo)\n",
    "    resultado_final.to_parquet(ruta_archivo, index=False)\n",
    "    \n",
    "    print(f\"\\n✅ Partido {partidos_procesados + 1} ({partido_key}) procesado y guardado en: {ruta_archivo}\")\n",
    "    partidos_procesados += 1\n",
    "    \n",
    "if partidos_procesados > 0:\n",
    "    print(f\"\\n✅ Proceso completado. Se procesaron {partidos_procesados} partidos y se guardaron en la carpeta '{output_dir}'.\")\n",
    "else:\n",
    "    print(\"No se pudieron procesar partidos correctamente.\")"
   ]
  }
 ],
 "metadata": {
  "kernelspec": {
   "display_name": "web-scraping-py3.13",
   "language": "python",
   "name": "python3"
  },
  "language_info": {
   "codemirror_mode": {
    "name": "ipython",
    "version": 3
   },
   "file_extension": ".py",
   "mimetype": "text/x-python",
   "name": "python",
   "nbconvert_exporter": "python",
   "pygments_lexer": "ipython3",
   "version": "3.13.5"
  }
 },
 "nbformat": 4,
 "nbformat_minor": 5
}
