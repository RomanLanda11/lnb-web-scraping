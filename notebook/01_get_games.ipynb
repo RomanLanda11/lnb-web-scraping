{
 "cells": [
  {
   "cell_type": "markdown",
   "id": "2bee95c1",
   "metadata": {},
   "source": [
    "# PoC obtener links partidos"
   ]
  },
  {
   "cell_type": "code",
   "execution_count": 1,
   "id": "4e869e82",
   "metadata": {},
   "outputs": [
    {
     "ename": "ModuleNotFoundError",
     "evalue": "No module named 'selenium'",
     "output_type": "error",
     "traceback": [
      "\u001b[1;31m---------------------------------------------------------------------------\u001b[0m",
      "\u001b[1;31mModuleNotFoundError\u001b[0m                       Traceback (most recent call last)",
      "Cell \u001b[1;32mIn[1], line 1\u001b[0m\n\u001b[1;32m----> 1\u001b[0m \u001b[38;5;28;01mfrom\u001b[39;00m\u001b[38;5;250m \u001b[39m\u001b[38;5;21;01mselenium\u001b[39;00m\u001b[38;5;250m \u001b[39m\u001b[38;5;28;01mimport\u001b[39;00m webdriver\n\u001b[0;32m      2\u001b[0m \u001b[38;5;28;01mfrom\u001b[39;00m\u001b[38;5;250m \u001b[39m\u001b[38;5;21;01mselenium\u001b[39;00m\u001b[38;5;21;01m.\u001b[39;00m\u001b[38;5;21;01mwebdriver\u001b[39;00m\u001b[38;5;21;01m.\u001b[39;00m\u001b[38;5;21;01mchrome\u001b[39;00m\u001b[38;5;21;01m.\u001b[39;00m\u001b[38;5;21;01mservice\u001b[39;00m\u001b[38;5;250m \u001b[39m\u001b[38;5;28;01mimport\u001b[39;00m Service\n\u001b[0;32m      3\u001b[0m \u001b[38;5;28;01mfrom\u001b[39;00m\u001b[38;5;250m \u001b[39m\u001b[38;5;21;01mselenium\u001b[39;00m\u001b[38;5;21;01m.\u001b[39;00m\u001b[38;5;21;01mwebdriver\u001b[39;00m\u001b[38;5;21;01m.\u001b[39;00m\u001b[38;5;21;01mchrome\u001b[39;00m\u001b[38;5;21;01m.\u001b[39;00m\u001b[38;5;21;01moptions\u001b[39;00m\u001b[38;5;250m \u001b[39m\u001b[38;5;28;01mimport\u001b[39;00m Options\n",
      "\u001b[1;31mModuleNotFoundError\u001b[0m: No module named 'selenium'"
     ]
    }
   ],
   "source": [
    "from selenium import webdriver\n",
    "from selenium.webdriver.chrome.service import Service\n",
    "from selenium.webdriver.chrome.options import Options\n",
    "from selenium.webdriver.common.by import By\n",
    "from selenium.webdriver.support.ui import WebDriverWait\n",
    "from selenium.webdriver.support import expected_conditions as EC\n",
    "from webdriver_manager.chrome import ChromeDriverManager\n",
    "from bs4 import BeautifulSoup\n"
   ]
  },
  {
   "cell_type": "code",
   "execution_count": null,
   "id": "e9a1c3cb",
   "metadata": {},
   "outputs": [],
   "source": [
    "# Configuración de Selenium\n",
    "options = Options()\n",
    "# Descomenta la siguiente línea si quieres que el navegador se ejecute en modo headless (sin interfaz gráfica)\n",
    "# options.add_argument(\"--headless\")\n",
    "driver = webdriver.Chrome(service=Service(ChromeDriverManager().install()), options=options)\n",
    "\n",
    "# URL con la tabla de partidos\n",
    "url_base = \"https://www.laliganacional.com.ar/laliga/page/estadisticas#e1\"\n",
    "driver.get(url_base)\n",
    "\n",
    "# Esperar a que la tabla de partidos esté visible.\n",
    "# Esto asegura que el contenido dinámico de la página se ha cargado.\n",
    "try:\n",
    "    WebDriverWait(driver, 30).until(\n",
    "        EC.presence_of_element_located((By.CSS_SELECTOR, \"table.table-striped tbody tr\"))\n",
    "    )\n",
    "    print(\"Tabla de partidos encontrada y cargada.\")\n",
    "except Exception as e:\n",
    "    print(f\"Error: No se pudo encontrar la tabla de partidos. {e}\")\n",
    "    driver.quit()\n",
    "    exit()\n",
    "\n",
    "# Obtener el código fuente de la página completa después de la carga dinámica\n",
    "page_source = driver.page_source\n",
    "driver.quit()\n",
    "\n",
    "# Parsear el HTML con BeautifulSoup\n",
    "soup = BeautifulSoup(page_source, \"html.parser\")\n",
    "\n",
    "# Buscar todos los enlaces a las estadísticas de los partidos.\n",
    "# Se busca la etiqueta <a> cuyo atributo href contenga la URL base de los partidos individuales.\n",
    "match_links = []\n",
    "# La URL de un partido tiene el formato https://estadisticascabb.gesdeportiva.es/partido/...\n",
    "for link_tag in soup.find_all(\"a\", href=lambda href: href and \"estadisticascabb.gesdeportiva.es/partido/\" in href):\n",
    "    full_link = link_tag.get('href')\n",
    "    # Añadir el enlace a la lista si aún no está (para evitar duplicados)\n",
    "    if full_link not in match_links:\n",
    "        match_links.append(full_link)\n",
    "\n",
    "# Imprimir el total de enlaces encontrados\n",
    "print(f\"Se encontraron {len(match_links)} enlaces de partidos.\")\n",
    "\n",
    "# Imprimir los primeros 10 enlaces para verificar\n",
    "print(\"\\nPrimeros 10 enlaces de partidos:\")\n",
    "for link in match_links[:10]:\n",
    "    print(link)\n",
    "\n",
    "# Ahora tienes la lista `match_links` con todas las URLs de los partidos.\n",
    "# Puedes usar esta lista para iterar y aplicar tu código de scraping del mapa de tiro."
   ]
  }
 ],
 "metadata": {
  "kernelspec": {
   "display_name": "base",
   "language": "python",
   "name": "python3"
  },
  "language_info": {
   "codemirror_mode": {
    "name": "ipython",
    "version": 3
   },
   "file_extension": ".py",
   "mimetype": "text/x-python",
   "name": "python",
   "nbconvert_exporter": "python",
   "pygments_lexer": "ipython3",
   "version": "3.13.5"
  }
 },
 "nbformat": 4,
 "nbformat_minor": 5
}
